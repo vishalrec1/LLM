{
 "cells": [
  {
   "cell_type": "markdown",
   "id": "a129a6d7",
   "metadata": {},
   "source": [
    "Source : https://github.com/GoogleCloudPlatform/vertex-ai-samples/blob/main/notebooks/official/matching_engine/sdk_matching_engine_create_stack_overflow_embeddings.ipynb"
   ]
  },
  {
   "cell_type": "code",
   "execution_count": 1,
   "id": "3c60cd10",
   "metadata": {},
   "outputs": [],
   "source": [
    "from google.cloud import aiplatform,storage,bigquery\n",
    "import os"
   ]
  },
  {
   "cell_type": "code",
   "execution_count": 2,
   "id": "082c10cc",
   "metadata": {},
   "outputs": [],
   "source": [
    "os.environ['GOOGLE_APPLICATION_CREDENTIALS']= \"L:\\\\gcp-project-0523-628d01f95284.json\""
   ]
  },
  {
   "cell_type": "code",
   "execution_count": 3,
   "id": "b90b966b",
   "metadata": {},
   "outputs": [],
   "source": [
    "PROJECT_ID = \"gcp-project-0523\"\n",
    "REGION     = 'us-central1'\n",
    "BUCKET     = 'gcp-project-0523-ann-bucket'\n",
    "BUCKET_URI = 'gs://gcp-project-0523-ann-bucket'"
   ]
  },
  {
   "cell_type": "code",
   "execution_count": 4,
   "id": "19552f7e",
   "metadata": {},
   "outputs": [],
   "source": [
    "aiplatform.init(project        = PROJECT_ID,\n",
    "                location       = REGION,\n",
    "                staging_bucket = BUCKET)"
   ]
  },
  {
   "cell_type": "code",
   "execution_count": 5,
   "id": "8f283241",
   "metadata": {},
   "outputs": [
    {
     "name": "stdout",
     "output_type": "stream",
     "text": [
      "CPU times: total: 812 ms\n",
      "Wall time: 26.1 s\n"
     ]
    },
    {
     "data": {
      "text/html": [
       "<div>\n",
       "<style scoped>\n",
       "    .dataframe tbody tr th:only-of-type {\n",
       "        vertical-align: middle;\n",
       "    }\n",
       "\n",
       "    .dataframe tbody tr th {\n",
       "        vertical-align: top;\n",
       "    }\n",
       "\n",
       "    .dataframe thead th {\n",
       "        text-align: right;\n",
       "    }\n",
       "</style>\n",
       "<table border=\"1\" class=\"dataframe\">\n",
       "  <thead>\n",
       "    <tr style=\"text-align: right;\">\n",
       "      <th></th>\n",
       "      <th>id</th>\n",
       "      <th>title</th>\n",
       "      <th>body</th>\n",
       "      <th>tags</th>\n",
       "      <th>answers</th>\n",
       "      <th>score</th>\n",
       "    </tr>\n",
       "  </thead>\n",
       "  <tbody>\n",
       "    <tr>\n",
       "      <th>0</th>\n",
       "      <td>58594502</td>\n",
       "      <td>How can I create a multi line input in ipython?</td>\n",
       "      <td>&lt;p&gt;I am reading the book Python Data Science H...</td>\n",
       "      <td>input|ipython|multiline</td>\n",
       "      <td>&lt;h2&gt;ctrl+o&lt;/h2&gt;\\n&lt;p&gt;If you type ctrl+o, you sh...</td>\n",
       "      <td>46</td>\n",
       "    </tr>\n",
       "    <tr>\n",
       "      <th>1</th>\n",
       "      <td>11309779</td>\n",
       "      <td>Wtforms, add a class to a form dynamically</td>\n",
       "      <td>&lt;p&gt;is there a way i could send a form's (css) ...</td>\n",
       "      <td>python|css|flask|wtforms</td>\n",
       "      <td>&lt;p&gt;Alternatively you can add the class in your...</td>\n",
       "      <td>55</td>\n",
       "    </tr>\n",
       "    <tr>\n",
       "      <th>2</th>\n",
       "      <td>25386119</td>\n",
       "      <td>Whats the difference between a OneToOne, ManyT...</td>\n",
       "      <td>&lt;p&gt;I'm having a little difficulty getting my h...</td>\n",
       "      <td>python|django|many-to-many|foreign-key-relatio...</td>\n",
       "      <td>&lt;p&gt;Well, there's essentially two questions her...</td>\n",
       "      <td>261</td>\n",
       "    </tr>\n",
       "    <tr>\n",
       "      <th>3</th>\n",
       "      <td>21843714</td>\n",
       "      <td>Cygwin gcc issue - cannot find Python.h</td>\n",
       "      <td>&lt;p&gt;So I downloaded Cygwin to build Matplotlib ...</td>\n",
       "      <td>python|gcc|matplotlib|cygwin</td>\n",
       "      <td>&lt;p&gt;in cygwin make sure the python-devel packag...</td>\n",
       "      <td>52</td>\n",
       "    </tr>\n",
       "    <tr>\n",
       "      <th>4</th>\n",
       "      <td>2057045</td>\n",
       "      <td>os.makedirs doesn't understand \"~\" in my path</td>\n",
       "      <td>&lt;p&gt;I have a little problem with &lt;code&gt;~&lt;/code&gt;...</td>\n",
       "      <td>python|path</td>\n",
       "      <td>&lt;p&gt;The conversion of &lt;code&gt;~/some_dir&lt;/code&gt; t...</td>\n",
       "      <td>84</td>\n",
       "    </tr>\n",
       "  </tbody>\n",
       "</table>\n",
       "</div>"
      ],
      "text/plain": [
       "         id                                              title  \\\n",
       "0  58594502    How can I create a multi line input in ipython?   \n",
       "1  11309779         Wtforms, add a class to a form dynamically   \n",
       "2  25386119  Whats the difference between a OneToOne, ManyT...   \n",
       "3  21843714            Cygwin gcc issue - cannot find Python.h   \n",
       "4   2057045      os.makedirs doesn't understand \"~\" in my path   \n",
       "\n",
       "                                                body  \\\n",
       "0  <p>I am reading the book Python Data Science H...   \n",
       "1  <p>is there a way i could send a form's (css) ...   \n",
       "2  <p>I'm having a little difficulty getting my h...   \n",
       "3  <p>So I downloaded Cygwin to build Matplotlib ...   \n",
       "4  <p>I have a little problem with <code>~</code>...   \n",
       "\n",
       "                                                tags  \\\n",
       "0                            input|ipython|multiline   \n",
       "1                           python|css|flask|wtforms   \n",
       "2  python|django|many-to-many|foreign-key-relatio...   \n",
       "3                       python|gcc|matplotlib|cygwin   \n",
       "4                                        python|path   \n",
       "\n",
       "                                             answers  score  \n",
       "0  <h2>ctrl+o</h2>\\n<p>If you type ctrl+o, you sh...     46  \n",
       "1  <p>Alternatively you can add the class in your...     55  \n",
       "2  <p>Well, there's essentially two questions her...    261  \n",
       "3  <p>in cygwin make sure the python-devel packag...     52  \n",
       "4  <p>The conversion of <code>~/some_dir</code> t...     84  "
      ]
     },
     "execution_count": 5,
     "metadata": {},
     "output_type": "execute_result"
    }
   ],
   "source": [
    "%%time\n",
    "from google.cloud import bigquery\n",
    "\n",
    "client = bigquery.Client(project=PROJECT_ID)\n",
    "\n",
    "NUM_ROWS = 10000\n",
    "\n",
    "QUERY = f\"\"\"\n",
    "        SELECT distinct q.id, q.title, q.body, q.tags, a.body as answers, a.score \n",
    "        FROM (SELECT * FROM `bigquery-public-data.stackoverflow.posts_questions` where Score>0 ORDER BY View_Count desc) AS q \n",
    "              INNER JOIN \n",
    "              (SELECT * FROM `bigquery-public-data.stackoverflow.posts_answers`  where Score>0 ORDER BY Score desc) AS a \n",
    "              ON q.id = a.parent_id \n",
    "        where q.tags like '%python%'\n",
    "        LIMIT {NUM_ROWS};\n",
    "        \"\"\"\n",
    "\n",
    "query_job = client.query(QUERY)\n",
    "rows = query_job.result()\n",
    "\n",
    "\n",
    "# Convert to a dataframe\n",
    "df = rows.to_dataframe()\n",
    "\n",
    "# Examine the data\n",
    "df.head()"
   ]
  },
  {
   "cell_type": "code",
   "execution_count": 6,
   "id": "96775ff1",
   "metadata": {},
   "outputs": [
    {
     "data": {
      "text/plain": [
       "100000"
      ]
     },
     "execution_count": 6,
     "metadata": {},
     "output_type": "execute_result"
    }
   ],
   "source": [
    "# Extract the question ids and question text\n",
    "ids = df.id.tolist()\n",
    "# Verify the length\n",
    "len(ids)"
   ]
  },
  {
   "cell_type": "code",
   "execution_count": 7,
   "id": "4b084e7f",
   "metadata": {},
   "outputs": [],
   "source": [
    "questions = df.title.tolist()"
   ]
  },
  {
   "cell_type": "code",
   "execution_count": 8,
   "id": "47441d24",
   "metadata": {},
   "outputs": [
    {
     "data": {
      "text/plain": [
       "list"
      ]
     },
     "execution_count": 8,
     "metadata": {},
     "output_type": "execute_result"
    }
   ],
   "source": [
    "type(questions)"
   ]
  },
  {
   "cell_type": "code",
   "execution_count": 111,
   "id": "c3c8e676",
   "metadata": {},
   "outputs": [
    {
     "data": {
      "text/html": [
       "<div>\n",
       "<style scoped>\n",
       "    .dataframe tbody tr th:only-of-type {\n",
       "        vertical-align: middle;\n",
       "    }\n",
       "\n",
       "    .dataframe tbody tr th {\n",
       "        vertical-align: top;\n",
       "    }\n",
       "\n",
       "    .dataframe thead th {\n",
       "        text-align: right;\n",
       "    }\n",
       "</style>\n",
       "<table border=\"1\" class=\"dataframe\">\n",
       "  <thead>\n",
       "    <tr style=\"text-align: right;\">\n",
       "      <th></th>\n",
       "      <th>id</th>\n",
       "      <th>title</th>\n",
       "      <th>body</th>\n",
       "      <th>tags</th>\n",
       "      <th>answers</th>\n",
       "      <th>score</th>\n",
       "    </tr>\n",
       "  </thead>\n",
       "  <tbody>\n",
       "  </tbody>\n",
       "</table>\n",
       "</div>"
      ],
      "text/plain": [
       "Empty DataFrame\n",
       "Columns: [id, title, body, tags, answers, score]\n",
       "Index: []"
      ]
     },
     "execution_count": 111,
     "metadata": {},
     "output_type": "execute_result"
    }
   ],
   "source": [
    "df[df.id == '49620638']"
   ]
  },
  {
   "cell_type": "markdown",
   "id": "0cc9211b",
   "metadata": {},
   "source": [
    "### Instantiate the text encoding model"
   ]
  },
  {
   "cell_type": "markdown",
   "id": "c6680a05",
   "metadata": {},
   "source": [
    "Use the sentence-t5 encoder developed by Google for converting text to embeddings.\n",
    "https://tfhub.dev/google/sentence-t5/st5-base/1\n",
    "\n",
    "    The sentence-T5 family of models encode text into high-dimensional vectors that can be used for text classification, semantic similarity, clustering and other natural language processing tasks.\n",
    "\n",
    "    Our model is built on top of T5 (i.e. the Text-To-Text Transfer Transformer). It is trained on a variety of data sources and initialized from pre-trained T5 models with different model sizes. The input is variable-length English text and the output is a 768-dimensional vector. The sentence-T5 base model employs a 12-layer transformer architecture as the T5 base model does."
   ]
  },
  {
   "cell_type": "code",
   "execution_count": 13,
   "id": "53bedd4c",
   "metadata": {
    "collapsed": true
   },
   "outputs": [
    {
     "name": "stdout",
     "output_type": "stream",
     "text": [
      "Collecting protobuf==3.20.*\n",
      "  Using cached protobuf-3.20.3-cp39-cp39-win_amd64.whl (904 kB)\n",
      "Installing collected packages: protobuf\n",
      "Successfully installed protobuf-3.20.3\n",
      "Note: you may need to restart the kernel to use updated packages.\n"
     ]
    },
    {
     "name": "stderr",
     "output_type": "stream",
     "text": [
      "WARNING: Ignoring invalid distribution -rotobuf (d:\\anaconda3\\lib\\site-packages)\n",
      "WARNING: Ignoring invalid distribution -rotobuf (d:\\anaconda3\\lib\\site-packages)\n",
      "WARNING: Ignoring invalid distribution -rotobuf (d:\\anaconda3\\lib\\site-packages)\n",
      "ERROR: pip's dependency resolver does not currently take into account all the packages that are installed. This behaviour is the source of the following dependency conflicts.\n",
      "grpcio-tools 1.54.2 requires protobuf<5.0dev,>=4.21.6, but you have protobuf 3.20.3 which is incompatible.\n",
      "mlflow 2.1.1 requires pytz<2023, but you have pytz 2023.3 which is incompatible.\n",
      "mlflow-skinny 2.2.1 requires pytz<2023, but you have pytz 2023.3 which is incompatible.\n",
      "kfp 1.8.9 requires google-auth<2,>=1.6.1, but you have google-auth 2.16.1 which is incompatible.\n",
      "kfp 1.8.9 requires jsonschema<4,>=3.0.1, but you have jsonschema 4.17.3 which is incompatible.\n",
      "kfp 1.8.9 requires PyYAML<6,>=5.3, but you have pyyaml 6.0 which is incompatible.\n",
      "kfp 1.8.9 requires requests-toolbelt<1,>=0.8.0, but you have requests-toolbelt 1.0.0 which is incompatible.\n",
      "azureml-mlflow 1.50.0 requires azure-storage-blob<=12.13.0,>=12.5.0, but you have azure-storage-blob 12.16.0 which is incompatible.\n",
      "WARNING: Ignoring invalid distribution -rotobuf (d:\\anaconda3\\lib\\site-packages)\n",
      "WARNING: Ignoring invalid distribution -rotobuf (d:\\anaconda3\\lib\\site-packages)\n",
      "WARNING: Ignoring invalid distribution -rotobuf (d:\\anaconda3\\lib\\site-packages)\n"
     ]
    }
   ],
   "source": [
    "pip install --user protobuf==3.20.*"
   ]
  },
  {
   "cell_type": "code",
   "execution_count": 9,
   "id": "13b29e1e",
   "metadata": {
    "collapsed": true
   },
   "outputs": [
    {
     "name": "stdout",
     "output_type": "stream",
     "text": [
      "Collecting cryptography==38.0.4\n",
      "  Downloading cryptography-38.0.4-cp36-abi3-win_amd64.whl (2.4 MB)\n",
      "     ---------------------------------------- 2.4/2.4 MB 25.8 MB/s eta 0:00:00\n",
      "Requirement already satisfied: cffi>=1.12 in d:\\anaconda3\\lib\\site-packages (from cryptography==38.0.4) (1.15.1)\n",
      "Requirement already satisfied: pycparser in d:\\anaconda3\\lib\\site-packages (from cffi>=1.12->cryptography==38.0.4) (2.21)\n",
      "Installing collected packages: cryptography\n",
      "  Attempting uninstall: cryptography\n",
      "    Found existing installation: cryptography 40.0.2\n",
      "    Uninstalling cryptography-40.0.2:\n",
      "      Successfully uninstalled cryptography-40.0.2\n",
      "Note: you may need to restart the kernel to use updated packages.\n"
     ]
    },
    {
     "name": "stderr",
     "output_type": "stream",
     "text": [
      "WARNING: Ignoring invalid distribution -rotobuf (d:\\anaconda3\\lib\\site-packages)\n",
      "WARNING: Ignoring invalid distribution -rotobuf (d:\\anaconda3\\lib\\site-packages)\n",
      "WARNING: Ignoring invalid distribution -rotobuf (d:\\anaconda3\\lib\\site-packages)\n",
      "ERROR: Could not install packages due to an OSError: [WinError 5] Access is denied: 'C:\\\\Users\\\\visha\\\\AppData\\\\Roaming\\\\Python\\\\Python39\\\\site-packages\\\\~ryptography\\\\hazmat\\\\bindings\\\\_rust.pyd'\n",
      "Consider using the `--user` option or check the permissions.\n",
      "\n",
      "WARNING: Ignoring invalid distribution -rotobuf (d:\\anaconda3\\lib\\site-packages)\n",
      "WARNING: Ignoring invalid distribution -rotobuf (d:\\anaconda3\\lib\\site-packages)\n",
      "WARNING: Ignoring invalid distribution -rotobuf (d:\\anaconda3\\lib\\site-packages)\n"
     ]
    }
   ],
   "source": [
    "pip install cryptography==38.0.4"
   ]
  },
  {
   "cell_type": "code",
   "execution_count": 2,
   "id": "5a4f205d",
   "metadata": {
    "collapsed": true
   },
   "outputs": [
    {
     "name": "stdout",
     "output_type": "stream",
     "text": [
      "Collecting tensorflow_hub\n",
      "  Downloading tensorflow_hub-0.13.0-py2.py3-none-any.whl (100 kB)\n",
      "     -------------------------------------- 100.6/100.6 kB 6.0 MB/s eta 0:00:00\n",
      "Requirement already satisfied: protobuf>=3.19.6 in c:\\users\\visha\\appdata\\roaming\\python\\python39\\site-packages (from tensorflow_hub) (3.20.3)\n",
      "Requirement already satisfied: numpy>=1.12.0 in d:\\anaconda3\\lib\\site-packages (from tensorflow_hub) (1.21.5)\n",
      "Installing collected packages: tensorflow_hub\n",
      "Successfully installed tensorflow_hub-0.13.0\n",
      "Note: you may need to restart the kernel to use updated packages.\n"
     ]
    },
    {
     "name": "stderr",
     "output_type": "stream",
     "text": [
      "WARNING: Ignoring invalid distribution -rotobuf (d:\\anaconda3\\lib\\site-packages)\n",
      "WARNING: Ignoring invalid distribution -rotobuf (d:\\anaconda3\\lib\\site-packages)\n",
      "WARNING: Ignoring invalid distribution -rotobuf (d:\\anaconda3\\lib\\site-packages)\n",
      "WARNING: Ignoring invalid distribution -rotobuf (d:\\anaconda3\\lib\\site-packages)\n",
      "WARNING: Ignoring invalid distribution -rotobuf (d:\\anaconda3\\lib\\site-packages)\n",
      "WARNING: Ignoring invalid distribution -rotobuf (d:\\anaconda3\\lib\\site-packages)\n",
      "WARNING: Ignoring invalid distribution -rotobuf (d:\\anaconda3\\lib\\site-packages)\n"
     ]
    }
   ],
   "source": [
    "pip install tensorflow_hub"
   ]
  },
  {
   "cell_type": "code",
   "execution_count": 3,
   "id": "eaafcebc",
   "metadata": {
    "collapsed": true
   },
   "outputs": [
    {
     "name": "stdout",
     "output_type": "stream",
     "text": [
      "Collecting tensorflow_text\n",
      "  Using cached tensorflow_text-2.10.0-cp39-cp39-win_amd64.whl (5.0 MB)\n",
      "Collecting tensorflow<2.11,>=2.10.0\n",
      "  Using cached tensorflow-2.10.1-cp39-cp39-win_amd64.whl (455.9 MB)\n",
      "Requirement already satisfied: tensorflow-hub>=0.8.0 in d:\\anaconda3\\lib\\site-packages (from tensorflow_text) (0.13.0)\n",
      "Requirement already satisfied: termcolor>=1.1.0 in d:\\anaconda3\\lib\\site-packages (from tensorflow<2.11,>=2.10.0->tensorflow_text) (2.3.0)\n",
      "Requirement already satisfied: astunparse>=1.6.0 in d:\\anaconda3\\lib\\site-packages (from tensorflow<2.11,>=2.10.0->tensorflow_text) (1.6.3)\n",
      "Requirement already satisfied: grpcio<2.0,>=1.24.3 in c:\\users\\visha\\appdata\\roaming\\python\\python39\\site-packages (from tensorflow<2.11,>=2.10.0->tensorflow_text) (1.54.2)\n",
      "Collecting keras<2.11,>=2.10.0\n",
      "  Using cached keras-2.10.0-py2.py3-none-any.whl (1.7 MB)\n",
      "Requirement already satisfied: packaging in d:\\anaconda3\\lib\\site-packages (from tensorflow<2.11,>=2.10.0->tensorflow_text) (21.3)\n",
      "Collecting protobuf<3.20,>=3.9.2\n",
      "  Using cached protobuf-3.19.6-cp39-cp39-win_amd64.whl (895 kB)\n",
      "Requirement already satisfied: gast<=0.4.0,>=0.2.1 in d:\\anaconda3\\lib\\site-packages (from tensorflow<2.11,>=2.10.0->tensorflow_text) (0.4.0)\n",
      "Requirement already satisfied: tensorflow-io-gcs-filesystem>=0.23.1 in d:\\anaconda3\\lib\\site-packages (from tensorflow<2.11,>=2.10.0->tensorflow_text) (0.29.0)\n",
      "Requirement already satisfied: flatbuffers>=2.0 in d:\\anaconda3\\lib\\site-packages (from tensorflow<2.11,>=2.10.0->tensorflow_text) (22.12.6)\n",
      "Requirement already satisfied: h5py>=2.9.0 in c:\\users\\visha\\appdata\\roaming\\python\\python39\\site-packages (from tensorflow<2.11,>=2.10.0->tensorflow_text) (3.8.0)\n",
      "Requirement already satisfied: absl-py>=1.0.0 in d:\\anaconda3\\lib\\site-packages (from tensorflow<2.11,>=2.10.0->tensorflow_text) (1.4.0)\n",
      "Requirement already satisfied: libclang>=13.0.0 in d:\\anaconda3\\lib\\site-packages (from tensorflow<2.11,>=2.10.0->tensorflow_text) (14.0.6)\n",
      "Requirement already satisfied: six>=1.12.0 in d:\\anaconda3\\lib\\site-packages (from tensorflow<2.11,>=2.10.0->tensorflow_text) (1.16.0)\n",
      "Collecting tensorboard<2.11,>=2.10\n",
      "  Using cached tensorboard-2.10.1-py3-none-any.whl (5.9 MB)\n",
      "Requirement already satisfied: keras-preprocessing>=1.1.1 in d:\\anaconda3\\lib\\site-packages (from tensorflow<2.11,>=2.10.0->tensorflow_text) (1.1.2)\n",
      "Requirement already satisfied: setuptools in d:\\anaconda3\\lib\\site-packages (from tensorflow<2.11,>=2.10.0->tensorflow_text) (63.4.1)\n",
      "Collecting tensorflow-estimator<2.11,>=2.10.0\n",
      "  Using cached tensorflow_estimator-2.10.0-py2.py3-none-any.whl (438 kB)\n",
      "Requirement already satisfied: opt-einsum>=2.3.2 in d:\\anaconda3\\lib\\site-packages (from tensorflow<2.11,>=2.10.0->tensorflow_text) (3.3.0)\n",
      "Requirement already satisfied: wrapt>=1.11.0 in d:\\anaconda3\\lib\\site-packages (from tensorflow<2.11,>=2.10.0->tensorflow_text) (1.14.1)\n",
      "Requirement already satisfied: google-pasta>=0.1.1 in d:\\anaconda3\\lib\\site-packages (from tensorflow<2.11,>=2.10.0->tensorflow_text) (0.2.0)\n",
      "Requirement already satisfied: numpy>=1.20 in d:\\anaconda3\\lib\\site-packages (from tensorflow<2.11,>=2.10.0->tensorflow_text) (1.23.5)\n",
      "Requirement already satisfied: typing-extensions>=3.6.6 in d:\\anaconda3\\lib\\site-packages (from tensorflow<2.11,>=2.10.0->tensorflow_text) (4.5.0)\n",
      "Requirement already satisfied: wheel<1.0,>=0.23.0 in d:\\anaconda3\\lib\\site-packages (from astunparse>=1.6.0->tensorflow<2.11,>=2.10.0->tensorflow_text) (0.37.1)\n",
      "Requirement already satisfied: tensorboard-plugin-wit>=1.6.0 in d:\\anaconda3\\lib\\site-packages (from tensorboard<2.11,>=2.10->tensorflow<2.11,>=2.10.0->tensorflow_text) (1.8.1)\n",
      "Collecting tensorboard-data-server<0.7.0,>=0.6.0\n",
      "  Using cached tensorboard_data_server-0.6.1-py3-none-any.whl (2.4 kB)\n",
      "Requirement already satisfied: werkzeug>=1.0.1 in d:\\anaconda3\\lib\\site-packages (from tensorboard<2.11,>=2.10->tensorflow<2.11,>=2.10.0->tensorflow_text) (2.2.3)\n",
      "Requirement already satisfied: google-auth<3,>=1.6.3 in d:\\anaconda3\\lib\\site-packages (from tensorboard<2.11,>=2.10->tensorflow<2.11,>=2.10.0->tensorflow_text) (2.16.1)\n",
      "Requirement already satisfied: markdown>=2.6.8 in c:\\users\\visha\\appdata\\roaming\\python\\python39\\site-packages (from tensorboard<2.11,>=2.10->tensorflow<2.11,>=2.10.0->tensorflow_text) (3.4.3)\n",
      "Requirement already satisfied: requests<3,>=2.21.0 in c:\\users\\visha\\appdata\\roaming\\python\\python39\\site-packages (from tensorboard<2.11,>=2.10->tensorflow<2.11,>=2.10.0->tensorflow_text) (2.30.0)\n",
      "Collecting google-auth-oauthlib<0.5,>=0.4.1\n",
      "  Using cached google_auth_oauthlib-0.4.6-py2.py3-none-any.whl (18 kB)\n",
      "Requirement already satisfied: pyparsing!=3.0.5,>=2.0.2 in d:\\anaconda3\\lib\\site-packages (from packaging->tensorflow<2.11,>=2.10.0->tensorflow_text) (3.0.9)\n",
      "Requirement already satisfied: rsa<5,>=3.1.4 in d:\\anaconda3\\lib\\site-packages (from google-auth<3,>=1.6.3->tensorboard<2.11,>=2.10->tensorflow<2.11,>=2.10.0->tensorflow_text) (4.9)\n",
      "Requirement already satisfied: cachetools<6.0,>=2.0.0 in d:\\anaconda3\\lib\\site-packages (from google-auth<3,>=1.6.3->tensorboard<2.11,>=2.10->tensorflow<2.11,>=2.10.0->tensorflow_text) (4.2.4)\n",
      "Requirement already satisfied: pyasn1-modules>=0.2.1 in d:\\anaconda3\\lib\\site-packages (from google-auth<3,>=1.6.3->tensorboard<2.11,>=2.10->tensorflow<2.11,>=2.10.0->tensorflow_text) (0.2.8)\n",
      "Requirement already satisfied: requests-oauthlib>=0.7.0 in d:\\anaconda3\\lib\\site-packages (from google-auth-oauthlib<0.5,>=0.4.1->tensorboard<2.11,>=2.10->tensorflow<2.11,>=2.10.0->tensorflow_text) (1.3.1)\n",
      "Requirement already satisfied: importlib-metadata>=4.4 in c:\\users\\visha\\appdata\\roaming\\python\\python39\\site-packages (from markdown>=2.6.8->tensorboard<2.11,>=2.10->tensorflow<2.11,>=2.10.0->tensorflow_text) (4.13.0)\n",
      "Requirement already satisfied: charset-normalizer<4,>=2 in c:\\users\\visha\\appdata\\roaming\\python\\python39\\site-packages (from requests<3,>=2.21.0->tensorboard<2.11,>=2.10->tensorflow<2.11,>=2.10.0->tensorflow_text) (2.1.1)\n",
      "Requirement already satisfied: certifi>=2017.4.17 in c:\\users\\visha\\appdata\\roaming\\python\\python39\\site-packages (from requests<3,>=2.21.0->tensorboard<2.11,>=2.10->tensorflow<2.11,>=2.10.0->tensorflow_text) (2023.5.7)\n",
      "Requirement already satisfied: urllib3<3,>=1.21.1 in d:\\anaconda3\\lib\\site-packages (from requests<3,>=2.21.0->tensorboard<2.11,>=2.10->tensorflow<2.11,>=2.10.0->tensorflow_text) (1.26.15)\n",
      "Requirement already satisfied: idna<4,>=2.5 in c:\\users\\visha\\appdata\\roaming\\python\\python39\\site-packages (from requests<3,>=2.21.0->tensorboard<2.11,>=2.10->tensorflow<2.11,>=2.10.0->tensorflow_text) (3.4)\n",
      "Requirement already satisfied: MarkupSafe>=2.1.1 in d:\\anaconda3\\lib\\site-packages (from werkzeug>=1.0.1->tensorboard<2.11,>=2.10->tensorflow<2.11,>=2.10.0->tensorflow_text) (2.1.2)\n",
      "Requirement already satisfied: zipp>=0.5 in d:\\anaconda3\\lib\\site-packages (from importlib-metadata>=4.4->markdown>=2.6.8->tensorboard<2.11,>=2.10->tensorflow<2.11,>=2.10.0->tensorflow_text) (3.15.0)\n",
      "Requirement already satisfied: pyasn1<0.5.0,>=0.4.6 in d:\\anaconda3\\lib\\site-packages (from pyasn1-modules>=0.2.1->google-auth<3,>=1.6.3->tensorboard<2.11,>=2.10->tensorflow<2.11,>=2.10.0->tensorflow_text) (0.4.8)\n",
      "Requirement already satisfied: oauthlib>=3.0.0 in d:\\anaconda3\\lib\\site-packages (from requests-oauthlib>=0.7.0->google-auth-oauthlib<0.5,>=0.4.1->tensorboard<2.11,>=2.10->tensorflow<2.11,>=2.10.0->tensorflow_text) (3.2.2)\n",
      "Installing collected packages: keras, tensorflow-estimator, tensorboard-data-server, protobuf, google-auth-oauthlib, tensorboard, tensorflow, tensorflow_text\n",
      "  Attempting uninstall: keras\n",
      "    Found existing installation: keras 2.12.0\n",
      "    Uninstalling keras-2.12.0:\n",
      "      Successfully uninstalled keras-2.12.0\n",
      "  Attempting uninstall: tensorflow-estimator\n",
      "    Found existing installation: tensorflow-estimator 2.12.0\n",
      "    Uninstalling tensorflow-estimator-2.12.0:\n",
      "      Successfully uninstalled tensorflow-estimator-2.12.0\n",
      "  Attempting uninstall: tensorboard-data-server\n",
      "    Found existing installation: tensorboard-data-server 0.7.0\n",
      "    Uninstalling tensorboard-data-server-0.7.0:\n",
      "      Successfully uninstalled tensorboard-data-server-0.7.0\n",
      "  Attempting uninstall: protobuf\n",
      "    Found existing installation: protobuf 4.23.2\n",
      "    Uninstalling protobuf-4.23.2:\n",
      "      Successfully uninstalled protobuf-4.23.2\n",
      "  Rolling back uninstall of protobuf\n",
      "  Moving to d:\\anaconda3\\lib\\site-packages\\google\\_upb\\\n",
      "   from D:\\anaconda3\\Lib\\site-packages\\google\\~upb\n",
      "  Moving to d:\\anaconda3\\lib\\site-packages\\google\\protobuf\\__init__.py\n",
      "   from C:\\Users\\visha\\AppData\\Local\\Temp\\pip-uninstall-smbindti\\__init__.py\n",
      "  Moving to d:\\anaconda3\\lib\\site-packages\\google\\protobuf\\__pycache__\\\n",
      "   from D:\\anaconda3\\Lib\\site-packages\\google\\protobuf\\~_pycache__\n",
      "  Moving to d:\\anaconda3\\lib\\site-packages\\google\\protobuf\\any_pb2.py\n",
      "   from C:\\Users\\visha\\AppData\\Local\\Temp\\pip-uninstall-smbindti\\any_pb2.py\n",
      "  Moving to d:\\anaconda3\\lib\\site-packages\\google\\protobuf\\api_pb2.py\n",
      "   from C:\\Users\\visha\\AppData\\Local\\Temp\\pip-uninstall-smbindti\\api_pb2.py\n",
      "  Moving to d:\\anaconda3\\lib\\site-packages\\google\\protobuf\\compiler\\\n",
      "   from D:\\anaconda3\\Lib\\site-packages\\google\\protobuf\\~ompiler\n",
      "  Moving to d:\\anaconda3\\lib\\site-packages\\google\\protobuf\\descriptor.py\n",
      "   from C:\\Users\\visha\\AppData\\Local\\Temp\\pip-uninstall-smbindti\\descriptor.py\n",
      "  Moving to d:\\anaconda3\\lib\\site-packages\\google\\protobuf\\descriptor_database.py\n",
      "   from C:\\Users\\visha\\AppData\\Local\\Temp\\pip-uninstall-smbindti\\descriptor_database.py\n",
      "  Moving to d:\\anaconda3\\lib\\site-packages\\google\\protobuf\\descriptor_pb2.py\n",
      "   from C:\\Users\\visha\\AppData\\Local\\Temp\\pip-uninstall-smbindti\\descriptor_pb2.py\n",
      "  Moving to d:\\anaconda3\\lib\\site-packages\\google\\protobuf\\descriptor_pool.py\n",
      "   from C:\\Users\\visha\\AppData\\Local\\Temp\\pip-uninstall-smbindti\\descriptor_pool.py\n",
      "  Moving to d:\\anaconda3\\lib\\site-packages\\google\\protobuf\\duration_pb2.py\n",
      "   from C:\\Users\\visha\\AppData\\Local\\Temp\\pip-uninstall-smbindti\\duration_pb2.py\n",
      "  Moving to d:\\anaconda3\\lib\\site-packages\\google\\protobuf\\empty_pb2.py\n",
      "   from C:\\Users\\visha\\AppData\\Local\\Temp\\pip-uninstall-smbindti\\empty_pb2.py\n",
      "  Moving to d:\\anaconda3\\lib\\site-packages\\google\\protobuf\\field_mask_pb2.py\n",
      "   from C:\\Users\\visha\\AppData\\Local\\Temp\\pip-uninstall-smbindti\\field_mask_pb2.py\n",
      "  Moving to d:\\anaconda3\\lib\\site-packages\\google\\protobuf\\internal\\__init__.py\n",
      "   from C:\\Users\\visha\\AppData\\Local\\Temp\\pip-uninstall-smbindti\\internal\\__init__.py\n",
      "  Moving to d:\\anaconda3\\lib\\site-packages\\google\\protobuf\\internal\\__pycache__\\__init__.cpython-39.pyc\n",
      "   from C:\\Users\\visha\\AppData\\Local\\Temp\\pip-uninstall-smbindti\\internal\\__pycache__\\__init__.cpython-39.pyc\n",
      "  Moving to d:\\anaconda3\\lib\\site-packages\\google\\protobuf\\internal\\__pycache__\\_parameterized.cpython-39.pyc\n",
      "   from C:\\Users\\visha\\AppData\\Local\\Temp\\pip-uninstall-smbindti\\internal\\__pycache__\\_parameterized.cpython-39.pyc\n",
      "  Moving to d:\\anaconda3\\lib\\site-packages\\google\\protobuf\\internal\\__pycache__\\api_implementation.cpython-39.pyc\n",
      "   from C:\\Users\\visha\\AppData\\Local\\Temp\\pip-uninstall-smbindti\\internal\\__pycache__\\api_implementation.cpython-39.pyc\n",
      "  Moving to d:\\anaconda3\\lib\\site-packages\\google\\protobuf\\internal\\__pycache__\\builder.cpython-39.pyc\n",
      "   from C:\\Users\\visha\\AppData\\Local\\Temp\\pip-uninstall-smbindti\\internal\\__pycache__\\builder.cpython-39.pyc\n",
      "  Moving to d:\\anaconda3\\lib\\site-packages\\google\\protobuf\\internal\\__pycache__\\containers.cpython-39.pyc\n",
      "   from C:\\Users\\visha\\AppData\\Local\\Temp\\pip-uninstall-smbindti\\internal\\__pycache__\\containers.cpython-39.pyc\n",
      "  Moving to d:\\anaconda3\\lib\\site-packages\\google\\protobuf\\internal\\__pycache__\\decoder.cpython-39.pyc\n",
      "   from C:\\Users\\visha\\AppData\\Local\\Temp\\pip-uninstall-smbindti\\internal\\__pycache__\\decoder.cpython-39.pyc\n",
      "  Moving to d:\\anaconda3\\lib\\site-packages\\google\\protobuf\\internal\\__pycache__\\encoder.cpython-39.pyc\n",
      "   from C:\\Users\\visha\\AppData\\Local\\Temp\\pip-uninstall-smbindti\\internal\\__pycache__\\encoder.cpython-39.pyc\n",
      "  Moving to d:\\anaconda3\\lib\\site-packages\\google\\protobuf\\internal\\__pycache__\\enum_type_wrapper.cpython-39.pyc\n",
      "   from C:\\Users\\visha\\AppData\\Local\\Temp\\pip-uninstall-smbindti\\internal\\__pycache__\\enum_type_wrapper.cpython-39.pyc\n",
      "  Moving to d:\\anaconda3\\lib\\site-packages\\google\\protobuf\\internal\\__pycache__\\extension_dict.cpython-39.pyc\n",
      "   from C:\\Users\\visha\\AppData\\Local\\Temp\\pip-uninstall-smbindti\\internal\\__pycache__\\extension_dict.cpython-39.pyc\n",
      "  Moving to d:\\anaconda3\\lib\\site-packages\\google\\protobuf\\internal\\__pycache__\\field_mask.cpython-39.pyc\n",
      "   from C:\\Users\\visha\\AppData\\Local\\Temp\\pip-uninstall-smbindti\\internal\\__pycache__\\field_mask.cpython-39.pyc\n",
      "  Moving to d:\\anaconda3\\lib\\site-packages\\google\\protobuf\\internal\\__pycache__\\message_listener.cpython-39.pyc\n",
      "   from C:\\Users\\visha\\AppData\\Local\\Temp\\pip-uninstall-smbindti\\internal\\__pycache__\\message_listener.cpython-39.pyc\n",
      "  Moving to d:\\anaconda3\\lib\\site-packages\\google\\protobuf\\internal\\__pycache__\\python_message.cpython-39.pyc\n",
      "   from C:\\Users\\visha\\AppData\\Local\\Temp\\pip-uninstall-smbindti\\internal\\__pycache__\\python_message.cpython-39.pyc\n",
      "  Moving to d:\\anaconda3\\lib\\site-packages\\google\\protobuf\\internal\\__pycache__\\testing_refleaks.cpython-39.pyc\n",
      "   from C:\\Users\\visha\\AppData\\Local\\Temp\\pip-uninstall-smbindti\\internal\\__pycache__\\testing_refleaks.cpython-39.pyc\n",
      "  Moving to d:\\anaconda3\\lib\\site-packages\\google\\protobuf\\internal\\__pycache__\\type_checkers.cpython-39.pyc\n",
      "   from C:\\Users\\visha\\AppData\\Local\\Temp\\pip-uninstall-smbindti\\internal\\__pycache__\\type_checkers.cpython-39.pyc\n",
      "  Moving to d:\\anaconda3\\lib\\site-packages\\google\\protobuf\\internal\\__pycache__\\well_known_types.cpython-39.pyc\n",
      "   from C:\\Users\\visha\\AppData\\Local\\Temp\\pip-uninstall-smbindti\\internal\\__pycache__\\well_known_types.cpython-39.pyc\n",
      "  Moving to d:\\anaconda3\\lib\\site-packages\\google\\protobuf\\internal\\__pycache__\\wire_format.cpython-39.pyc\n",
      "   from C:\\Users\\visha\\AppData\\Local\\Temp\\pip-uninstall-smbindti\\internal\\__pycache__\\wire_format.cpython-39.pyc\n",
      "  Moving to d:\\anaconda3\\lib\\site-packages\\google\\protobuf\\internal\\_parameterized.py\n",
      "   from C:\\Users\\visha\\AppData\\Local\\Temp\\pip-uninstall-smbindti\\internal\\_parameterized.py\n",
      "  Moving to d:\\anaconda3\\lib\\site-packages\\google\\protobuf\\internal\\api_implementation.py\n",
      "   from C:\\Users\\visha\\AppData\\Local\\Temp\\pip-uninstall-smbindti\\internal\\api_implementation.py\n",
      "  Moving to d:\\anaconda3\\lib\\site-packages\\google\\protobuf\\internal\\builder.py\n",
      "   from C:\\Users\\visha\\AppData\\Local\\Temp\\pip-uninstall-smbindti\\internal\\builder.py\n",
      "  Moving to d:\\anaconda3\\lib\\site-packages\\google\\protobuf\\internal\\containers.py\n",
      "   from C:\\Users\\visha\\AppData\\Local\\Temp\\pip-uninstall-smbindti\\internal\\containers.py\n",
      "  Moving to d:\\anaconda3\\lib\\site-packages\\google\\protobuf\\internal\\decoder.py\n",
      "   from C:\\Users\\visha\\AppData\\Local\\Temp\\pip-uninstall-smbindti\\internal\\decoder.py\n",
      "  Moving to d:\\anaconda3\\lib\\site-packages\\google\\protobuf\\internal\\encoder.py\n",
      "   from C:\\Users\\visha\\AppData\\Local\\Temp\\pip-uninstall-smbindti\\internal\\encoder.py\n",
      "  Moving to d:\\anaconda3\\lib\\site-packages\\google\\protobuf\\internal\\enum_type_wrapper.py\n",
      "   from C:\\Users\\visha\\AppData\\Local\\Temp\\pip-uninstall-smbindti\\internal\\enum_type_wrapper.py\n",
      "  Moving to d:\\anaconda3\\lib\\site-packages\\google\\protobuf\\internal\\extension_dict.py\n",
      "   from C:\\Users\\visha\\AppData\\Local\\Temp\\pip-uninstall-smbindti\\internal\\extension_dict.py\n",
      "  Moving to d:\\anaconda3\\lib\\site-packages\\google\\protobuf\\internal\\field_mask.py\n",
      "   from C:\\Users\\visha\\AppData\\Local\\Temp\\pip-uninstall-smbindti\\internal\\field_mask.py\n",
      "  Moving to d:\\anaconda3\\lib\\site-packages\\google\\protobuf\\internal\\message_listener.py\n",
      "   from C:\\Users\\visha\\AppData\\Local\\Temp\\pip-uninstall-smbindti\\internal\\message_listener.py\n",
      "  Moving to d:\\anaconda3\\lib\\site-packages\\google\\protobuf\\internal\\python_message.py\n",
      "   from C:\\Users\\visha\\AppData\\Local\\Temp\\pip-uninstall-smbindti\\internal\\python_message.py\n",
      "  Moving to d:\\anaconda3\\lib\\site-packages\\google\\protobuf\\internal\\testing_refleaks.py\n",
      "   from C:\\Users\\visha\\AppData\\Local\\Temp\\pip-uninstall-smbindti\\internal\\testing_refleaks.py\n",
      "  Moving to d:\\anaconda3\\lib\\site-packages\\google\\protobuf\\internal\\type_checkers.py\n",
      "   from C:\\Users\\visha\\AppData\\Local\\Temp\\pip-uninstall-smbindti\\internal\\type_checkers.py\n",
      "  Moving to d:\\anaconda3\\lib\\site-packages\\google\\protobuf\\internal\\well_known_types.py\n",
      "   from C:\\Users\\visha\\AppData\\Local\\Temp\\pip-uninstall-smbindti\\internal\\well_known_types.py\n",
      "  Moving to d:\\anaconda3\\lib\\site-packages\\google\\protobuf\\internal\\wire_format.py\n",
      "   from C:\\Users\\visha\\AppData\\Local\\Temp\\pip-uninstall-smbindti\\internal\\wire_format.py\n",
      "  Moving to d:\\anaconda3\\lib\\site-packages\\google\\protobuf\\json_format.py\n",
      "   from C:\\Users\\visha\\AppData\\Local\\Temp\\pip-uninstall-smbindti\\json_format.py\n",
      "  Moving to d:\\anaconda3\\lib\\site-packages\\google\\protobuf\\message.py\n",
      "   from C:\\Users\\visha\\AppData\\Local\\Temp\\pip-uninstall-smbindti\\message.py\n",
      "  Moving to d:\\anaconda3\\lib\\site-packages\\google\\protobuf\\message_factory.py\n",
      "   from C:\\Users\\visha\\AppData\\Local\\Temp\\pip-uninstall-smbindti\\message_factory.py\n",
      "  Moving to d:\\anaconda3\\lib\\site-packages\\google\\protobuf\\proto_builder.py\n",
      "   from C:\\Users\\visha\\AppData\\Local\\Temp\\pip-uninstall-smbindti\\proto_builder.py\n",
      "  Moving to d:\\anaconda3\\lib\\site-packages\\google\\protobuf\\pyext\\__init__.py\n",
      "   from C:\\Users\\visha\\AppData\\Local\\Temp\\pip-uninstall-smbindti\\pyext\\__init__.py\n",
      "  Moving to d:\\anaconda3\\lib\\site-packages\\google\\protobuf\\pyext\\__pycache__\\__init__.cpython-39.pyc\n",
      "   from C:\\Users\\visha\\AppData\\Local\\Temp\\pip-uninstall-smbindti\\pyext\\__pycache__\\__init__.cpython-39.pyc\n",
      "  Moving to d:\\anaconda3\\lib\\site-packages\\google\\protobuf\\pyext\\__pycache__\\cpp_message.cpython-39.pyc\n",
      "   from C:\\Users\\visha\\AppData\\Local\\Temp\\pip-uninstall-smbindti\\pyext\\__pycache__\\cpp_message.cpython-39.pyc\n",
      "  Moving to d:\\anaconda3\\lib\\site-packages\\google\\protobuf\\pyext\\cpp_message.py\n",
      "   from C:\\Users\\visha\\AppData\\Local\\Temp\\pip-uninstall-smbindti\\pyext\\cpp_message.py\n",
      "  Moving to d:\\anaconda3\\lib\\site-packages\\google\\protobuf\\reflection.py\n",
      "   from C:\\Users\\visha\\AppData\\Local\\Temp\\pip-uninstall-smbindti\\reflection.py\n",
      "  Moving to d:\\anaconda3\\lib\\site-packages\\google\\protobuf\\service.py\n",
      "   from C:\\Users\\visha\\AppData\\Local\\Temp\\pip-uninstall-smbindti\\service.py\n",
      "  Moving to d:\\anaconda3\\lib\\site-packages\\google\\protobuf\\service_reflection.py\n",
      "   from C:\\Users\\visha\\AppData\\Local\\Temp\\pip-uninstall-smbindti\\service_reflection.py\n",
      "  Moving to d:\\anaconda3\\lib\\site-packages\\google\\protobuf\\source_context_pb2.py\n",
      "   from C:\\Users\\visha\\AppData\\Local\\Temp\\pip-uninstall-smbindti\\source_context_pb2.py\n",
      "  Moving to d:\\anaconda3\\lib\\site-packages\\google\\protobuf\\struct_pb2.py\n",
      "   from C:\\Users\\visha\\AppData\\Local\\Temp\\pip-uninstall-smbindti\\struct_pb2.py\n",
      "  Moving to d:\\anaconda3\\lib\\site-packages\\google\\protobuf\\symbol_database.py\n",
      "   from C:\\Users\\visha\\AppData\\Local\\Temp\\pip-uninstall-smbindti\\symbol_database.py\n",
      "  Moving to d:\\anaconda3\\lib\\site-packages\\google\\protobuf\\text_encoding.py\n",
      "   from C:\\Users\\visha\\AppData\\Local\\Temp\\pip-uninstall-smbindti\\text_encoding.py\n",
      "  Moving to d:\\anaconda3\\lib\\site-packages\\google\\protobuf\\text_format.py\n",
      "   from C:\\Users\\visha\\AppData\\Local\\Temp\\pip-uninstall-smbindti\\text_format.py\n",
      "  Moving to d:\\anaconda3\\lib\\site-packages\\google\\protobuf\\timestamp_pb2.py\n",
      "   from C:\\Users\\visha\\AppData\\Local\\Temp\\pip-uninstall-smbindti\\timestamp_pb2.py\n",
      "  Moving to d:\\anaconda3\\lib\\site-packages\\google\\protobuf\\type_pb2.py\n",
      "   from C:\\Users\\visha\\AppData\\Local\\Temp\\pip-uninstall-smbindti\\type_pb2.py\n",
      "  Moving to d:\\anaconda3\\lib\\site-packages\\google\\protobuf\\unknown_fields.py\n",
      "   from C:\\Users\\visha\\AppData\\Local\\Temp\\pip-uninstall-smbindti\\unknown_fields.py\n",
      "  Moving to d:\\anaconda3\\lib\\site-packages\\google\\protobuf\\util\\__init__.py\n",
      "   from C:\\Users\\visha\\AppData\\Local\\Temp\\pip-uninstall-smbindti\\util\\__init__.py\n",
      "  Moving to d:\\anaconda3\\lib\\site-packages\\google\\protobuf\\util\\__pycache__\\__init__.cpython-39.pyc\n",
      "   from C:\\Users\\visha\\AppData\\Local\\Temp\\pip-uninstall-smbindti\\util\\__pycache__\\__init__.cpython-39.pyc\n",
      "  Moving to d:\\anaconda3\\lib\\site-packages\\google\\protobuf\\wrappers_pb2.py\n",
      "   from C:\\Users\\visha\\AppData\\Local\\Temp\\pip-uninstall-smbindti\\wrappers_pb2.py\n",
      "  Moving to d:\\anaconda3\\lib\\site-packages\\protobuf-4.23.2.dist-info\\\n",
      "   from D:\\anaconda3\\Lib\\site-packages\\~rotobuf-4.23.2.dist-info\n",
      "Note: you may need to restart the kernel to use updated packages.\n"
     ]
    },
    {
     "name": "stderr",
     "output_type": "stream",
     "text": [
      "ERROR: Could not install packages due to an OSError: [WinError 5] Access is denied: 'D:\\\\anaconda3\\\\Lib\\\\site-packages\\\\google\\\\protobuf\\\\internal\\\\_api_implementation.cp39-win_amd64.pyd'\n",
      "Consider using the `--user` option or check the permissions.\n",
      "\n"
     ]
    }
   ],
   "source": [
    "pip install tensorflow_text"
   ]
  },
  {
   "cell_type": "code",
   "execution_count": 2,
   "id": "c2902342",
   "metadata": {
    "collapsed": true
   },
   "outputs": [
    {
     "name": "stdout",
     "output_type": "stream",
     "text": [
      "Collecting tensorflow-estimator==2.6.0Note: you may need to restart the kernel to use updated packages.\n",
      "\n",
      "  Downloading tensorflow_estimator-2.6.0-py2.py3-none-any.whl (462 kB)\n",
      "     -------------------------------------- 462.9/462.9 kB 9.6 MB/s eta 0:00:00\n",
      "Installing collected packages: tensorflow-estimator\n",
      "  Attempting uninstall: tensorflow-estimator\n",
      "    Found existing installation: tensorflow-estimator 2.10.0\n",
      "    Uninstalling tensorflow-estimator-2.10.0:\n",
      "      Successfully uninstalled tensorflow-estimator-2.10.0\n",
      "Successfully installed tensorflow-estimator-2.6.0\n"
     ]
    },
    {
     "name": "stderr",
     "output_type": "stream",
     "text": [
      "WARNING: Ignoring invalid distribution -rotobuf (c:\\users\\visha\\appdata\\roaming\\python\\python39\\site-packages)\n",
      "WARNING: Ignoring invalid distribution -rotobuf (c:\\users\\visha\\appdata\\roaming\\python\\python39\\site-packages)\n",
      "WARNING: Ignoring invalid distribution -rotobuf (c:\\users\\visha\\appdata\\roaming\\python\\python39\\site-packages)\n",
      "    WARNING: Ignoring invalid distribution -rotobuf (c:\\users\\visha\\appdata\\roaming\\python\\python39\\site-packages)\n",
      "WARNING: Ignoring invalid distribution -rotobuf (d:\\anaconda3\\lib\\site-packages)\n",
      "WARNING: Ignoring invalid distribution -rotobuf (c:\\users\\visha\\appdata\\roaming\\python\\python39\\site-packages)\n",
      "WARNING: Ignoring invalid distribution -rotobuf (c:\\users\\visha\\appdata\\roaming\\python\\python39\\site-packages)\n",
      "WARNING: Ignoring invalid distribution -rotobuf (c:\\users\\visha\\appdata\\roaming\\python\\python39\\site-packages)\n"
     ]
    }
   ],
   "source": [
    "pip install --upgrade tensorflow-estimator==2.6.0"
   ]
  },
  {
   "cell_type": "code",
   "execution_count": 2,
   "id": "5965e08a",
   "metadata": {
    "collapsed": true
   },
   "outputs": [
    {
     "name": "stdout",
     "output_type": "stream",
     "text": [
      "Requirement already satisfied: tensorflow==2.8 in d:\\anaconda3\\lib\\site-packages (2.8.0)\n",
      "Requirement already satisfied: grpcio<2.0,>=1.24.3 in c:\\users\\visha\\appdata\\roaming\\python\\python39\\site-packages (from tensorflow==2.8) (1.54.2)\n",
      "Requirement already satisfied: libclang>=9.0.1 in d:\\anaconda3\\lib\\site-packages (from tensorflow==2.8) (14.0.6)\n",
      "Requirement already satisfied: protobuf>=3.9.2 in d:\\anaconda3\\lib\\site-packages (from tensorflow==2.8) (4.23.2)\n",
      "Requirement already satisfied: google-pasta>=0.1.1 in d:\\anaconda3\\lib\\site-packages (from tensorflow==2.8) (0.2.0)\n",
      "Requirement already satisfied: six>=1.12.0 in d:\\anaconda3\\lib\\site-packages (from tensorflow==2.8) (1.16.0)\n",
      "Requirement already satisfied: tf-estimator-nightly==2.8.0.dev2021122109 in d:\\anaconda3\\lib\\site-packages (from tensorflow==2.8) (2.8.0.dev2021122109)\n",
      "Requirement already satisfied: astunparse>=1.6.0 in d:\\anaconda3\\lib\\site-packages (from tensorflow==2.8) (1.6.3)\n",
      "Requirement already satisfied: flatbuffers>=1.12 in d:\\anaconda3\\lib\\site-packages (from tensorflow==2.8) (22.12.6)\n",
      "Requirement already satisfied: wrapt>=1.11.0 in d:\\anaconda3\\lib\\site-packages (from tensorflow==2.8) (1.15.0)\n",
      "Requirement already satisfied: keras-preprocessing>=1.1.1 in d:\\anaconda3\\lib\\site-packages (from tensorflow==2.8) (1.1.2)\n",
      "Requirement already satisfied: setuptools in d:\\anaconda3\\lib\\site-packages (from tensorflow==2.8) (63.4.1)\n",
      "Requirement already satisfied: termcolor>=1.1.0 in d:\\anaconda3\\lib\\site-packages (from tensorflow==2.8) (2.3.0)\n",
      "Requirement already satisfied: gast>=0.2.1 in d:\\anaconda3\\lib\\site-packages (from tensorflow==2.8) (0.5.3)\n",
      "Requirement already satisfied: typing-extensions>=3.6.6 in d:\\anaconda3\\lib\\site-packages (from tensorflow==2.8) (4.5.0)\n",
      "Requirement already satisfied: tensorboard<2.9,>=2.8 in d:\\anaconda3\\lib\\site-packages (from tensorflow==2.8) (2.8.0)\n",
      "Requirement already satisfied: tensorflow-io-gcs-filesystem>=0.23.1 in d:\\anaconda3\\lib\\site-packages (from tensorflow==2.8) (0.29.0)\n",
      "Requirement already satisfied: h5py>=2.9.0 in c:\\users\\visha\\appdata\\roaming\\python\\python39\\site-packages (from tensorflow==2.8) (3.8.0)\n",
      "Requirement already satisfied: opt-einsum>=2.3.2 in d:\\anaconda3\\lib\\site-packages (from tensorflow==2.8) (3.3.0)\n",
      "Collecting keras<2.9,>=2.8.0rc0\n",
      "  Using cached keras-2.8.0-py2.py3-none-any.whl (1.4 MB)\n",
      "Requirement already satisfied: numpy>=1.20 in d:\\anaconda3\\lib\\site-packages (from tensorflow==2.8) (1.21.5)\n",
      "Requirement already satisfied: absl-py>=0.4.0 in d:\\anaconda3\\lib\\site-packages (from tensorflow==2.8) (0.11.0)\n",
      "Requirement already satisfied: wheel<1.0,>=0.23.0 in d:\\anaconda3\\lib\\site-packages (from astunparse>=1.6.0->tensorflow==2.8) (0.37.1)\n",
      "Requirement already satisfied: google-auth-oauthlib<0.5,>=0.4.1 in d:\\anaconda3\\lib\\site-packages (from tensorboard<2.9,>=2.8->tensorflow==2.8) (0.4.6)\n",
      "Requirement already satisfied: google-auth<3,>=1.6.3 in d:\\anaconda3\\lib\\site-packages (from tensorboard<2.9,>=2.8->tensorflow==2.8) (2.16.1)\n",
      "Requirement already satisfied: tensorboard-plugin-wit>=1.6.0 in d:\\anaconda3\\lib\\site-packages (from tensorboard<2.9,>=2.8->tensorflow==2.8) (1.8.1)\n",
      "Requirement already satisfied: markdown>=2.6.8 in c:\\users\\visha\\appdata\\roaming\\python\\python39\\site-packages (from tensorboard<2.9,>=2.8->tensorflow==2.8) (3.4.3)\n",
      "Requirement already satisfied: tensorboard-data-server<0.7.0,>=0.6.0 in d:\\anaconda3\\lib\\site-packages (from tensorboard<2.9,>=2.8->tensorflow==2.8) (0.6.1)\n",
      "Requirement already satisfied: werkzeug>=0.11.15 in d:\\anaconda3\\lib\\site-packages (from tensorboard<2.9,>=2.8->tensorflow==2.8) (2.2.3)\n",
      "Requirement already satisfied: requests<3,>=2.21.0 in c:\\users\\visha\\appdata\\roaming\\python\\python39\\site-packages (from tensorboard<2.9,>=2.8->tensorflow==2.8) (2.30.0)\n",
      "Requirement already satisfied: pyasn1-modules>=0.2.1 in d:\\anaconda3\\lib\\site-packages (from google-auth<3,>=1.6.3->tensorboard<2.9,>=2.8->tensorflow==2.8) (0.2.8)\n",
      "Requirement already satisfied: cachetools<6.0,>=2.0.0 in d:\\anaconda3\\lib\\site-packages (from google-auth<3,>=1.6.3->tensorboard<2.9,>=2.8->tensorflow==2.8) (4.2.4)\n",
      "Requirement already satisfied: rsa<5,>=3.1.4 in d:\\anaconda3\\lib\\site-packages (from google-auth<3,>=1.6.3->tensorboard<2.9,>=2.8->tensorflow==2.8) (4.9)\n",
      "Requirement already satisfied: requests-oauthlib>=0.7.0 in d:\\anaconda3\\lib\\site-packages (from google-auth-oauthlib<0.5,>=0.4.1->tensorboard<2.9,>=2.8->tensorflow==2.8) (1.3.1)\n",
      "Requirement already satisfied: importlib-metadata>=4.4 in c:\\users\\visha\\appdata\\roaming\\python\\python39\\site-packages (from markdown>=2.6.8->tensorboard<2.9,>=2.8->tensorflow==2.8) (4.13.0)\n",
      "Requirement already satisfied: idna<4,>=2.5 in c:\\users\\visha\\appdata\\roaming\\python\\python39\\site-packages (from requests<3,>=2.21.0->tensorboard<2.9,>=2.8->tensorflow==2.8) (3.4)\n",
      "Requirement already satisfied: charset-normalizer<4,>=2 in c:\\users\\visha\\appdata\\roaming\\python\\python39\\site-packages (from requests<3,>=2.21.0->tensorboard<2.9,>=2.8->tensorflow==2.8) (2.1.1)\n",
      "Requirement already satisfied: certifi>=2017.4.17 in c:\\users\\visha\\appdata\\roaming\\python\\python39\\site-packages (from requests<3,>=2.21.0->tensorboard<2.9,>=2.8->tensorflow==2.8) (2023.5.7)\n",
      "Requirement already satisfied: urllib3<3,>=1.21.1 in d:\\anaconda3\\lib\\site-packages (from requests<3,>=2.21.0->tensorboard<2.9,>=2.8->tensorflow==2.8) (1.26.15)\n",
      "Requirement already satisfied: MarkupSafe>=2.1.1 in d:\\anaconda3\\lib\\site-packages (from werkzeug>=0.11.15->tensorboard<2.9,>=2.8->tensorflow==2.8) (2.1.2)\n",
      "Requirement already satisfied: zipp>=0.5 in d:\\anaconda3\\lib\\site-packages (from importlib-metadata>=4.4->markdown>=2.6.8->tensorboard<2.9,>=2.8->tensorflow==2.8) (3.15.0)\n",
      "Requirement already satisfied: pyasn1<0.5.0,>=0.4.6 in d:\\anaconda3\\lib\\site-packages (from pyasn1-modules>=0.2.1->google-auth<3,>=1.6.3->tensorboard<2.9,>=2.8->tensorflow==2.8) (0.4.8)\n",
      "Requirement already satisfied: oauthlib>=3.0.0 in d:\\anaconda3\\lib\\site-packages (from requests-oauthlib>=0.7.0->google-auth-oauthlib<0.5,>=0.4.1->tensorboard<2.9,>=2.8->tensorflow==2.8) (3.2.2)\n",
      "Installing collected packages: keras\n",
      "  Attempting uninstall: keras\n",
      "    Found existing installation: keras 2.10.0\n",
      "    Uninstalling keras-2.10.0:\n",
      "      Successfully uninstalled keras-2.10.0\n",
      "Successfully installed keras-2.8.0\n",
      "Note: you may need to restart the kernel to use updated packages.\n"
     ]
    },
    {
     "name": "stderr",
     "output_type": "stream",
     "text": [
      "WARNING: Ignoring invalid distribution -rotobuf (c:\\users\\visha\\appdata\\roaming\\python\\python39\\site-packages)\n",
      "WARNING: Ignoring invalid distribution -rotobuf (c:\\users\\visha\\appdata\\roaming\\python\\python39\\site-packages)\n",
      "WARNING: Ignoring invalid distribution -rotobuf (c:\\users\\visha\\appdata\\roaming\\python\\python39\\site-packages)\n",
      "    WARNING: Ignoring invalid distribution -rotobuf (c:\\users\\visha\\appdata\\roaming\\python\\python39\\site-packages)\n",
      "WARNING: Ignoring invalid distribution -rotobuf (d:\\anaconda3\\lib\\site-packages)\n",
      "WARNING: Ignoring invalid distribution -rotobuf (c:\\users\\visha\\appdata\\roaming\\python\\python39\\site-packages)\n",
      "WARNING: Ignoring invalid distribution -rotobuf (c:\\users\\visha\\appdata\\roaming\\python\\python39\\site-packages)\n",
      "WARNING: Ignoring invalid distribution -rotobuf (c:\\users\\visha\\appdata\\roaming\\python\\python39\\site-packages)\n"
     ]
    }
   ],
   "source": [
    "pip install tensorflow==2.8"
   ]
  },
  {
   "cell_type": "code",
   "execution_count": 10,
   "id": "1eed60f8",
   "metadata": {
    "collapsed": true
   },
   "outputs": [
    {
     "name": "stderr",
     "output_type": "stream",
     "text": [
      "WARNING:absl:Importing a function (__inference_<lambda>_9720) with ops with unsaved custom gradients. Will likely fail if a gradient is requested.\n",
      "WARNING:absl:Importing a function (__inference_<lambda>_3354) with ops with unsaved custom gradients. Will likely fail if a gradient is requested.\n",
      "WARNING:absl:Importing a function (__inference_<lambda>_6722) with ops with unsaved custom gradients. Will likely fail if a gradient is requested.\n"
     ]
    }
   ],
   "source": [
    "import tensorflow as tf\n",
    "import tensorflow_hub as hub\n",
    "# Registers the ops.\n",
    "import tensorflow_text as text  # noqa: F401\n",
    "\n",
    "hub_url = \"https://tfhub.dev/google/sentence-t5/st5-base/1\"\n",
    "\n",
    "encoder = hub.KerasLayer(hub_url)\n",
    "\n",
    "\n",
    "#The sentence-T5 family of models encode text into high-dimensional vectors that can be used for text classification, \n",
    "#semantic similarity, clustering and other natural language processing tasks."
   ]
  },
  {
   "cell_type": "markdown",
   "id": "45e2645f",
   "metadata": {},
   "source": [
    "#### Defining an encoding function\n",
    "    Define a function to be used later that will take sentences and convert them to embeddings."
   ]
  },
  {
   "cell_type": "code",
   "execution_count": 22,
   "id": "e20f4da1",
   "metadata": {},
   "outputs": [],
   "source": [
    "from typing import List\n",
    "import numpy as np\n",
    "from tqdm.auto import tqdm"
   ]
  },
  {
   "cell_type": "code",
   "execution_count": 76,
   "id": "276595b2",
   "metadata": {},
   "outputs": [],
   "source": [
    "def encode_text_to_embedding(text_encoder: hub.KerasLayer,\n",
    "                             sentences: List[str], \n",
    "                             batch_size: int = 100\n",
    "                            ) -> np.ndarray:\n",
    "    embeddings_list = []\n",
    "\n",
    "    # Process data in chunks to prevent out-of-memory errors\n",
    "    for i in tqdm(range(0, len(sentences), batch_size)):\n",
    "        batch = sentences[i : i + batch_size]\n",
    "        embeddings_list.append(text_encoder(tf.constant(batch)))\n",
    "\n",
    "    return np.squeeze(np.column_stack(embeddings_list))"
   ]
  },
  {
   "cell_type": "code",
   "execution_count": 33,
   "id": "28cf49d7",
   "metadata": {},
   "outputs": [],
   "source": [
    "questions = df.title.tolist()[:1000]"
   ]
  },
  {
   "cell_type": "code",
   "execution_count": 34,
   "id": "0e67e706",
   "metadata": {},
   "outputs": [
    {
     "data": {
      "text/plain": [
       "1000"
      ]
     },
     "execution_count": 34,
     "metadata": {},
     "output_type": "execute_result"
    }
   ],
   "source": [
    "len(questions)"
   ]
  },
  {
   "cell_type": "code",
   "execution_count": 35,
   "id": "19662d2d",
   "metadata": {},
   "outputs": [],
   "source": [
    "embeddings_list = []\n",
    "embeddings_list.append(encoder(tf.constant(questions)))"
   ]
  },
  {
   "cell_type": "code",
   "execution_count": 36,
   "id": "794f73b6",
   "metadata": {},
   "outputs": [
    {
     "data": {
      "text/plain": [
       "[[<tf.Tensor: shape=(1000, 768), dtype=float32, numpy=\n",
       "  array([[-0.038572  ,  0.00226967,  0.02160059, ...,  0.02348958,\n",
       "          -0.03167297, -0.01010165],\n",
       "         [-0.03147488,  0.0228835 ,  0.00152248, ...,  0.01359614,\n",
       "          -0.02500932,  0.00279736],\n",
       "         [-0.00658658, -0.00926851,  0.01614841, ...,  0.01407363,\n",
       "          -0.04354771, -0.00984584],\n",
       "         ...,\n",
       "         [ 0.01884109, -0.00919422,  0.02825229, ..., -0.05292677,\n",
       "          -0.02134562, -0.00788735],\n",
       "         [-0.03124767, -0.0074994 ,  0.02516945, ..., -0.02321175,\n",
       "          -0.0531763 , -0.02600672],\n",
       "         [-0.02241482, -0.0227832 ,  0.01016914, ..., -0.00840264,\n",
       "          -0.06871971, -0.00611643]], dtype=float32)>]]"
      ]
     },
     "execution_count": 36,
     "metadata": {},
     "output_type": "execute_result"
    }
   ],
   "source": [
    "embeddings_list"
   ]
  },
  {
   "cell_type": "code",
   "execution_count": 16,
   "id": "c0bdc79b",
   "metadata": {},
   "outputs": [
    {
     "data": {
      "text/plain": [
       "list"
      ]
     },
     "execution_count": 16,
     "metadata": {},
     "output_type": "execute_result"
    }
   ],
   "source": [
    "type(embeddings_list)"
   ]
  },
  {
   "cell_type": "code",
   "execution_count": 18,
   "id": "c92a89a8",
   "metadata": {},
   "outputs": [
    {
     "data": {
      "text/plain": [
       "1"
      ]
     },
     "execution_count": 18,
     "metadata": {},
     "output_type": "execute_result"
    }
   ],
   "source": [
    "len(embeddings_list)"
   ]
  },
  {
   "cell_type": "code",
   "execution_count": 93,
   "id": "c5efb7af",
   "metadata": {},
   "outputs": [
    {
     "data": {
      "text/plain": [
       "1000"
      ]
     },
     "execution_count": 93,
     "metadata": {},
     "output_type": "execute_result"
    }
   ],
   "source": [
    "len(embeddings_list[0][0])"
   ]
  },
  {
   "cell_type": "code",
   "execution_count": 56,
   "id": "9efd58ce",
   "metadata": {},
   "outputs": [
    {
     "data": {
      "text/plain": [
       "768"
      ]
     },
     "execution_count": 56,
     "metadata": {},
     "output_type": "execute_result"
    }
   ],
   "source": [
    "len(embeddings_list[0][0][0])"
   ]
  },
  {
   "cell_type": "code",
   "execution_count": null,
   "id": "89b7377c",
   "metadata": {},
   "outputs": [],
   "source": [
    "###High dimensional array demonstration"
   ]
  },
  {
   "cell_type": "code",
   "execution_count": 90,
   "id": "2238f777",
   "metadata": {},
   "outputs": [],
   "source": [
    "L1 = [[[[1,1,1,1,1,1,1,1,1,1,1,1,1,1,1,1,1,1,1,1],\n",
    "        [2,2,2,2,2,2,2,2,2,2,2,2,2,2,2,2,2,2,2,2],\n",
    "        [3,3,3,3,3,3,3,3,3,3,3,3,3,3,3,3,3,3,3,3],\n",
    "        [4,4,4,4,4,4,4,4,4,4,4,4,4,4,4,4,4,4,4,4]\n",
    "     ]]]"
   ]
  },
  {
   "cell_type": "code",
   "execution_count": 94,
   "id": "ac75c77f",
   "metadata": {},
   "outputs": [
    {
     "data": {
      "text/plain": [
       "4"
      ]
     },
     "execution_count": 94,
     "metadata": {},
     "output_type": "execute_result"
    }
   ],
   "source": [
    "len(L1[0][0])"
   ]
  },
  {
   "cell_type": "code",
   "execution_count": 80,
   "id": "f4e05fbf",
   "metadata": {},
   "outputs": [
    {
     "data": {
      "text/plain": [
       "20"
      ]
     },
     "execution_count": 80,
     "metadata": {},
     "output_type": "execute_result"
    }
   ],
   "source": [
    "len(L1[0][0][0])"
   ]
  },
  {
   "cell_type": "code",
   "execution_count": 81,
   "id": "0dc36832",
   "metadata": {},
   "outputs": [
    {
     "data": {
      "text/plain": [
       "array([[[1, 1, 1, 1, 1, 1, 1, 1, 1, 1, 1, 1, 1, 1, 1, 1, 1, 1, 1, 1],\n",
       "        [2, 2, 2, 2, 2, 2, 2, 2, 2, 2, 2, 2, 2, 2, 2, 2, 2, 2, 2, 2],\n",
       "        [3, 3, 3, 3, 3, 3, 3, 3, 3, 3, 3, 3, 3, 3, 3, 3, 3, 3, 3, 3],\n",
       "        [4, 4, 4, 4, 4, 4, 4, 4, 4, 4, 4, 4, 4, 4, 4, 4, 4, 4, 4, 4]]])"
      ]
     },
     "execution_count": 81,
     "metadata": {},
     "output_type": "execute_result"
    }
   ],
   "source": [
    "np.column_stack(L1)"
   ]
  },
  {
   "cell_type": "code",
   "execution_count": 82,
   "id": "1c595a98",
   "metadata": {},
   "outputs": [
    {
     "data": {
      "text/plain": [
       "array([[1, 1, 1, 1, 1, 1, 1, 1, 1, 1, 1, 1, 1, 1, 1, 1, 1, 1, 1, 1],\n",
       "       [2, 2, 2, 2, 2, 2, 2, 2, 2, 2, 2, 2, 2, 2, 2, 2, 2, 2, 2, 2],\n",
       "       [3, 3, 3, 3, 3, 3, 3, 3, 3, 3, 3, 3, 3, 3, 3, 3, 3, 3, 3, 3],\n",
       "       [4, 4, 4, 4, 4, 4, 4, 4, 4, 4, 4, 4, 4, 4, 4, 4, 4, 4, 4, 4]])"
      ]
     },
     "execution_count": 82,
     "metadata": {},
     "output_type": "execute_result"
    }
   ],
   "source": [
    "np.squeeze(np.column_stack(L1))"
   ]
  },
  {
   "cell_type": "code",
   "execution_count": 91,
   "id": "a8cd44a9",
   "metadata": {},
   "outputs": [
    {
     "data": {
      "text/plain": [
       "(4, 20)"
      ]
     },
     "execution_count": 91,
     "metadata": {},
     "output_type": "execute_result"
    }
   ],
   "source": [
    "L2 = np.squeeze(np.column_stack(L1))\n",
    "L2.shape"
   ]
  },
  {
   "cell_type": "code",
   "execution_count": 92,
   "id": "5ab6b12c",
   "metadata": {},
   "outputs": [
    {
     "data": {
      "text/plain": [
       "array([[1, 2, 3, 4],\n",
       "       [1, 2, 3, 4],\n",
       "       [1, 2, 3, 4],\n",
       "       [1, 2, 3, 4],\n",
       "       [1, 2, 3, 4],\n",
       "       [1, 2, 3, 4],\n",
       "       [1, 2, 3, 4],\n",
       "       [1, 2, 3, 4],\n",
       "       [1, 2, 3, 4],\n",
       "       [1, 2, 3, 4],\n",
       "       [1, 2, 3, 4],\n",
       "       [1, 2, 3, 4],\n",
       "       [1, 2, 3, 4],\n",
       "       [1, 2, 3, 4],\n",
       "       [1, 2, 3, 4],\n",
       "       [1, 2, 3, 4],\n",
       "       [1, 2, 3, 4],\n",
       "       [1, 2, 3, 4],\n",
       "       [1, 2, 3, 4],\n",
       "       [1, 2, 3, 4]])"
      ]
     },
     "execution_count": 92,
     "metadata": {},
     "output_type": "execute_result"
    }
   ],
   "source": [
    "L2.T"
   ]
  },
  {
   "cell_type": "code",
   "execution_count": 95,
   "id": "84d96c21",
   "metadata": {},
   "outputs": [
    {
     "data": {
      "text/plain": [
       "array([[[ 20,  40,  60,  80],\n",
       "        [ 40,  80, 120, 160],\n",
       "        [ 60, 120, 180, 240],\n",
       "        [ 80, 160, 240, 320]]])"
      ]
     },
     "execution_count": 95,
     "metadata": {},
     "output_type": "execute_result"
    }
   ],
   "source": [
    "np.dot(L1[0],L2.T)"
   ]
  },
  {
   "cell_type": "code",
   "execution_count": 96,
   "id": "d950ab23",
   "metadata": {},
   "outputs": [],
   "source": [
    "scores = np.dot(L1[0],L2.T)"
   ]
  },
  {
   "cell_type": "code",
   "execution_count": null,
   "id": "1af712b1",
   "metadata": {},
   "outputs": [],
   "source": []
  },
  {
   "cell_type": "code",
   "execution_count": null,
   "id": "9865e52f",
   "metadata": {},
   "outputs": [],
   "source": []
  },
  {
   "cell_type": "code",
   "execution_count": null,
   "id": "9c54fa94",
   "metadata": {},
   "outputs": [],
   "source": []
  },
  {
   "cell_type": "code",
   "execution_count": null,
   "id": "70157e0f",
   "metadata": {},
   "outputs": [],
   "source": []
  },
  {
   "cell_type": "code",
   "execution_count": 24,
   "id": "7cc9bed9",
   "metadata": {},
   "outputs": [],
   "source": [
    "lst = np.column_stack(embeddings_list)"
   ]
  },
  {
   "cell_type": "code",
   "execution_count": 27,
   "id": "18ceac2d",
   "metadata": {},
   "outputs": [
    {
     "data": {
      "text/plain": [
       "(1, 100, 768)"
      ]
     },
     "execution_count": 27,
     "metadata": {},
     "output_type": "execute_result"
    }
   ],
   "source": [
    "lst.shape"
   ]
  },
  {
   "cell_type": "code",
   "execution_count": 28,
   "id": "f7703195",
   "metadata": {},
   "outputs": [],
   "source": [
    "lst2 = np.squeeze(np.column_stack(embeddings_list))"
   ]
  },
  {
   "cell_type": "code",
   "execution_count": 29,
   "id": "6dc4f44a",
   "metadata": {},
   "outputs": [
    {
     "data": {
      "text/plain": [
       "(100, 768)"
      ]
     },
     "execution_count": 29,
     "metadata": {},
     "output_type": "execute_result"
    }
   ],
   "source": [
    "lst2.shape"
   ]
  },
  {
   "cell_type": "code",
   "execution_count": null,
   "id": "8109b6f1",
   "metadata": {},
   "outputs": [],
   "source": []
  },
  {
   "cell_type": "code",
   "execution_count": null,
   "id": "a4b756ff",
   "metadata": {},
   "outputs": [],
   "source": []
  },
  {
   "cell_type": "code",
   "execution_count": 95,
   "id": "76a1b745",
   "metadata": {},
   "outputs": [],
   "source": [
    "q_embeddings_list = np.squeeze(np.column_stack(embeddings_list))"
   ]
  },
  {
   "cell_type": "code",
   "execution_count": 96,
   "id": "3cd05e0e",
   "metadata": {},
   "outputs": [
    {
     "data": {
      "text/plain": [
       "numpy.ndarray"
      ]
     },
     "execution_count": 96,
     "metadata": {},
     "output_type": "execute_result"
    }
   ],
   "source": [
    "type(q_embeddings_list)"
   ]
  },
  {
   "cell_type": "code",
   "execution_count": 97,
   "id": "54099705",
   "metadata": {},
   "outputs": [
    {
     "data": {
      "text/plain": [
       "array([[ 1.3169483e-02,  2.7340414e-02,  3.1550184e-02, ...,\n",
       "         1.1246066e-02,  3.2783556e-03, -4.4349139e-03],\n",
       "       [-1.9455349e-02, -4.0820893e-02,  2.3072425e-02, ...,\n",
       "         1.8257158e-09, -3.6535934e-02, -1.0548860e-02],\n",
       "       [-4.0678620e-02, -2.3141373e-02,  4.6255188e-03, ...,\n",
       "        -4.3815430e-03, -2.7072171e-02, -1.1001379e-02],\n",
       "       ...,\n",
       "       [-3.0536965e-02, -2.4204301e-02, -2.8230718e-03, ...,\n",
       "         2.2510935e-02, -4.2244155e-02, -4.7448813e-03],\n",
       "       [-1.8881045e-02,  1.6586743e-02, -1.7042593e-03, ...,\n",
       "         1.2922417e-02, -3.6516368e-02, -3.0779257e-02],\n",
       "       [-1.1474572e-02, -4.7917962e-02,  5.6705484e-03, ...,\n",
       "         2.7421325e-02, -5.3231172e-02, -2.3600943e-02]], dtype=float32)"
      ]
     },
     "execution_count": 97,
     "metadata": {},
     "output_type": "execute_result"
    }
   ],
   "source": [
    "q_embeddings_list"
   ]
  },
  {
   "cell_type": "code",
   "execution_count": 98,
   "id": "56139471",
   "metadata": {},
   "outputs": [
    {
     "data": {
      "text/plain": [
       "array([[ 1.3169483e-02, -1.9455349e-02, -4.0678620e-02, ...,\n",
       "        -3.0536965e-02, -1.8881045e-02, -1.1474572e-02],\n",
       "       [ 2.7340414e-02, -4.0820893e-02, -2.3141373e-02, ...,\n",
       "        -2.4204301e-02,  1.6586743e-02, -4.7917962e-02],\n",
       "       [ 3.1550184e-02,  2.3072425e-02,  4.6255188e-03, ...,\n",
       "        -2.8230718e-03, -1.7042593e-03,  5.6705484e-03],\n",
       "       ...,\n",
       "       [ 1.1246066e-02,  1.8257158e-09, -4.3815430e-03, ...,\n",
       "         2.2510935e-02,  1.2922417e-02,  2.7421325e-02],\n",
       "       [ 3.2783556e-03, -3.6535934e-02, -2.7072171e-02, ...,\n",
       "        -4.2244155e-02, -3.6516368e-02, -5.3231172e-02],\n",
       "       [-4.4349139e-03, -1.0548860e-02, -1.1001379e-02, ...,\n",
       "        -4.7448813e-03, -3.0779257e-02, -2.3600943e-02]], dtype=float32)"
      ]
     },
     "execution_count": 98,
     "metadata": {},
     "output_type": "execute_result"
    }
   ],
   "source": [
    "q_embeddings_list.T"
   ]
  },
  {
   "cell_type": "code",
   "execution_count": 99,
   "id": "7778ea87",
   "metadata": {},
   "outputs": [
    {
     "data": {
      "text/plain": [
       "100"
      ]
     },
     "execution_count": 99,
     "metadata": {},
     "output_type": "execute_result"
    }
   ],
   "source": [
    "len(q_embeddings_list)"
   ]
  },
  {
   "cell_type": "code",
   "execution_count": 101,
   "id": "f4f3c479",
   "metadata": {},
   "outputs": [
    {
     "data": {
      "text/plain": [
       "array([ 1.31694833e-02,  2.73404140e-02,  3.15501839e-02, -1.05054099e-02,\n",
       "        3.08542792e-02,  2.79087778e-02, -3.88957299e-02,  4.59389947e-02,\n",
       "       -9.89061221e-03, -2.60292590e-02,  2.66218744e-02, -5.24537191e-02,\n",
       "        7.66599625e-02,  9.55881272e-03,  6.48852140e-02,  1.63385235e-02,\n",
       "        6.36337558e-03, -4.97882478e-02,  4.29074094e-02,  2.86968462e-02,\n",
       "        5.14005758e-02,  2.03971937e-02, -4.20202352e-02,  3.47979628e-02,\n",
       "       -6.62175044e-02,  4.84398790e-02,  2.32892614e-02, -3.69203314e-02,\n",
       "       -4.95770946e-02,  2.59939320e-02,  7.22241029e-02, -1.01076625e-02,\n",
       "       -2.42736507e-02,  5.93533516e-02, -4.97294404e-02,  2.00368408e-02,\n",
       "       -4.57295999e-02, -8.95374641e-03,  5.85630676e-03,  4.31426466e-02,\n",
       "        1.21344598e-02, -7.45959505e-02, -5.19129597e-02,  3.55175957e-02,\n",
       "       -6.92378134e-02, -1.64847784e-02,  1.38519090e-02,  6.45031556e-02,\n",
       "       -3.46397460e-02, -8.40046704e-02, -2.77309287e-02, -3.08566857e-02,\n",
       "       -3.21039557e-02, -2.22282615e-02, -3.15003134e-02,  3.03778215e-03,\n",
       "       -2.47554351e-02,  9.48906643e-04,  2.90689711e-02,  2.62872204e-02,\n",
       "       -2.85791513e-02,  4.12003957e-02, -2.24327333e-02,  1.08892629e-02,\n",
       "       -2.74562035e-02,  4.19826694e-02, -6.52741194e-02, -5.78559153e-02,\n",
       "        1.74152218e-02, -1.07136881e-02,  3.03595588e-02, -1.26150937e-03,\n",
       "       -2.69041285e-02, -5.20041324e-02, -4.27632593e-02, -5.91367446e-02,\n",
       "       -2.32540742e-02,  1.07555538e-02,  8.88714790e-02, -2.98960935e-02,\n",
       "        7.56287724e-02, -1.47180473e-02,  7.43732555e-04,  2.24459954e-02,\n",
       "       -8.14270601e-03, -4.81972322e-02, -3.41668986e-02,  2.76325159e-02,\n",
       "       -5.11426292e-02,  5.19160591e-02, -5.69406711e-03, -4.72349264e-02,\n",
       "       -1.46010611e-02,  6.15378842e-03, -8.68881717e-02,  2.44607106e-02,\n",
       "       -8.55115801e-03,  9.22867190e-03,  1.56609342e-03, -2.07948964e-02,\n",
       "       -7.88582861e-02, -2.79618595e-02, -2.01865025e-02,  9.44966637e-03,\n",
       "        6.61049858e-02, -3.27226110e-02, -5.43630943e-02,  1.34763811e-02,\n",
       "       -2.00264957e-02,  1.95801957e-03, -3.08841914e-02, -4.96079773e-02,\n",
       "       -2.94047613e-02, -2.54512150e-02,  1.96262449e-02, -4.86383140e-02,\n",
       "       -3.07560228e-02, -1.56405531e-02,  9.68588423e-03, -1.15470840e-02,\n",
       "       -3.66092962e-03,  8.13202560e-03, -9.98328850e-02, -4.16969247e-02,\n",
       "        3.25235687e-02, -1.83909331e-02, -2.70847492e-02,  1.85324112e-03,\n",
       "        4.00713086e-03,  1.18847311e-01, -2.28094012e-02,  3.91916707e-02,\n",
       "        3.86679843e-02, -5.34191802e-02,  1.23435901e-02, -2.44657416e-02,\n",
       "       -5.49267791e-03,  4.27424647e-02, -1.62683968e-02,  4.62294854e-02,\n",
       "        6.53313473e-02,  3.41877192e-02,  4.04534228e-02, -2.92499289e-02,\n",
       "       -2.80708820e-02,  3.01831681e-02,  3.85841690e-02, -2.40586475e-02,\n",
       "        2.37203836e-02,  1.02199698e-02, -5.41094085e-03,  4.46815118e-02,\n",
       "        3.13790292e-02,  6.82045072e-02, -3.43439914e-03,  2.46336771e-04,\n",
       "       -1.45884724e-02, -3.67053365e-03, -3.16787176e-02,  9.28157102e-03,\n",
       "       -2.09388286e-02,  1.99151109e-04,  6.57847822e-02,  2.26175841e-02,\n",
       "       -8.72661360e-03,  8.89016502e-03,  2.78988555e-02, -3.44064012e-02,\n",
       "       -5.74780852e-02, -4.88631763e-02, -3.21310572e-02, -9.88237932e-03,\n",
       "        6.33346513e-02, -1.64280757e-02,  2.02000793e-02,  1.35007477e-03,\n",
       "        1.55379670e-02, -9.24246199e-03, -2.34007719e-03, -4.32107225e-02,\n",
       "        6.33033505e-03,  6.66783657e-03,  9.51396767e-03,  1.22107882e-02,\n",
       "        1.26293842e-02,  4.25559748e-03, -1.18683698e-02,  3.54124606e-02,\n",
       "        3.48633225e-03, -4.56434563e-02,  3.73724960e-02,  7.53977615e-03,\n",
       "        2.50288639e-02,  2.69014686e-02, -1.83974952e-02,  2.30099191e-03,\n",
       "        1.05304047e-02, -6.89328983e-02, -3.92116420e-02, -1.15524847e-02,\n",
       "       -3.68269421e-02,  7.77276605e-03, -2.13606562e-02,  1.52859818e-02,\n",
       "       -2.24118191e-03,  3.40443216e-02,  6.92536542e-03, -2.48396373e-03,\n",
       "       -3.64723243e-02, -1.65305678e-02,  2.19538454e-02, -2.86688041e-02,\n",
       "        6.23955391e-02, -1.63678657e-02,  4.65010665e-02, -1.78090786e-03,\n",
       "        5.04352264e-02, -1.33880798e-03,  3.23184133e-02, -1.40851988e-02,\n",
       "       -1.80121064e-02,  1.41602874e-01,  6.85138954e-03,  3.39663401e-02,\n",
       "       -4.78592291e-02, -5.25804199e-02, -1.34153366e-02, -4.42698190e-04,\n",
       "        2.14695949e-02, -2.79949303e-03,  5.66440262e-02,  6.70270249e-02,\n",
       "        5.16087860e-02, -1.05033470e-02,  9.86185577e-03, -2.63088550e-02,\n",
       "       -6.61057904e-02, -1.26382597e-02, -4.95206378e-02, -3.32259312e-02,\n",
       "       -1.12421820e-02,  1.53387347e-02,  6.62845792e-03,  2.75726095e-02,\n",
       "        5.71290068e-02, -4.92770746e-02, -6.34549093e-03,  1.99202877e-02,\n",
       "       -1.30292319e-03,  6.23149425e-02, -3.55369300e-02,  7.46387755e-03,\n",
       "       -9.53689741e-04,  9.11484100e-03,  1.65799148e-02, -2.27782540e-02,\n",
       "        3.14225443e-02,  3.13460305e-02, -1.10757295e-02, -4.01939787e-02,\n",
       "       -6.50015324e-02,  4.17896807e-02, -2.21761502e-02,  4.64383848e-02,\n",
       "        3.78690735e-02, -7.29934021e-04,  2.97352616e-02,  6.50249720e-02,\n",
       "        1.99275147e-02, -1.90567560e-02,  2.32373197e-02, -1.41261704e-02,\n",
       "       -6.17044568e-02, -8.52625370e-02,  5.44428686e-03,  1.76647156e-02,\n",
       "        7.90021103e-03,  4.30693999e-02,  3.60415131e-02, -3.30406055e-02,\n",
       "       -1.25713525e-02,  2.14653332e-02,  4.77931433e-04, -1.06639080e-02,\n",
       "       -4.00550142e-02,  9.34375636e-03, -9.31254961e-03,  2.15538125e-02,\n",
       "       -3.45759951e-02, -1.04420327e-01, -2.98928842e-02, -1.29291611e-02,\n",
       "        1.20410668e-02,  5.52068790e-03,  2.67162956e-02,  4.68955971e-02,\n",
       "        2.33787876e-02,  3.57676297e-03, -1.87908579e-03, -4.53735702e-02,\n",
       "        4.18043882e-02, -2.12602527e-03,  5.77013940e-02,  5.95098995e-02,\n",
       "        6.48342893e-02,  2.31768116e-02,  9.27315466e-03,  7.25383917e-03,\n",
       "       -1.91420428e-02,  3.35675888e-02, -3.60053182e-02,  1.01300646e-02,\n",
       "       -2.03120895e-02, -1.05745204e-01,  1.08605213e-02, -1.80154666e-02,\n",
       "        1.77716427e-02, -5.13003320e-02, -3.97651270e-03,  5.14890514e-02,\n",
       "        3.30389030e-02,  1.89591218e-02,  6.93496037e-03, -9.07283369e-03,\n",
       "        1.37318671e-02, -1.07097523e-02,  4.04968485e-02, -4.00238484e-02,\n",
       "       -4.05407175e-02, -5.09325357e-04,  1.31684253e-02, -2.95917857e-02,\n",
       "       -1.84165575e-02, -4.22093505e-03, -1.76038574e-02, -3.85484137e-02,\n",
       "       -4.47086943e-03, -7.05071798e-05,  1.18278870e-02,  1.00942953e-02,\n",
       "        4.19543274e-02, -2.56473422e-02, -2.32133735e-02,  6.90389574e-02,\n",
       "        2.45159846e-02, -2.75665820e-02,  1.12925526e-02, -4.24652994e-02,\n",
       "        1.39871612e-02, -1.36659443e-02, -3.17060612e-02, -3.05381371e-03,\n",
       "       -1.59629024e-04, -3.02095711e-02,  3.04414867e-03,  2.43507251e-02,\n",
       "       -3.88395898e-02,  3.39160152e-02, -2.58628987e-02, -2.56528445e-02,\n",
       "        2.42971256e-02, -1.60206426e-02,  2.13361112e-03, -5.36476970e-02,\n",
       "       -4.26814109e-02,  7.45264441e-03,  4.52165492e-02,  3.96550633e-02,\n",
       "        4.97261472e-02, -2.85613779e-02, -1.42119441e-03,  6.34696428e-03,\n",
       "        4.26673815e-02,  4.70902845e-02, -1.05419289e-02,  4.01761793e-02,\n",
       "        1.98031822e-03,  3.74271534e-02, -9.43446904e-03,  6.63903207e-02,\n",
       "        6.52938150e-03, -1.61254294e-02, -1.56823806e-02,  4.48455755e-03,\n",
       "        1.71865579e-02, -2.18596645e-02, -1.77414641e-02,  2.59307232e-02,\n",
       "       -2.41706148e-02, -9.97738615e-02, -6.65012328e-03, -2.28124508e-03,\n",
       "       -4.42338549e-02,  1.14135519e-02,  4.98563237e-03, -5.88592999e-02,\n",
       "        5.40440157e-02, -3.90557311e-02, -5.76805398e-02,  5.34678064e-02,\n",
       "       -1.07501708e-02,  2.46248338e-02, -8.03549141e-02,  4.03454229e-02,\n",
       "       -3.57963778e-02,  3.86256687e-02,  2.22059377e-02,  6.53708540e-03,\n",
       "        1.81415845e-02,  4.27532494e-02, -3.07105435e-03, -2.29053106e-02,\n",
       "       -1.90104228e-02, -2.50980705e-02, -6.50478294e-03,  8.83863866e-03,\n",
       "       -5.29345265e-03, -4.69445549e-02, -4.56922799e-02,  7.90345147e-02,\n",
       "        3.85903157e-02, -2.15636138e-02,  6.28088415e-02,  1.85635369e-02,\n",
       "        2.92083714e-02,  8.41143169e-03,  4.54891566e-03, -2.44380813e-02,\n",
       "        1.43296411e-03, -2.31457129e-02,  5.77665865e-02, -3.27379107e-02,\n",
       "       -4.70733978e-02, -4.10767458e-02, -1.96369700e-02,  1.77930538e-02,\n",
       "        2.23652949e-03,  7.52751715e-03,  1.72324628e-02,  3.38268951e-02,\n",
       "       -5.25935888e-02, -5.58364093e-02,  2.61203181e-02,  4.78301309e-02,\n",
       "        3.84488963e-02,  2.44625192e-02,  1.70283467e-02, -2.45132782e-02,\n",
       "       -1.28511479e-02,  1.12731047e-02, -4.16995548e-02,  2.78728660e-02,\n",
       "        1.90747939e-02,  2.07477156e-02,  8.69170669e-03,  7.73917837e-03,\n",
       "        4.06731963e-02,  7.43240193e-02,  1.25078326e-02,  2.31434982e-02,\n",
       "       -4.13895249e-02,  1.76292397e-02, -5.81314005e-02,  1.26257474e-02,\n",
       "        2.17372663e-02,  1.65017266e-02,  5.50848804e-02,  1.48993015e-04,\n",
       "        1.73042677e-02,  3.89965670e-03, -3.17120478e-02,  1.57314576e-02,\n",
       "       -8.49243253e-03,  8.00849125e-02, -5.30025996e-02,  1.76300239e-02,\n",
       "       -6.00730022e-03, -1.17776999e-02,  5.07609248e-02, -4.97595314e-03,\n",
       "        5.33689521e-02,  7.45130256e-02, -2.52745114e-02,  1.21020218e-02,\n",
       "        1.95659115e-03,  2.63950545e-02,  1.71728954e-02, -2.44854894e-02,\n",
       "       -8.83691292e-03, -7.21220672e-02, -2.62236446e-02,  5.27476519e-03,\n",
       "       -7.42420629e-02,  1.14120431e-02, -3.07114143e-02, -6.91108629e-02,\n",
       "        1.46893440e-02, -4.17834930e-02,  4.08156142e-02,  1.86482091e-02,\n",
       "       -4.57950942e-02, -2.36662254e-02, -3.49246152e-02,  2.24203547e-03,\n",
       "       -1.94916837e-02, -1.91827975e-02,  7.60880783e-02, -5.49149178e-02,\n",
       "       -4.18979414e-02, -2.15492658e-02,  4.40973463e-03,  4.57201861e-02,\n",
       "        3.47737558e-02,  2.10907795e-02, -7.62953889e-03, -8.87122527e-02,\n",
       "       -3.81670371e-02, -2.28695814e-02,  3.67051996e-02, -5.70763461e-02,\n",
       "        3.97073999e-02,  7.48362066e-03,  3.52600664e-02,  9.35494900e-03,\n",
       "        2.72739716e-02,  1.95867359e-03, -2.82266233e-02,  2.50912141e-02,\n",
       "        1.22660687e-02,  2.83294134e-02, -1.88850462e-02,  2.51847953e-02,\n",
       "        1.08811976e-02,  1.16491299e-02, -1.94284599e-02,  5.23900874e-02,\n",
       "        2.66717430e-02, -6.14729011e-03, -3.20293307e-02,  3.34448479e-02,\n",
       "       -5.62692471e-02,  4.59667705e-02,  8.35059434e-02, -4.29737531e-02,\n",
       "       -1.88144520e-02, -3.74731794e-02, -6.32262155e-02,  2.50618663e-02,\n",
       "        9.84455794e-02,  4.91344742e-02, -4.92284633e-03,  2.17158459e-02,\n",
       "       -5.30467294e-02,  4.83351685e-02,  5.26624396e-02, -1.02816693e-01,\n",
       "       -1.51407998e-02,  4.53116409e-02, -2.70069614e-02, -3.72631662e-02,\n",
       "        5.51499203e-02,  1.65988356e-02, -2.47365050e-02, -5.66731486e-03,\n",
       "       -6.09037876e-02, -6.30218983e-02,  1.89205743e-02,  4.76835668e-02,\n",
       "       -9.90513247e-03, -1.71998851e-02, -5.80176450e-02, -3.85875665e-02,\n",
       "       -3.22176591e-02, -3.43379565e-02, -6.02278486e-02, -5.24943620e-02,\n",
       "        1.59580167e-02, -1.29121880e-03,  3.00690103e-02,  2.57303398e-02,\n",
       "       -2.10592318e-02, -1.66302193e-02, -3.98105383e-02, -1.97624061e-02,\n",
       "        1.84102040e-02, -4.68442142e-02,  1.38071189e-02,  3.62198576e-02,\n",
       "       -5.99930175e-02,  2.65003722e-02, -2.78872158e-02,  1.32973427e-02,\n",
       "       -3.37962583e-02, -2.36403141e-02,  3.46965566e-02, -5.14197536e-02,\n",
       "        2.71760710e-02, -3.44759226e-02,  2.01288471e-03,  2.05274113e-02,\n",
       "        2.47902889e-02,  2.55718995e-02,  2.92837992e-02,  5.19443303e-02,\n",
       "       -8.07783473e-03,  2.72597698e-03, -7.52650015e-03,  2.80552916e-02,\n",
       "       -2.63126995e-02, -1.49177592e-02,  2.42422950e-02, -5.33997193e-02,\n",
       "        7.87669234e-03, -7.90755451e-03,  1.77725088e-02, -3.38007621e-02,\n",
       "       -6.87447796e-03,  4.83669266e-02,  4.44775410e-02, -5.66834919e-02,\n",
       "       -2.45727375e-02,  3.28026637e-02, -1.25100659e-02, -1.44938771e-02,\n",
       "        8.24266672e-03, -8.15609470e-02, -6.25864370e-04,  5.41582629e-02,\n",
       "       -5.60987368e-02, -3.18826139e-02, -1.22950003e-02, -1.72536373e-02,\n",
       "        4.81015109e-02, -1.98178291e-02, -1.76216960e-02,  2.84011997e-02,\n",
       "        3.67741920e-02,  6.91066459e-02,  2.39886567e-02,  6.18016906e-02,\n",
       "        8.72789975e-03,  1.54844048e-02, -9.60583705e-03, -3.02779023e-02,\n",
       "        1.63680613e-02, -1.09581864e-02,  2.23845779e-03, -1.24758866e-03,\n",
       "        5.36619537e-02, -4.09102663e-02,  8.79481342e-03, -3.58797796e-02,\n",
       "        4.70288917e-02,  2.48181261e-02,  3.30068134e-02,  3.85215622e-03,\n",
       "       -5.11051416e-02, -4.26206850e-02, -3.37268375e-02,  1.24189006e-02,\n",
       "       -1.59011204e-02, -7.19536608e-03, -2.46945629e-03,  1.06143737e-02,\n",
       "        5.16114756e-02, -2.64325850e-02, -2.06101499e-02,  5.89654557e-02,\n",
       "       -5.33620380e-02, -2.95337886e-02,  7.08381310e-02, -3.86337265e-02,\n",
       "       -1.42891787e-03,  2.73653716e-02, -3.52770020e-03,  2.13993788e-02,\n",
       "       -1.07444249e-01, -4.34623919e-02,  8.45133699e-03,  2.30051074e-02,\n",
       "       -4.54257354e-02,  4.80785593e-02,  3.70527478e-03,  1.51779428e-02,\n",
       "       -1.95285846e-02, -2.07785328e-04,  2.09552553e-02,  1.48439854e-02,\n",
       "        7.93647720e-04, -2.15672106e-02,  2.34623477e-02, -1.61132403e-02,\n",
       "        3.93364280e-02, -4.53216210e-02, -1.92786439e-03, -5.30817062e-02,\n",
       "       -5.72453551e-02,  4.16441225e-02,  3.04623283e-02, -4.46945354e-02,\n",
       "       -4.72703576e-02,  3.19672413e-02,  2.31795292e-03, -2.15802900e-03,\n",
       "        8.63273349e-03, -1.16817988e-02,  2.80051064e-02,  2.24687960e-02,\n",
       "       -6.73204213e-02,  8.90936479e-02,  9.54778492e-03,  1.71639230e-02,\n",
       "        1.23496936e-03,  2.72145253e-02,  8.84637609e-03, -2.43983325e-02,\n",
       "        9.89324227e-03,  9.62808263e-03, -9.28693358e-03, -3.26749794e-02,\n",
       "        6.98651187e-03,  1.71086180e-03,  3.36240195e-02,  1.73668135e-02,\n",
       "       -1.58591233e-02,  2.86164582e-02, -1.35824201e-03,  1.94065720e-02,\n",
       "        1.27814393e-02,  1.95667259e-02,  1.68859642e-02, -3.32178874e-03,\n",
       "        3.28668603e-03,  3.37942503e-02,  2.28662626e-03,  1.08972620e-02,\n",
       "       -2.44375467e-02, -2.85445955e-02, -6.26221821e-02,  2.69201342e-02,\n",
       "        1.03305560e-02, -9.86945480e-02, -1.82866156e-02, -2.56999098e-02,\n",
       "       -4.54129130e-02,  4.57380190e-02, -4.91462089e-02, -1.72298495e-02,\n",
       "        9.44558159e-03, -3.09429877e-02,  3.13711092e-02,  4.01041172e-02,\n",
       "        8.19022879e-02, -3.00178397e-02, -5.85087240e-02, -1.86928734e-02,\n",
       "       -6.33374378e-02,  1.48676094e-02, -2.90557668e-02,  1.13218352e-02,\n",
       "       -3.21610570e-02, -5.92086092e-02,  2.11766484e-04, -1.19401691e-02,\n",
       "       -2.21228637e-02,  1.12460656e-02,  3.27835558e-03, -4.43491386e-03],\n",
       "      dtype=float32)"
      ]
     },
     "execution_count": 101,
     "metadata": {},
     "output_type": "execute_result"
    }
   ],
   "source": [
    "q_embeddings_list[0]"
   ]
  },
  {
   "cell_type": "code",
   "execution_count": 102,
   "id": "a7f80840",
   "metadata": {},
   "outputs": [],
   "source": [
    "scores = np.dot(q_embeddings_list[0], q_embeddings_list.T)"
   ]
  },
  {
   "cell_type": "code",
   "execution_count": 103,
   "id": "f823f106",
   "metadata": {},
   "outputs": [
    {
     "data": {
      "text/plain": [
       "array([0.9999999 , 0.7415476 , 0.76925373, 0.7932436 , 0.7717062 ,\n",
       "       0.7644955 , 0.7303977 , 0.73797417, 0.73679227, 0.73679227,\n",
       "       0.80906034, 0.8003937 , 0.7127653 , 0.75992453, 0.75936395,\n",
       "       0.681207  , 0.7526722 , 0.7587849 , 0.7518131 , 0.7584425 ,\n",
       "       0.7605802 , 0.7848927 , 0.72944295, 0.68232334, 0.80818045,\n",
       "       0.76117384, 0.7077024 , 0.74766093, 0.6962    , 0.7611209 ,\n",
       "       0.7607341 , 0.7333749 , 0.7631705 , 0.781137  , 0.67962325,\n",
       "       0.78591114, 0.76460326, 0.7966902 , 0.70715797, 0.79452276,\n",
       "       0.72278345, 0.77229965, 0.85258263, 0.7569643 , 0.7035832 ,\n",
       "       0.737812  , 0.7672106 , 0.7468906 , 0.7914982 , 0.7643939 ,\n",
       "       0.6933259 , 0.74284065, 0.76135015, 0.78626955, 0.76135004,\n",
       "       0.7272816 , 0.74509054, 0.7787844 , 0.7570572 , 0.7851807 ,\n",
       "       0.7151699 , 0.7602813 , 0.7858405 , 0.72572577, 0.7135728 ,\n",
       "       0.7225715 , 0.78206325, 0.8212311 , 0.7514897 , 0.76920724,\n",
       "       0.7485944 , 0.74817514, 0.74371356, 0.6998775 , 0.8337611 ,\n",
       "       0.7451811 , 0.70561695, 0.83042127, 0.7335062 , 0.7552425 ,\n",
       "       0.7481545 , 0.72035325, 0.7300462 , 0.7988453 , 0.7551273 ,\n",
       "       0.7714294 , 0.7716636 , 0.77118915, 0.73260933, 0.7011295 ,\n",
       "       0.7983458 , 0.7687658 , 0.75322014, 0.6947278 , 0.75585496,\n",
       "       0.70535445, 0.69540054, 0.78289634, 0.714713  , 0.7188399 ],\n",
       "      dtype=float32)"
      ]
     },
     "execution_count": 103,
     "metadata": {},
     "output_type": "execute_result"
    }
   ],
   "source": [
    "scores"
   ]
  },
  {
   "cell_type": "markdown",
   "id": "2c3c5334",
   "metadata": {},
   "source": [
    "Test the encoding function\n",
    "\n",
    "    Encode a subset of data and see if the embeddings and distance metrics make sense.\n",
    "\n",
    "    According to the sentence-T5 research paper (https://arxiv.org/pdf/2108.08877.pdf), the similarity of embeddings is calculated using the dot-product."
   ]
  },
  {
   "cell_type": "code",
   "execution_count": 77,
   "id": "0708eec1",
   "metadata": {},
   "outputs": [
    {
     "data": {
      "application/vnd.jupyter.widget-view+json": {
       "model_id": "cfb243f42d1943f4913e1a3adabf6404",
       "version_major": 2,
       "version_minor": 0
      },
      "text/plain": [
       "  0%|          | 0/1 [00:00<?, ?it/s]"
      ]
     },
     "metadata": {},
     "output_type": "display_data"
    }
   ],
   "source": [
    "# Encode 500 questions\n",
    "questions = df.title.tolist()[:100]\n",
    "question_embeddings = encode_text_to_embedding(\n",
    "    text_encoder=encoder,\n",
    "    sentences=questions\n",
    ")"
   ]
  },
  {
   "cell_type": "code",
   "execution_count": 78,
   "id": "39a923c6",
   "metadata": {},
   "outputs": [
    {
     "data": {
      "text/plain": [
       "768"
      ]
     },
     "execution_count": 78,
     "metadata": {},
     "output_type": "execute_result"
    }
   ],
   "source": [
    "DIMENSIONS = len(question_embeddings[0])\n",
    "\n",
    "DIMENSIONS"
   ]
  },
  {
   "cell_type": "code",
   "execution_count": 13,
   "id": "7552905c",
   "metadata": {},
   "outputs": [
    {
     "name": "stdout",
     "output_type": "stream",
     "text": [
      "Query question = Run a process and kill it if it doesn't end within one hour\n",
      "\t0: Run a process and kill it if it doesn't end within one hour: 0.9999998807907104\n",
      "\t1: Changing Process Name using Shell for nagios monitoring with check_procs: 0.8037509322166443\n",
      "\t2: PyQt application closes successfully, but process is not killed?: 0.7928211092948914\n",
      "\t3: Easy way to delete a shelve .dat file left behind by my Python program?: 0.7924448251724243\n",
      "\t4: Execute a Jupyter notebook with papermill and output a unique filename: 0.7731866836547852\n",
      "\t5: Tell Python to wait/pause a 'for' loop: 0.765079140663147\n",
      "\t6: Error in ipython console \"Exception [WinError 995] The I/O operation has been aborted\": 0.7648062109947205\n",
      "\t7: Optimizing WER (Word Error Rate) code?: 0.7567319869995117\n",
      "\t8: How do I detect the Python version at runtime?: 0.749366283416748\n",
      "\t9: What is the pythonic/idiomatic way of filtering the output of a generator expression?: 0.7476474046707153\n",
      "\t10: Windows - running .py directly vs running python blah.py behaves differently: 0.7476431727409363\n",
      "\t11: Multiple streamhandlers: 0.7464147806167603\n",
      "\t12: Batch Renaming of Files in a Directory: 0.7457020282745361\n",
      "\t13: Learn Python the hard way, EX35. Why does a number greater than 10 return true?: 0.7373151779174805\n",
      "\t14: Is it possible to use the blackd formatter for python?: 0.7341365814208984\n",
      "\t15: csv.reader only reading in one line: 0.7335262298583984\n",
      "\t16: How to configure vim to not put comments at the beginning of lines while editing python files: 0.7309290766716003\n",
      "\t17: Matplotlib - How to set the distance (in mm/cm/points...) between the xticks: 0.7309056520462036\n",
      "\t18: Matplotlib - How to set the distance (in mm/cm/points...) between the xticks: 0.7309056520462036\n",
      "\t19: How can I make setuptools install a package that's not on PyPI?: 0.7288122177124023\n"
     ]
    }
   ],
   "source": [
    "question_index = 0\n",
    "\n",
    "print(f\"Query question = {questions[question_index]}\")\n",
    "scores = np.dot(question_embeddings[question_index], question_embeddings.T)\n",
    "\n",
    "# Print top 20 matches\n",
    "for index, (question, score) in enumerate(\n",
    "    sorted(zip(questions, scores), key=lambda x: x[1], reverse=True)[:20]\n",
    "):\n",
    "    print(f\"\\t{index}: {question}: {score}\")\n",
    "     "
   ]
  },
  {
   "cell_type": "markdown",
   "id": "80eb2bb7",
   "metadata": {},
   "source": [
    "Save the train split in JSONL format."
   ]
  },
  {
   "cell_type": "code",
   "execution_count": 14,
   "id": "90689830",
   "metadata": {},
   "outputs": [
    {
     "data": {
      "text/plain": [
       "'C:\\\\Users\\\\visha\\\\AppData\\\\Local\\\\Temp\\\\tmpmhnu151v.json'"
      ]
     },
     "execution_count": 14,
     "metadata": {},
     "output_type": "execute_result"
    }
   ],
   "source": [
    "import tempfile\n",
    "\n",
    "# Create temporary file to write embeddings to\n",
    "embeddings_file = tempfile.NamedTemporaryFile(suffix=\".json\", delete=False)\n",
    "\n",
    "embeddings_file.name"
   ]
  },
  {
   "cell_type": "code",
   "execution_count": 17,
   "id": "5efdfe0c",
   "metadata": {},
   "outputs": [
    {
     "data": {
      "text/plain": [
       "'C:\\\\Users\\\\visha\\\\AppData\\\\Local\\\\Temp\\\\tmpmhnu151v.json'"
      ]
     },
     "execution_count": 17,
     "metadata": {},
     "output_type": "execute_result"
    }
   ],
   "source": [
    "embeddings_file.name"
   ]
  },
  {
   "cell_type": "code",
   "execution_count": 20,
   "id": "9501f7e9",
   "metadata": {},
   "outputs": [
    {
     "data": {
      "application/vnd.jupyter.widget-view+json": {
       "model_id": "1c73f402a7ce423995594d62cd2bc37d",
       "version_major": 2,
       "version_minor": 0
      },
      "text/plain": [
       "  0%|          | 0/1 [00:00<?, ?it/s]"
      ]
     },
     "metadata": {},
     "output_type": "display_data"
    },
    {
     "data": {
      "application/vnd.jupyter.widget-view+json": {
       "model_id": "00a1bb7543ee412e89344a9f45d2ce74",
       "version_major": 2,
       "version_minor": 0
      },
      "text/plain": [
       "  0%|          | 0/1 [00:00<?, ?it/s]"
      ]
     },
     "metadata": {},
     "output_type": "display_data"
    }
   ],
   "source": [
    "import json\n",
    "\n",
    "BATCH_SIZE = 100\n",
    "\n",
    "#with open(embeddings_file.name, \"a\") as f:\n",
    "embeddings_file_name='embeddings_file.json'\n",
    "with open(embeddings_file_name, \"w\") as f:\n",
    "    for i in tqdm(range(0, len(questions), BATCH_SIZE)):\n",
    "        id_chunk = ids[i : i + BATCH_SIZE]\n",
    "\n",
    "        question_chunk_embeddings = encode_text_to_embedding(text_encoder=encoder, \n",
    "                                                             sentences=questions[i : i + BATCH_SIZE]\n",
    "                                                            )\n",
    "\n",
    "        # Append to file\n",
    "        embeddings_formatted = [\n",
    "            json.dumps(\n",
    "                {\n",
    "                    \"id\": str(id),\n",
    "                    \"embedding\": [str(value) for value in embedding],\n",
    "                }\n",
    "            )\n",
    "            + \"\\n\"\n",
    "            for id, embedding in zip(id_chunk, question_chunk_embeddings)\n",
    "        ]\n",
    "        f.writelines(embeddings_formatted)"
   ]
  },
  {
   "cell_type": "code",
   "execution_count": 46,
   "id": "d9527c16",
   "metadata": {},
   "outputs": [
    {
     "name": "stderr",
     "output_type": "stream",
     "text": [
      "Copying file://embeddings_file.json [Content-Type=application/json]...\n",
      "/ [0 files][    0.0 B/  1.1 MiB]                                                \n",
      "ServiceException: 401 Anonymous caller does not have storage.objects.create access to the Google Cloud Storage object. Permission 'storage.objects.create' denied on resource (or it may not exist).\n"
     ]
    }
   ],
   "source": [
    "UNIQUE_FOLDER_NAME = \"embeddings_folder_unique\"\n",
    "remote_folder = f\"{BUCKET_URI}/{UNIQUE_FOLDER_NAME}/\"\n",
    "! gsutil cp {embeddings_file_name} {remote_folder}"
   ]
  },
  {
   "cell_type": "code",
   "execution_count": 47,
   "id": "f8d174f8",
   "metadata": {},
   "outputs": [
    {
     "name": "stdout",
     "output_type": "stream",
     "text": [
      "[accessibility]\n",
      "screen_reader = False\n",
      "[compute]\n",
      "region = us-central1\n",
      "zone = us-central1-c\n",
      "[core]\n",
      "account = 'vishalgcp0523@gmail.com'\n",
      "disable_usage_reporting = false\n",
      "project = gcp-project-0523\n"
     ]
    },
    {
     "name": "stderr",
     "output_type": "stream",
     "text": [
      "\n",
      "Your active configuration is: [default]\n"
     ]
    }
   ],
   "source": [
    "!gcloud config list"
   ]
  },
  {
   "cell_type": "code",
   "execution_count": 35,
   "id": "c6a32cf9",
   "metadata": {
    "collapsed": true
   },
   "outputs": [
    {
     "name": "stderr",
     "output_type": "stream",
     "text": [
      "Updated property [core/account].\n",
      "WARNING: You do not appear to have access to project [PROJECT_ID] or it does not exist.\n",
      "ERROR: (gcloud.config.set) The project property must be set to a valid project ID, not the project name [PROJECT_ID]\n",
      "To set your project, run:\n",
      "\n",
      "  $ gcloud config set project PROJECT_ID\n",
      "\n",
      "or to unset it, run:\n",
      "\n",
      "  $ gcloud config unset project\n"
     ]
    }
   ],
   "source": [
    "!gcloud config set account 'vishalgcp0523@gmail.com'"
   ]
  },
  {
   "cell_type": "code",
   "execution_count": 43,
   "id": "61391143",
   "metadata": {
    "collapsed": true
   },
   "outputs": [
    {
     "name": "stdout",
     "output_type": "stream",
     "text": [
      "gcp-project-0523\n"
     ]
    },
    {
     "name": "stderr",
     "output_type": "stream",
     "text": [
      "WARNING: You do not appear to have access to project [PROJECT_ID] or it does not exist.\n",
      "ERROR: (gcloud.config.set) The project property must be set to a valid project ID, not the project name [PROJECT_ID]\n",
      "To set your project, run:\n",
      "\n",
      "  $ gcloud config set project PROJECT_ID\n",
      "\n",
      "or to unset it, run:\n",
      "\n",
      "  $ gcloud config unset project\n"
     ]
    }
   ],
   "source": [
    "print(PROJECT_ID)\n",
    "!gcloud config set project PROJECT_ID"
   ]
  },
  {
   "cell_type": "code",
   "execution_count": null,
   "id": "d6db4c14",
   "metadata": {},
   "outputs": [],
   "source": [
    "'''\n",
    "#Ran the project update command on command prompt\n",
    "(base) PS C:\\Users\\visha>\n",
    "(base) PS C:\\Users\\visha>\n",
    "(base) PS C:\\Users\\visha>\n",
    "(base) PS C:\\Users\\visha> gcloud config set project 'gcp-project-0523'\n",
    "WARNING: You do not appear to have access to project [gcp-project-0523] or it does not exist.\n",
    "Are you sure you wish to set property [core/project] to gcp-project-0523?\n",
    "\n",
    "Do you want to continue (Y/n)?  Y\n",
    "\n",
    "Updated property [core/project].\n",
    "(base) PS C:\\Users\\visha>\n",
    "(base) PS C:\\Users\\visha>\n",
    "(base) PS C:\\Users\\visha>\n",
    "(base) PS C:\\Users\\visha> gcloud config list\n",
    "[accessibility]\n",
    "screen_reader = False\n",
    "[compute]\n",
    "region = us-central1\n",
    "zone = us-central1-c\n",
    "[core]\n",
    "account = 'vishalgcp0523@gmail.com'\n",
    "disable_usage_reporting = false\n",
    "project = gcp-project-0523\n",
    "\n",
    "Your active configuration is: [default]\n",
    "(base) PS C:\\Users\\visha>\n",
    "'''"
   ]
  },
  {
   "cell_type": "markdown",
   "id": "c72303e4",
   "metadata": {},
   "source": [
    "### Create Indexes"
   ]
  },
  {
   "cell_type": "code",
   "execution_count": 49,
   "id": "dd5bbfb6",
   "metadata": {},
   "outputs": [],
   "source": [
    "DISPLAY_NAME = \"stack_overflow\"\n",
    "DESCRIPTION = \"questions from stackoverflow\""
   ]
  },
  {
   "cell_type": "code",
   "execution_count": 50,
   "id": "da2944fe",
   "metadata": {},
   "outputs": [
    {
     "name": "stdout",
     "output_type": "stream",
     "text": [
      "gs://gcp-project-0523-ann-bucket/embeddings_folder_unique/\n",
      "768\n"
     ]
    }
   ],
   "source": [
    "print(remote_folder)\n",
    "print(DIMENSIONS)"
   ]
  },
  {
   "cell_type": "code",
   "execution_count": 51,
   "id": "944f86c7",
   "metadata": {},
   "outputs": [
    {
     "name": "stdout",
     "output_type": "stream",
     "text": [
      "Creating MatchingEngineIndex\n"
     ]
    },
    {
     "name": "stderr",
     "output_type": "stream",
     "text": [
      "INFO:google.cloud.aiplatform.matching_engine.matching_engine_index:Creating MatchingEngineIndex\n"
     ]
    },
    {
     "name": "stdout",
     "output_type": "stream",
     "text": [
      "Create MatchingEngineIndex backing LRO: projects/473197248954/locations/us-central1/indexes/966681827047636992/operations/9212652004642390016\n"
     ]
    },
    {
     "name": "stderr",
     "output_type": "stream",
     "text": [
      "INFO:google.cloud.aiplatform.matching_engine.matching_engine_index:Create MatchingEngineIndex backing LRO: projects/473197248954/locations/us-central1/indexes/966681827047636992/operations/9212652004642390016\n"
     ]
    },
    {
     "name": "stdout",
     "output_type": "stream",
     "text": [
      "MatchingEngineIndex created. Resource name: projects/473197248954/locations/us-central1/indexes/966681827047636992\n"
     ]
    },
    {
     "name": "stderr",
     "output_type": "stream",
     "text": [
      "INFO:google.cloud.aiplatform.matching_engine.matching_engine_index:MatchingEngineIndex created. Resource name: projects/473197248954/locations/us-central1/indexes/966681827047636992\n"
     ]
    },
    {
     "name": "stdout",
     "output_type": "stream",
     "text": [
      "To use this MatchingEngineIndex in another session:\n"
     ]
    },
    {
     "name": "stderr",
     "output_type": "stream",
     "text": [
      "INFO:google.cloud.aiplatform.matching_engine.matching_engine_index:To use this MatchingEngineIndex in another session:\n"
     ]
    },
    {
     "name": "stdout",
     "output_type": "stream",
     "text": [
      "index = aiplatform.MatchingEngineIndex('projects/473197248954/locations/us-central1/indexes/966681827047636992')\n"
     ]
    },
    {
     "name": "stderr",
     "output_type": "stream",
     "text": [
      "INFO:google.cloud.aiplatform.matching_engine.matching_engine_index:index = aiplatform.MatchingEngineIndex('projects/473197248954/locations/us-central1/indexes/966681827047636992')\n"
     ]
    }
   ],
   "source": [
    "tree_ah_index = aiplatform.MatchingEngineIndex.create_tree_ah_index(display_name=DISPLAY_NAME,\n",
    "                                                                    contents_delta_uri=remote_folder,\n",
    "                                                                    dimensions=DIMENSIONS,\n",
    "                                                                    approximate_neighbors_count=150,\n",
    "                                                                    distance_measure_type=\"DOT_PRODUCT_DISTANCE\",\n",
    "                                                                    leaf_node_embedding_count=500,\n",
    "                                                                    leaf_nodes_to_search_percent=80,\n",
    "                                                                    description=DESCRIPTION,\n",
    "                                                                   )"
   ]
  },
  {
   "cell_type": "code",
   "execution_count": 52,
   "id": "0809159b",
   "metadata": {},
   "outputs": [
    {
     "data": {
      "text/plain": [
       "'projects/473197248954/locations/us-central1/indexes/966681827047636992'"
      ]
     },
     "execution_count": 52,
     "metadata": {},
     "output_type": "execute_result"
    }
   ],
   "source": [
    "INDEX_RESOURCE_NAME = tree_ah_index.resource_name\n",
    "INDEX_RESOURCE_NAME"
   ]
  },
  {
   "cell_type": "code",
   "execution_count": 53,
   "id": "0eae5994",
   "metadata": {},
   "outputs": [
    {
     "name": "stdout",
     "output_type": "stream",
     "text": [
      "Creating MatchingEngineIndexEndpoint\n"
     ]
    },
    {
     "name": "stderr",
     "output_type": "stream",
     "text": [
      "INFO:google.cloud.aiplatform.matching_engine.matching_engine_index_endpoint:Creating MatchingEngineIndexEndpoint\n"
     ]
    },
    {
     "name": "stdout",
     "output_type": "stream",
     "text": [
      "Create MatchingEngineIndexEndpoint backing LRO: projects/473197248954/locations/us-central1/indexEndpoints/5787503753171042304/operations/4739451674756644864\n"
     ]
    },
    {
     "name": "stderr",
     "output_type": "stream",
     "text": [
      "INFO:google.cloud.aiplatform.matching_engine.matching_engine_index_endpoint:Create MatchingEngineIndexEndpoint backing LRO: projects/473197248954/locations/us-central1/indexEndpoints/5787503753171042304/operations/4739451674756644864\n"
     ]
    },
    {
     "name": "stdout",
     "output_type": "stream",
     "text": [
      "MatchingEngineIndexEndpoint created. Resource name: projects/473197248954/locations/us-central1/indexEndpoints/5787503753171042304\n"
     ]
    },
    {
     "name": "stderr",
     "output_type": "stream",
     "text": [
      "INFO:google.cloud.aiplatform.matching_engine.matching_engine_index_endpoint:MatchingEngineIndexEndpoint created. Resource name: projects/473197248954/locations/us-central1/indexEndpoints/5787503753171042304\n"
     ]
    },
    {
     "name": "stdout",
     "output_type": "stream",
     "text": [
      "To use this MatchingEngineIndexEndpoint in another session:\n"
     ]
    },
    {
     "name": "stderr",
     "output_type": "stream",
     "text": [
      "INFO:google.cloud.aiplatform.matching_engine.matching_engine_index_endpoint:To use this MatchingEngineIndexEndpoint in another session:\n"
     ]
    },
    {
     "name": "stdout",
     "output_type": "stream",
     "text": [
      "index_endpoint = aiplatform.MatchingEngineIndexEndpoint('projects/473197248954/locations/us-central1/indexEndpoints/5787503753171042304')\n"
     ]
    },
    {
     "name": "stderr",
     "output_type": "stream",
     "text": [
      "INFO:google.cloud.aiplatform.matching_engine.matching_engine_index_endpoint:index_endpoint = aiplatform.MatchingEngineIndexEndpoint('projects/473197248954/locations/us-central1/indexEndpoints/5787503753171042304')\n"
     ]
    }
   ],
   "source": [
    "my_index_endpoint = aiplatform.MatchingEngineIndexEndpoint.create(display_name=DISPLAY_NAME,\n",
    "                                                                  description=DISPLAY_NAME,\n",
    "                                                                  public_endpoint_enabled=True,\n",
    "                                                                  #network=VPC_NETWORK_FULL,\n",
    "                                                                 )"
   ]
  },
  {
   "cell_type": "code",
   "execution_count": 54,
   "id": "b85ad4df",
   "metadata": {},
   "outputs": [],
   "source": [
    "DEPLOYED_INDEX_ID = \"deployed_index_id_unique\""
   ]
  },
  {
   "cell_type": "code",
   "execution_count": 55,
   "id": "36f23671",
   "metadata": {},
   "outputs": [
    {
     "name": "stdout",
     "output_type": "stream",
     "text": [
      "Deploying index MatchingEngineIndexEndpoint index_endpoint: projects/473197248954/locations/us-central1/indexEndpoints/5787503753171042304\n"
     ]
    },
    {
     "name": "stderr",
     "output_type": "stream",
     "text": [
      "INFO:google.cloud.aiplatform.matching_engine.matching_engine_index_endpoint:Deploying index MatchingEngineIndexEndpoint index_endpoint: projects/473197248954/locations/us-central1/indexEndpoints/5787503753171042304\n"
     ]
    },
    {
     "name": "stdout",
     "output_type": "stream",
     "text": [
      "Deploy index MatchingEngineIndexEndpoint index_endpoint backing LRO: projects/473197248954/locations/us-central1/indexEndpoints/5787503753171042304/operations/4865552464323018752\n"
     ]
    },
    {
     "name": "stderr",
     "output_type": "stream",
     "text": [
      "INFO:google.cloud.aiplatform.matching_engine.matching_engine_index_endpoint:Deploy index MatchingEngineIndexEndpoint index_endpoint backing LRO: projects/473197248954/locations/us-central1/indexEndpoints/5787503753171042304/operations/4865552464323018752\n"
     ]
    },
    {
     "ename": "TimeoutError",
     "evalue": "Operation did not complete within the designated timeout of 900 seconds.",
     "output_type": "error",
     "traceback": [
      "\u001b[1;31m---------------------------------------------------------------------------\u001b[0m",
      "\u001b[1;31m_OperationNotComplete\u001b[0m                     Traceback (most recent call last)",
      "File \u001b[1;32mD:\\anaconda3\\lib\\site-packages\\google\\api_core\\retry.py:191\u001b[0m, in \u001b[0;36mretry_target\u001b[1;34m(target, predicate, sleep_generator, timeout, on_error, **kwargs)\u001b[0m\n\u001b[0;32m    190\u001b[0m \u001b[38;5;28;01mtry\u001b[39;00m:\n\u001b[1;32m--> 191\u001b[0m     \u001b[38;5;28;01mreturn\u001b[39;00m \u001b[43mtarget\u001b[49m\u001b[43m(\u001b[49m\u001b[43m)\u001b[49m\n\u001b[0;32m    193\u001b[0m \u001b[38;5;66;03m# pylint: disable=broad-except\u001b[39;00m\n\u001b[0;32m    194\u001b[0m \u001b[38;5;66;03m# This function explicitly must deal with broad exceptions.\u001b[39;00m\n",
      "File \u001b[1;32mD:\\anaconda3\\lib\\site-packages\\google\\api_core\\future\\polling.py:120\u001b[0m, in \u001b[0;36mPollingFuture._done_or_raise\u001b[1;34m(self, retry)\u001b[0m\n\u001b[0;32m    119\u001b[0m \u001b[38;5;28;01mif\u001b[39;00m \u001b[38;5;129;01mnot\u001b[39;00m \u001b[38;5;28mself\u001b[39m\u001b[38;5;241m.\u001b[39mdone(retry\u001b[38;5;241m=\u001b[39mretry):\n\u001b[1;32m--> 120\u001b[0m     \u001b[38;5;28;01mraise\u001b[39;00m _OperationNotComplete()\n",
      "\u001b[1;31m_OperationNotComplete\u001b[0m: ",
      "\nThe above exception was the direct cause of the following exception:\n",
      "\u001b[1;31mRetryError\u001b[0m                                Traceback (most recent call last)",
      "File \u001b[1;32mD:\\anaconda3\\lib\\site-packages\\google\\api_core\\future\\polling.py:137\u001b[0m, in \u001b[0;36mPollingFuture._blocking_poll\u001b[1;34m(self, timeout, retry, polling)\u001b[0m\n\u001b[0;32m    136\u001b[0m \u001b[38;5;28;01mtry\u001b[39;00m:\n\u001b[1;32m--> 137\u001b[0m     \u001b[43mpolling\u001b[49m\u001b[43m(\u001b[49m\u001b[38;5;28;43mself\u001b[39;49m\u001b[38;5;241;43m.\u001b[39;49m\u001b[43m_done_or_raise\u001b[49m\u001b[43m)\u001b[49m\u001b[43m(\u001b[49m\u001b[43mretry\u001b[49m\u001b[38;5;241;43m=\u001b[39;49m\u001b[43mretry\u001b[49m\u001b[43m)\u001b[49m\n\u001b[0;32m    138\u001b[0m \u001b[38;5;28;01mexcept\u001b[39;00m exceptions\u001b[38;5;241m.\u001b[39mRetryError:\n",
      "File \u001b[1;32mD:\\anaconda3\\lib\\site-packages\\google\\api_core\\retry.py:349\u001b[0m, in \u001b[0;36mRetry.__call__.<locals>.retry_wrapped_func\u001b[1;34m(*args, **kwargs)\u001b[0m\n\u001b[0;32m    346\u001b[0m sleep_generator \u001b[38;5;241m=\u001b[39m exponential_sleep_generator(\n\u001b[0;32m    347\u001b[0m     \u001b[38;5;28mself\u001b[39m\u001b[38;5;241m.\u001b[39m_initial, \u001b[38;5;28mself\u001b[39m\u001b[38;5;241m.\u001b[39m_maximum, multiplier\u001b[38;5;241m=\u001b[39m\u001b[38;5;28mself\u001b[39m\u001b[38;5;241m.\u001b[39m_multiplier\n\u001b[0;32m    348\u001b[0m )\n\u001b[1;32m--> 349\u001b[0m \u001b[38;5;28;01mreturn\u001b[39;00m \u001b[43mretry_target\u001b[49m\u001b[43m(\u001b[49m\n\u001b[0;32m    350\u001b[0m \u001b[43m    \u001b[49m\u001b[43mtarget\u001b[49m\u001b[43m,\u001b[49m\n\u001b[0;32m    351\u001b[0m \u001b[43m    \u001b[49m\u001b[38;5;28;43mself\u001b[39;49m\u001b[38;5;241;43m.\u001b[39;49m\u001b[43m_predicate\u001b[49m\u001b[43m,\u001b[49m\n\u001b[0;32m    352\u001b[0m \u001b[43m    \u001b[49m\u001b[43msleep_generator\u001b[49m\u001b[43m,\u001b[49m\n\u001b[0;32m    353\u001b[0m \u001b[43m    \u001b[49m\u001b[38;5;28;43mself\u001b[39;49m\u001b[38;5;241;43m.\u001b[39;49m\u001b[43m_timeout\u001b[49m\u001b[43m,\u001b[49m\n\u001b[0;32m    354\u001b[0m \u001b[43m    \u001b[49m\u001b[43mon_error\u001b[49m\u001b[38;5;241;43m=\u001b[39;49m\u001b[43mon_error\u001b[49m\u001b[43m,\u001b[49m\n\u001b[0;32m    355\u001b[0m \u001b[43m\u001b[49m\u001b[43m)\u001b[49m\n",
      "File \u001b[1;32mD:\\anaconda3\\lib\\site-packages\\google\\api_core\\retry.py:207\u001b[0m, in \u001b[0;36mretry_target\u001b[1;34m(target, predicate, sleep_generator, timeout, on_error, **kwargs)\u001b[0m\n\u001b[0;32m    206\u001b[0m     \u001b[38;5;28;01mif\u001b[39;00m deadline \u001b[38;5;241m<\u001b[39m next_attempt_time:\n\u001b[1;32m--> 207\u001b[0m         \u001b[38;5;28;01mraise\u001b[39;00m exceptions\u001b[38;5;241m.\u001b[39mRetryError(\n\u001b[0;32m    208\u001b[0m             \u001b[38;5;124m\"\u001b[39m\u001b[38;5;124mDeadline of \u001b[39m\u001b[38;5;132;01m{:.1f}\u001b[39;00m\u001b[38;5;124ms exceeded while calling target function\u001b[39m\u001b[38;5;124m\"\u001b[39m\u001b[38;5;241m.\u001b[39mformat(\n\u001b[0;32m    209\u001b[0m                 timeout\n\u001b[0;32m    210\u001b[0m             ),\n\u001b[0;32m    211\u001b[0m             last_exc,\n\u001b[0;32m    212\u001b[0m         ) \u001b[38;5;28;01mfrom\u001b[39;00m \u001b[38;5;21;01mlast_exc\u001b[39;00m\n\u001b[0;32m    214\u001b[0m _LOGGER\u001b[38;5;241m.\u001b[39mdebug(\n\u001b[0;32m    215\u001b[0m     \u001b[38;5;124m\"\u001b[39m\u001b[38;5;124mRetrying due to \u001b[39m\u001b[38;5;132;01m{}\u001b[39;00m\u001b[38;5;124m, sleeping \u001b[39m\u001b[38;5;132;01m{:.1f}\u001b[39;00m\u001b[38;5;124ms ...\u001b[39m\u001b[38;5;124m\"\u001b[39m\u001b[38;5;241m.\u001b[39mformat(last_exc, sleep)\n\u001b[0;32m    216\u001b[0m )\n",
      "\u001b[1;31mRetryError\u001b[0m: Deadline of 900.0s exceeded while calling target function, last exception: ",
      "\nDuring handling of the above exception, another exception occurred:\n",
      "\u001b[1;31mTimeoutError\u001b[0m                              Traceback (most recent call last)",
      "Cell \u001b[1;32mIn[55], line 1\u001b[0m\n\u001b[1;32m----> 1\u001b[0m my_index_endpoint \u001b[38;5;241m=\u001b[39m \u001b[43mmy_index_endpoint\u001b[49m\u001b[38;5;241;43m.\u001b[39;49m\u001b[43mdeploy_index\u001b[49m\u001b[43m(\u001b[49m\u001b[43mindex\u001b[49m\u001b[38;5;241;43m=\u001b[39;49m\u001b[43mtree_ah_index\u001b[49m\u001b[43m,\u001b[49m\n\u001b[0;32m      2\u001b[0m \u001b[43m                                                   \u001b[49m\u001b[43mdeployed_index_id\u001b[49m\u001b[38;5;241;43m=\u001b[39;49m\u001b[43mDEPLOYED_INDEX_ID\u001b[49m\n\u001b[0;32m      3\u001b[0m \u001b[43m                                                  \u001b[49m\u001b[43m)\u001b[49m\n\u001b[0;32m      5\u001b[0m my_index_endpoint\u001b[38;5;241m.\u001b[39mdeployed_indexes\n",
      "File \u001b[1;32m~\\AppData\\Roaming\\Python\\Python39\\site-packages\\google\\cloud\\aiplatform\\matching_engine\\matching_engine_index_endpoint.py:730\u001b[0m, in \u001b[0;36mMatchingEngineIndexEndpoint.deploy_index\u001b[1;34m(self, index, deployed_index_id, display_name, machine_type, min_replica_count, max_replica_count, enable_access_logging, reserved_ip_ranges, deployment_group, auth_config_audiences, auth_config_allowed_issuers, request_metadata)\u001b[0m\n\u001b[0;32m    720\u001b[0m deploy_lro \u001b[38;5;241m=\u001b[39m \u001b[38;5;28mself\u001b[39m\u001b[38;5;241m.\u001b[39mapi_client\u001b[38;5;241m.\u001b[39mdeploy_index(\n\u001b[0;32m    721\u001b[0m     index_endpoint\u001b[38;5;241m=\u001b[39m\u001b[38;5;28mself\u001b[39m\u001b[38;5;241m.\u001b[39mresource_name,\n\u001b[0;32m    722\u001b[0m     deployed_index\u001b[38;5;241m=\u001b[39mdeployed_index,\n\u001b[0;32m    723\u001b[0m     metadata\u001b[38;5;241m=\u001b[39mrequest_metadata,\n\u001b[0;32m    724\u001b[0m )\n\u001b[0;32m    726\u001b[0m _LOGGER\u001b[38;5;241m.\u001b[39mlog_action_started_against_resource_with_lro(\n\u001b[0;32m    727\u001b[0m     \u001b[38;5;124m\"\u001b[39m\u001b[38;5;124mDeploy index\u001b[39m\u001b[38;5;124m\"\u001b[39m, \u001b[38;5;124m\"\u001b[39m\u001b[38;5;124mindex_endpoint\u001b[39m\u001b[38;5;124m\"\u001b[39m, \u001b[38;5;28mself\u001b[39m\u001b[38;5;241m.\u001b[39m\u001b[38;5;18m__class__\u001b[39m, deploy_lro\n\u001b[0;32m    728\u001b[0m )\n\u001b[1;32m--> 730\u001b[0m \u001b[43mdeploy_lro\u001b[49m\u001b[38;5;241;43m.\u001b[39;49m\u001b[43mresult\u001b[49m\u001b[43m(\u001b[49m\u001b[43m)\u001b[49m\n\u001b[0;32m    732\u001b[0m _LOGGER\u001b[38;5;241m.\u001b[39mlog_action_completed_against_resource(\n\u001b[0;32m    733\u001b[0m     \u001b[38;5;124m\"\u001b[39m\u001b[38;5;124mindex_endpoint\u001b[39m\u001b[38;5;124m\"\u001b[39m, \u001b[38;5;124m\"\u001b[39m\u001b[38;5;124mDeployed index\u001b[39m\u001b[38;5;124m\"\u001b[39m, \u001b[38;5;28mself\u001b[39m\n\u001b[0;32m    734\u001b[0m )\n\u001b[0;32m    736\u001b[0m \u001b[38;5;66;03m# update local resource\u001b[39;00m\n",
      "File \u001b[1;32mD:\\anaconda3\\lib\\site-packages\\google\\api_core\\future\\polling.py:256\u001b[0m, in \u001b[0;36mPollingFuture.result\u001b[1;34m(self, timeout, retry, polling)\u001b[0m\n\u001b[0;32m    144\u001b[0m \u001b[38;5;28;01mdef\u001b[39;00m \u001b[38;5;21mresult\u001b[39m(\u001b[38;5;28mself\u001b[39m, timeout\u001b[38;5;241m=\u001b[39m_DEFAULT_VALUE, retry\u001b[38;5;241m=\u001b[39m\u001b[38;5;28;01mNone\u001b[39;00m, polling\u001b[38;5;241m=\u001b[39m\u001b[38;5;28;01mNone\u001b[39;00m):\n\u001b[0;32m    145\u001b[0m \u001b[38;5;250m    \u001b[39m\u001b[38;5;124;03m\"\"\"Get the result of the operation.\u001b[39;00m\n\u001b[0;32m    146\u001b[0m \n\u001b[0;32m    147\u001b[0m \u001b[38;5;124;03m    This method will poll for operation status periodically, blocking if\u001b[39;00m\n\u001b[1;32m   (...)\u001b[0m\n\u001b[0;32m    253\u001b[0m \u001b[38;5;124;03m            the timeout is reached before the operation completes.\u001b[39;00m\n\u001b[0;32m    254\u001b[0m \u001b[38;5;124;03m    \"\"\"\u001b[39;00m\n\u001b[1;32m--> 256\u001b[0m     \u001b[38;5;28;43mself\u001b[39;49m\u001b[38;5;241;43m.\u001b[39;49m\u001b[43m_blocking_poll\u001b[49m\u001b[43m(\u001b[49m\u001b[43mtimeout\u001b[49m\u001b[38;5;241;43m=\u001b[39;49m\u001b[43mtimeout\u001b[49m\u001b[43m,\u001b[49m\u001b[43m \u001b[49m\u001b[43mretry\u001b[49m\u001b[38;5;241;43m=\u001b[39;49m\u001b[43mretry\u001b[49m\u001b[43m,\u001b[49m\u001b[43m \u001b[49m\u001b[43mpolling\u001b[49m\u001b[38;5;241;43m=\u001b[39;49m\u001b[43mpolling\u001b[49m\u001b[43m)\u001b[49m\n\u001b[0;32m    258\u001b[0m     \u001b[38;5;28;01mif\u001b[39;00m \u001b[38;5;28mself\u001b[39m\u001b[38;5;241m.\u001b[39m_exception \u001b[38;5;129;01mis\u001b[39;00m \u001b[38;5;129;01mnot\u001b[39;00m \u001b[38;5;28;01mNone\u001b[39;00m:\n\u001b[0;32m    259\u001b[0m         \u001b[38;5;66;03m# pylint: disable=raising-bad-type\u001b[39;00m\n\u001b[0;32m    260\u001b[0m         \u001b[38;5;66;03m# Pylint doesn't recognize that this is valid in this case.\u001b[39;00m\n\u001b[0;32m    261\u001b[0m         \u001b[38;5;28;01mraise\u001b[39;00m \u001b[38;5;28mself\u001b[39m\u001b[38;5;241m.\u001b[39m_exception\n",
      "File \u001b[1;32mD:\\anaconda3\\lib\\site-packages\\google\\api_core\\future\\polling.py:139\u001b[0m, in \u001b[0;36mPollingFuture._blocking_poll\u001b[1;34m(self, timeout, retry, polling)\u001b[0m\n\u001b[0;32m    137\u001b[0m     polling(\u001b[38;5;28mself\u001b[39m\u001b[38;5;241m.\u001b[39m_done_or_raise)(retry\u001b[38;5;241m=\u001b[39mretry)\n\u001b[0;32m    138\u001b[0m \u001b[38;5;28;01mexcept\u001b[39;00m exceptions\u001b[38;5;241m.\u001b[39mRetryError:\n\u001b[1;32m--> 139\u001b[0m     \u001b[38;5;28;01mraise\u001b[39;00m concurrent\u001b[38;5;241m.\u001b[39mfutures\u001b[38;5;241m.\u001b[39mTimeoutError(\n\u001b[0;32m    140\u001b[0m         \u001b[38;5;124mf\u001b[39m\u001b[38;5;124m\"\u001b[39m\u001b[38;5;124mOperation did not complete within the designated timeout of \u001b[39m\u001b[38;5;124m\"\u001b[39m\n\u001b[0;32m    141\u001b[0m         \u001b[38;5;124mf\u001b[39m\u001b[38;5;124m\"\u001b[39m\u001b[38;5;132;01m{\u001b[39;00mpolling\u001b[38;5;241m.\u001b[39mtimeout\u001b[38;5;132;01m}\u001b[39;00m\u001b[38;5;124m seconds.\u001b[39m\u001b[38;5;124m\"\u001b[39m\n\u001b[0;32m    142\u001b[0m     )\n",
      "\u001b[1;31mTimeoutError\u001b[0m: Operation did not complete within the designated timeout of 900 seconds."
     ]
    }
   ],
   "source": [
    "my_index_endpoint = my_index_endpoint.deploy_index(index=tree_ah_index,\n",
    "                                                   deployed_index_id=DEPLOYED_INDEX_ID\n",
    "                                                  )\n",
    "\n"
   ]
  },
  {
   "cell_type": "code",
   "execution_count": 59,
   "id": "2728a748",
   "metadata": {},
   "outputs": [],
   "source": [
    "#my_index_endpoint = my_index_endpoint('projects/473197248954/locations/us-central1/indexEndpoints/5787503753171042304')\n",
    "\n",
    "my_index_endpoint = aiplatform.MatchingEngineIndexEndpoint('projects/473197248954/locations/us-central1/indexEndpoints/5787503753171042304')"
   ]
  },
  {
   "cell_type": "code",
   "execution_count": 65,
   "id": "b3a0ac9f",
   "metadata": {},
   "outputs": [
    {
     "data": {
      "text/plain": [
       "name: \"projects/473197248954/locations/us-central1/indexEndpoints/5787503753171042304\"\n",
       "display_name: \"stack_overflow\"\n",
       "description: \"stack_overflow\"\n",
       "deployed_indexes {\n",
       "  id: \"deployed_index_id_unique\"\n",
       "  index: \"projects/473197248954/locations/us-central1/indexes/966681827047636992\"\n",
       "  create_time {\n",
       "    seconds: 1685294461\n",
       "    nanos: 275893000\n",
       "  }\n",
       "  index_sync_time {\n",
       "    seconds: 1685295731\n",
       "    nanos: 103469000\n",
       "  }\n",
       "  automatic_resources {\n",
       "    min_replica_count: 2\n",
       "    max_replica_count: 2\n",
       "  }\n",
       "  deployment_group: \"default\"\n",
       "}\n",
       "etag: \"AMEw9yPKzYMB4aWti7Eaubaze9t4cSiliRJor8w71nKsza4vnunola6ISeKjOLdCyPdM\"\n",
       "create_time {\n",
       "  seconds: 1685294387\n",
       "  nanos: 431764000\n",
       "}\n",
       "update_time {\n",
       "  seconds: 1685294387\n",
       "  nanos: 983013000\n",
       "}\n",
       "public_endpoint_domain_name: \"2145421878.us-central1-473197248954.vdb.vertexai.goog\""
      ]
     },
     "execution_count": 65,
     "metadata": {},
     "output_type": "execute_result"
    }
   ],
   "source": [
    "my_index_endpoint.gca_resource"
   ]
  },
  {
   "cell_type": "code",
   "execution_count": 60,
   "id": "04f4da0d",
   "metadata": {},
   "outputs": [
    {
     "data": {
      "application/vnd.jupyter.widget-view+json": {
       "model_id": "be08a577ed8a4dc09f0cf5ade8c94264",
       "version_major": 2,
       "version_minor": 0
      },
      "text/plain": [
       "  0%|          | 0/1 [00:00<?, ?it/s]"
      ]
     },
     "metadata": {},
     "output_type": "display_data"
    }
   ],
   "source": [
    "test_embeddings = encode_text_to_embedding(text_encoder=encoder,\n",
    "                                           sentences=[\"How do I install tensorflow with GPU support?\"])"
   ]
  },
  {
   "cell_type": "code",
   "execution_count": 62,
   "id": "fc9e51c8",
   "metadata": {},
   "outputs": [
    {
     "data": {
      "text/plain": [
       "array([-3.46920043e-02, -6.79826736e-02,  4.70267944e-02,  7.88554735e-03,\n",
       "       -3.78703587e-02, -3.27263549e-02, -4.16305335e-03,  4.51407507e-02,\n",
       "       -1.70209594e-02, -4.59558144e-02,  3.49068902e-02, -3.51876095e-02,\n",
       "        7.97955692e-02, -1.50319990e-02,  6.50781542e-02,  3.16455401e-02,\n",
       "        1.23584569e-02, -4.27518925e-03,  2.01913230e-02,  2.80608609e-02,\n",
       "        3.12974416e-02,  1.53770046e-02, -3.46761718e-02,  2.38961838e-02,\n",
       "       -4.36633639e-02,  3.24505456e-02,  5.36020733e-02,  1.21157384e-02,\n",
       "       -2.31851898e-02,  1.74899139e-02,  6.93742782e-02, -4.13260534e-02,\n",
       "       -1.86444726e-02,  4.57508117e-02, -2.05389801e-02,  1.13655291e-02,\n",
       "       -4.48801853e-02, -6.17317632e-02, -3.50356214e-02,  4.99744229e-02,\n",
       "       -6.11441722e-03, -4.73947413e-02, -3.82532515e-02,  4.20878232e-02,\n",
       "       -3.89112085e-02, -3.85740474e-02,  3.27653885e-02,  6.00255728e-02,\n",
       "       -7.06862332e-03, -2.63761580e-02, -4.46173511e-02, -4.22799438e-02,\n",
       "       -4.73105833e-02, -1.18179303e-02, -2.96327304e-02, -1.69213023e-02,\n",
       "       -1.84615911e-03,  6.53713243e-03,  7.08078817e-02,  3.75091806e-02,\n",
       "       -3.82600315e-02,  3.82341538e-03,  1.94495311e-03, -1.05988234e-03,\n",
       "       -4.56837192e-02,  6.29189238e-02, -5.44982180e-02, -4.58873622e-02,\n",
       "        4.59795445e-02, -2.56104507e-02,  5.73438406e-02, -3.69780771e-02,\n",
       "       -7.37976469e-03, -2.85664406e-02, -4.30344045e-02, -6.57892227e-02,\n",
       "        7.20953383e-03,  4.77131940e-02,  7.75336549e-02, -1.32778468e-05,\n",
       "        4.43605669e-02, -3.05424165e-02, -1.23238880e-02,  2.31718877e-03,\n",
       "       -5.84848365e-03, -1.85830351e-02, -2.76999157e-02,  2.54997481e-02,\n",
       "       -2.90089771e-02,  3.36925313e-02, -1.40804807e-02, -1.47376144e-02,\n",
       "       -1.13167176e-02,  3.87184578e-03, -5.55606820e-02,  4.82280701e-02,\n",
       "       -1.75852086e-02, -2.87391944e-03, -1.93656515e-02, -6.80339709e-03,\n",
       "       -4.86460403e-02, -1.45840636e-02, -5.32164462e-02, -9.25059337e-03,\n",
       "        7.10465014e-02, -3.64628658e-02, -6.09989576e-02,  3.12815122e-02,\n",
       "        1.72595344e-02, -1.37560787e-02, -2.34003942e-02, -2.88898125e-02,\n",
       "        4.07227082e-03, -4.57467586e-02,  2.15565134e-02, -3.82839441e-02,\n",
       "       -6.88438267e-02, -1.26301004e-02,  3.41494661e-03,  5.88363851e-04,\n",
       "       -2.81283744e-02, -5.12851328e-02, -8.09731930e-02, -3.88593934e-02,\n",
       "        3.70624065e-02,  7.12737092e-04, -3.08538531e-03, -2.47322246e-02,\n",
       "       -7.11573809e-02,  7.39822760e-02, -1.02704819e-02,  4.10124511e-02,\n",
       "        2.52580773e-02, -5.44985346e-02, -1.09489905e-02, -6.32588007e-03,\n",
       "       -1.96075104e-02,  3.53830494e-02, -2.25911681e-02,  3.19328415e-03,\n",
       "        3.27579677e-02, -1.20299114e-02,  5.87229878e-02, -3.76279466e-02,\n",
       "        1.41918063e-02,  5.51395910e-03, -5.74971829e-03, -2.41707973e-02,\n",
       "        4.77625653e-02,  6.06291520e-04, -3.19311619e-02,  1.80475488e-02,\n",
       "        2.97793560e-02,  6.09433390e-02, -9.97507386e-03, -1.29700406e-02,\n",
       "       -2.55997051e-02,  5.72912674e-03, -3.19305323e-02, -1.69200636e-02,\n",
       "       -4.00913842e-02,  8.88643414e-03,  3.12775224e-02, -1.89097542e-02,\n",
       "        2.74501946e-02,  4.61476482e-03,  2.52155475e-02,  3.69557813e-02,\n",
       "       -3.56132537e-02, -4.97270562e-02, -4.94457036e-02, -4.06281911e-02,\n",
       "        4.29769885e-03,  2.31398910e-04,  4.03206311e-02,  1.63896009e-02,\n",
       "        1.44220400e-03, -9.62037314e-03, -4.18562032e-02, -5.10434434e-02,\n",
       "       -2.62329932e-02,  1.44853797e-02,  1.88299809e-02,  9.20013990e-03,\n",
       "        2.59295991e-03, -9.65245126e-04, -4.46388219e-03,  3.34282033e-02,\n",
       "       -4.56565153e-03, -6.36052042e-02,  3.46860029e-02, -1.72622818e-02,\n",
       "       -5.98108582e-03,  2.63711009e-02,  1.77585557e-02, -1.32867019e-03,\n",
       "        1.60284545e-02, -4.64738607e-02, -4.43123430e-02,  9.50243603e-03,\n",
       "       -8.30660015e-03,  6.28001383e-03, -7.68386852e-03, -8.32052995e-03,\n",
       "        2.79623247e-03,  3.92369069e-02,  3.14930640e-02,  2.53731036e-03,\n",
       "       -5.05563281e-02, -2.54620481e-02,  3.00954618e-02, -1.52729992e-02,\n",
       "        4.02333736e-02,  1.16768526e-02,  6.05739057e-02, -2.14578491e-02,\n",
       "        5.01344465e-02, -5.86426677e-03,  4.05644588e-02,  7.20495824e-03,\n",
       "       -7.46842066e-04,  9.23729315e-02, -3.72808019e-04,  4.94284779e-02,\n",
       "       -2.79809125e-02, -5.20848483e-02, -3.60954143e-02, -4.75836545e-03,\n",
       "       -1.42310082e-03,  5.61293736e-02,  3.48385684e-02,  5.71440347e-02,\n",
       "        3.02479248e-02, -4.55622422e-03,  1.73105653e-02, -2.87625454e-02,\n",
       "       -7.60616809e-02, -8.49969778e-03, -1.97646897e-02, -5.91599047e-02,\n",
       "        2.34182589e-02,  5.69619909e-02,  4.31661960e-03,  2.51690019e-02,\n",
       "        5.97013868e-02, -7.89936446e-03,  9.11461003e-03,  7.45311892e-03,\n",
       "        1.21819787e-02,  2.19398048e-02, -8.53288546e-02,  1.82968546e-02,\n",
       "       -3.05380523e-02,  6.85503287e-03,  4.79963534e-02,  8.73255730e-03,\n",
       "        4.91729975e-02,  2.18624854e-03, -3.98021713e-02, -2.02887058e-02,\n",
       "       -8.72974098e-02,  1.58355944e-02, -1.28002344e-02,  4.39520217e-02,\n",
       "        3.61677073e-02, -4.20429781e-02,  6.58861501e-03,  4.09498848e-02,\n",
       "        1.80332630e-03, -2.99176183e-02,  7.18002615e-04, -7.74528179e-03,\n",
       "       -4.99925539e-02, -5.53145595e-02, -1.56480763e-02,  6.43043593e-03,\n",
       "        1.47830527e-02,  2.66922303e-02,  2.94334944e-02, -4.90535870e-02,\n",
       "       -1.15553578e-02,  1.51114129e-02,  1.64373759e-02,  1.75605994e-02,\n",
       "       -5.44878766e-02,  1.67193110e-04,  5.82643901e-04, -6.32004486e-03,\n",
       "       -1.04110399e-02, -7.41593987e-02,  1.10850856e-03, -3.18626910e-02,\n",
       "        1.71088483e-02,  4.26842980e-02, -3.99580710e-02,  3.08600925e-02,\n",
       "        9.22922860e-04,  4.29343395e-02, -1.72703955e-02, -9.59599689e-02,\n",
       "        3.86635177e-02, -6.75170645e-02,  2.84670368e-02,  5.61938100e-02,\n",
       "        5.38686402e-02,  3.49541232e-02,  2.29847133e-02, -3.36775300e-03,\n",
       "        1.56227890e-02,  2.03614365e-02, -3.20785083e-02,  3.05723952e-04,\n",
       "       -3.13606672e-02, -8.69518071e-02,  2.33820919e-02, -2.58867703e-02,\n",
       "        2.10330710e-02, -2.35967413e-02, -5.50940260e-02,  3.58964084e-03,\n",
       "        2.83170305e-02,  2.35840734e-02,  6.37273192e-02, -2.46555749e-02,\n",
       "       -4.17884402e-02, -8.73620342e-03,  3.12597677e-02, -6.95205703e-02,\n",
       "       -3.54467425e-03,  1.40417018e-03, -9.74314054e-04, -1.61678065e-02,\n",
       "       -2.11295169e-02, -2.30327696e-02, -4.71973158e-02, -2.71586478e-02,\n",
       "        1.85321700e-02, -4.03991789e-02,  4.12754342e-02, -2.53292150e-03,\n",
       "        3.18563879e-02, -2.52698571e-03,  2.15960108e-03,  5.99149279e-02,\n",
       "        6.37427047e-02, -3.54517251e-02, -1.12960590e-02, -8.25365037e-02,\n",
       "        2.31538992e-02,  3.23539483e-03,  1.47309843e-02, -2.95470841e-03,\n",
       "       -1.50278965e-02,  9.61647485e-04,  1.51970014e-02,  2.63810367e-03,\n",
       "       -4.20405567e-02,  5.37341880e-03, -4.52375002e-02, -2.40367483e-02,\n",
       "        4.12415378e-02, -8.11424926e-02, -1.05743890e-03, -1.72095150e-02,\n",
       "       -2.30735429e-02,  3.39498147e-02,  3.43100205e-02,  1.24276811e-02,\n",
       "        2.29252558e-02, -3.44920158e-02,  3.17735001e-02,  5.89982346e-02,\n",
       "        3.99816856e-02,  3.94389890e-02,  4.36606705e-02,  4.36843894e-02,\n",
       "       -1.51230942e-03,  4.76554455e-03,  2.33710427e-02,  8.60231221e-02,\n",
       "        5.99243119e-02, -1.65770072e-02, -5.92824332e-02, -1.30430702e-02,\n",
       "        3.94555666e-02, -9.47569590e-03, -8.50843545e-03,  2.87308712e-02,\n",
       "       -5.69458008e-02, -9.50557217e-02,  7.45834410e-02,  1.36984689e-02,\n",
       "        4.25259676e-03,  2.89178304e-02,  7.08568748e-03, -1.21105220e-02,\n",
       "        3.36284377e-02, -2.48934235e-02, -8.62815678e-02,  3.69056426e-02,\n",
       "       -4.86429781e-02,  1.47952391e-02, -5.91199212e-02,  2.01898757e-02,\n",
       "       -5.50264306e-02,  2.40009930e-03,  1.32339923e-02,  1.71165215e-03,\n",
       "        8.90984666e-03,  1.01224439e-04, -1.99644119e-02, -5.14343008e-02,\n",
       "       -1.18761435e-02, -5.01001403e-02, -1.72321629e-02,  5.25280926e-03,\n",
       "       -6.97883172e-03, -2.63986830e-02,  4.88058111e-04,  8.21093246e-02,\n",
       "        6.76466376e-02, -3.02448701e-02,  8.63859877e-02, -6.97903614e-03,\n",
       "        1.70016661e-02,  2.69305743e-02,  3.66845950e-02,  3.47522949e-03,\n",
       "        4.47174795e-02, -3.27732153e-02,  6.38264716e-02, -1.27637954e-02,\n",
       "       -6.79708794e-02, -9.93335806e-03,  4.18749871e-03,  3.67640294e-02,\n",
       "        5.69057325e-03, -1.01697324e-02,  7.07747787e-02,  1.86394118e-02,\n",
       "       -6.88912347e-02, -5.88161238e-02,  1.96423009e-02,  4.43782210e-02,\n",
       "        5.94303347e-02,  2.22686538e-03,  4.00794437e-03, -9.16136429e-03,\n",
       "        4.30361778e-02, -1.26969479e-02, -8.61790180e-02, -1.69691292e-03,\n",
       "       -3.94102745e-02,  4.09229882e-02, -1.68344416e-02, -1.49051687e-02,\n",
       "        4.22434416e-03,  7.82929435e-02,  1.09132826e-02, -1.05935778e-03,\n",
       "       -3.41994986e-02, -5.87810623e-03, -3.84884626e-02,  1.45702492e-02,\n",
       "        2.64732912e-02, -7.83358421e-03,  5.09163849e-02, -2.91830115e-02,\n",
       "        3.58100906e-02,  2.26436891e-02, -3.51480879e-02,  4.21837457e-02,\n",
       "       -7.30325060e-04,  9.40679833e-02, -5.38027845e-02, -6.33214926e-03,\n",
       "       -1.39247328e-02,  8.15585628e-03,  5.01489565e-02,  7.18094036e-03,\n",
       "        2.80863009e-02,  3.06253899e-02, -1.77726950e-02, -5.46419760e-03,\n",
       "        4.82088923e-02,  7.40217268e-02,  6.45535951e-03,  1.32456627e-02,\n",
       "       -4.20308597e-02, -8.36398378e-02, -2.74446085e-02, -2.80141942e-02,\n",
       "       -9.99110863e-02,  4.12528515e-02, -4.85040918e-02, -8.53726789e-02,\n",
       "        1.76848844e-02, -3.71973142e-02,  2.76753735e-02,  3.53972497e-03,\n",
       "       -5.95003776e-02, -4.63469177e-02, -2.44616996e-02,  5.62169403e-03,\n",
       "        3.27776149e-02, -1.29977474e-02,  8.45732838e-02, -6.59356639e-02,\n",
       "        1.75715443e-02,  2.77392622e-02, -2.84188706e-02,  2.89947670e-02,\n",
       "        3.55434977e-02,  2.92536174e-03,  2.62365546e-02, -5.80285303e-02,\n",
       "       -5.06804399e-02,  1.30937970e-03, -1.61504420e-03, -4.72237095e-02,\n",
       "        2.68703606e-02, -2.74516623e-02, -9.79386177e-03, -3.53257696e-04,\n",
       "       -1.15056010e-02, -1.27219884e-02, -3.56346294e-02,  3.37926932e-02,\n",
       "       -2.06050035e-02,  3.01710088e-02,  9.95671842e-03,  2.60747708e-02,\n",
       "       -2.67650411e-02,  1.64435133e-02,  2.33532060e-02,  3.02337073e-02,\n",
       "        5.55121005e-02, -3.67437210e-03, -1.33497920e-02,  3.68489847e-02,\n",
       "       -2.35755760e-02,  1.67609937e-02,  8.12898502e-02,  2.18521315e-03,\n",
       "       -6.18176125e-02, -6.01335652e-02, -3.20698358e-02,  8.03322904e-03,\n",
       "        6.56084791e-02,  5.29181771e-02,  6.04684325e-03,  4.93939640e-03,\n",
       "       -1.94637273e-02,  4.62122001e-02,  2.41872780e-02, -6.72456026e-02,\n",
       "       -7.98077695e-03,  4.63104509e-02, -2.23051365e-02, -2.47447621e-02,\n",
       "        1.23005509e-02, -1.04609877e-03, -3.93321458e-03, -6.17183803e-04,\n",
       "       -3.66579406e-02, -6.31571561e-02,  1.89677998e-02,  1.62347872e-02,\n",
       "       -2.49007740e-03,  1.09320097e-02, -5.74895479e-02, -7.66009614e-02,\n",
       "       -2.45115776e-02, -2.93850917e-02, -1.68658625e-02, -5.51491380e-02,\n",
       "        2.77576991e-03,  9.74623370e-04,  2.01895367e-02,  1.06297834e-02,\n",
       "       -4.22467962e-02, -1.04979295e-02, -6.00580946e-02, -3.93480882e-02,\n",
       "        4.41814587e-02, -6.16045333e-02,  1.23280436e-02,  1.58562269e-02,\n",
       "       -3.40840518e-02,  3.20720449e-02, -2.57545384e-03,  3.02995183e-02,\n",
       "       -2.27858238e-02, -2.26020784e-05,  5.17991930e-02, -2.60311477e-02,\n",
       "        1.21243056e-02, -2.15633009e-02,  1.49175934e-02,  6.95904642e-02,\n",
       "        1.39043992e-02,  2.28991266e-02,  1.51343122e-02,  6.28411490e-03,\n",
       "       -5.74851409e-03, -1.86627836e-03,  3.76445502e-02,  3.15489694e-02,\n",
       "       -2.41700821e-02, -2.07447615e-02,  2.95399427e-02, -6.13494851e-02,\n",
       "        1.78917137e-03, -7.26056239e-03,  3.26207876e-02, -1.04240570e-02,\n",
       "       -3.14876884e-02,  1.47382580e-02,  4.76127639e-02, -7.92129561e-02,\n",
       "        8.95571057e-03,  1.59458127e-02, -4.18356434e-02, -1.16218487e-02,\n",
       "        2.51421146e-03, -4.96932343e-02, -1.16984053e-02,  6.70894533e-02,\n",
       "       -4.93646897e-02, -1.86271332e-02, -1.23985633e-02, -5.17136976e-02,\n",
       "        6.18084446e-02,  2.76778154e-02, -1.67798847e-02,  4.35079299e-02,\n",
       "        5.05819842e-02,  3.33967023e-02,  1.80987138e-02,  4.60978113e-02,\n",
       "        4.26307879e-02, -1.08215129e-02, -3.74322049e-02, -6.65453449e-02,\n",
       "        2.24653091e-02,  2.04629730e-02, -1.73182115e-02,  1.32273603e-02,\n",
       "        2.10961308e-02, -1.70763340e-02,  1.14490502e-02,  2.20281463e-02,\n",
       "        7.43039399e-02,  3.25571485e-02,  5.92580326e-02, -1.21579729e-02,\n",
       "       -8.32755640e-02, -2.51345206e-02, -3.44617367e-02,  3.22447643e-02,\n",
       "        1.39308609e-02, -1.33476438e-04, -4.86033410e-02,  3.15772719e-03,\n",
       "        2.84069646e-02, -1.26720555e-02, -4.07806691e-03,  1.44447042e-02,\n",
       "       -5.78472391e-02, -3.82211767e-02,  5.14395460e-02, -7.36561278e-03,\n",
       "       -3.30857933e-02,  2.41113473e-02, -9.44350474e-03, -5.65203780e-04,\n",
       "       -7.14757144e-02, -3.73762026e-02, -5.06207626e-03,  5.34965992e-02,\n",
       "       -5.20024858e-02,  4.87229303e-02,  8.70350935e-03, -4.00399603e-03,\n",
       "       -5.68916555e-04, -2.64238641e-02,  4.64753583e-02, -8.50486662e-03,\n",
       "       -4.71350504e-03, -4.31420468e-02,  1.18448101e-02,  2.33400892e-02,\n",
       "        4.77358401e-02, -3.95886321e-03, -4.28476278e-03, -5.72344474e-02,\n",
       "       -4.74444851e-02,  1.66996177e-02,  2.80507579e-02, -4.73459158e-03,\n",
       "        1.62291655e-03,  4.98035587e-02,  5.61671285e-03, -4.94556949e-02,\n",
       "        6.74828980e-03, -9.65338852e-03, -7.24363374e-03,  5.81312180e-03,\n",
       "       -2.17611864e-02,  5.98894283e-02,  4.30377871e-02,  2.32794657e-02,\n",
       "        3.33499499e-02,  5.32486150e-03, -7.00284072e-05,  1.73457693e-02,\n",
       "        1.68263949e-02,  3.16348262e-02, -5.58689833e-02, -5.20507433e-03,\n",
       "       -3.34189311e-02, -2.26114783e-03,  2.78153513e-02,  3.94987911e-02,\n",
       "        2.43985616e-02,  3.22876647e-02,  4.37878892e-02,  1.87091180e-04,\n",
       "       -4.85805003e-03,  3.61698344e-02, -3.33949625e-02,  3.76274176e-02,\n",
       "       -5.26580168e-03,  2.64620129e-02,  1.63251590e-02,  1.99737884e-02,\n",
       "        2.63352748e-02, -3.21400091e-02, -5.16008697e-02,  1.40355909e-02,\n",
       "        2.16440428e-02, -5.50238825e-02, -2.91808303e-02, -6.24781996e-02,\n",
       "       -3.47871631e-02,  4.08917898e-03, -3.94895859e-02,  6.19492633e-03,\n",
       "        8.07307381e-03, -9.87196062e-03,  1.04265306e-02,  1.72847304e-02,\n",
       "        8.18538442e-02, -1.62826832e-02, -6.61113858e-02,  3.06350435e-03,\n",
       "       -6.18530884e-02, -1.77585036e-02, -4.59840037e-02, -1.53756915e-02,\n",
       "       -4.37683277e-02, -4.14579995e-02,  1.51382666e-02,  1.18798008e-02,\n",
       "        1.28924260e-02,  3.11178323e-02,  7.37158116e-03, -1.56709217e-02],\n",
       "      dtype=float32)"
      ]
     },
     "execution_count": 62,
     "metadata": {},
     "output_type": "execute_result"
    }
   ],
   "source": [
    "test_embeddings"
   ]
  },
  {
   "cell_type": "code",
   "execution_count": 69,
   "id": "68a81ee8",
   "metadata": {},
   "outputs": [
    {
     "data": {
      "text/plain": [
       "<google.cloud.aiplatform.matching_engine.matching_engine_index_endpoint.MatchingEngineIndexEndpoint object at 0x0000023DE635EDC0> \n",
       "resource name: projects/473197248954/locations/us-central1/indexEndpoints/5787503753171042304"
      ]
     },
     "execution_count": 69,
     "metadata": {},
     "output_type": "execute_result"
    }
   ],
   "source": [
    "my_index_endpoint"
   ]
  },
  {
   "cell_type": "code",
   "execution_count": 71,
   "id": "cef85394",
   "metadata": {},
   "outputs": [
    {
     "ename": "_InactiveRpcError",
     "evalue": "<_InactiveRpcError of RPC that terminated with:\n\tstatus = StatusCode.UNAVAILABLE\n\tdetails = \"DNS resolution failed for :10000: UNKNOWN: unparseable host:port: ':10000'\"\n\tdebug_error_string = \"UNKNOWN:DNS resolution failed for :10000: UNKNOWN: unparseable host:port: ':10000' {created_time:\"2023-05-28T17:49:09.211233993+00:00\", grpc_status:14}\"\n>",
     "output_type": "error",
     "traceback": [
      "\u001b[1;31m---------------------------------------------------------------------------\u001b[0m",
      "\u001b[1;31m_InactiveRpcError\u001b[0m                         Traceback (most recent call last)",
      "Cell \u001b[1;32mIn[71], line 3\u001b[0m\n\u001b[0;32m      1\u001b[0m \u001b[38;5;66;03m# Test query\u001b[39;00m\n\u001b[0;32m      2\u001b[0m NUM_NEIGHBOURS \u001b[38;5;241m=\u001b[39m \u001b[38;5;241m20\u001b[39m\n\u001b[1;32m----> 3\u001b[0m response \u001b[38;5;241m=\u001b[39m \u001b[43mmy_index_endpoint\u001b[49m\u001b[38;5;241;43m.\u001b[39;49m\u001b[43mmatch\u001b[49m\u001b[43m(\u001b[49m\u001b[43m \u001b[49m\u001b[43mdeployed_index_id\u001b[49m\u001b[43m \u001b[49m\u001b[38;5;241;43m=\u001b[39;49m\u001b[43m \u001b[49m\u001b[38;5;124;43m\"\u001b[39;49m\u001b[38;5;124;43mdeployed_index_id_unique\u001b[39;49m\u001b[38;5;124;43m\"\u001b[39;49m\u001b[43m,\u001b[49m\n\u001b[0;32m      4\u001b[0m \u001b[43m                                    \u001b[49m\u001b[43mqueries\u001b[49m\u001b[43m           \u001b[49m\u001b[38;5;241;43m=\u001b[39;49m\u001b[43m \u001b[49m\u001b[43m[\u001b[49m\u001b[43mtest_embeddings\u001b[49m\u001b[38;5;241;43m.\u001b[39;49m\u001b[43mtolist\u001b[49m\u001b[43m(\u001b[49m\u001b[43m)\u001b[49m\u001b[43m]\u001b[49m\u001b[43m,\u001b[49m\n\u001b[0;32m      5\u001b[0m \u001b[43m                                    \u001b[49m\u001b[43mnum_neighbors\u001b[49m\u001b[43m     \u001b[49m\u001b[38;5;241;43m=\u001b[39;49m\u001b[43m \u001b[49m\u001b[43mNUM_NEIGHBOURS\u001b[49m\u001b[43m,\u001b[49m\n\u001b[0;32m      6\u001b[0m \u001b[43m                                  \u001b[49m\u001b[43m)\u001b[49m\n",
      "File \u001b[1;32m~\\AppData\\Roaming\\Python\\Python39\\site-packages\\google\\cloud\\aiplatform\\matching_engine\\matching_engine_index_endpoint.py:1139\u001b[0m, in \u001b[0;36mMatchingEngineIndexEndpoint.match\u001b[1;34m(self, deployed_index_id, queries, num_neighbors, filter)\u001b[0m\n\u001b[0;32m   1136\u001b[0m batch_request\u001b[38;5;241m.\u001b[39mrequests\u001b[38;5;241m.\u001b[39mappend(batch_request_for_index)\n\u001b[0;32m   1138\u001b[0m \u001b[38;5;66;03m# Perform the request\u001b[39;00m\n\u001b[1;32m-> 1139\u001b[0m response \u001b[38;5;241m=\u001b[39m \u001b[43mstub\u001b[49m\u001b[38;5;241;43m.\u001b[39;49m\u001b[43mBatchMatch\u001b[49m\u001b[43m(\u001b[49m\u001b[43mbatch_request\u001b[49m\u001b[43m)\u001b[49m\n\u001b[0;32m   1141\u001b[0m \u001b[38;5;66;03m# Wrap the results in MatchNeighbor objects and return\u001b[39;00m\n\u001b[0;32m   1142\u001b[0m \u001b[38;5;28;01mreturn\u001b[39;00m [\n\u001b[0;32m   1143\u001b[0m     [\n\u001b[0;32m   1144\u001b[0m         MatchNeighbor(\u001b[38;5;28mid\u001b[39m\u001b[38;5;241m=\u001b[39mneighbor\u001b[38;5;241m.\u001b[39mid, distance\u001b[38;5;241m=\u001b[39mneighbor\u001b[38;5;241m.\u001b[39mdistance)\n\u001b[1;32m   (...)\u001b[0m\n\u001b[0;32m   1147\u001b[0m     \u001b[38;5;28;01mfor\u001b[39;00m embedding_neighbors \u001b[38;5;129;01min\u001b[39;00m response\u001b[38;5;241m.\u001b[39mresponses[\u001b[38;5;241m0\u001b[39m]\u001b[38;5;241m.\u001b[39mresponses\n\u001b[0;32m   1148\u001b[0m ]\n",
      "File \u001b[1;32m~\\AppData\\Roaming\\Python\\Python39\\site-packages\\grpc\\_channel.py:1030\u001b[0m, in \u001b[0;36m_UnaryUnaryMultiCallable.__call__\u001b[1;34m(self, request, timeout, metadata, credentials, wait_for_ready, compression)\u001b[0m\n\u001b[0;32m   1021\u001b[0m \u001b[38;5;28;01mdef\u001b[39;00m \u001b[38;5;21m__call__\u001b[39m(\u001b[38;5;28mself\u001b[39m,\n\u001b[0;32m   1022\u001b[0m              request: Any,\n\u001b[0;32m   1023\u001b[0m              timeout: Optional[\u001b[38;5;28mfloat\u001b[39m] \u001b[38;5;241m=\u001b[39m \u001b[38;5;28;01mNone\u001b[39;00m,\n\u001b[1;32m   (...)\u001b[0m\n\u001b[0;32m   1026\u001b[0m              wait_for_ready: Optional[\u001b[38;5;28mbool\u001b[39m] \u001b[38;5;241m=\u001b[39m \u001b[38;5;28;01mNone\u001b[39;00m,\n\u001b[0;32m   1027\u001b[0m              compression: Optional[grpc\u001b[38;5;241m.\u001b[39mCompression] \u001b[38;5;241m=\u001b[39m \u001b[38;5;28;01mNone\u001b[39;00m) \u001b[38;5;241m-\u001b[39m\u001b[38;5;241m>\u001b[39m Any:\n\u001b[0;32m   1028\u001b[0m     state, call, \u001b[38;5;241m=\u001b[39m \u001b[38;5;28mself\u001b[39m\u001b[38;5;241m.\u001b[39m_blocking(request, timeout, metadata, credentials,\n\u001b[0;32m   1029\u001b[0m                                   wait_for_ready, compression)\n\u001b[1;32m-> 1030\u001b[0m     \u001b[38;5;28;01mreturn\u001b[39;00m \u001b[43m_end_unary_response_blocking\u001b[49m\u001b[43m(\u001b[49m\u001b[43mstate\u001b[49m\u001b[43m,\u001b[49m\u001b[43m \u001b[49m\u001b[43mcall\u001b[49m\u001b[43m,\u001b[49m\u001b[43m \u001b[49m\u001b[38;5;28;43;01mFalse\u001b[39;49;00m\u001b[43m,\u001b[49m\u001b[43m \u001b[49m\u001b[38;5;28;43;01mNone\u001b[39;49;00m\u001b[43m)\u001b[49m\n",
      "File \u001b[1;32m~\\AppData\\Roaming\\Python\\Python39\\site-packages\\grpc\\_channel.py:910\u001b[0m, in \u001b[0;36m_end_unary_response_blocking\u001b[1;34m(state, call, with_call, deadline)\u001b[0m\n\u001b[0;32m    908\u001b[0m         \u001b[38;5;28;01mreturn\u001b[39;00m state\u001b[38;5;241m.\u001b[39mresponse\n\u001b[0;32m    909\u001b[0m \u001b[38;5;28;01melse\u001b[39;00m:\n\u001b[1;32m--> 910\u001b[0m     \u001b[38;5;28;01mraise\u001b[39;00m _InactiveRpcError(state)\n",
      "\u001b[1;31m_InactiveRpcError\u001b[0m: <_InactiveRpcError of RPC that terminated with:\n\tstatus = StatusCode.UNAVAILABLE\n\tdetails = \"DNS resolution failed for :10000: UNKNOWN: unparseable host:port: ':10000'\"\n\tdebug_error_string = \"UNKNOWN:DNS resolution failed for :10000: UNKNOWN: unparseable host:port: ':10000' {created_time:\"2023-05-28T17:49:09.211233993+00:00\", grpc_status:14}\"\n>"
     ]
    }
   ],
   "source": [
    "# Test query\n",
    "NUM_NEIGHBOURS = 20\n",
    "response = my_index_endpoint.match( deployed_index_id = \"deployed_index_id_unique\",\n",
    "                                    queries           = [test_embeddings.tolist()],\n",
    "                                    num_neighbors     = NUM_NEIGHBOURS,\n",
    "                                  )"
   ]
  },
  {
   "cell_type": "code",
   "execution_count": null,
   "id": "8912a6db",
   "metadata": {},
   "outputs": [],
   "source": [
    "response"
   ]
  },
  {
   "cell_type": "code",
   "execution_count": null,
   "id": "37ee6929",
   "metadata": {},
   "outputs": [],
   "source": [
    "neighbor_ids = [neighbor.id for neighbor in response[0]]\n",
    "neighbor_distances = [neighbor.distance for neighbor in response[0]]\n",
    "\n",
    "for match_index, neighbor in enumerate(response[0]):\n",
    "    titles = df[df.id.astype(str) == neighbor.id].title.tolist()\n",
    "\n",
    "    if len(titles) > 0:\n",
    "        print(\n",
    "            f\"{match_index}: title = '{titles[0]}', distance = {neighbor.distance:0.2f}\"\n",
    "        )"
   ]
  },
  {
   "cell_type": "code",
   "execution_count": null,
   "id": "f6a8afff",
   "metadata": {},
   "outputs": [],
   "source": []
  },
  {
   "cell_type": "code",
   "execution_count": null,
   "id": "e8328d0f",
   "metadata": {},
   "outputs": [],
   "source": []
  },
  {
   "cell_type": "code",
   "execution_count": null,
   "id": "306e39d1",
   "metadata": {},
   "outputs": [],
   "source": []
  },
  {
   "cell_type": "code",
   "execution_count": null,
   "id": "9ee64cf3",
   "metadata": {},
   "outputs": [],
   "source": []
  },
  {
   "cell_type": "code",
   "execution_count": null,
   "id": "fcad9af7",
   "metadata": {},
   "outputs": [],
   "source": [
    "CLEANING UP"
   ]
  },
  {
   "cell_type": "code",
   "execution_count": 72,
   "id": "f391abd6",
   "metadata": {},
   "outputs": [
    {
     "name": "stdout",
     "output_type": "stream",
     "text": [
      "Undeploying MatchingEngineIndexEndpoint index_endpoint: projects/473197248954/locations/us-central1/indexEndpoints/5787503753171042304\n"
     ]
    },
    {
     "name": "stderr",
     "output_type": "stream",
     "text": [
      "INFO:google.cloud.aiplatform.matching_engine.matching_engine_index_endpoint:Undeploying MatchingEngineIndexEndpoint index_endpoint: projects/473197248954/locations/us-central1/indexEndpoints/5787503753171042304\n"
     ]
    },
    {
     "name": "stdout",
     "output_type": "stream",
     "text": [
      "Undeploy MatchingEngineIndexEndpoint index_endpoint backing LRO: projects/473197248954/locations/us-central1/indexEndpoints/5787503753171042304/operations/8072115399010811904\n"
     ]
    },
    {
     "name": "stderr",
     "output_type": "stream",
     "text": [
      "INFO:google.cloud.aiplatform.matching_engine.matching_engine_index_endpoint:Undeploy MatchingEngineIndexEndpoint index_endpoint backing LRO: projects/473197248954/locations/us-central1/indexEndpoints/5787503753171042304/operations/8072115399010811904\n"
     ]
    },
    {
     "name": "stdout",
     "output_type": "stream",
     "text": [
      "MatchingEngineIndexEndpoint index_endpoint undeployed. Resource name: projects/473197248954/locations/us-central1/indexEndpoints/5787503753171042304\n"
     ]
    },
    {
     "name": "stderr",
     "output_type": "stream",
     "text": [
      "INFO:google.cloud.aiplatform.matching_engine.matching_engine_index_endpoint:MatchingEngineIndexEndpoint index_endpoint undeployed. Resource name: projects/473197248954/locations/us-central1/indexEndpoints/5787503753171042304\n"
     ]
    },
    {
     "name": "stdout",
     "output_type": "stream",
     "text": [
      "Deleting MatchingEngineIndexEndpoint : projects/473197248954/locations/us-central1/indexEndpoints/5787503753171042304\n"
     ]
    },
    {
     "name": "stderr",
     "output_type": "stream",
     "text": [
      "INFO:google.cloud.aiplatform.base:Deleting MatchingEngineIndexEndpoint : projects/473197248954/locations/us-central1/indexEndpoints/5787503753171042304\n"
     ]
    },
    {
     "name": "stdout",
     "output_type": "stream",
     "text": [
      "Delete MatchingEngineIndexEndpoint  backing LRO: projects/473197248954/locations/us-central1/operations/2627263449519882240\n"
     ]
    },
    {
     "name": "stderr",
     "output_type": "stream",
     "text": [
      "INFO:google.cloud.aiplatform.base:Delete MatchingEngineIndexEndpoint  backing LRO: projects/473197248954/locations/us-central1/operations/2627263449519882240\n"
     ]
    },
    {
     "name": "stdout",
     "output_type": "stream",
     "text": [
      "MatchingEngineIndexEndpoint deleted. . Resource name: projects/473197248954/locations/us-central1/indexEndpoints/5787503753171042304\n"
     ]
    },
    {
     "name": "stderr",
     "output_type": "stream",
     "text": [
      "INFO:google.cloud.aiplatform.base:MatchingEngineIndexEndpoint deleted. . Resource name: projects/473197248954/locations/us-central1/indexEndpoints/5787503753171042304\n"
     ]
    }
   ],
   "source": [
    "# Force undeployment of indexes and delete endpoint\n",
    "my_index_endpoint.delete(force=True)"
   ]
  },
  {
   "cell_type": "code",
   "execution_count": 73,
   "id": "484a0b5e",
   "metadata": {},
   "outputs": [
    {
     "name": "stdout",
     "output_type": "stream",
     "text": [
      "Deleting MatchingEngineIndex : projects/473197248954/locations/us-central1/indexes/966681827047636992\n"
     ]
    },
    {
     "name": "stderr",
     "output_type": "stream",
     "text": [
      "INFO:google.cloud.aiplatform.base:Deleting MatchingEngineIndex : projects/473197248954/locations/us-central1/indexes/966681827047636992\n"
     ]
    },
    {
     "name": "stdout",
     "output_type": "stream",
     "text": [
      "Delete MatchingEngineIndex  backing LRO: projects/473197248954/locations/us-central1/indexes/966681827047636992/operations/8095759297054507008\n"
     ]
    },
    {
     "name": "stderr",
     "output_type": "stream",
     "text": [
      "INFO:google.cloud.aiplatform.base:Delete MatchingEngineIndex  backing LRO: projects/473197248954/locations/us-central1/indexes/966681827047636992/operations/8095759297054507008\n"
     ]
    },
    {
     "name": "stdout",
     "output_type": "stream",
     "text": [
      "MatchingEngineIndex deleted. . Resource name: projects/473197248954/locations/us-central1/indexes/966681827047636992\n"
     ]
    },
    {
     "name": "stderr",
     "output_type": "stream",
     "text": [
      "INFO:google.cloud.aiplatform.base:MatchingEngineIndex deleted. . Resource name: projects/473197248954/locations/us-central1/indexes/966681827047636992\n"
     ]
    }
   ],
   "source": [
    "# Delete indexes\n",
    "tree_ah_index.delete()"
   ]
  },
  {
   "cell_type": "code",
   "execution_count": null,
   "id": "b430cc84",
   "metadata": {},
   "outputs": [],
   "source": []
  },
  {
   "cell_type": "code",
   "execution_count": null,
   "id": "37d9f5a7",
   "metadata": {},
   "outputs": [],
   "source": []
  },
  {
   "cell_type": "code",
   "execution_count": null,
   "id": "2afa5837",
   "metadata": {},
   "outputs": [],
   "source": []
  },
  {
   "cell_type": "code",
   "execution_count": 103,
   "id": "853811da",
   "metadata": {},
   "outputs": [],
   "source": [
    "import google.cloud.aiplatform_v1beta1 as aiplatform_v1beta1"
   ]
  },
  {
   "cell_type": "code",
   "execution_count": 101,
   "id": "41a821d8",
   "metadata": {},
   "outputs": [
    {
     "ename": "ModuleNotFoundError",
     "evalue": "No module named 'google.cloud.aiplatform.aiplatform_v1beta1'",
     "output_type": "error",
     "traceback": [
      "\u001b[1;31m---------------------------------------------------------------------------\u001b[0m",
      "\u001b[1;31mModuleNotFoundError\u001b[0m                       Traceback (most recent call last)",
      "Cell \u001b[1;32mIn[101], line 1\u001b[0m\n\u001b[1;32m----> 1\u001b[0m \u001b[38;5;28;01mimport\u001b[39;00m \u001b[38;5;21;01mgoogle\u001b[39;00m\u001b[38;5;21;01m.\u001b[39;00m\u001b[38;5;21;01mcloud\u001b[39;00m\u001b[38;5;21;01m.\u001b[39;00m\u001b[38;5;21;01maiplatform\u001b[39;00m\u001b[38;5;21;01m.\u001b[39;00m\u001b[38;5;21;01maiplatform_v1beta1\u001b[39;00m \u001b[38;5;28;01mas\u001b[39;00m \u001b[38;5;21;01maiplatform_v1beta1\u001b[39;00m\n",
      "\u001b[1;31mModuleNotFoundError\u001b[0m: No module named 'google.cloud.aiplatform.aiplatform_v1beta1'"
     ]
    }
   ],
   "source": [
    "import google.cloud.aiplatform.aiplatform_v1beta1 as aiplatform_v1beta1"
   ]
  },
  {
   "cell_type": "code",
   "execution_count": null,
   "id": "36c6fced",
   "metadata": {},
   "outputs": [],
   "source": []
  }
 ],
 "metadata": {
  "kernelspec": {
   "display_name": "Python 3 (ipykernel)",
   "language": "python",
   "name": "python3"
  },
  "language_info": {
   "codemirror_mode": {
    "name": "ipython",
    "version": 3
   },
   "file_extension": ".py",
   "mimetype": "text/x-python",
   "name": "python",
   "nbconvert_exporter": "python",
   "pygments_lexer": "ipython3",
   "version": "3.9.13"
  }
 },
 "nbformat": 4,
 "nbformat_minor": 5
}
