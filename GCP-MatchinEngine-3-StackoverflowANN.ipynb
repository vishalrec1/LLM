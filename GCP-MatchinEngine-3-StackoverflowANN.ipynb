{
 "cells": [
  {
   "cell_type": "markdown",
   "id": "5b446300",
   "metadata": {},
   "source": [
    "Source : https://github.com/GoogleCloudPlatform/vertex-ai-samples/blob/main/notebooks/official/matching_engine/sdk_matching_engine_create_stack_overflow_embeddings.ipynb"
   ]
  },
  {
   "cell_type": "markdown",
   "id": "5d20dd0f",
   "metadata": {},
   "source": [
    "See notebook \"GCP-MatchinEngine-3-understanding.ipynb\" for more detailed analysis"
   ]
  },
  {
   "cell_type": "code",
   "execution_count": 1,
   "id": "a97eb26d",
   "metadata": {},
   "outputs": [],
   "source": [
    "from google.cloud import aiplatform,storage,bigquery\n",
    "import os"
   ]
  },
  {
   "cell_type": "code",
   "execution_count": 2,
   "id": "a3b13187",
   "metadata": {},
   "outputs": [],
   "source": [
    "os.environ['GOOGLE_APPLICATION_CREDENTIALS']= \"L:\\\\gcp-project-0523-628d01f95284.json\""
   ]
  },
  {
   "cell_type": "code",
   "execution_count": 3,
   "id": "becc029a",
   "metadata": {},
   "outputs": [],
   "source": [
    "PROJECT_ID = \"gcp-project-0523\"\n",
    "REGION     = 'us-central1'\n",
    "BUCKET     = 'gcp-project-0523-ann-bucket'\n",
    "BUCKET_URI = 'gs://gcp-project-0523-ann-bucket'"
   ]
  },
  {
   "cell_type": "code",
   "execution_count": 4,
   "id": "8104474c",
   "metadata": {},
   "outputs": [],
   "source": [
    "aiplatform.init(project        = PROJECT_ID,\n",
    "                location       = REGION,\n",
    "                staging_bucket = BUCKET_URI)"
   ]
  },
  {
   "cell_type": "code",
   "execution_count": 5,
   "id": "f72d59b0",
   "metadata": {},
   "outputs": [
    {
     "name": "stdout",
     "output_type": "stream",
     "text": [
      "CPU times: total: 156 ms\n",
      "Wall time: 14.9 s\n"
     ]
    },
    {
     "data": {
      "text/html": [
       "<div>\n",
       "<style scoped>\n",
       "    .dataframe tbody tr th:only-of-type {\n",
       "        vertical-align: middle;\n",
       "    }\n",
       "\n",
       "    .dataframe tbody tr th {\n",
       "        vertical-align: top;\n",
       "    }\n",
       "\n",
       "    .dataframe thead th {\n",
       "        text-align: right;\n",
       "    }\n",
       "</style>\n",
       "<table border=\"1\" class=\"dataframe\">\n",
       "  <thead>\n",
       "    <tr style=\"text-align: right;\">\n",
       "      <th></th>\n",
       "      <th>id</th>\n",
       "      <th>title</th>\n",
       "      <th>body</th>\n",
       "      <th>tags</th>\n",
       "      <th>answers</th>\n",
       "      <th>score</th>\n",
       "    </tr>\n",
       "  </thead>\n",
       "  <tbody>\n",
       "    <tr>\n",
       "      <th>0</th>\n",
       "      <td>65901634</td>\n",
       "      <td>Matplotlib figure '.supxlabel' does not work</td>\n",
       "      <td>&lt;p&gt;I'm trying to set figure labels for my cond...</td>\n",
       "      <td>python|matplotlib|plot|attributeerror</td>\n",
       "      <td>&lt;p&gt;I got into the same problem when using the ...</td>\n",
       "      <td>14</td>\n",
       "    </tr>\n",
       "    <tr>\n",
       "      <th>1</th>\n",
       "      <td>33436221</td>\n",
       "      <td>Displaying rotatable 3D plots in IPython or Ju...</td>\n",
       "      <td>&lt;p&gt;(Mac OSX 10.10.5)&lt;/p&gt;\\n\\n&lt;p&gt;I can reproduce...</td>\n",
       "      <td>macos|matplotlib|plot|jupyter-notebook|ipython</td>\n",
       "      <td>&lt;p&gt;Use &lt;code&gt;%matplotlib notebook&lt;/code&gt; inste...</td>\n",
       "      <td>157</td>\n",
       "    </tr>\n",
       "    <tr>\n",
       "      <th>2</th>\n",
       "      <td>7791574</td>\n",
       "      <td>How can I print a Python file's docstring when...</td>\n",
       "      <td>&lt;p&gt;I have a Python script with a docstring. Wh...</td>\n",
       "      <td>python|docstring</td>\n",
       "      <td>&lt;p&gt;Here is an alternative that does not hardco...</td>\n",
       "      <td>14</td>\n",
       "    </tr>\n",
       "    <tr>\n",
       "      <th>3</th>\n",
       "      <td>12410242</td>\n",
       "      <td>python capitalize first letter only</td>\n",
       "      <td>&lt;p&gt;I am aware .capitalize() capitalizes the fi...</td>\n",
       "      <td>python|capitalize|letter</td>\n",
       "      <td>&lt;p&gt;This is similar to @Anon's answer in that i...</td>\n",
       "      <td>40</td>\n",
       "    </tr>\n",
       "    <tr>\n",
       "      <th>4</th>\n",
       "      <td>39402795</td>\n",
       "      <td>How to pad a string with leading zeros in Pyth...</td>\n",
       "      <td>&lt;p&gt;I'm trying to make &lt;code&gt;length = 001&lt;/code...</td>\n",
       "      <td>python|python-3.x|math|rounding</td>\n",
       "      <td>&lt;p&gt;Make use of the &lt;code&gt;zfill()&lt;/code&gt; helper...</td>\n",
       "      <td>176</td>\n",
       "    </tr>\n",
       "  </tbody>\n",
       "</table>\n",
       "</div>"
      ],
      "text/plain": [
       "         id                                              title  \\\n",
       "0  65901634       Matplotlib figure '.supxlabel' does not work   \n",
       "1  33436221  Displaying rotatable 3D plots in IPython or Ju...   \n",
       "2   7791574  How can I print a Python file's docstring when...   \n",
       "3  12410242                python capitalize first letter only   \n",
       "4  39402795  How to pad a string with leading zeros in Pyth...   \n",
       "\n",
       "                                                body  \\\n",
       "0  <p>I'm trying to set figure labels for my cond...   \n",
       "1  <p>(Mac OSX 10.10.5)</p>\\n\\n<p>I can reproduce...   \n",
       "2  <p>I have a Python script with a docstring. Wh...   \n",
       "3  <p>I am aware .capitalize() capitalizes the fi...   \n",
       "4  <p>I'm trying to make <code>length = 001</code...   \n",
       "\n",
       "                                             tags  \\\n",
       "0           python|matplotlib|plot|attributeerror   \n",
       "1  macos|matplotlib|plot|jupyter-notebook|ipython   \n",
       "2                                python|docstring   \n",
       "3                        python|capitalize|letter   \n",
       "4                 python|python-3.x|math|rounding   \n",
       "\n",
       "                                             answers  score  \n",
       "0  <p>I got into the same problem when using the ...     14  \n",
       "1  <p>Use <code>%matplotlib notebook</code> inste...    157  \n",
       "2  <p>Here is an alternative that does not hardco...     14  \n",
       "3  <p>This is similar to @Anon's answer in that i...     40  \n",
       "4  <p>Make use of the <code>zfill()</code> helper...    176  "
      ]
     },
     "execution_count": 5,
     "metadata": {},
     "output_type": "execute_result"
    }
   ],
   "source": [
    "%%time\n",
    "from google.cloud import bigquery\n",
    "\n",
    "client = bigquery.Client(project=PROJECT_ID)\n",
    "\n",
    "NUM_ROWS = 10000\n",
    "\n",
    "QUERY = f\"\"\"\n",
    "        SELECT distinct q.id, q.title, q.body, q.tags, a.body as answers, a.score \n",
    "        FROM (SELECT * FROM `bigquery-public-data.stackoverflow.posts_questions` where Score>0 ORDER BY View_Count desc) AS q \n",
    "              INNER JOIN \n",
    "              (SELECT * FROM `bigquery-public-data.stackoverflow.posts_answers`  where Score>0 ORDER BY Score desc) AS a \n",
    "              ON q.id = a.parent_id \n",
    "        where q.tags like '%python%'\n",
    "        LIMIT {NUM_ROWS};\n",
    "        \"\"\"\n",
    "\n",
    "query_job = client.query(QUERY)\n",
    "rows = query_job.result()\n",
    "\n",
    "\n",
    "# Convert to a dataframe\n",
    "df = rows.to_dataframe()\n",
    "\n",
    "# Examine the data\n",
    "df.head()"
   ]
  },
  {
   "cell_type": "code",
   "execution_count": 6,
   "id": "a5ddcb86",
   "metadata": {},
   "outputs": [
    {
     "data": {
      "text/plain": [
       "10000"
      ]
     },
     "execution_count": 6,
     "metadata": {},
     "output_type": "execute_result"
    }
   ],
   "source": [
    "# Extract the question ids and question text\n",
    "ids = df.id.tolist()\n",
    "# Verify the length\n",
    "len(ids)"
   ]
  },
  {
   "cell_type": "code",
   "execution_count": 7,
   "id": "93d9874d",
   "metadata": {},
   "outputs": [
    {
     "data": {
      "text/plain": [
       "10000"
      ]
     },
     "execution_count": 7,
     "metadata": {},
     "output_type": "execute_result"
    }
   ],
   "source": [
    "questions = df.title.tolist()\n",
    "len(questions)"
   ]
  },
  {
   "cell_type": "code",
   "execution_count": 72,
   "id": "2e2c64cb",
   "metadata": {},
   "outputs": [
    {
     "data": {
      "text/html": [
       "<div>\n",
       "<style scoped>\n",
       "    .dataframe tbody tr th:only-of-type {\n",
       "        vertical-align: middle;\n",
       "    }\n",
       "\n",
       "    .dataframe tbody tr th {\n",
       "        vertical-align: top;\n",
       "    }\n",
       "\n",
       "    .dataframe thead th {\n",
       "        text-align: right;\n",
       "    }\n",
       "</style>\n",
       "<table border=\"1\" class=\"dataframe\">\n",
       "  <thead>\n",
       "    <tr style=\"text-align: right;\">\n",
       "      <th></th>\n",
       "      <th>id</th>\n",
       "      <th>title</th>\n",
       "      <th>body</th>\n",
       "      <th>tags</th>\n",
       "      <th>answers</th>\n",
       "      <th>score</th>\n",
       "    </tr>\n",
       "  </thead>\n",
       "  <tbody>\n",
       "    <tr>\n",
       "      <th>2392</th>\n",
       "      <td>26678457</td>\n",
       "      <td>How do I install python3-gi within virtualenv?</td>\n",
       "      <td>&lt;p&gt;I'm following the &lt;a href=\"http://python-gt...</td>\n",
       "      <td>python|python-3.x|virtualenv</td>\n",
       "      <td>&lt;p&gt;I installed &lt;a href=\"https://pypi.python.or...</td>\n",
       "      <td>1</td>\n",
       "    </tr>\n",
       "  </tbody>\n",
       "</table>\n",
       "</div>"
      ],
      "text/plain": [
       "            id                                           title  \\\n",
       "2392  26678457  How do I install python3-gi within virtualenv?   \n",
       "\n",
       "                                                   body  \\\n",
       "2392  <p>I'm following the <a href=\"http://python-gt...   \n",
       "\n",
       "                              tags  \\\n",
       "2392  python|python-3.x|virtualenv   \n",
       "\n",
       "                                                answers  score  \n",
       "2392  <p>I installed <a href=\"https://pypi.python.or...      1  "
      ]
     },
     "execution_count": 72,
     "metadata": {},
     "output_type": "execute_result"
    }
   ],
   "source": [
    "df[df.id==26678457]"
   ]
  },
  {
   "cell_type": "code",
   "execution_count": null,
   "id": "d989ae83",
   "metadata": {},
   "outputs": [],
   "source": []
  },
  {
   "cell_type": "markdown",
   "id": "0cc9211b",
   "metadata": {},
   "source": [
    "### Instantiate the text encoding model"
   ]
  },
  {
   "cell_type": "markdown",
   "id": "2fce6d18",
   "metadata": {},
   "source": [
    "Use the sentence-t5 encoder developed by Google for converting text to embeddings.\n",
    "https://tfhub.dev/google/sentence-t5/st5-base/1\n",
    "\n",
    "    The sentence-T5 family of models encode text into high-dimensional vectors that can be used for text classification, semantic similarity, clustering and other natural language processing tasks.\n",
    "\n",
    "    Our model is built on top of T5 (i.e. the Text-To-Text Transfer Transformer). It is trained on a variety of data sources and initialized from pre-trained T5 models with different model sizes. The input is variable-length English text and the output is a 768-dimensional vector. The sentence-T5 base model employs a 12-layer transformer architecture as the T5 base model does."
   ]
  },
  {
   "cell_type": "code",
   "execution_count": 8,
   "id": "95935a2a",
   "metadata": {},
   "outputs": [
    {
     "name": "stderr",
     "output_type": "stream",
     "text": [
      "WARNING:absl:Importing a function (__inference_<lambda>_9720) with ops with unsaved custom gradients. Will likely fail if a gradient is requested.\n",
      "WARNING:absl:Importing a function (__inference_<lambda>_3354) with ops with unsaved custom gradients. Will likely fail if a gradient is requested.\n",
      "WARNING:absl:Importing a function (__inference_<lambda>_6722) with ops with unsaved custom gradients. Will likely fail if a gradient is requested.\n"
     ]
    }
   ],
   "source": [
    "import tensorflow as tf\n",
    "import tensorflow_hub as hub\n",
    "# Registers the ops.\n",
    "import tensorflow_text as text  # noqa: F401\n",
    "\n",
    "hub_url = \"https://tfhub.dev/google/sentence-t5/st5-base/1\"\n",
    "\n",
    "encoder = hub.KerasLayer(hub_url)"
   ]
  },
  {
   "cell_type": "markdown",
   "id": "8014414f",
   "metadata": {},
   "source": [
    "### Defining an encoding function\n",
    "    Define a function to be used later that will take sentences and convert them to embeddings."
   ]
  },
  {
   "cell_type": "code",
   "execution_count": 9,
   "id": "d12a7292",
   "metadata": {},
   "outputs": [],
   "source": [
    "from typing import List\n",
    "\n",
    "import numpy as np\n",
    "from tqdm.auto import tqdm"
   ]
  },
  {
   "cell_type": "code",
   "execution_count": 10,
   "id": "5131c50a",
   "metadata": {},
   "outputs": [],
   "source": [
    "def encode_text_to_embedding(text_encoder: hub.KerasLayer,\n",
    "                             sentences: List[str], \n",
    "                             batch_size: int = 500\n",
    "                            ) -> np.ndarray:\n",
    "    embeddings_list = []\n",
    "\n",
    "    # Process data in chunks to prevent out-of-memory errors\n",
    "    for i in tqdm(range(0, len(sentences), batch_size)):\n",
    "        batch = sentences[i : i + batch_size]\n",
    "        embeddings_list.append(text_encoder(tf.constant(batch)))\n",
    "\n",
    "    return np.squeeze(np.column_stack(embeddings_list))"
   ]
  },
  {
   "cell_type": "markdown",
   "id": "e73279bb",
   "metadata": {},
   "source": [
    "### Test the encoding function"
   ]
  },
  {
   "cell_type": "markdown",
   "id": "7038482f",
   "metadata": {},
   "source": [
    "Encode a subset of data and see if the embeddings and distance metrics make sense.\n",
    "\n",
    "According to the sentence-T5 research paper (https://arxiv.org/pdf/2108.08877.pdf), the similarity of embeddings is calculated using the dot-product."
   ]
  },
  {
   "cell_type": "code",
   "execution_count": 12,
   "id": "fbeeffb6",
   "metadata": {},
   "outputs": [
    {
     "data": {
      "application/vnd.jupyter.widget-view+json": {
       "model_id": "2db06944c94248c89917574544923ca6",
       "version_major": 2,
       "version_minor": 0
      },
      "text/plain": [
       "  0%|          | 0/1 [00:00<?, ?it/s]"
      ]
     },
     "metadata": {},
     "output_type": "display_data"
    }
   ],
   "source": [
    "# Encode 500 questions\n",
    "\n",
    "questions = df.title.tolist()[:500]\n",
    "\n",
    "question_embeddings = encode_text_to_embedding(text_encoder=encoder, sentences=questions )"
   ]
  },
  {
   "cell_type": "code",
   "execution_count": 13,
   "id": "ca61b26d",
   "metadata": {},
   "outputs": [],
   "source": [
    "DIMENSIONS = len(question_embeddings[0])"
   ]
  },
  {
   "cell_type": "code",
   "execution_count": 14,
   "id": "6606ffa4",
   "metadata": {},
   "outputs": [
    {
     "data": {
      "text/plain": [
       "768"
      ]
     },
     "execution_count": 14,
     "metadata": {},
     "output_type": "execute_result"
    }
   ],
   "source": [
    "DIMENSIONS"
   ]
  },
  {
   "cell_type": "code",
   "execution_count": 15,
   "id": "2c9c90d6",
   "metadata": {},
   "outputs": [
    {
     "name": "stdout",
     "output_type": "stream",
     "text": [
      "Query question = Matplotlib figure '.supxlabel' does not work\n",
      "\t0: Matplotlib figure '.supxlabel' does not work: 1.0\n",
      "\t1: Why Python ggplot returns name 'aes' is not defined?: 0.8768320083618164\n",
      "\t2: When I use matplotlib in jupyter notebook,it always raise \" matplotlib is currently using a non-GUI backend\" error?: 0.8750013113021851\n",
      "\t3: Pylint showing invalid variable name in output: 0.8627825379371643\n",
      "\t4: How to avoid overlapping of labels & autopct in a matplotlib pie chart?: 0.8541396260261536\n",
      "\t5: Keras: \"RuntimeError: Failed to import pydot.\" after installing graphviz and pydot: 0.8539811372756958\n",
      "\t6: Break // in x axis of matplotlib: 0.8530298471450806\n",
      "\t7: 'image \"pyimage2\" doesn't exist'?: 0.8514245748519897\n",
      "\t8: Tkinter code using font module can't run from command line?: 0.8474218845367432\n",
      "\t9: Cannot find col function in pyspark: 0.8422090411186218\n",
      "\t10: Python pickle error: UnicodeDecodeError: 0.8415253758430481\n",
      "\t11: Python pickle error: UnicodeDecodeError: 0.8415253758430481\n",
      "\t12: How to 'turn off' blurry effect of imshow() in matplotlib?: 0.8394776582717896\n",
      "\t13: PyQt:How do I display a image properly?: 0.8354111909866333\n",
      "\t14: Latest 'pip' fails with \"requires setuptools >= 0.8 for dist-info\": 0.8342418670654297\n",
      "\t15: Receiving Import Error: No Module named ***, but has __init__.py: 0.8336495161056519\n",
      "\t16: AttributeError: 'int' object has no attribute '_sa_instance_state': 0.8332266807556152\n",
      "\t17: Python - tempfile.TemporaryFile cannot be read; why?: 0.8312355279922485\n",
      "\t18: Python: OSError: [Errno 2] No such file or directory: '': 0.8308477997779846\n",
      "\t19: Django get_or_create fails to set field when used with iexact: 0.8300684690475464\n"
     ]
    }
   ],
   "source": [
    "question_index = 0\n",
    "\n",
    "print(f\"Query question = {questions[question_index]}\")\n",
    "scores = np.dot(question_embeddings[question_index], question_embeddings.T)\n",
    "\n",
    "# Print top 20 matches\n",
    "for index, (question, score) in enumerate(\n",
    "    sorted(zip(questions, scores), key=lambda x: x[1], reverse=True)[:20]\n",
    "):\n",
    "    print(f\"\\t{index}: {question}: {score}\")"
   ]
  },
  {
   "cell_type": "code",
   "execution_count": 16,
   "id": "73d0ab56",
   "metadata": {
    "collapsed": true
   },
   "outputs": [
    {
     "data": {
      "text/plain": [
       "array([1.        , 0.77600867, 0.75355935, 0.7701317 , 0.7532948 ,\n",
       "       0.803599  , 0.7683612 , 0.73177254, 0.81928754, 0.712507  ,\n",
       "       0.7486217 , 0.75650936, 0.6917933 , 0.71170557, 0.7674632 ,\n",
       "       0.72664917, 0.6946776 , 0.8076164 , 0.7615867 , 0.8049627 ,\n",
       "       0.735347  , 0.7117299 , 0.75184864, 0.6867894 , 0.78570294,\n",
       "       0.75756395, 0.7482575 , 0.7359009 , 0.74563944, 0.80372405,\n",
       "       0.71766245, 0.71312696, 0.6750647 , 0.6801456 , 0.7290168 ,\n",
       "       0.7963338 , 0.7509193 , 0.74277556, 0.7329016 , 0.74573076,\n",
       "       0.7330417 , 0.75013065, 0.6765859 , 0.71299046, 0.73668087,\n",
       "       0.73551565, 0.8079541 , 0.75317436, 0.78902376, 0.7890237 ,\n",
       "       0.71709245, 0.71832186, 0.76755947, 0.7152434 , 0.73595476,\n",
       "       0.7743169 , 0.7494388 , 0.8066292 , 0.7736256 , 0.7461685 ,\n",
       "       0.69805485, 0.85302985, 0.7527468 , 0.82494515, 0.74771786,\n",
       "       0.70103115, 0.6528059 , 0.8088636 , 0.74008924, 0.7430892 ,\n",
       "       0.78183854, 0.7922012 , 0.7851174 , 0.7579281 , 0.69561875,\n",
       "       0.7591462 , 0.797007  , 0.73018175, 0.6614813 , 0.70636344,\n",
       "       0.75033844, 0.7609737 , 0.77220225, 0.7137492 , 0.7270024 ,\n",
       "       0.818711  , 0.8216294 , 0.7308215 , 0.7234538 , 0.7624688 ,\n",
       "       0.7246724 , 0.71121   , 0.70701945, 0.7567228 , 0.72234905,\n",
       "       0.74605393, 0.71200866, 0.69567585, 0.7055378 , 0.72568357,\n",
       "       0.710223  , 0.71539867, 0.7585191 , 0.70914865, 0.75997996,\n",
       "       0.764517  , 0.7788303 , 0.7788303 , 0.74849117, 0.74194086,\n",
       "       0.85398114, 0.7433076 , 0.72512996, 0.70296305, 0.71880126,\n",
       "       0.71440315, 0.7371745 , 0.68598557, 0.7408036 , 0.7718053 ,\n",
       "       0.794188  , 0.7442992 , 0.69854045, 0.7909082 , 0.74361366,\n",
       "       0.7521329 , 0.8336495 , 0.80573297, 0.73489237, 0.7197416 ,\n",
       "       0.6978766 , 0.7520002 , 0.7541485 , 0.7459198 , 0.7434587 ,\n",
       "       0.80031   , 0.78294367, 0.77080846, 0.747802  , 0.71321964,\n",
       "       0.7515714 , 0.79682267, 0.75799423, 0.71979046, 0.7259619 ,\n",
       "       0.76362246, 0.705112  , 0.71872693, 0.7461514 , 0.7303997 ,\n",
       "       0.76688236, 0.7367122 , 0.7602356 , 0.7201677 , 0.7582577 ,\n",
       "       0.73664594, 0.8019707 , 0.665385  , 0.8332267 , 0.69395936,\n",
       "       0.7218922 , 0.7461397 , 0.75418   , 0.74646723, 0.71797967,\n",
       "       0.81903356, 0.67528915, 0.6990871 , 0.80522335, 0.78414696,\n",
       "       0.70349306, 0.78319186, 0.7434217 , 0.6909709 , 0.7931744 ,\n",
       "       0.69081736, 0.72146386, 0.782844  , 0.77232516, 0.79908013,\n",
       "       0.71659756, 0.74610806, 0.731794  , 0.7760006 , 0.74923384,\n",
       "       0.69338703, 0.7021282 , 0.755589  , 0.755589  , 0.7539412 ,\n",
       "       0.7036465 , 0.709726  , 0.7164086 , 0.7472687 , 0.71236765,\n",
       "       0.7463516 , 0.72158515, 0.73774374, 0.70943016, 0.7094302 ,\n",
       "       0.7038518 , 0.71897936, 0.7323797 , 0.8415254 , 0.8415254 ,\n",
       "       0.8132961 , 0.73877776, 0.73948073, 0.7585398 , 0.7585398 ,\n",
       "       0.7498673 , 0.7335408 , 0.73968154, 0.8541396 , 0.75962365,\n",
       "       0.78932416, 0.7620829 , 0.7586161 , 0.7506971 , 0.77209467,\n",
       "       0.66780186, 0.6951057 , 0.7446713 , 0.7219291 , 0.6866993 ,\n",
       "       0.7530692 , 0.71242213, 0.7720535 , 0.7388706 , 0.83006847,\n",
       "       0.81357205, 0.7126927 , 0.7637279 , 0.7569258 , 0.74552596,\n",
       "       0.6973337 , 0.6805538 , 0.66218615, 0.7181213 , 0.76810735,\n",
       "       0.75711167, 0.7402936 , 0.769799  , 0.71467423, 0.7447705 ,\n",
       "       0.80230385, 0.7163403 , 0.7390795 , 0.746372  , 0.73203063,\n",
       "       0.7437098 , 0.8271696 , 0.75723505, 0.8514246 , 0.7234255 ,\n",
       "       0.7347172 , 0.73840547, 0.71566516, 0.71566516, 0.7670289 ,\n",
       "       0.7074779 , 0.695029  , 0.685343  , 0.7172493 , 0.7649086 ,\n",
       "       0.81758165, 0.76971257, 0.7077677 , 0.8253182 , 0.7595965 ,\n",
       "       0.68239474, 0.763632  , 0.86278254, 0.77042806, 0.7544029 ,\n",
       "       0.75165814, 0.7487693 , 0.7448582 , 0.7024313 , 0.6649885 ,\n",
       "       0.71081495, 0.74799556, 0.7245785 , 0.74269587, 0.8122029 ,\n",
       "       0.8122029 , 0.7051698 , 0.68461317, 0.8010566 , 0.83947766,\n",
       "       0.72508293, 0.7513416 , 0.76972616, 0.6978953 , 0.76731324,\n",
       "       0.72198373, 0.7094552 , 0.76650614, 0.76650614, 0.81426716,\n",
       "       0.72258013, 0.7058798 , 0.73779607, 0.7505307 , 0.80549604,\n",
       "       0.7118194 , 0.7656038 , 0.707213  , 0.707213  , 0.73885685,\n",
       "       0.72606355, 0.7021914 , 0.79395795, 0.7988621 , 0.7219454 ,\n",
       "       0.7337974 , 0.68682325, 0.8028    , 0.68149936, 0.6992023 ,\n",
       "       0.7763015 , 0.7763015 , 0.7419051 , 0.82402104, 0.8257693 ,\n",
       "       0.7542871 , 0.81739664, 0.7137441 , 0.7176974 , 0.6984774 ,\n",
       "       0.70020396, 0.6599778 , 0.74425554, 0.72231615, 0.7545159 ,\n",
       "       0.8006762 , 0.7614843 , 0.73611224, 0.69785005, 0.7295014 ,\n",
       "       0.7954548 , 0.77952284, 0.7479002 , 0.73863304, 0.6942338 ,\n",
       "       0.76398605, 0.74839884, 0.7101343 , 0.6825707 , 0.7551845 ,\n",
       "       0.77967894, 0.7547085 , 0.7312726 , 0.71343374, 0.70467174,\n",
       "       0.693858  , 0.713431  , 0.765263  , 0.7595993 , 0.7682202 ,\n",
       "       0.7014396 , 0.7163435 , 0.80058074, 0.7902377 , 0.68772423,\n",
       "       0.6997631 , 0.74572974, 0.77141017, 0.7272072 , 0.78944594,\n",
       "       0.7443751 , 0.68150914, 0.7262132 , 0.65778583, 0.6949642 ,\n",
       "       0.782646  , 0.7346523 , 0.71082944, 0.68294996, 0.7340671 ,\n",
       "       0.7020354 , 0.80215096, 0.7077049 , 0.6465149 , 0.80026054,\n",
       "       0.73547554, 0.71675897, 0.7026022 , 0.71261394, 0.8474219 ,\n",
       "       0.7856828 , 0.7708886 , 0.70572317, 0.7104236 , 0.876832  ,\n",
       "       0.73765254, 0.7343961 , 0.7210218 , 0.7327107 , 0.66659826,\n",
       "       0.70172966, 0.69032633, 0.72033256, 0.73438597, 0.741552  ,\n",
       "       0.7548607 , 0.7332136 , 0.7301475 , 0.7399843 , 0.6678438 ,\n",
       "       0.7860651 , 0.7860651 , 0.744341  , 0.73255086, 0.7380943 ,\n",
       "       0.6769589 , 0.6769589 , 0.8354112 , 0.76487595, 0.75264454,\n",
       "       0.75222623, 0.68438137, 0.84220904, 0.7156387 , 0.8087832 ,\n",
       "       0.7623771 , 0.7223399 , 0.74215806, 0.7368349 , 0.7621522 ,\n",
       "       0.7332288 , 0.7325771 , 0.7128743 , 0.7471745 , 0.7501544 ,\n",
       "       0.7431096 , 0.7431096 , 0.718494  , 0.7369759 , 0.7612098 ,\n",
       "       0.7237261 , 0.74970937, 0.72016895, 0.72307515, 0.7534543 ,\n",
       "       0.7176643 , 0.75536764, 0.71699274, 0.7264299 , 0.7305149 ,\n",
       "       0.7509516 , 0.7440015 , 0.75395083, 0.73527133, 0.7614653 ,\n",
       "       0.7178785 , 0.717244  , 0.74335665, 0.7414631 , 0.6863326 ,\n",
       "       0.7506816 , 0.74296606, 0.6965382 , 0.7862357 , 0.6999226 ,\n",
       "       0.7733033 , 0.7304274 , 0.8312355 , 0.79805326, 0.72689617,\n",
       "       0.6931499 , 0.67755705, 0.69701874, 0.74632597, 0.8308478 ,\n",
       "       0.7286452 , 0.75804645, 0.76008546, 0.7175435 , 0.7691388 ,\n",
       "       0.6955761 , 0.74597776, 0.8246666 , 0.7608372 , 0.8750013 ,\n",
       "       0.74310684, 0.83424187, 0.7802517 , 0.7080538 , 0.7239721 ,\n",
       "       0.75941   , 0.7421237 , 0.73834467, 0.77100575, 0.75462174,\n",
       "       0.74326056, 0.73219025, 0.7261813 , 0.78978986, 0.76434714],\n",
       "      dtype=float32)"
      ]
     },
     "execution_count": 16,
     "metadata": {},
     "output_type": "execute_result"
    }
   ],
   "source": [
    "scores"
   ]
  },
  {
   "cell_type": "code",
   "execution_count": 17,
   "id": "09bf49b5",
   "metadata": {},
   "outputs": [
    {
     "data": {
      "text/plain": [
       "array([[-0.06134836, -0.03442549,  0.02700819, ...,  0.0046175 ,\n",
       "        -0.02479105, -0.01712988],\n",
       "       [-0.01910195, -0.02929889,  0.02678945, ...,  0.04623033,\n",
       "        -0.01961115,  0.00468232],\n",
       "       [-0.02352966, -0.01513609,  0.01258736, ...,  0.01607407,\n",
       "        -0.04259783, -0.03183158],\n",
       "       ...,\n",
       "       [-0.03252523, -0.01787602,  0.00703245, ...,  0.02072232,\n",
       "         0.01635229, -0.00986958],\n",
       "       [-0.05336634, -0.01497216,  0.03298664, ..., -0.00926095,\n",
       "        -0.02550137, -0.00674705],\n",
       "       [-0.06846734, -0.03369173,  0.00343583, ...,  0.02068361,\n",
       "        -0.03420502, -0.01852596]], dtype=float32)"
      ]
     },
     "execution_count": 17,
     "metadata": {},
     "output_type": "execute_result"
    }
   ],
   "source": [
    "question_embeddings"
   ]
  },
  {
   "cell_type": "code",
   "execution_count": 22,
   "id": "f1221e47",
   "metadata": {},
   "outputs": [
    {
     "data": {
      "text/plain": [
       "500"
      ]
     },
     "execution_count": 22,
     "metadata": {},
     "output_type": "execute_result"
    }
   ],
   "source": [
    "len(question_embeddings)"
   ]
  },
  {
   "cell_type": "markdown",
   "id": "3e97dffe",
   "metadata": {},
   "source": [
    "#### Save the train split in JSONL format."
   ]
  },
  {
   "cell_type": "markdown",
   "id": "e7cdbdec",
   "metadata": {},
   "source": [
    "The data must be formatted in JSONL format, which means each embedding dictionary is written as a JSON string on its own line.\n",
    "\n",
    "See more information in the docs at Input data format and structure. (https://cloud.google.com/vertex-ai/docs/matching-engine/match-eng-setup/format-structure#json)"
   ]
  },
  {
   "cell_type": "code",
   "execution_count": 27,
   "id": "d2f7427d",
   "metadata": {},
   "outputs": [
    {
     "name": "stdout",
     "output_type": "stream",
     "text": [
      "# of questiosn are :  5000\n"
     ]
    },
    {
     "data": {
      "application/vnd.jupyter.widget-view+json": {
       "model_id": "7b2247d7388142f99bf826ea76d95482",
       "version_major": 2,
       "version_minor": 0
      },
      "text/plain": [
       "  0%|          | 0/10 [00:00<?, ?it/s]"
      ]
     },
     "metadata": {},
     "output_type": "display_data"
    },
    {
     "data": {
      "application/vnd.jupyter.widget-view+json": {
       "model_id": "eacfd1e77be746e98a0af6c792f51654",
       "version_major": 2,
       "version_minor": 0
      },
      "text/plain": [
       "  0%|          | 0/1 [00:00<?, ?it/s]"
      ]
     },
     "metadata": {},
     "output_type": "display_data"
    },
    {
     "name": "stdout",
     "output_type": "stream",
     "text": [
      "0\n"
     ]
    },
    {
     "data": {
      "application/vnd.jupyter.widget-view+json": {
       "model_id": "1995494590944c59be6a6f1437886ee9",
       "version_major": 2,
       "version_minor": 0
      },
      "text/plain": [
       "  0%|          | 0/1 [00:00<?, ?it/s]"
      ]
     },
     "metadata": {},
     "output_type": "display_data"
    },
    {
     "name": "stdout",
     "output_type": "stream",
     "text": [
      "500\n"
     ]
    },
    {
     "data": {
      "application/vnd.jupyter.widget-view+json": {
       "model_id": "2ffc807e1b8449f0a94cc9934e9a994d",
       "version_major": 2,
       "version_minor": 0
      },
      "text/plain": [
       "  0%|          | 0/1 [00:00<?, ?it/s]"
      ]
     },
     "metadata": {},
     "output_type": "display_data"
    },
    {
     "name": "stdout",
     "output_type": "stream",
     "text": [
      "1000\n"
     ]
    },
    {
     "data": {
      "application/vnd.jupyter.widget-view+json": {
       "model_id": "fee5848f30a140109e12c0071d319577",
       "version_major": 2,
       "version_minor": 0
      },
      "text/plain": [
       "  0%|          | 0/1 [00:00<?, ?it/s]"
      ]
     },
     "metadata": {},
     "output_type": "display_data"
    },
    {
     "name": "stdout",
     "output_type": "stream",
     "text": [
      "1500\n"
     ]
    },
    {
     "data": {
      "application/vnd.jupyter.widget-view+json": {
       "model_id": "c78bfd23a8d44599aefb155111bdde3a",
       "version_major": 2,
       "version_minor": 0
      },
      "text/plain": [
       "  0%|          | 0/1 [00:00<?, ?it/s]"
      ]
     },
     "metadata": {},
     "output_type": "display_data"
    },
    {
     "name": "stdout",
     "output_type": "stream",
     "text": [
      "2000\n"
     ]
    },
    {
     "data": {
      "application/vnd.jupyter.widget-view+json": {
       "model_id": "b5208a85062b4a31ba5ebf451d4b5b13",
       "version_major": 2,
       "version_minor": 0
      },
      "text/plain": [
       "  0%|          | 0/1 [00:00<?, ?it/s]"
      ]
     },
     "metadata": {},
     "output_type": "display_data"
    },
    {
     "name": "stdout",
     "output_type": "stream",
     "text": [
      "2500\n"
     ]
    },
    {
     "data": {
      "application/vnd.jupyter.widget-view+json": {
       "model_id": "f998531541b84e3bb88691349d7e3352",
       "version_major": 2,
       "version_minor": 0
      },
      "text/plain": [
       "  0%|          | 0/1 [00:00<?, ?it/s]"
      ]
     },
     "metadata": {},
     "output_type": "display_data"
    },
    {
     "name": "stdout",
     "output_type": "stream",
     "text": [
      "3000\n"
     ]
    },
    {
     "data": {
      "application/vnd.jupyter.widget-view+json": {
       "model_id": "53c88bbcee064770a1317fc22b455b17",
       "version_major": 2,
       "version_minor": 0
      },
      "text/plain": [
       "  0%|          | 0/1 [00:00<?, ?it/s]"
      ]
     },
     "metadata": {},
     "output_type": "display_data"
    },
    {
     "name": "stdout",
     "output_type": "stream",
     "text": [
      "3500\n"
     ]
    },
    {
     "data": {
      "application/vnd.jupyter.widget-view+json": {
       "model_id": "a1d5c764cf774bbaa28237002bf4a663",
       "version_major": 2,
       "version_minor": 0
      },
      "text/plain": [
       "  0%|          | 0/1 [00:00<?, ?it/s]"
      ]
     },
     "metadata": {},
     "output_type": "display_data"
    },
    {
     "name": "stdout",
     "output_type": "stream",
     "text": [
      "4000\n"
     ]
    },
    {
     "data": {
      "application/vnd.jupyter.widget-view+json": {
       "model_id": "bcc4d69effa34f6099b92e032847b80e",
       "version_major": 2,
       "version_minor": 0
      },
      "text/plain": [
       "  0%|          | 0/1 [00:00<?, ?it/s]"
      ]
     },
     "metadata": {},
     "output_type": "display_data"
    },
    {
     "name": "stdout",
     "output_type": "stream",
     "text": [
      "4500\n"
     ]
    }
   ],
   "source": [
    "import json\n",
    "\n",
    "BATCH_SIZE = 500\n",
    "\n",
    "questions = df.title.tolist()[:5000]\n",
    "\n",
    "embeddings_file_name='embeddings_file.json'\n",
    "\n",
    "print('# of questiosn are : ', str(len(questions)))\n",
    "\n",
    "with open(embeddings_file_name, \"w\") as f:\n",
    "    for i in tqdm(range(0, len(questions), BATCH_SIZE)):\n",
    "        id_chunk = ids[i : i + BATCH_SIZE]\n",
    "\n",
    "        question_chunk_embeddings = encode_text_to_embedding(text_encoder=encoder,\n",
    "                                                             sentences=questions[i : i + BATCH_SIZE])\n",
    "\n",
    "        # Append to file\n",
    "        embeddings_formatted = [\n",
    "            json.dumps(\n",
    "                {\n",
    "                    \"id\": str(id),\n",
    "                    \"embedding\": [str(value) for value in embedding],\n",
    "                }\n",
    "            )\n",
    "            + \"\\n\"\n",
    "            for id, embedding in zip(id_chunk, question_chunk_embeddings)\n",
    "        ]\n",
    "        f.writelines(embeddings_formatted)\n",
    "        print(i)"
   ]
  },
  {
   "cell_type": "code",
   "execution_count": 29,
   "id": "24cc7da4",
   "metadata": {},
   "outputs": [
    {
     "name": "stderr",
     "output_type": "stream",
     "text": [
      "Copying file://embeddings_file.json [Content-Type=application/json]...\n",
      "/ [0 files][    0.0 B/ 56.4 MiB]                                                \n",
      "-\n",
      "- [0 files][ 15.6 MiB/ 56.4 MiB]                                                \n",
      "\\\n",
      "|\n",
      "| [0 files][ 31.6 MiB/ 56.4 MiB]                                                \n",
      "/\n",
      "/ [1 files][ 56.4 MiB/ 56.4 MiB]                                                \n",
      "\n",
      "Operation completed over 1 objects/56.4 MiB.                                     \n"
     ]
    }
   ],
   "source": [
    "UNIQUE_FOLDER_NAME = \"embeddings_folder_unique\"\n",
    "remote_folder = f\"{BUCKET_URI}/{UNIQUE_FOLDER_NAME}/\"\n",
    "! gsutil cp {embeddings_file_name} {remote_folder}"
   ]
  },
  {
   "cell_type": "markdown",
   "id": "94a950a5",
   "metadata": {},
   "source": [
    "## Create Indexes"
   ]
  },
  {
   "cell_type": "markdown",
   "id": "af7adccb",
   "metadata": {},
   "source": [
    "### Create ANN Index (for Production Usage)"
   ]
  },
  {
   "cell_type": "code",
   "execution_count": 31,
   "id": "872b6615",
   "metadata": {},
   "outputs": [],
   "source": [
    "DISPLAY_NAME = \"stack_overflow_index\"\n",
    "DESCRIPTION  = \"questions from stackoverflow\""
   ]
  },
  {
   "cell_type": "code",
   "execution_count": 32,
   "id": "396fdc88",
   "metadata": {},
   "outputs": [
    {
     "name": "stdout",
     "output_type": "stream",
     "text": [
      "Creating MatchingEngineIndex\n"
     ]
    },
    {
     "name": "stderr",
     "output_type": "stream",
     "text": [
      "INFO:google.cloud.aiplatform.matching_engine.matching_engine_index:Creating MatchingEngineIndex\n"
     ]
    },
    {
     "name": "stdout",
     "output_type": "stream",
     "text": [
      "Create MatchingEngineIndex backing LRO: projects/473197248954/locations/us-central1/indexes/552069186352840704/operations/7286602301895081984\n"
     ]
    },
    {
     "name": "stderr",
     "output_type": "stream",
     "text": [
      "INFO:google.cloud.aiplatform.matching_engine.matching_engine_index:Create MatchingEngineIndex backing LRO: projects/473197248954/locations/us-central1/indexes/552069186352840704/operations/7286602301895081984\n"
     ]
    },
    {
     "name": "stdout",
     "output_type": "stream",
     "text": [
      "MatchingEngineIndex created. Resource name: projects/473197248954/locations/us-central1/indexes/552069186352840704\n"
     ]
    },
    {
     "name": "stderr",
     "output_type": "stream",
     "text": [
      "INFO:google.cloud.aiplatform.matching_engine.matching_engine_index:MatchingEngineIndex created. Resource name: projects/473197248954/locations/us-central1/indexes/552069186352840704\n"
     ]
    },
    {
     "name": "stdout",
     "output_type": "stream",
     "text": [
      "To use this MatchingEngineIndex in another session:\n"
     ]
    },
    {
     "name": "stderr",
     "output_type": "stream",
     "text": [
      "INFO:google.cloud.aiplatform.matching_engine.matching_engine_index:To use this MatchingEngineIndex in another session:\n"
     ]
    },
    {
     "name": "stdout",
     "output_type": "stream",
     "text": [
      "index = aiplatform.MatchingEngineIndex('projects/473197248954/locations/us-central1/indexes/552069186352840704')\n"
     ]
    },
    {
     "name": "stderr",
     "output_type": "stream",
     "text": [
      "INFO:google.cloud.aiplatform.matching_engine.matching_engine_index:index = aiplatform.MatchingEngineIndex('projects/473197248954/locations/us-central1/indexes/552069186352840704')\n"
     ]
    }
   ],
   "source": [
    "tree_ah_index = aiplatform.MatchingEngineIndex.create_tree_ah_index(display_name                = DISPLAY_NAME,\n",
    "                                                                    contents_delta_uri          = remote_folder,\n",
    "                                                                    dimensions                  = DIMENSIONS,\n",
    "                                                                    approximate_neighbors_count = 150,\n",
    "                                                                    distance_measure_type       = \"DOT_PRODUCT_DISTANCE\",\n",
    "                                                                    leaf_node_embedding_count   = 500,\n",
    "                                                                    leaf_nodes_to_search_percent= 80,\n",
    "                                                                    description                 = DESCRIPTION\n",
    "                                                                   )"
   ]
  },
  {
   "cell_type": "code",
   "execution_count": 33,
   "id": "0ab62a1f",
   "metadata": {},
   "outputs": [
    {
     "data": {
      "text/plain": [
       "'projects/473197248954/locations/us-central1/indexes/552069186352840704'"
      ]
     },
     "execution_count": 33,
     "metadata": {},
     "output_type": "execute_result"
    }
   ],
   "source": [
    "INDEX_RESOURCE_NAME = tree_ah_index.resource_name\n",
    "INDEX_RESOURCE_NAME"
   ]
  },
  {
   "cell_type": "markdown",
   "id": "0f69e0d2",
   "metadata": {},
   "source": [
    "## Deploy Indexes"
   ]
  },
  {
   "cell_type": "markdown",
   "id": "c07e43bb",
   "metadata": {},
   "source": [
    "#### Create End Point without VPC"
   ]
  },
  {
   "cell_type": "code",
   "execution_count": 34,
   "id": "b21b7d9d",
   "metadata": {},
   "outputs": [
    {
     "name": "stdout",
     "output_type": "stream",
     "text": [
      "Creating MatchingEngineIndexEndpoint\n"
     ]
    },
    {
     "name": "stderr",
     "output_type": "stream",
     "text": [
      "INFO:google.cloud.aiplatform.matching_engine.matching_engine_index_endpoint:Creating MatchingEngineIndexEndpoint\n"
     ]
    },
    {
     "name": "stdout",
     "output_type": "stream",
     "text": [
      "Create MatchingEngineIndexEndpoint backing LRO: projects/473197248954/locations/us-central1/indexEndpoints/3475468294469713920/operations/3787727603893272576\n"
     ]
    },
    {
     "name": "stderr",
     "output_type": "stream",
     "text": [
      "INFO:google.cloud.aiplatform.matching_engine.matching_engine_index_endpoint:Create MatchingEngineIndexEndpoint backing LRO: projects/473197248954/locations/us-central1/indexEndpoints/3475468294469713920/operations/3787727603893272576\n"
     ]
    },
    {
     "name": "stdout",
     "output_type": "stream",
     "text": [
      "MatchingEngineIndexEndpoint created. Resource name: projects/473197248954/locations/us-central1/indexEndpoints/3475468294469713920\n"
     ]
    },
    {
     "name": "stderr",
     "output_type": "stream",
     "text": [
      "INFO:google.cloud.aiplatform.matching_engine.matching_engine_index_endpoint:MatchingEngineIndexEndpoint created. Resource name: projects/473197248954/locations/us-central1/indexEndpoints/3475468294469713920\n"
     ]
    },
    {
     "name": "stdout",
     "output_type": "stream",
     "text": [
      "To use this MatchingEngineIndexEndpoint in another session:\n"
     ]
    },
    {
     "name": "stderr",
     "output_type": "stream",
     "text": [
      "INFO:google.cloud.aiplatform.matching_engine.matching_engine_index_endpoint:To use this MatchingEngineIndexEndpoint in another session:\n"
     ]
    },
    {
     "name": "stdout",
     "output_type": "stream",
     "text": [
      "index_endpoint = aiplatform.MatchingEngineIndexEndpoint('projects/473197248954/locations/us-central1/indexEndpoints/3475468294469713920')\n"
     ]
    },
    {
     "name": "stderr",
     "output_type": "stream",
     "text": [
      "INFO:google.cloud.aiplatform.matching_engine.matching_engine_index_endpoint:index_endpoint = aiplatform.MatchingEngineIndexEndpoint('projects/473197248954/locations/us-central1/indexEndpoints/3475468294469713920')\n"
     ]
    }
   ],
   "source": [
    "DISPLAY_NAME = \"stack_overflow_endpoint\"\n",
    "my_index_endpoint = aiplatform.MatchingEngineIndexEndpoint.create(display_name = DISPLAY_NAME,\n",
    "                                                                  description  = DESCRIPTION,\n",
    "                                                                  public_endpoint_enabled = True,\n",
    "                                                                  #network      = VPC_NETWORK_FULL,\n",
    "                                                                 )"
   ]
  },
  {
   "cell_type": "markdown",
   "id": "f1dea670",
   "metadata": {},
   "source": [
    "#### Create End Point with VPC"
   ]
  },
  {
   "cell_type": "raw",
   "id": "959ba465",
   "metadata": {},
   "source": [
    "(base) PS C:\\Users\\visha>\n",
    "(base) PS C:\\Users\\visha>\n",
    "(base) PS C:\\Users\\visha> gcloud projects list\n",
    "PROJECT_ID        NAME              PROJECT_NUMBER\n",
    "gcp-project-0523  gcp-project-0523  473197248954\n",
    "(base) PS C:\\Users\\visha>\n",
    "(base) PS C:\\Users\\visha>\n",
    "(base) PS C:\\Users\\visha>"
   ]
  },
  {
   "cell_type": "code",
   "execution_count": 99,
   "id": "db92a35a",
   "metadata": {},
   "outputs": [
    {
     "data": {
      "text/plain": [
       "'projects/473197248954/global/networks/vector-db-vpc'"
      ]
     },
     "execution_count": 99,
     "metadata": {},
     "output_type": "execute_result"
    }
   ],
   "source": [
    "PROJECT_NUMBER =   473197248954\n",
    "VPC_NETWORK    =   \"vector-db-vpc\"\n",
    "\n",
    "VPC_NETWORK_FULL = \"projects/{}/global/networks/{}\".format(PROJECT_NUMBER, VPC_NETWORK)\n",
    "VPC_NETWORK_FULL"
   ]
  },
  {
   "cell_type": "code",
   "execution_count": 95,
   "id": "016b7a8a",
   "metadata": {},
   "outputs": [
    {
     "name": "stderr",
     "output_type": "stream",
     "text": [
      "WARNING: You do not appear to have access to project ['gcp-project-0523'] or it does not exist.\n",
      "ERROR: (gcloud.config.set) The project property must be set to a valid project ID, not the project name ['gcp-project-0523']\n",
      "To set your project, run:\n",
      "\n",
      "  $ gcloud config set project PROJECT_ID\n",
      "\n",
      "or to unset it, run:\n",
      "\n",
      "  $ gcloud config unset project\n"
     ]
    }
   ],
   "source": [
    "!gcloud config set project 'gcp-project-0523'"
   ]
  },
  {
   "cell_type": "code",
   "execution_count": 91,
   "id": "adbbc35b",
   "metadata": {},
   "outputs": [
    {
     "name": "stderr",
     "output_type": "stream",
     "text": [
      "ERROR: (gcloud) The project property must be set to a valid project ID, not the project name ['gcp-project-0523']\n",
      "To set your project, run:\n",
      "\n",
      "  $ gcloud config set project PROJECT_ID\n",
      "\n",
      "or to unset it, run:\n",
      "\n",
      "  $ gcloud config unset project\n"
     ]
    }
   ],
   "source": [
    "!gcloud services enable servicenetworking.googleapis.com --project='gcp-project-0523'"
   ]
  },
  {
   "cell_type": "raw",
   "id": "ee66ce96",
   "metadata": {},
   "source": [
    "(base) PS C:\\Users\\visha>\n",
    "(base) PS C:\\Users\\visha>\n",
    "(base) PS C:\\Users\\visha>\n",
    "(base) PS C:\\Users\\visha>\n",
    "(base) PS C:\\Users\\visha> gcloud services enable servicenetworking.googleapis.com --project='gcp-project-0523'\n",
    "ERROR: (gcloud.services.enable) PERMISSION_DENIED: Service Usage API has not been used in project 473197248954 before or it is disabled. Enable it by visiting https://console.developers.google.com/apis/api/serviceusage.googleapis.com/overview?project=473197248954 then retry. If you enabled this API recently, wait a few minutes for the action to propagate to our systems and retry.\n",
    "- '@type': type.googleapis.com/google.rpc.Help\n",
    "  links:\n",
    "  - description: Google developers console API activation\n",
    "    url: https://console.developers.google.com/apis/api/serviceusage.googleapis.com/overview?project=473197248954\n",
    "- '@type': type.googleapis.com/google.rpc.ErrorInfo\n",
    "  domain: googleapis.com\n",
    "  metadata:\n",
    "    consumer: projects/473197248954\n",
    "    service: serviceusage.googleapis.com\n",
    "  reason: SERVICE_DISABLED\n",
    "(base) PS C:\\Users\\visha>\n",
    "(base) PS C:\\Users\\visha>\n",
    "(base) PS C:\\Users\\visha>\n",
    "(base) PS C:\\Users\\visha> gcloud services enable servicenetworking.googleapis.com --project='gcp-project-0523'\n",
    "Operation \"operations/acat.p2-473197248954-a77b69b9-b0ea-4888-af4a-2480c6b8281d\" finished successfully.\n",
    "(base) PS C:\\Users\\visha>"
   ]
  },
  {
   "cell_type": "code",
   "execution_count": 96,
   "id": "4341d627",
   "metadata": {},
   "outputs": [],
   "source": [
    "DISPLAY_NAME = \"stack_overflow_vpc\"\n",
    "DESCRIPTION  = \"questions from stackoverflow with vpc\""
   ]
  },
  {
   "cell_type": "code",
   "execution_count": 104,
   "id": "45089c23",
   "metadata": {
    "collapsed": true
   },
   "outputs": [
    {
     "ename": "InvalidArgument",
     "evalue": "400 Cannot use vpc projects/473197248954/global/networks/vector-db-vpc for project 473197248954. Error NETWORK_NOT_PEERED",
     "output_type": "error",
     "traceback": [
      "\u001b[1;31m---------------------------------------------------------------------------\u001b[0m",
      "\u001b[1;31m_InactiveRpcError\u001b[0m                         Traceback (most recent call last)",
      "File \u001b[1;32mD:\\anaconda3\\lib\\site-packages\\google\\api_core\\grpc_helpers.py:72\u001b[0m, in \u001b[0;36m_wrap_unary_errors.<locals>.error_remapped_callable\u001b[1;34m(*args, **kwargs)\u001b[0m\n\u001b[0;32m     71\u001b[0m \u001b[38;5;28;01mtry\u001b[39;00m:\n\u001b[1;32m---> 72\u001b[0m     \u001b[38;5;28;01mreturn\u001b[39;00m callable_(\u001b[38;5;241m*\u001b[39margs, \u001b[38;5;241m*\u001b[39m\u001b[38;5;241m*\u001b[39mkwargs)\n\u001b[0;32m     73\u001b[0m \u001b[38;5;28;01mexcept\u001b[39;00m grpc\u001b[38;5;241m.\u001b[39mRpcError \u001b[38;5;28;01mas\u001b[39;00m exc:\n",
      "File \u001b[1;32m~\\AppData\\Roaming\\Python\\Python39\\site-packages\\grpc\\_channel.py:1030\u001b[0m, in \u001b[0;36m_UnaryUnaryMultiCallable.__call__\u001b[1;34m(self, request, timeout, metadata, credentials, wait_for_ready, compression)\u001b[0m\n\u001b[0;32m   1028\u001b[0m state, call, \u001b[38;5;241m=\u001b[39m \u001b[38;5;28mself\u001b[39m\u001b[38;5;241m.\u001b[39m_blocking(request, timeout, metadata, credentials,\n\u001b[0;32m   1029\u001b[0m                               wait_for_ready, compression)\n\u001b[1;32m-> 1030\u001b[0m \u001b[38;5;28;01mreturn\u001b[39;00m \u001b[43m_end_unary_response_blocking\u001b[49m\u001b[43m(\u001b[49m\u001b[43mstate\u001b[49m\u001b[43m,\u001b[49m\u001b[43m \u001b[49m\u001b[43mcall\u001b[49m\u001b[43m,\u001b[49m\u001b[43m \u001b[49m\u001b[38;5;28;43;01mFalse\u001b[39;49;00m\u001b[43m,\u001b[49m\u001b[43m \u001b[49m\u001b[38;5;28;43;01mNone\u001b[39;49;00m\u001b[43m)\u001b[49m\n",
      "File \u001b[1;32m~\\AppData\\Roaming\\Python\\Python39\\site-packages\\grpc\\_channel.py:910\u001b[0m, in \u001b[0;36m_end_unary_response_blocking\u001b[1;34m(state, call, with_call, deadline)\u001b[0m\n\u001b[0;32m    909\u001b[0m \u001b[38;5;28;01melse\u001b[39;00m:\n\u001b[1;32m--> 910\u001b[0m     \u001b[38;5;28;01mraise\u001b[39;00m _InactiveRpcError(state)\n",
      "\u001b[1;31m_InactiveRpcError\u001b[0m: <_InactiveRpcError of RPC that terminated with:\n\tstatus = StatusCode.INVALID_ARGUMENT\n\tdetails = \"Cannot use vpc projects/473197248954/global/networks/vector-db-vpc for project 473197248954. Error NETWORK_NOT_PEERED\"\n\tdebug_error_string = \"UNKNOWN:Error received from peer ipv4:142.251.15.95:443 {grpc_message:\"Cannot use vpc projects/473197248954/global/networks/vector-db-vpc for project 473197248954. Error NETWORK_NOT_PEERED\", grpc_status:3, created_time:\"2023-06-04T18:52:43.67393461+00:00\"}\"\n>",
      "\nThe above exception was the direct cause of the following exception:\n",
      "\u001b[1;31mInvalidArgument\u001b[0m                           Traceback (most recent call last)",
      "Cell \u001b[1;32mIn[104], line 1\u001b[0m\n\u001b[1;32m----> 1\u001b[0m my_vpc_index_endpoint \u001b[38;5;241m=\u001b[39m \u001b[43maiplatform\u001b[49m\u001b[38;5;241;43m.\u001b[39;49m\u001b[43mMatchingEngineIndexEndpoint\u001b[49m\u001b[38;5;241;43m.\u001b[39;49m\u001b[43mcreate\u001b[49m\u001b[43m(\u001b[49m\u001b[43mdisplay_name\u001b[49m\u001b[43m \u001b[49m\u001b[38;5;241;43m=\u001b[39;49m\u001b[43m \u001b[49m\u001b[43mDISPLAY_NAME\u001b[49m\u001b[43m,\u001b[49m\n\u001b[0;32m      2\u001b[0m \u001b[43m                                                                      \u001b[49m\u001b[43mdescription\u001b[49m\u001b[43m  \u001b[49m\u001b[38;5;241;43m=\u001b[39;49m\u001b[43m \u001b[49m\u001b[43mDESCRIPTION\u001b[49m\u001b[43m,\u001b[49m\n\u001b[0;32m      3\u001b[0m \u001b[43m                                                                      \u001b[49m\u001b[43mnetwork\u001b[49m\u001b[43m      \u001b[49m\u001b[38;5;241;43m=\u001b[39;49m\u001b[43m \u001b[49m\u001b[43mVPC_NETWORK_FULL\u001b[49m\u001b[43m,\u001b[49m\n\u001b[0;32m      4\u001b[0m \u001b[43m                                                                     \u001b[49m\u001b[43m)\u001b[49m\n",
      "File \u001b[1;32m~\\AppData\\Roaming\\Python\\Python39\\site-packages\\google\\cloud\\aiplatform\\matching_engine\\matching_engine_index_endpoint.py:227\u001b[0m, in \u001b[0;36mMatchingEngineIndexEndpoint.create\u001b[1;34m(cls, display_name, network, public_endpoint_enabled, description, labels, project, location, credentials, request_metadata, sync)\u001b[0m\n\u001b[0;32m    222\u001b[0m \u001b[38;5;28;01mif\u001b[39;00m network \u001b[38;5;129;01mand\u001b[39;00m public_endpoint_enabled:\n\u001b[0;32m    223\u001b[0m     \u001b[38;5;28;01mraise\u001b[39;00m \u001b[38;5;167;01mValueError\u001b[39;00m(\n\u001b[0;32m    224\u001b[0m         \u001b[38;5;124m\"\u001b[39m\u001b[38;5;124m`network` and `public_endpoint_enabled` argument should not be set at the same time\u001b[39m\u001b[38;5;124m\"\u001b[39m\n\u001b[0;32m    225\u001b[0m     )\n\u001b[1;32m--> 227\u001b[0m \u001b[38;5;28;01mreturn\u001b[39;00m \u001b[38;5;28;43mcls\u001b[39;49m\u001b[38;5;241;43m.\u001b[39;49m\u001b[43m_create\u001b[49m\u001b[43m(\u001b[49m\n\u001b[0;32m    228\u001b[0m \u001b[43m    \u001b[49m\u001b[43mdisplay_name\u001b[49m\u001b[38;5;241;43m=\u001b[39;49m\u001b[43mdisplay_name\u001b[49m\u001b[43m,\u001b[49m\n\u001b[0;32m    229\u001b[0m \u001b[43m    \u001b[49m\u001b[43mnetwork\u001b[49m\u001b[38;5;241;43m=\u001b[39;49m\u001b[43mnetwork\u001b[49m\u001b[43m,\u001b[49m\n\u001b[0;32m    230\u001b[0m \u001b[43m    \u001b[49m\u001b[43mpublic_endpoint_enabled\u001b[49m\u001b[38;5;241;43m=\u001b[39;49m\u001b[43mpublic_endpoint_enabled\u001b[49m\u001b[43m,\u001b[49m\n\u001b[0;32m    231\u001b[0m \u001b[43m    \u001b[49m\u001b[43mdescription\u001b[49m\u001b[38;5;241;43m=\u001b[39;49m\u001b[43mdescription\u001b[49m\u001b[43m,\u001b[49m\n\u001b[0;32m    232\u001b[0m \u001b[43m    \u001b[49m\u001b[43mlabels\u001b[49m\u001b[38;5;241;43m=\u001b[39;49m\u001b[43mlabels\u001b[49m\u001b[43m,\u001b[49m\n\u001b[0;32m    233\u001b[0m \u001b[43m    \u001b[49m\u001b[43mproject\u001b[49m\u001b[38;5;241;43m=\u001b[39;49m\u001b[43mproject\u001b[49m\u001b[43m,\u001b[49m\n\u001b[0;32m    234\u001b[0m \u001b[43m    \u001b[49m\u001b[43mlocation\u001b[49m\u001b[38;5;241;43m=\u001b[39;49m\u001b[43mlocation\u001b[49m\u001b[43m,\u001b[49m\n\u001b[0;32m    235\u001b[0m \u001b[43m    \u001b[49m\u001b[43mcredentials\u001b[49m\u001b[38;5;241;43m=\u001b[39;49m\u001b[43mcredentials\u001b[49m\u001b[43m,\u001b[49m\n\u001b[0;32m    236\u001b[0m \u001b[43m    \u001b[49m\u001b[43mrequest_metadata\u001b[49m\u001b[38;5;241;43m=\u001b[39;49m\u001b[43mrequest_metadata\u001b[49m\u001b[43m,\u001b[49m\n\u001b[0;32m    237\u001b[0m \u001b[43m    \u001b[49m\u001b[43msync\u001b[49m\u001b[38;5;241;43m=\u001b[39;49m\u001b[43msync\u001b[49m\u001b[43m,\u001b[49m\n\u001b[0;32m    238\u001b[0m \u001b[43m\u001b[49m\u001b[43m)\u001b[49m\n",
      "File \u001b[1;32m~\\AppData\\Roaming\\Python\\Python39\\site-packages\\google\\cloud\\aiplatform\\base.py:814\u001b[0m, in \u001b[0;36moptional_sync.<locals>.optional_run_in_thread.<locals>.wrapper\u001b[1;34m(*args, **kwargs)\u001b[0m\n\u001b[0;32m    812\u001b[0m     \u001b[38;5;28;01mif\u001b[39;00m \u001b[38;5;28mself\u001b[39m:\n\u001b[0;32m    813\u001b[0m         VertexAiResourceNounWithFutureManager\u001b[38;5;241m.\u001b[39mwait(\u001b[38;5;28mself\u001b[39m)\n\u001b[1;32m--> 814\u001b[0m     \u001b[38;5;28;01mreturn\u001b[39;00m method(\u001b[38;5;241m*\u001b[39margs, \u001b[38;5;241m*\u001b[39m\u001b[38;5;241m*\u001b[39mkwargs)\n\u001b[0;32m    816\u001b[0m \u001b[38;5;66;03m# callbacks to call within the Future (in same Thread)\u001b[39;00m\n\u001b[0;32m    817\u001b[0m internal_callbacks \u001b[38;5;241m=\u001b[39m []\n",
      "File \u001b[1;32m~\\AppData\\Roaming\\Python\\Python39\\site-packages\\google\\cloud\\aiplatform\\matching_engine\\matching_engine_index_endpoint.py:329\u001b[0m, in \u001b[0;36mMatchingEngineIndexEndpoint._create\u001b[1;34m(cls, display_name, network, public_endpoint_enabled, description, labels, project, location, credentials, request_metadata, sync)\u001b[0m\n\u001b[0;32m    325\u001b[0m     gapic_index_endpoint\u001b[38;5;241m.\u001b[39mlabels \u001b[38;5;241m=\u001b[39m labels\n\u001b[0;32m    327\u001b[0m api_client \u001b[38;5;241m=\u001b[39m \u001b[38;5;28mcls\u001b[39m\u001b[38;5;241m.\u001b[39m_instantiate_client(location\u001b[38;5;241m=\u001b[39mlocation, credentials\u001b[38;5;241m=\u001b[39mcredentials)\n\u001b[1;32m--> 329\u001b[0m create_lro \u001b[38;5;241m=\u001b[39m \u001b[43mapi_client\u001b[49m\u001b[38;5;241;43m.\u001b[39;49m\u001b[43mcreate_index_endpoint\u001b[49m\u001b[43m(\u001b[49m\n\u001b[0;32m    330\u001b[0m \u001b[43m    \u001b[49m\u001b[43mparent\u001b[49m\u001b[38;5;241;43m=\u001b[39;49m\u001b[43minitializer\u001b[49m\u001b[38;5;241;43m.\u001b[39;49m\u001b[43mglobal_config\u001b[49m\u001b[38;5;241;43m.\u001b[39;49m\u001b[43mcommon_location_path\u001b[49m\u001b[43m(\u001b[49m\n\u001b[0;32m    331\u001b[0m \u001b[43m        \u001b[49m\u001b[43mproject\u001b[49m\u001b[38;5;241;43m=\u001b[39;49m\u001b[43mproject\u001b[49m\u001b[43m,\u001b[49m\u001b[43m \u001b[49m\u001b[43mlocation\u001b[49m\u001b[38;5;241;43m=\u001b[39;49m\u001b[43mlocation\u001b[49m\n\u001b[0;32m    332\u001b[0m \u001b[43m    \u001b[49m\u001b[43m)\u001b[49m\u001b[43m,\u001b[49m\n\u001b[0;32m    333\u001b[0m \u001b[43m    \u001b[49m\u001b[43mindex_endpoint\u001b[49m\u001b[38;5;241;43m=\u001b[39;49m\u001b[43mgapic_index_endpoint\u001b[49m\u001b[43m,\u001b[49m\n\u001b[0;32m    334\u001b[0m \u001b[43m    \u001b[49m\u001b[43mmetadata\u001b[49m\u001b[38;5;241;43m=\u001b[39;49m\u001b[43mrequest_metadata\u001b[49m\u001b[43m,\u001b[49m\n\u001b[0;32m    335\u001b[0m \u001b[43m\u001b[49m\u001b[43m)\u001b[49m\n\u001b[0;32m    337\u001b[0m _LOGGER\u001b[38;5;241m.\u001b[39mlog_create_with_lro(\u001b[38;5;28mcls\u001b[39m, create_lro)\n\u001b[0;32m    339\u001b[0m created_index \u001b[38;5;241m=\u001b[39m create_lro\u001b[38;5;241m.\u001b[39mresult()\n",
      "File \u001b[1;32m~\\AppData\\Roaming\\Python\\Python39\\site-packages\\google\\cloud\\aiplatform_v1\\services\\index_endpoint_service\\client.py:593\u001b[0m, in \u001b[0;36mIndexEndpointServiceClient.create_index_endpoint\u001b[1;34m(self, request, parent, index_endpoint, retry, timeout, metadata)\u001b[0m\n\u001b[0;32m    588\u001b[0m metadata \u001b[38;5;241m=\u001b[39m \u001b[38;5;28mtuple\u001b[39m(metadata) \u001b[38;5;241m+\u001b[39m (\n\u001b[0;32m    589\u001b[0m     gapic_v1\u001b[38;5;241m.\u001b[39mrouting_header\u001b[38;5;241m.\u001b[39mto_grpc_metadata(((\u001b[38;5;124m\"\u001b[39m\u001b[38;5;124mparent\u001b[39m\u001b[38;5;124m\"\u001b[39m, request\u001b[38;5;241m.\u001b[39mparent),)),\n\u001b[0;32m    590\u001b[0m )\n\u001b[0;32m    592\u001b[0m \u001b[38;5;66;03m# Send the request.\u001b[39;00m\n\u001b[1;32m--> 593\u001b[0m response \u001b[38;5;241m=\u001b[39m \u001b[43mrpc\u001b[49m\u001b[43m(\u001b[49m\n\u001b[0;32m    594\u001b[0m \u001b[43m    \u001b[49m\u001b[43mrequest\u001b[49m\u001b[43m,\u001b[49m\n\u001b[0;32m    595\u001b[0m \u001b[43m    \u001b[49m\u001b[43mretry\u001b[49m\u001b[38;5;241;43m=\u001b[39;49m\u001b[43mretry\u001b[49m\u001b[43m,\u001b[49m\n\u001b[0;32m    596\u001b[0m \u001b[43m    \u001b[49m\u001b[43mtimeout\u001b[49m\u001b[38;5;241;43m=\u001b[39;49m\u001b[43mtimeout\u001b[49m\u001b[43m,\u001b[49m\n\u001b[0;32m    597\u001b[0m \u001b[43m    \u001b[49m\u001b[43mmetadata\u001b[49m\u001b[38;5;241;43m=\u001b[39;49m\u001b[43mmetadata\u001b[49m\u001b[43m,\u001b[49m\n\u001b[0;32m    598\u001b[0m \u001b[43m\u001b[49m\u001b[43m)\u001b[49m\n\u001b[0;32m    600\u001b[0m \u001b[38;5;66;03m# Wrap the response in an operation future.\u001b[39;00m\n\u001b[0;32m    601\u001b[0m response \u001b[38;5;241m=\u001b[39m gac_operation\u001b[38;5;241m.\u001b[39mfrom_gapic(\n\u001b[0;32m    602\u001b[0m     response,\n\u001b[0;32m    603\u001b[0m     \u001b[38;5;28mself\u001b[39m\u001b[38;5;241m.\u001b[39m_transport\u001b[38;5;241m.\u001b[39moperations_client,\n\u001b[0;32m    604\u001b[0m     gca_index_endpoint\u001b[38;5;241m.\u001b[39mIndexEndpoint,\n\u001b[0;32m    605\u001b[0m     metadata_type\u001b[38;5;241m=\u001b[39mindex_endpoint_service\u001b[38;5;241m.\u001b[39mCreateIndexEndpointOperationMetadata,\n\u001b[0;32m    606\u001b[0m )\n",
      "File \u001b[1;32mD:\\anaconda3\\lib\\site-packages\\google\\api_core\\gapic_v1\\method.py:113\u001b[0m, in \u001b[0;36m_GapicCallable.__call__\u001b[1;34m(self, timeout, retry, *args, **kwargs)\u001b[0m\n\u001b[0;32m    110\u001b[0m     metadata\u001b[38;5;241m.\u001b[39mextend(\u001b[38;5;28mself\u001b[39m\u001b[38;5;241m.\u001b[39m_metadata)\n\u001b[0;32m    111\u001b[0m     kwargs[\u001b[38;5;124m\"\u001b[39m\u001b[38;5;124mmetadata\u001b[39m\u001b[38;5;124m\"\u001b[39m] \u001b[38;5;241m=\u001b[39m metadata\n\u001b[1;32m--> 113\u001b[0m \u001b[38;5;28;01mreturn\u001b[39;00m wrapped_func(\u001b[38;5;241m*\u001b[39margs, \u001b[38;5;241m*\u001b[39m\u001b[38;5;241m*\u001b[39mkwargs)\n",
      "File \u001b[1;32mD:\\anaconda3\\lib\\site-packages\\google\\api_core\\grpc_helpers.py:74\u001b[0m, in \u001b[0;36m_wrap_unary_errors.<locals>.error_remapped_callable\u001b[1;34m(*args, **kwargs)\u001b[0m\n\u001b[0;32m     72\u001b[0m     \u001b[38;5;28;01mreturn\u001b[39;00m callable_(\u001b[38;5;241m*\u001b[39margs, \u001b[38;5;241m*\u001b[39m\u001b[38;5;241m*\u001b[39mkwargs)\n\u001b[0;32m     73\u001b[0m \u001b[38;5;28;01mexcept\u001b[39;00m grpc\u001b[38;5;241m.\u001b[39mRpcError \u001b[38;5;28;01mas\u001b[39;00m exc:\n\u001b[1;32m---> 74\u001b[0m     \u001b[38;5;28;01mraise\u001b[39;00m exceptions\u001b[38;5;241m.\u001b[39mfrom_grpc_error(exc) \u001b[38;5;28;01mfrom\u001b[39;00m \u001b[38;5;21;01mexc\u001b[39;00m\n",
      "\u001b[1;31mInvalidArgument\u001b[0m: 400 Cannot use vpc projects/473197248954/global/networks/vector-db-vpc for project 473197248954. Error NETWORK_NOT_PEERED"
     ]
    }
   ],
   "source": [
    "my_vpc_index_endpoint = aiplatform.MatchingEngineIndexEndpoint.create(display_name = DISPLAY_NAME,\n",
    "                                                                      description  = DESCRIPTION,\n",
    "                                                                      network      = VPC_NETWORK_FULL,\n",
    "                                                                     )"
   ]
  },
  {
   "cell_type": "markdown",
   "id": "66816474",
   "metadata": {},
   "source": [
    "### CREATING VPC"
   ]
  },
  {
   "cell_type": "code",
   "execution_count": 107,
   "id": "e1475615",
   "metadata": {},
   "outputs": [],
   "source": [
    "VPC_NETWORK = \"vector-db-vpc2\"  # @param {type:\"string\"}\n",
    "PEERING_RANGE_NAME = \"ann-haystack-range\"\n",
    "PROJECT_ID = \"gcp-project-0523\""
   ]
  },
  {
   "cell_type": "code",
   "execution_count": 108,
   "id": "0358128d",
   "metadata": {},
   "outputs": [
    {
     "name": "stdout",
     "output_type": "stream",
     "text": [
      "NAME            SUBNET_MODE  BGP_ROUTING_MODE  IPV4_RANGE  GATEWAY_IPV4\n",
      "vector-db-vpc2  AUTO         REGIONAL\n"
     ]
    },
    {
     "name": "stderr",
     "output_type": "stream",
     "text": [
      "Created [https://www.googleapis.com/compute/v1/projects/gcp-project-0523/global/networks/vector-db-vpc2].\n",
      "\n",
      "Instances on this network will not be reachable until firewall rules\n",
      "are created. As an example, you can allow all internal traffic between\n",
      "instances as well as SSH, RDP, and ICMP by running:\n",
      "\n",
      "$ gcloud compute firewall-rules create <FIREWALL_NAME> --network vector-db-vpc2 --allow tcp,udp,icmp --source-ranges <IP_RANGE>\n",
      "$ gcloud compute firewall-rules create <FIREWALL_NAME> --network vector-db-vpc2 --allow tcp:22,tcp:3389,icmp\n",
      "\n"
     ]
    }
   ],
   "source": [
    "! gcloud compute networks create {VPC_NETWORK} --bgp-routing-mode=regional --subnet-mode=auto --project={PROJECT_ID}"
   ]
  },
  {
   "cell_type": "code",
   "execution_count": 109,
   "id": "b653ebd7",
   "metadata": {},
   "outputs": [
    {
     "name": "stdout",
     "output_type": "stream",
     "text": [
      "NAME                       NETWORK         DIRECTION  PRIORITY  ALLOW  DENY  DISABLED\n",
      "vector-db-vpc2-allow-icmp  vector-db-vpc2  INGRESS    65534     icmp         False\n"
     ]
    },
    {
     "name": "stderr",
     "output_type": "stream",
     "text": [
      "Creating firewall...\n",
      "..Created [https://www.googleapis.com/compute/v1/projects/gcp-project-0523/global/firewalls/vector-db-vpc2-allow-icmp].\n",
      "done.\n"
     ]
    },
    {
     "name": "stdout",
     "output_type": "stream",
     "text": [
      "NAME                           NETWORK         DIRECTION  PRIORITY  ALLOW  DENY  DISABLED\n",
      "vector-db-vpc2-allow-internal  vector-db-vpc2  INGRESS    65534     all          False\n"
     ]
    },
    {
     "name": "stderr",
     "output_type": "stream",
     "text": [
      "Creating firewall...\n",
      "..Created [https://www.googleapis.com/compute/v1/projects/gcp-project-0523/global/firewalls/vector-db-vpc2-allow-internal].\n",
      "done.\n"
     ]
    },
    {
     "name": "stdout",
     "output_type": "stream",
     "text": [
      "NAME                      NETWORK         DIRECTION  PRIORITY  ALLOW     DENY  DISABLED\n",
      "vector-db-vpc2-allow-rdp  vector-db-vpc2  INGRESS    65534     tcp:3389        False\n"
     ]
    },
    {
     "name": "stderr",
     "output_type": "stream",
     "text": [
      "Creating firewall...\n",
      "..Created [https://www.googleapis.com/compute/v1/projects/gcp-project-0523/global/firewalls/vector-db-vpc2-allow-rdp].\n",
      "done.\n"
     ]
    },
    {
     "name": "stdout",
     "output_type": "stream",
     "text": [
      "NAME                      NETWORK         DIRECTION  PRIORITY  ALLOW   DENY  DISABLED\n",
      "vector-db-vpc2-allow-ssh  vector-db-vpc2  INGRESS    65534     tcp:22        False\n"
     ]
    },
    {
     "name": "stderr",
     "output_type": "stream",
     "text": [
      "Creating firewall...\n",
      "..Created [https://www.googleapis.com/compute/v1/projects/gcp-project-0523/global/firewalls/vector-db-vpc2-allow-ssh].\n",
      "done.\n"
     ]
    }
   ],
   "source": [
    "# Add necessary firewall rules\n",
    "! gcloud compute firewall-rules create {VPC_NETWORK}-allow-icmp --network {VPC_NETWORK} --priority 65534 --project {PROJECT_ID} --allow icmp\n",
    "\n",
    "! gcloud compute firewall-rules create {VPC_NETWORK}-allow-internal --network {VPC_NETWORK} --priority 65534 --project {PROJECT_ID} --allow all --source-ranges 10.128.0.0/9\n",
    "\n",
    "! gcloud compute firewall-rules create {VPC_NETWORK}-allow-rdp --network {VPC_NETWORK} --priority 65534 --project {PROJECT_ID} --allow tcp:3389\n",
    "\n",
    "! gcloud compute firewall-rules create {VPC_NETWORK}-allow-ssh --network {VPC_NETWORK} --priority 65534 --project {PROJECT_ID} --allow tcp:22\n"
   ]
  },
  {
   "cell_type": "code",
   "execution_count": 110,
   "id": "0109ada8",
   "metadata": {},
   "outputs": [
    {
     "name": "stderr",
     "output_type": "stream",
     "text": [
      "Created [https://www.googleapis.com/compute/v1/projects/gcp-project-0523/global/addresses/ann-haystack-range].\n"
     ]
    }
   ],
   "source": [
    "# Reserve IP range\n",
    "! gcloud compute addresses create {PEERING_RANGE_NAME} --global --prefix-length=16 --network={VPC_NETWORK} --purpose=VPC_PEERING --project={PROJECT_ID} --description=\"peering range\"\n"
   ]
  },
  {
   "cell_type": "code",
   "execution_count": 112,
   "id": "f0c9f67f",
   "metadata": {},
   "outputs": [
    {
     "name": "stderr",
     "output_type": "stream",
     "text": [
      "Operation \"operations/pssn.p24-473197248954-d112d0de-17ab-4c31-b407-bf9bb9203893\" finished successfully.\n"
     ]
    }
   ],
   "source": [
    "# Set up peering with service networking\n",
    "# Your account must have the \"Compute Network Admin\" role to run the following.\n",
    "! gcloud services vpc-peerings connect --service=servicenetworking.googleapis.com --network={VPC_NETWORK} --ranges={PEERING_RANGE_NAME} --project={PROJECT_ID}"
   ]
  },
  {
   "cell_type": "code",
   "execution_count": 125,
   "id": "0f694dbf",
   "metadata": {},
   "outputs": [],
   "source": [
    "!gcloud services enable servicenetworking.googleapis.com --project={PROJECT_ID}"
   ]
  },
  {
   "cell_type": "markdown",
   "id": "1b541a5f",
   "metadata": {},
   "source": [
    "### Create Endpoint on VPC"
   ]
  },
  {
   "cell_type": "code",
   "execution_count": 52,
   "id": "3672ae79",
   "metadata": {},
   "outputs": [
    {
     "name": "stdout",
     "output_type": "stream",
     "text": [
      "Creating MatchingEngineIndexEndpoint\n"
     ]
    },
    {
     "name": "stderr",
     "output_type": "stream",
     "text": [
      "INFO:google.cloud.aiplatform.matching_engine.matching_engine_index_endpoint:Creating MatchingEngineIndexEndpoint\n"
     ]
    },
    {
     "name": "stdout",
     "output_type": "stream",
     "text": [
      "Create MatchingEngineIndexEndpoint backing LRO: projects/473197248954/locations/us-central1/indexEndpoints/4019277949474701312/operations/249024196686905344\n"
     ]
    },
    {
     "name": "stderr",
     "output_type": "stream",
     "text": [
      "INFO:google.cloud.aiplatform.matching_engine.matching_engine_index_endpoint:Create MatchingEngineIndexEndpoint backing LRO: projects/473197248954/locations/us-central1/indexEndpoints/4019277949474701312/operations/249024196686905344\n"
     ]
    },
    {
     "name": "stdout",
     "output_type": "stream",
     "text": [
      "MatchingEngineIndexEndpoint created. Resource name: projects/473197248954/locations/us-central1/indexEndpoints/4019277949474701312\n"
     ]
    },
    {
     "name": "stderr",
     "output_type": "stream",
     "text": [
      "INFO:google.cloud.aiplatform.matching_engine.matching_engine_index_endpoint:MatchingEngineIndexEndpoint created. Resource name: projects/473197248954/locations/us-central1/indexEndpoints/4019277949474701312\n"
     ]
    },
    {
     "name": "stdout",
     "output_type": "stream",
     "text": [
      "To use this MatchingEngineIndexEndpoint in another session:\n"
     ]
    },
    {
     "name": "stderr",
     "output_type": "stream",
     "text": [
      "INFO:google.cloud.aiplatform.matching_engine.matching_engine_index_endpoint:To use this MatchingEngineIndexEndpoint in another session:\n"
     ]
    },
    {
     "name": "stdout",
     "output_type": "stream",
     "text": [
      "index_endpoint = aiplatform.MatchingEngineIndexEndpoint('projects/473197248954/locations/us-central1/indexEndpoints/4019277949474701312')\n"
     ]
    },
    {
     "name": "stderr",
     "output_type": "stream",
     "text": [
      "INFO:google.cloud.aiplatform.matching_engine.matching_engine_index_endpoint:index_endpoint = aiplatform.MatchingEngineIndexEndpoint('projects/473197248954/locations/us-central1/indexEndpoints/4019277949474701312')\n"
     ]
    }
   ],
   "source": [
    "DISPLAY_NAME = \"stack_overflow_endpoint_vpc\"\n",
    "my_vpc_index_endpoint = aiplatform.MatchingEngineIndexEndpoint.create(display_name = DISPLAY_NAME,\n",
    "                                                                      description  = DESCRIPTION,\n",
    "                                                                      network      = 'projects/473197248954/global/networks/vector-db-vpc2',\n",
    "                                                                     )"
   ]
  },
  {
   "cell_type": "code",
   "execution_count": 53,
   "id": "f7cb316f",
   "metadata": {},
   "outputs": [
    {
     "data": {
      "text/plain": [
       "<google.cloud.aiplatform.matching_engine.matching_engine_index_endpoint.MatchingEngineIndexEndpoint object at 0x000001C9EFD261F0> \n",
       "resource name: projects/473197248954/locations/us-central1/indexEndpoints/4019277949474701312"
      ]
     },
     "execution_count": 53,
     "metadata": {},
     "output_type": "execute_result"
    }
   ],
   "source": [
    "my_vpc_index_endpoint"
   ]
  },
  {
   "cell_type": "code",
   "execution_count": 54,
   "id": "c7ad46d7",
   "metadata": {},
   "outputs": [
    {
     "data": {
      "text/plain": [
       "name: \"projects/473197248954/locations/us-central1/indexEndpoints/4019277949474701312\"\n",
       "display_name: \"stack_overflow_endpoint_vpc\"\n",
       "description: \"questions from stackoverflow\"\n",
       "etag: \"AMEw9yNk1ns2cf4ffTCVXKGB9vPnqhTbk6Rx4tiSXAQ0jktTnljJ2m9n79AYUqZIqCSC\"\n",
       "create_time {\n",
       "  seconds: 1686003188\n",
       "  nanos: 59508000\n",
       "}\n",
       "update_time {\n",
       "  seconds: 1686003188\n",
       "  nanos: 663817000\n",
       "}\n",
       "network: \"projects/473197248954/global/networks/vector-db-vpc2\""
      ]
     },
     "execution_count": 54,
     "metadata": {},
     "output_type": "execute_result"
    }
   ],
   "source": [
    "my_vpc_index_endpoint.gca_resource"
   ]
  },
  {
   "cell_type": "markdown",
   "id": "5989bee1",
   "metadata": {},
   "source": [
    "#### Deploy ANN Index on Private Endpoint (VPC)"
   ]
  },
  {
   "cell_type": "code",
   "execution_count": 55,
   "id": "a69092cc",
   "metadata": {},
   "outputs": [],
   "source": [
    "DEPLOYED_INDEX_ID = \"stack_overflow_index_deployed_vpc\""
   ]
  },
  {
   "cell_type": "code",
   "execution_count": 56,
   "id": "9778a1d0",
   "metadata": {},
   "outputs": [
    {
     "data": {
      "text/plain": [
       "<google.cloud.aiplatform.matching_engine.matching_engine_index.MatchingEngineIndex object at 0x000001C9C5F1FB50> \n",
       "resource name: projects/473197248954/locations/us-central1/indexes/552069186352840704"
      ]
     },
     "execution_count": 56,
     "metadata": {},
     "output_type": "execute_result"
    }
   ],
   "source": [
    "tree_ah_index"
   ]
  },
  {
   "cell_type": "code",
   "execution_count": 57,
   "id": "578fd2c9",
   "metadata": {},
   "outputs": [
    {
     "name": "stdout",
     "output_type": "stream",
     "text": [
      "Deploying index MatchingEngineIndexEndpoint index_endpoint: projects/473197248954/locations/us-central1/indexEndpoints/4019277949474701312\n"
     ]
    },
    {
     "name": "stderr",
     "output_type": "stream",
     "text": [
      "INFO:google.cloud.aiplatform.matching_engine.matching_engine_index_endpoint:Deploying index MatchingEngineIndexEndpoint index_endpoint: projects/473197248954/locations/us-central1/indexEndpoints/4019277949474701312\n"
     ]
    },
    {
     "name": "stdout",
     "output_type": "stream",
     "text": [
      "Deploy index MatchingEngineIndexEndpoint index_endpoint backing LRO: projects/473197248954/locations/us-central1/indexEndpoints/4019277949474701312/operations/8776590091112939520\n"
     ]
    },
    {
     "name": "stderr",
     "output_type": "stream",
     "text": [
      "INFO:google.cloud.aiplatform.matching_engine.matching_engine_index_endpoint:Deploy index MatchingEngineIndexEndpoint index_endpoint backing LRO: projects/473197248954/locations/us-central1/indexEndpoints/4019277949474701312/operations/8776590091112939520\n"
     ]
    },
    {
     "name": "stdout",
     "output_type": "stream",
     "text": [
      "MatchingEngineIndexEndpoint index_endpoint Deployed index. Resource name: projects/473197248954/locations/us-central1/indexEndpoints/4019277949474701312\n"
     ]
    },
    {
     "name": "stderr",
     "output_type": "stream",
     "text": [
      "INFO:google.cloud.aiplatform.matching_engine.matching_engine_index_endpoint:MatchingEngineIndexEndpoint index_endpoint Deployed index. Resource name: projects/473197248954/locations/us-central1/indexEndpoints/4019277949474701312\n"
     ]
    }
   ],
   "source": [
    "my_vpc_index_endpoint = my_vpc_index_endpoint.deploy_index(index             = tree_ah_index,\n",
    "                                                           deployed_index_id = DEPLOYED_INDEX_ID)"
   ]
  },
  {
   "cell_type": "code",
   "execution_count": 120,
   "id": "ccc69f81",
   "metadata": {},
   "outputs": [
    {
     "data": {
      "text/plain": [
       "[id: \"deployed_index_id_vpc_unique\"\n",
       "index: \"projects/473197248954/locations/us-central1/indexes/6450658798301347840\"\n",
       "create_time {\n",
       "  seconds: 1685905719\n",
       "  nanos: 335164000\n",
       "}\n",
       "private_endpoints {\n",
       "  match_grpc_address: \"10.25.0.5\"\n",
       "}\n",
       "index_sync_time {\n",
       "  seconds: 1685907894\n",
       "  nanos: 894871000\n",
       "}\n",
       "automatic_resources {\n",
       "  min_replica_count: 2\n",
       "  max_replica_count: 2\n",
       "}\n",
       "deployment_group: \"default\"\n",
       "]"
      ]
     },
     "execution_count": 120,
     "metadata": {},
     "output_type": "execute_result"
    }
   ],
   "source": [
    "my_vpc_index_endpoint.deployed_indexes"
   ]
  },
  {
   "cell_type": "markdown",
   "id": "41f39e0a",
   "metadata": {},
   "source": [
    "#### Create Online Queries"
   ]
  },
  {
   "cell_type": "code",
   "execution_count": 126,
   "id": "063a2caa",
   "metadata": {},
   "outputs": [
    {
     "data": {
      "application/vnd.jupyter.widget-view+json": {
       "model_id": "f513592351dc4cfea0ce6006f912efeb",
       "version_major": 2,
       "version_minor": 0
      },
      "text/plain": [
       "  0%|          | 0/1 [00:00<?, ?it/s]"
      ]
     },
     "metadata": {},
     "output_type": "display_data"
    }
   ],
   "source": [
    "test_embeddings = encode_text_to_embedding(text_encoder = encoder,\n",
    "                                           sentences    = [\"How do I install tensorflow with GPU support?\"]\n",
    ")"
   ]
  },
  {
   "cell_type": "code",
   "execution_count": 127,
   "id": "4640082c",
   "metadata": {
    "collapsed": true
   },
   "outputs": [
    {
     "ename": "_InactiveRpcError",
     "evalue": "<_InactiveRpcError of RPC that terminated with:\n\tstatus = StatusCode.UNAVAILABLE\n\tdetails = \"failed to connect to all addresses; last error: UNAVAILABLE: ipv4:10.25.0.5:10000: WSA Error\"\n\tdebug_error_string = \"UNKNOWN:failed to connect to all addresses; last error: UNAVAILABLE: ipv4:10.25.0.5:10000: WSA Error {grpc_status:14, created_time:\"2023-06-04T20:38:58.044130574+00:00\"}\"\n>",
     "output_type": "error",
     "traceback": [
      "\u001b[1;31m---------------------------------------------------------------------------\u001b[0m",
      "\u001b[1;31m_InactiveRpcError\u001b[0m                         Traceback (most recent call last)",
      "Cell \u001b[1;32mIn[127], line 5\u001b[0m\n\u001b[0;32m      2\u001b[0m NUM_NEIGHBOURS \u001b[38;5;241m=\u001b[39m \u001b[38;5;241m20\u001b[39m\n\u001b[0;32m      3\u001b[0m DEPLOYED_INDEX_ID \u001b[38;5;241m=\u001b[39m \u001b[38;5;124m\"\u001b[39m\u001b[38;5;124mdeployed_index_id_vpc_unique\u001b[39m\u001b[38;5;124m\"\u001b[39m\n\u001b[1;32m----> 5\u001b[0m response \u001b[38;5;241m=\u001b[39m \u001b[43mmy_vpc_index_endpoint\u001b[49m\u001b[38;5;241;43m.\u001b[39;49m\u001b[43mmatch\u001b[49m\u001b[43m(\u001b[49m\u001b[43mdeployed_index_id\u001b[49m\u001b[43m \u001b[49m\u001b[38;5;241;43m=\u001b[39;49m\u001b[43m \u001b[49m\u001b[38;5;124;43m\"\u001b[39;49m\u001b[38;5;124;43mdeployed_index_id_vpc_unique\u001b[39;49m\u001b[38;5;124;43m\"\u001b[39;49m\u001b[43m,\u001b[49m\n\u001b[0;32m      6\u001b[0m \u001b[43m                                       \u001b[49m\u001b[43mqueries\u001b[49m\u001b[43m           \u001b[49m\u001b[38;5;241;43m=\u001b[39;49m\u001b[43m \u001b[49m\u001b[43m[\u001b[49m\u001b[43mtest_embeddings\u001b[49m\u001b[38;5;241;43m.\u001b[39;49m\u001b[43mtolist\u001b[49m\u001b[43m(\u001b[49m\u001b[43m)\u001b[49m\u001b[43m]\u001b[49m\u001b[43m,\u001b[49m\n\u001b[0;32m      7\u001b[0m \u001b[43m                                       \u001b[49m\u001b[43mnum_neighbors\u001b[49m\u001b[43m     \u001b[49m\u001b[38;5;241;43m=\u001b[39;49m\u001b[43m \u001b[49m\u001b[38;5;241;43m20\u001b[39;49m\u001b[43m,\u001b[49m\n\u001b[0;32m      8\u001b[0m \u001b[43m                                      \u001b[49m\u001b[43m)\u001b[49m\n",
      "File \u001b[1;32m~\\AppData\\Roaming\\Python\\Python39\\site-packages\\google\\cloud\\aiplatform\\matching_engine\\matching_engine_index_endpoint.py:1139\u001b[0m, in \u001b[0;36mMatchingEngineIndexEndpoint.match\u001b[1;34m(self, deployed_index_id, queries, num_neighbors, filter)\u001b[0m\n\u001b[0;32m   1136\u001b[0m batch_request\u001b[38;5;241m.\u001b[39mrequests\u001b[38;5;241m.\u001b[39mappend(batch_request_for_index)\n\u001b[0;32m   1138\u001b[0m \u001b[38;5;66;03m# Perform the request\u001b[39;00m\n\u001b[1;32m-> 1139\u001b[0m response \u001b[38;5;241m=\u001b[39m \u001b[43mstub\u001b[49m\u001b[38;5;241;43m.\u001b[39;49m\u001b[43mBatchMatch\u001b[49m\u001b[43m(\u001b[49m\u001b[43mbatch_request\u001b[49m\u001b[43m)\u001b[49m\n\u001b[0;32m   1141\u001b[0m \u001b[38;5;66;03m# Wrap the results in MatchNeighbor objects and return\u001b[39;00m\n\u001b[0;32m   1142\u001b[0m \u001b[38;5;28;01mreturn\u001b[39;00m [\n\u001b[0;32m   1143\u001b[0m     [\n\u001b[0;32m   1144\u001b[0m         MatchNeighbor(\u001b[38;5;28mid\u001b[39m\u001b[38;5;241m=\u001b[39mneighbor\u001b[38;5;241m.\u001b[39mid, distance\u001b[38;5;241m=\u001b[39mneighbor\u001b[38;5;241m.\u001b[39mdistance)\n\u001b[1;32m   (...)\u001b[0m\n\u001b[0;32m   1147\u001b[0m     \u001b[38;5;28;01mfor\u001b[39;00m embedding_neighbors \u001b[38;5;129;01min\u001b[39;00m response\u001b[38;5;241m.\u001b[39mresponses[\u001b[38;5;241m0\u001b[39m]\u001b[38;5;241m.\u001b[39mresponses\n\u001b[0;32m   1148\u001b[0m ]\n",
      "File \u001b[1;32m~\\AppData\\Roaming\\Python\\Python39\\site-packages\\grpc\\_channel.py:1030\u001b[0m, in \u001b[0;36m_UnaryUnaryMultiCallable.__call__\u001b[1;34m(self, request, timeout, metadata, credentials, wait_for_ready, compression)\u001b[0m\n\u001b[0;32m   1021\u001b[0m \u001b[38;5;28;01mdef\u001b[39;00m \u001b[38;5;21m__call__\u001b[39m(\u001b[38;5;28mself\u001b[39m,\n\u001b[0;32m   1022\u001b[0m              request: Any,\n\u001b[0;32m   1023\u001b[0m              timeout: Optional[\u001b[38;5;28mfloat\u001b[39m] \u001b[38;5;241m=\u001b[39m \u001b[38;5;28;01mNone\u001b[39;00m,\n\u001b[1;32m   (...)\u001b[0m\n\u001b[0;32m   1026\u001b[0m              wait_for_ready: Optional[\u001b[38;5;28mbool\u001b[39m] \u001b[38;5;241m=\u001b[39m \u001b[38;5;28;01mNone\u001b[39;00m,\n\u001b[0;32m   1027\u001b[0m              compression: Optional[grpc\u001b[38;5;241m.\u001b[39mCompression] \u001b[38;5;241m=\u001b[39m \u001b[38;5;28;01mNone\u001b[39;00m) \u001b[38;5;241m-\u001b[39m\u001b[38;5;241m>\u001b[39m Any:\n\u001b[0;32m   1028\u001b[0m     state, call, \u001b[38;5;241m=\u001b[39m \u001b[38;5;28mself\u001b[39m\u001b[38;5;241m.\u001b[39m_blocking(request, timeout, metadata, credentials,\n\u001b[0;32m   1029\u001b[0m                                   wait_for_ready, compression)\n\u001b[1;32m-> 1030\u001b[0m     \u001b[38;5;28;01mreturn\u001b[39;00m \u001b[43m_end_unary_response_blocking\u001b[49m\u001b[43m(\u001b[49m\u001b[43mstate\u001b[49m\u001b[43m,\u001b[49m\u001b[43m \u001b[49m\u001b[43mcall\u001b[49m\u001b[43m,\u001b[49m\u001b[43m \u001b[49m\u001b[38;5;28;43;01mFalse\u001b[39;49;00m\u001b[43m,\u001b[49m\u001b[43m \u001b[49m\u001b[38;5;28;43;01mNone\u001b[39;49;00m\u001b[43m)\u001b[49m\n",
      "File \u001b[1;32m~\\AppData\\Roaming\\Python\\Python39\\site-packages\\grpc\\_channel.py:910\u001b[0m, in \u001b[0;36m_end_unary_response_blocking\u001b[1;34m(state, call, with_call, deadline)\u001b[0m\n\u001b[0;32m    908\u001b[0m         \u001b[38;5;28;01mreturn\u001b[39;00m state\u001b[38;5;241m.\u001b[39mresponse\n\u001b[0;32m    909\u001b[0m \u001b[38;5;28;01melse\u001b[39;00m:\n\u001b[1;32m--> 910\u001b[0m     \u001b[38;5;28;01mraise\u001b[39;00m _InactiveRpcError(state)\n",
      "\u001b[1;31m_InactiveRpcError\u001b[0m: <_InactiveRpcError of RPC that terminated with:\n\tstatus = StatusCode.UNAVAILABLE\n\tdetails = \"failed to connect to all addresses; last error: UNAVAILABLE: ipv4:10.25.0.5:10000: WSA Error\"\n\tdebug_error_string = \"UNKNOWN:failed to connect to all addresses; last error: UNAVAILABLE: ipv4:10.25.0.5:10000: WSA Error {grpc_status:14, created_time:\"2023-06-04T20:38:58.044130574+00:00\"}\"\n>"
     ]
    }
   ],
   "source": [
    "# Test query\n",
    "NUM_NEIGHBOURS = 20\n",
    "DEPLOYED_INDEX_ID = \"deployed_index_id_vpc_unique\"\n",
    "\n",
    "response = my_vpc_index_endpoint.match(deployed_index_id = \"deployed_index_id_vpc_unique\",\n",
    "                                       queries           = [test_embeddings.tolist()],\n",
    "                                       num_neighbors     = 20,\n",
    "                                      )"
   ]
  },
  {
   "cell_type": "code",
   "execution_count": 128,
   "id": "a27c49c8",
   "metadata": {},
   "outputs": [
    {
     "ename": "ModuleNotFoundError",
     "evalue": "No module named 'match_service_pb2'",
     "output_type": "error",
     "traceback": [
      "\u001b[1;31m---------------------------------------------------------------------------\u001b[0m",
      "\u001b[1;31mModuleNotFoundError\u001b[0m                       Traceback (most recent call last)",
      "Cell \u001b[1;32mIn[128], line 2\u001b[0m\n\u001b[0;32m      1\u001b[0m \u001b[38;5;28;01mimport\u001b[39;00m \u001b[38;5;21;01mgrpc\u001b[39;00m\n\u001b[1;32m----> 2\u001b[0m \u001b[38;5;28;01mimport\u001b[39;00m \u001b[38;5;21;01mmatch_service_pb2\u001b[39;00m\n\u001b[0;32m      3\u001b[0m \u001b[38;5;28;01mimport\u001b[39;00m \u001b[38;5;21;01mmatch_service_pb2_grpc\u001b[39;00m\n",
      "\u001b[1;31mModuleNotFoundError\u001b[0m: No module named 'match_service_pb2'"
     ]
    }
   ],
   "source": [
    "import grpc\n",
    "import match_service_pb2\n",
    "import match_service_pb2_grpc"
   ]
  },
  {
   "cell_type": "code",
   "execution_count": 129,
   "id": "d0af0881",
   "metadata": {},
   "outputs": [
    {
     "ename": "SyntaxError",
     "evalue": "invalid syntax (730042570.py, line 1)",
     "output_type": "error",
     "traceback": [
      "\u001b[1;36m  Cell \u001b[1;32mIn[129], line 1\u001b[1;36m\u001b[0m\n\u001b[1;33m    ./grpc_cli\u001b[0m\n\u001b[1;37m    ^\u001b[0m\n\u001b[1;31mSyntaxError\u001b[0m\u001b[1;31m:\u001b[0m invalid syntax\n"
     ]
    }
   ],
   "source": [
    "./grpc_cli"
   ]
  },
  {
   "cell_type": "markdown",
   "id": "bb0cb6d1",
   "metadata": {},
   "source": [
    "#### Deploy ANN Index on Public Endpoint"
   ]
  },
  {
   "cell_type": "code",
   "execution_count": 35,
   "id": "cf3ffc1e",
   "metadata": {},
   "outputs": [],
   "source": [
    "DEPLOYED_INDEX_ID = \"stack_overflow_index_deployed\""
   ]
  },
  {
   "cell_type": "code",
   "execution_count": 36,
   "id": "0e94fc7d",
   "metadata": {},
   "outputs": [
    {
     "name": "stdout",
     "output_type": "stream",
     "text": [
      "Deploying index MatchingEngineIndexEndpoint index_endpoint: projects/473197248954/locations/us-central1/indexEndpoints/3475468294469713920\n"
     ]
    },
    {
     "name": "stderr",
     "output_type": "stream",
     "text": [
      "INFO:google.cloud.aiplatform.matching_engine.matching_engine_index_endpoint:Deploying index MatchingEngineIndexEndpoint index_endpoint: projects/473197248954/locations/us-central1/indexEndpoints/3475468294469713920\n"
     ]
    },
    {
     "name": "stdout",
     "output_type": "stream",
     "text": [
      "Deploy index MatchingEngineIndexEndpoint index_endpoint backing LRO: projects/473197248954/locations/us-central1/indexEndpoints/3475468294469713920/operations/5517109860803543040\n"
     ]
    },
    {
     "name": "stderr",
     "output_type": "stream",
     "text": [
      "INFO:google.cloud.aiplatform.matching_engine.matching_engine_index_endpoint:Deploy index MatchingEngineIndexEndpoint index_endpoint backing LRO: projects/473197248954/locations/us-central1/indexEndpoints/3475468294469713920/operations/5517109860803543040\n"
     ]
    },
    {
     "ename": "TimeoutError",
     "evalue": "Operation did not complete within the designated timeout of 900 seconds.",
     "output_type": "error",
     "traceback": [
      "\u001b[1;31m---------------------------------------------------------------------------\u001b[0m",
      "\u001b[1;31m_OperationNotComplete\u001b[0m                     Traceback (most recent call last)",
      "File \u001b[1;32mD:\\anaconda3\\lib\\site-packages\\google\\api_core\\retry.py:191\u001b[0m, in \u001b[0;36mretry_target\u001b[1;34m(target, predicate, sleep_generator, timeout, on_error, **kwargs)\u001b[0m\n\u001b[0;32m    190\u001b[0m \u001b[38;5;28;01mtry\u001b[39;00m:\n\u001b[1;32m--> 191\u001b[0m     \u001b[38;5;28;01mreturn\u001b[39;00m \u001b[43mtarget\u001b[49m\u001b[43m(\u001b[49m\u001b[43m)\u001b[49m\n\u001b[0;32m    193\u001b[0m \u001b[38;5;66;03m# pylint: disable=broad-except\u001b[39;00m\n\u001b[0;32m    194\u001b[0m \u001b[38;5;66;03m# This function explicitly must deal with broad exceptions.\u001b[39;00m\n",
      "File \u001b[1;32mD:\\anaconda3\\lib\\site-packages\\google\\api_core\\future\\polling.py:120\u001b[0m, in \u001b[0;36mPollingFuture._done_or_raise\u001b[1;34m(self, retry)\u001b[0m\n\u001b[0;32m    119\u001b[0m \u001b[38;5;28;01mif\u001b[39;00m \u001b[38;5;129;01mnot\u001b[39;00m \u001b[38;5;28mself\u001b[39m\u001b[38;5;241m.\u001b[39mdone(retry\u001b[38;5;241m=\u001b[39mretry):\n\u001b[1;32m--> 120\u001b[0m     \u001b[38;5;28;01mraise\u001b[39;00m _OperationNotComplete()\n",
      "\u001b[1;31m_OperationNotComplete\u001b[0m: ",
      "\nThe above exception was the direct cause of the following exception:\n",
      "\u001b[1;31mRetryError\u001b[0m                                Traceback (most recent call last)",
      "File \u001b[1;32mD:\\anaconda3\\lib\\site-packages\\google\\api_core\\future\\polling.py:137\u001b[0m, in \u001b[0;36mPollingFuture._blocking_poll\u001b[1;34m(self, timeout, retry, polling)\u001b[0m\n\u001b[0;32m    136\u001b[0m \u001b[38;5;28;01mtry\u001b[39;00m:\n\u001b[1;32m--> 137\u001b[0m     \u001b[43mpolling\u001b[49m\u001b[43m(\u001b[49m\u001b[38;5;28;43mself\u001b[39;49m\u001b[38;5;241;43m.\u001b[39;49m\u001b[43m_done_or_raise\u001b[49m\u001b[43m)\u001b[49m\u001b[43m(\u001b[49m\u001b[43mretry\u001b[49m\u001b[38;5;241;43m=\u001b[39;49m\u001b[43mretry\u001b[49m\u001b[43m)\u001b[49m\n\u001b[0;32m    138\u001b[0m \u001b[38;5;28;01mexcept\u001b[39;00m exceptions\u001b[38;5;241m.\u001b[39mRetryError:\n",
      "File \u001b[1;32mD:\\anaconda3\\lib\\site-packages\\google\\api_core\\retry.py:349\u001b[0m, in \u001b[0;36mRetry.__call__.<locals>.retry_wrapped_func\u001b[1;34m(*args, **kwargs)\u001b[0m\n\u001b[0;32m    346\u001b[0m sleep_generator \u001b[38;5;241m=\u001b[39m exponential_sleep_generator(\n\u001b[0;32m    347\u001b[0m     \u001b[38;5;28mself\u001b[39m\u001b[38;5;241m.\u001b[39m_initial, \u001b[38;5;28mself\u001b[39m\u001b[38;5;241m.\u001b[39m_maximum, multiplier\u001b[38;5;241m=\u001b[39m\u001b[38;5;28mself\u001b[39m\u001b[38;5;241m.\u001b[39m_multiplier\n\u001b[0;32m    348\u001b[0m )\n\u001b[1;32m--> 349\u001b[0m \u001b[38;5;28;01mreturn\u001b[39;00m \u001b[43mretry_target\u001b[49m\u001b[43m(\u001b[49m\n\u001b[0;32m    350\u001b[0m \u001b[43m    \u001b[49m\u001b[43mtarget\u001b[49m\u001b[43m,\u001b[49m\n\u001b[0;32m    351\u001b[0m \u001b[43m    \u001b[49m\u001b[38;5;28;43mself\u001b[39;49m\u001b[38;5;241;43m.\u001b[39;49m\u001b[43m_predicate\u001b[49m\u001b[43m,\u001b[49m\n\u001b[0;32m    352\u001b[0m \u001b[43m    \u001b[49m\u001b[43msleep_generator\u001b[49m\u001b[43m,\u001b[49m\n\u001b[0;32m    353\u001b[0m \u001b[43m    \u001b[49m\u001b[38;5;28;43mself\u001b[39;49m\u001b[38;5;241;43m.\u001b[39;49m\u001b[43m_timeout\u001b[49m\u001b[43m,\u001b[49m\n\u001b[0;32m    354\u001b[0m \u001b[43m    \u001b[49m\u001b[43mon_error\u001b[49m\u001b[38;5;241;43m=\u001b[39;49m\u001b[43mon_error\u001b[49m\u001b[43m,\u001b[49m\n\u001b[0;32m    355\u001b[0m \u001b[43m\u001b[49m\u001b[43m)\u001b[49m\n",
      "File \u001b[1;32mD:\\anaconda3\\lib\\site-packages\\google\\api_core\\retry.py:207\u001b[0m, in \u001b[0;36mretry_target\u001b[1;34m(target, predicate, sleep_generator, timeout, on_error, **kwargs)\u001b[0m\n\u001b[0;32m    206\u001b[0m     \u001b[38;5;28;01mif\u001b[39;00m deadline \u001b[38;5;241m<\u001b[39m next_attempt_time:\n\u001b[1;32m--> 207\u001b[0m         \u001b[38;5;28;01mraise\u001b[39;00m exceptions\u001b[38;5;241m.\u001b[39mRetryError(\n\u001b[0;32m    208\u001b[0m             \u001b[38;5;124m\"\u001b[39m\u001b[38;5;124mDeadline of \u001b[39m\u001b[38;5;132;01m{:.1f}\u001b[39;00m\u001b[38;5;124ms exceeded while calling target function\u001b[39m\u001b[38;5;124m\"\u001b[39m\u001b[38;5;241m.\u001b[39mformat(\n\u001b[0;32m    209\u001b[0m                 timeout\n\u001b[0;32m    210\u001b[0m             ),\n\u001b[0;32m    211\u001b[0m             last_exc,\n\u001b[0;32m    212\u001b[0m         ) \u001b[38;5;28;01mfrom\u001b[39;00m \u001b[38;5;21;01mlast_exc\u001b[39;00m\n\u001b[0;32m    214\u001b[0m _LOGGER\u001b[38;5;241m.\u001b[39mdebug(\n\u001b[0;32m    215\u001b[0m     \u001b[38;5;124m\"\u001b[39m\u001b[38;5;124mRetrying due to \u001b[39m\u001b[38;5;132;01m{}\u001b[39;00m\u001b[38;5;124m, sleeping \u001b[39m\u001b[38;5;132;01m{:.1f}\u001b[39;00m\u001b[38;5;124ms ...\u001b[39m\u001b[38;5;124m\"\u001b[39m\u001b[38;5;241m.\u001b[39mformat(last_exc, sleep)\n\u001b[0;32m    216\u001b[0m )\n",
      "\u001b[1;31mRetryError\u001b[0m: Deadline of 900.0s exceeded while calling target function, last exception: ",
      "\nDuring handling of the above exception, another exception occurred:\n",
      "\u001b[1;31mTimeoutError\u001b[0m                              Traceback (most recent call last)",
      "Cell \u001b[1;32mIn[36], line 1\u001b[0m\n\u001b[1;32m----> 1\u001b[0m my_index_endpoint \u001b[38;5;241m=\u001b[39m \u001b[43mmy_index_endpoint\u001b[49m\u001b[38;5;241;43m.\u001b[39;49m\u001b[43mdeploy_index\u001b[49m\u001b[43m(\u001b[49m\u001b[43mindex\u001b[49m\u001b[43m             \u001b[49m\u001b[38;5;241;43m=\u001b[39;49m\u001b[43m \u001b[49m\u001b[43mtree_ah_index\u001b[49m\u001b[43m,\u001b[49m\n\u001b[0;32m      2\u001b[0m \u001b[43m                                                   \u001b[49m\u001b[43mdeployed_index_id\u001b[49m\u001b[43m \u001b[49m\u001b[38;5;241;43m=\u001b[39;49m\u001b[43m \u001b[49m\u001b[43mDEPLOYED_INDEX_ID\u001b[49m\u001b[43m)\u001b[49m\n",
      "File \u001b[1;32m~\\AppData\\Roaming\\Python\\Python39\\site-packages\\google\\cloud\\aiplatform\\matching_engine\\matching_engine_index_endpoint.py:730\u001b[0m, in \u001b[0;36mMatchingEngineIndexEndpoint.deploy_index\u001b[1;34m(self, index, deployed_index_id, display_name, machine_type, min_replica_count, max_replica_count, enable_access_logging, reserved_ip_ranges, deployment_group, auth_config_audiences, auth_config_allowed_issuers, request_metadata)\u001b[0m\n\u001b[0;32m    720\u001b[0m deploy_lro \u001b[38;5;241m=\u001b[39m \u001b[38;5;28mself\u001b[39m\u001b[38;5;241m.\u001b[39mapi_client\u001b[38;5;241m.\u001b[39mdeploy_index(\n\u001b[0;32m    721\u001b[0m     index_endpoint\u001b[38;5;241m=\u001b[39m\u001b[38;5;28mself\u001b[39m\u001b[38;5;241m.\u001b[39mresource_name,\n\u001b[0;32m    722\u001b[0m     deployed_index\u001b[38;5;241m=\u001b[39mdeployed_index,\n\u001b[0;32m    723\u001b[0m     metadata\u001b[38;5;241m=\u001b[39mrequest_metadata,\n\u001b[0;32m    724\u001b[0m )\n\u001b[0;32m    726\u001b[0m _LOGGER\u001b[38;5;241m.\u001b[39mlog_action_started_against_resource_with_lro(\n\u001b[0;32m    727\u001b[0m     \u001b[38;5;124m\"\u001b[39m\u001b[38;5;124mDeploy index\u001b[39m\u001b[38;5;124m\"\u001b[39m, \u001b[38;5;124m\"\u001b[39m\u001b[38;5;124mindex_endpoint\u001b[39m\u001b[38;5;124m\"\u001b[39m, \u001b[38;5;28mself\u001b[39m\u001b[38;5;241m.\u001b[39m\u001b[38;5;18m__class__\u001b[39m, deploy_lro\n\u001b[0;32m    728\u001b[0m )\n\u001b[1;32m--> 730\u001b[0m \u001b[43mdeploy_lro\u001b[49m\u001b[38;5;241;43m.\u001b[39;49m\u001b[43mresult\u001b[49m\u001b[43m(\u001b[49m\u001b[43m)\u001b[49m\n\u001b[0;32m    732\u001b[0m _LOGGER\u001b[38;5;241m.\u001b[39mlog_action_completed_against_resource(\n\u001b[0;32m    733\u001b[0m     \u001b[38;5;124m\"\u001b[39m\u001b[38;5;124mindex_endpoint\u001b[39m\u001b[38;5;124m\"\u001b[39m, \u001b[38;5;124m\"\u001b[39m\u001b[38;5;124mDeployed index\u001b[39m\u001b[38;5;124m\"\u001b[39m, \u001b[38;5;28mself\u001b[39m\n\u001b[0;32m    734\u001b[0m )\n\u001b[0;32m    736\u001b[0m \u001b[38;5;66;03m# update local resource\u001b[39;00m\n",
      "File \u001b[1;32mD:\\anaconda3\\lib\\site-packages\\google\\api_core\\future\\polling.py:256\u001b[0m, in \u001b[0;36mPollingFuture.result\u001b[1;34m(self, timeout, retry, polling)\u001b[0m\n\u001b[0;32m    144\u001b[0m \u001b[38;5;28;01mdef\u001b[39;00m \u001b[38;5;21mresult\u001b[39m(\u001b[38;5;28mself\u001b[39m, timeout\u001b[38;5;241m=\u001b[39m_DEFAULT_VALUE, retry\u001b[38;5;241m=\u001b[39m\u001b[38;5;28;01mNone\u001b[39;00m, polling\u001b[38;5;241m=\u001b[39m\u001b[38;5;28;01mNone\u001b[39;00m):\n\u001b[0;32m    145\u001b[0m \u001b[38;5;250m    \u001b[39m\u001b[38;5;124;03m\"\"\"Get the result of the operation.\u001b[39;00m\n\u001b[0;32m    146\u001b[0m \n\u001b[0;32m    147\u001b[0m \u001b[38;5;124;03m    This method will poll for operation status periodically, blocking if\u001b[39;00m\n\u001b[1;32m   (...)\u001b[0m\n\u001b[0;32m    253\u001b[0m \u001b[38;5;124;03m            the timeout is reached before the operation completes.\u001b[39;00m\n\u001b[0;32m    254\u001b[0m \u001b[38;5;124;03m    \"\"\"\u001b[39;00m\n\u001b[1;32m--> 256\u001b[0m     \u001b[38;5;28;43mself\u001b[39;49m\u001b[38;5;241;43m.\u001b[39;49m\u001b[43m_blocking_poll\u001b[49m\u001b[43m(\u001b[49m\u001b[43mtimeout\u001b[49m\u001b[38;5;241;43m=\u001b[39;49m\u001b[43mtimeout\u001b[49m\u001b[43m,\u001b[49m\u001b[43m \u001b[49m\u001b[43mretry\u001b[49m\u001b[38;5;241;43m=\u001b[39;49m\u001b[43mretry\u001b[49m\u001b[43m,\u001b[49m\u001b[43m \u001b[49m\u001b[43mpolling\u001b[49m\u001b[38;5;241;43m=\u001b[39;49m\u001b[43mpolling\u001b[49m\u001b[43m)\u001b[49m\n\u001b[0;32m    258\u001b[0m     \u001b[38;5;28;01mif\u001b[39;00m \u001b[38;5;28mself\u001b[39m\u001b[38;5;241m.\u001b[39m_exception \u001b[38;5;129;01mis\u001b[39;00m \u001b[38;5;129;01mnot\u001b[39;00m \u001b[38;5;28;01mNone\u001b[39;00m:\n\u001b[0;32m    259\u001b[0m         \u001b[38;5;66;03m# pylint: disable=raising-bad-type\u001b[39;00m\n\u001b[0;32m    260\u001b[0m         \u001b[38;5;66;03m# Pylint doesn't recognize that this is valid in this case.\u001b[39;00m\n\u001b[0;32m    261\u001b[0m         \u001b[38;5;28;01mraise\u001b[39;00m \u001b[38;5;28mself\u001b[39m\u001b[38;5;241m.\u001b[39m_exception\n",
      "File \u001b[1;32mD:\\anaconda3\\lib\\site-packages\\google\\api_core\\future\\polling.py:139\u001b[0m, in \u001b[0;36mPollingFuture._blocking_poll\u001b[1;34m(self, timeout, retry, polling)\u001b[0m\n\u001b[0;32m    137\u001b[0m     polling(\u001b[38;5;28mself\u001b[39m\u001b[38;5;241m.\u001b[39m_done_or_raise)(retry\u001b[38;5;241m=\u001b[39mretry)\n\u001b[0;32m    138\u001b[0m \u001b[38;5;28;01mexcept\u001b[39;00m exceptions\u001b[38;5;241m.\u001b[39mRetryError:\n\u001b[1;32m--> 139\u001b[0m     \u001b[38;5;28;01mraise\u001b[39;00m concurrent\u001b[38;5;241m.\u001b[39mfutures\u001b[38;5;241m.\u001b[39mTimeoutError(\n\u001b[0;32m    140\u001b[0m         \u001b[38;5;124mf\u001b[39m\u001b[38;5;124m\"\u001b[39m\u001b[38;5;124mOperation did not complete within the designated timeout of \u001b[39m\u001b[38;5;124m\"\u001b[39m\n\u001b[0;32m    141\u001b[0m         \u001b[38;5;124mf\u001b[39m\u001b[38;5;124m\"\u001b[39m\u001b[38;5;132;01m{\u001b[39;00mpolling\u001b[38;5;241m.\u001b[39mtimeout\u001b[38;5;132;01m}\u001b[39;00m\u001b[38;5;124m seconds.\u001b[39m\u001b[38;5;124m\"\u001b[39m\n\u001b[0;32m    142\u001b[0m     )\n",
      "\u001b[1;31mTimeoutError\u001b[0m: Operation did not complete within the designated timeout of 900 seconds."
     ]
    }
   ],
   "source": [
    "my_index_endpoint = my_index_endpoint.deploy_index(index             = tree_ah_index,\n",
    "                                                   deployed_index_id = DEPLOYED_INDEX_ID)"
   ]
  },
  {
   "cell_type": "code",
   "execution_count": 37,
   "id": "2f996792",
   "metadata": {},
   "outputs": [],
   "source": [
    "my_index_endpoint = aiplatform.MatchingEngineIndexEndpoint('projects/473197248954/locations/us-central1/indexEndpoints/3475468294469713920')"
   ]
  },
  {
   "cell_type": "code",
   "execution_count": 38,
   "id": "9e3a7631",
   "metadata": {},
   "outputs": [
    {
     "data": {
      "text/plain": [
       "[id: \"stack_overflow_index_deployed\"\n",
       "index: \"projects/473197248954/locations/us-central1/indexes/552069186352840704\"\n",
       "create_time {\n",
       "  seconds: 1685998888\n",
       "  nanos: 17952000\n",
       "}\n",
       "index_sync_time {\n",
       "  seconds: 1686001183\n",
       "  nanos: 567720000\n",
       "}\n",
       "automatic_resources {\n",
       "  min_replica_count: 2\n",
       "  max_replica_count: 2\n",
       "}\n",
       "deployment_group: \"default\"\n",
       "]"
      ]
     },
     "execution_count": 38,
     "metadata": {},
     "output_type": "execute_result"
    }
   ],
   "source": [
    "my_index_endpoint.deployed_indexes"
   ]
  },
  {
   "cell_type": "code",
   "execution_count": 39,
   "id": "2af0727b",
   "metadata": {},
   "outputs": [
    {
     "data": {
      "text/plain": [
       "name: \"projects/473197248954/locations/us-central1/indexEndpoints/3475468294469713920\"\n",
       "display_name: \"stack_overflow_endpoint\"\n",
       "description: \"questions from stackoverflow\"\n",
       "deployed_indexes {\n",
       "  id: \"stack_overflow_index_deployed\"\n",
       "  index: \"projects/473197248954/locations/us-central1/indexes/552069186352840704\"\n",
       "  create_time {\n",
       "    seconds: 1685998888\n",
       "    nanos: 17952000\n",
       "  }\n",
       "  index_sync_time {\n",
       "    seconds: 1686001183\n",
       "    nanos: 567720000\n",
       "  }\n",
       "  automatic_resources {\n",
       "    min_replica_count: 2\n",
       "    max_replica_count: 2\n",
       "  }\n",
       "  deployment_group: \"default\"\n",
       "}\n",
       "etag: \"AMEw9yMtt6hKFuRfSz4EO4iUVQcZHIbukPOP0Sjf1D8YIZath9agy02x8UigbtsAqDah\"\n",
       "create_time {\n",
       "  seconds: 1685998799\n",
       "  nanos: 194929000\n",
       "}\n",
       "update_time {\n",
       "  seconds: 1685998799\n",
       "  nanos: 897639000\n",
       "}\n",
       "public_endpoint_domain_name: \"195708010.us-central1-473197248954.vdb.vertexai.goog\""
      ]
     },
     "execution_count": 39,
     "metadata": {},
     "output_type": "execute_result"
    }
   ],
   "source": [
    "my_index_endpoint.gca_resource"
   ]
  },
  {
   "cell_type": "markdown",
   "id": "dca6ee59",
   "metadata": {},
   "source": [
    "#### Create Online Queries"
   ]
  },
  {
   "cell_type": "code",
   "execution_count": 31,
   "id": "f43af496",
   "metadata": {},
   "outputs": [
    {
     "data": {
      "application/vnd.jupyter.widget-view+json": {
       "model_id": "3a5d0d11c8c44688ad671b30986e26a3",
       "version_major": 2,
       "version_minor": 0
      },
      "text/plain": [
       "  0%|          | 0/1 [00:00<?, ?it/s]"
      ]
     },
     "metadata": {},
     "output_type": "display_data"
    }
   ],
   "source": [
    "test_embeddings = encode_text_to_embedding(text_encoder = encoder,\n",
    "                                           sentences    = [\"How do I install tensorflow with GPU support?\"]\n",
    ")"
   ]
  },
  {
   "cell_type": "code",
   "execution_count": 32,
   "id": "e37dd503",
   "metadata": {
    "collapsed": true
   },
   "outputs": [
    {
     "data": {
      "text/plain": [
       "array([-3.46920043e-02, -6.79826736e-02,  4.70267944e-02,  7.88554735e-03,\n",
       "       -3.78703587e-02, -3.27263549e-02, -4.16305335e-03,  4.51407507e-02,\n",
       "       -1.70209594e-02, -4.59558144e-02,  3.49068902e-02, -3.51876095e-02,\n",
       "        7.97955692e-02, -1.50319990e-02,  6.50781542e-02,  3.16455401e-02,\n",
       "        1.23584569e-02, -4.27518925e-03,  2.01913230e-02,  2.80608609e-02,\n",
       "        3.12974416e-02,  1.53770046e-02, -3.46761718e-02,  2.38961838e-02,\n",
       "       -4.36633639e-02,  3.24505456e-02,  5.36020733e-02,  1.21157384e-02,\n",
       "       -2.31851898e-02,  1.74899139e-02,  6.93742782e-02, -4.13260534e-02,\n",
       "       -1.86444726e-02,  4.57508117e-02, -2.05389801e-02,  1.13655291e-02,\n",
       "       -4.48801853e-02, -6.17317632e-02, -3.50356214e-02,  4.99744229e-02,\n",
       "       -6.11441722e-03, -4.73947413e-02, -3.82532515e-02,  4.20878232e-02,\n",
       "       -3.89112085e-02, -3.85740474e-02,  3.27653885e-02,  6.00255728e-02,\n",
       "       -7.06862332e-03, -2.63761580e-02, -4.46173511e-02, -4.22799438e-02,\n",
       "       -4.73105833e-02, -1.18179303e-02, -2.96327304e-02, -1.69213023e-02,\n",
       "       -1.84615911e-03,  6.53713243e-03,  7.08078817e-02,  3.75091806e-02,\n",
       "       -3.82600315e-02,  3.82341538e-03,  1.94495311e-03, -1.05988234e-03,\n",
       "       -4.56837192e-02,  6.29189238e-02, -5.44982180e-02, -4.58873622e-02,\n",
       "        4.59795445e-02, -2.56104507e-02,  5.73438406e-02, -3.69780771e-02,\n",
       "       -7.37976469e-03, -2.85664406e-02, -4.30344045e-02, -6.57892227e-02,\n",
       "        7.20953383e-03,  4.77131940e-02,  7.75336549e-02, -1.32778468e-05,\n",
       "        4.43605669e-02, -3.05424165e-02, -1.23238880e-02,  2.31718877e-03,\n",
       "       -5.84848365e-03, -1.85830351e-02, -2.76999157e-02,  2.54997481e-02,\n",
       "       -2.90089771e-02,  3.36925313e-02, -1.40804807e-02, -1.47376144e-02,\n",
       "       -1.13167176e-02,  3.87184578e-03, -5.55606820e-02,  4.82280701e-02,\n",
       "       -1.75852086e-02, -2.87391944e-03, -1.93656515e-02, -6.80339709e-03,\n",
       "       -4.86460403e-02, -1.45840636e-02, -5.32164462e-02, -9.25059337e-03,\n",
       "        7.10465014e-02, -3.64628658e-02, -6.09989576e-02,  3.12815122e-02,\n",
       "        1.72595344e-02, -1.37560787e-02, -2.34003942e-02, -2.88898125e-02,\n",
       "        4.07227082e-03, -4.57467586e-02,  2.15565134e-02, -3.82839441e-02,\n",
       "       -6.88438267e-02, -1.26301004e-02,  3.41494661e-03,  5.88363851e-04,\n",
       "       -2.81283744e-02, -5.12851328e-02, -8.09731930e-02, -3.88593934e-02,\n",
       "        3.70624065e-02,  7.12737092e-04, -3.08538531e-03, -2.47322246e-02,\n",
       "       -7.11573809e-02,  7.39822760e-02, -1.02704819e-02,  4.10124511e-02,\n",
       "        2.52580773e-02, -5.44985346e-02, -1.09489905e-02, -6.32588007e-03,\n",
       "       -1.96075104e-02,  3.53830494e-02, -2.25911681e-02,  3.19328415e-03,\n",
       "        3.27579677e-02, -1.20299114e-02,  5.87229878e-02, -3.76279466e-02,\n",
       "        1.41918063e-02,  5.51395910e-03, -5.74971829e-03, -2.41707973e-02,\n",
       "        4.77625653e-02,  6.06291520e-04, -3.19311619e-02,  1.80475488e-02,\n",
       "        2.97793560e-02,  6.09433390e-02, -9.97507386e-03, -1.29700406e-02,\n",
       "       -2.55997051e-02,  5.72912674e-03, -3.19305323e-02, -1.69200636e-02,\n",
       "       -4.00913842e-02,  8.88643414e-03,  3.12775224e-02, -1.89097542e-02,\n",
       "        2.74501946e-02,  4.61476482e-03,  2.52155475e-02,  3.69557813e-02,\n",
       "       -3.56132537e-02, -4.97270562e-02, -4.94457036e-02, -4.06281911e-02,\n",
       "        4.29769885e-03,  2.31398910e-04,  4.03206311e-02,  1.63896009e-02,\n",
       "        1.44220400e-03, -9.62037314e-03, -4.18562032e-02, -5.10434434e-02,\n",
       "       -2.62329932e-02,  1.44853797e-02,  1.88299809e-02,  9.20013990e-03,\n",
       "        2.59295991e-03, -9.65245126e-04, -4.46388219e-03,  3.34282033e-02,\n",
       "       -4.56565153e-03, -6.36052042e-02,  3.46860029e-02, -1.72622818e-02,\n",
       "       -5.98108582e-03,  2.63711009e-02,  1.77585557e-02, -1.32867019e-03,\n",
       "        1.60284545e-02, -4.64738607e-02, -4.43123430e-02,  9.50243603e-03,\n",
       "       -8.30660015e-03,  6.28001383e-03, -7.68386852e-03, -8.32052995e-03,\n",
       "        2.79623247e-03,  3.92369069e-02,  3.14930640e-02,  2.53731036e-03,\n",
       "       -5.05563281e-02, -2.54620481e-02,  3.00954618e-02, -1.52729992e-02,\n",
       "        4.02333736e-02,  1.16768526e-02,  6.05739057e-02, -2.14578491e-02,\n",
       "        5.01344465e-02, -5.86426677e-03,  4.05644588e-02,  7.20495824e-03,\n",
       "       -7.46842066e-04,  9.23729315e-02, -3.72808019e-04,  4.94284779e-02,\n",
       "       -2.79809125e-02, -5.20848483e-02, -3.60954143e-02, -4.75836545e-03,\n",
       "       -1.42310082e-03,  5.61293736e-02,  3.48385684e-02,  5.71440347e-02,\n",
       "        3.02479248e-02, -4.55622422e-03,  1.73105653e-02, -2.87625454e-02,\n",
       "       -7.60616809e-02, -8.49969778e-03, -1.97646897e-02, -5.91599047e-02,\n",
       "        2.34182589e-02,  5.69619909e-02,  4.31661960e-03,  2.51690019e-02,\n",
       "        5.97013868e-02, -7.89936446e-03,  9.11461003e-03,  7.45311892e-03,\n",
       "        1.21819787e-02,  2.19398048e-02, -8.53288546e-02,  1.82968546e-02,\n",
       "       -3.05380523e-02,  6.85503287e-03,  4.79963534e-02,  8.73255730e-03,\n",
       "        4.91729975e-02,  2.18624854e-03, -3.98021713e-02, -2.02887058e-02,\n",
       "       -8.72974098e-02,  1.58355944e-02, -1.28002344e-02,  4.39520217e-02,\n",
       "        3.61677073e-02, -4.20429781e-02,  6.58861501e-03,  4.09498848e-02,\n",
       "        1.80332630e-03, -2.99176183e-02,  7.18002615e-04, -7.74528179e-03,\n",
       "       -4.99925539e-02, -5.53145595e-02, -1.56480763e-02,  6.43043593e-03,\n",
       "        1.47830527e-02,  2.66922303e-02,  2.94334944e-02, -4.90535870e-02,\n",
       "       -1.15553578e-02,  1.51114129e-02,  1.64373759e-02,  1.75605994e-02,\n",
       "       -5.44878766e-02,  1.67193110e-04,  5.82643901e-04, -6.32004486e-03,\n",
       "       -1.04110399e-02, -7.41593987e-02,  1.10850856e-03, -3.18626910e-02,\n",
       "        1.71088483e-02,  4.26842980e-02, -3.99580710e-02,  3.08600925e-02,\n",
       "        9.22922860e-04,  4.29343395e-02, -1.72703955e-02, -9.59599689e-02,\n",
       "        3.86635177e-02, -6.75170645e-02,  2.84670368e-02,  5.61938100e-02,\n",
       "        5.38686402e-02,  3.49541232e-02,  2.29847133e-02, -3.36775300e-03,\n",
       "        1.56227890e-02,  2.03614365e-02, -3.20785083e-02,  3.05723952e-04,\n",
       "       -3.13606672e-02, -8.69518071e-02,  2.33820919e-02, -2.58867703e-02,\n",
       "        2.10330710e-02, -2.35967413e-02, -5.50940260e-02,  3.58964084e-03,\n",
       "        2.83170305e-02,  2.35840734e-02,  6.37273192e-02, -2.46555749e-02,\n",
       "       -4.17884402e-02, -8.73620342e-03,  3.12597677e-02, -6.95205703e-02,\n",
       "       -3.54467425e-03,  1.40417018e-03, -9.74314054e-04, -1.61678065e-02,\n",
       "       -2.11295169e-02, -2.30327696e-02, -4.71973158e-02, -2.71586478e-02,\n",
       "        1.85321700e-02, -4.03991789e-02,  4.12754342e-02, -2.53292150e-03,\n",
       "        3.18563879e-02, -2.52698571e-03,  2.15960108e-03,  5.99149279e-02,\n",
       "        6.37427047e-02, -3.54517251e-02, -1.12960590e-02, -8.25365037e-02,\n",
       "        2.31538992e-02,  3.23539483e-03,  1.47309843e-02, -2.95470841e-03,\n",
       "       -1.50278965e-02,  9.61647485e-04,  1.51970014e-02,  2.63810367e-03,\n",
       "       -4.20405567e-02,  5.37341880e-03, -4.52375002e-02, -2.40367483e-02,\n",
       "        4.12415378e-02, -8.11424926e-02, -1.05743890e-03, -1.72095150e-02,\n",
       "       -2.30735429e-02,  3.39498147e-02,  3.43100205e-02,  1.24276811e-02,\n",
       "        2.29252558e-02, -3.44920158e-02,  3.17735001e-02,  5.89982346e-02,\n",
       "        3.99816856e-02,  3.94389890e-02,  4.36606705e-02,  4.36843894e-02,\n",
       "       -1.51230942e-03,  4.76554455e-03,  2.33710427e-02,  8.60231221e-02,\n",
       "        5.99243119e-02, -1.65770072e-02, -5.92824332e-02, -1.30430702e-02,\n",
       "        3.94555666e-02, -9.47569590e-03, -8.50843545e-03,  2.87308712e-02,\n",
       "       -5.69458008e-02, -9.50557217e-02,  7.45834410e-02,  1.36984689e-02,\n",
       "        4.25259676e-03,  2.89178304e-02,  7.08568748e-03, -1.21105220e-02,\n",
       "        3.36284377e-02, -2.48934235e-02, -8.62815678e-02,  3.69056426e-02,\n",
       "       -4.86429781e-02,  1.47952391e-02, -5.91199212e-02,  2.01898757e-02,\n",
       "       -5.50264306e-02,  2.40009930e-03,  1.32339923e-02,  1.71165215e-03,\n",
       "        8.90984666e-03,  1.01224439e-04, -1.99644119e-02, -5.14343008e-02,\n",
       "       -1.18761435e-02, -5.01001403e-02, -1.72321629e-02,  5.25280926e-03,\n",
       "       -6.97883172e-03, -2.63986830e-02,  4.88058111e-04,  8.21093246e-02,\n",
       "        6.76466376e-02, -3.02448701e-02,  8.63859877e-02, -6.97903614e-03,\n",
       "        1.70016661e-02,  2.69305743e-02,  3.66845950e-02,  3.47522949e-03,\n",
       "        4.47174795e-02, -3.27732153e-02,  6.38264716e-02, -1.27637954e-02,\n",
       "       -6.79708794e-02, -9.93335806e-03,  4.18749871e-03,  3.67640294e-02,\n",
       "        5.69057325e-03, -1.01697324e-02,  7.07747787e-02,  1.86394118e-02,\n",
       "       -6.88912347e-02, -5.88161238e-02,  1.96423009e-02,  4.43782210e-02,\n",
       "        5.94303347e-02,  2.22686538e-03,  4.00794437e-03, -9.16136429e-03,\n",
       "        4.30361778e-02, -1.26969479e-02, -8.61790180e-02, -1.69691292e-03,\n",
       "       -3.94102745e-02,  4.09229882e-02, -1.68344416e-02, -1.49051687e-02,\n",
       "        4.22434416e-03,  7.82929435e-02,  1.09132826e-02, -1.05935778e-03,\n",
       "       -3.41994986e-02, -5.87810623e-03, -3.84884626e-02,  1.45702492e-02,\n",
       "        2.64732912e-02, -7.83358421e-03,  5.09163849e-02, -2.91830115e-02,\n",
       "        3.58100906e-02,  2.26436891e-02, -3.51480879e-02,  4.21837457e-02,\n",
       "       -7.30325060e-04,  9.40679833e-02, -5.38027845e-02, -6.33214926e-03,\n",
       "       -1.39247328e-02,  8.15585628e-03,  5.01489565e-02,  7.18094036e-03,\n",
       "        2.80863009e-02,  3.06253899e-02, -1.77726950e-02, -5.46419760e-03,\n",
       "        4.82088923e-02,  7.40217268e-02,  6.45535951e-03,  1.32456627e-02,\n",
       "       -4.20308597e-02, -8.36398378e-02, -2.74446085e-02, -2.80141942e-02,\n",
       "       -9.99110863e-02,  4.12528515e-02, -4.85040918e-02, -8.53726789e-02,\n",
       "        1.76848844e-02, -3.71973142e-02,  2.76753735e-02,  3.53972497e-03,\n",
       "       -5.95003776e-02, -4.63469177e-02, -2.44616996e-02,  5.62169403e-03,\n",
       "        3.27776149e-02, -1.29977474e-02,  8.45732838e-02, -6.59356639e-02,\n",
       "        1.75715443e-02,  2.77392622e-02, -2.84188706e-02,  2.89947670e-02,\n",
       "        3.55434977e-02,  2.92536174e-03,  2.62365546e-02, -5.80285303e-02,\n",
       "       -5.06804399e-02,  1.30937970e-03, -1.61504420e-03, -4.72237095e-02,\n",
       "        2.68703606e-02, -2.74516623e-02, -9.79386177e-03, -3.53257696e-04,\n",
       "       -1.15056010e-02, -1.27219884e-02, -3.56346294e-02,  3.37926932e-02,\n",
       "       -2.06050035e-02,  3.01710088e-02,  9.95671842e-03,  2.60747708e-02,\n",
       "       -2.67650411e-02,  1.64435133e-02,  2.33532060e-02,  3.02337073e-02,\n",
       "        5.55121005e-02, -3.67437210e-03, -1.33497920e-02,  3.68489847e-02,\n",
       "       -2.35755760e-02,  1.67609937e-02,  8.12898502e-02,  2.18521315e-03,\n",
       "       -6.18176125e-02, -6.01335652e-02, -3.20698358e-02,  8.03322904e-03,\n",
       "        6.56084791e-02,  5.29181771e-02,  6.04684325e-03,  4.93939640e-03,\n",
       "       -1.94637273e-02,  4.62122001e-02,  2.41872780e-02, -6.72456026e-02,\n",
       "       -7.98077695e-03,  4.63104509e-02, -2.23051365e-02, -2.47447621e-02,\n",
       "        1.23005509e-02, -1.04609877e-03, -3.93321458e-03, -6.17183803e-04,\n",
       "       -3.66579406e-02, -6.31571561e-02,  1.89677998e-02,  1.62347872e-02,\n",
       "       -2.49007740e-03,  1.09320097e-02, -5.74895479e-02, -7.66009614e-02,\n",
       "       -2.45115776e-02, -2.93850917e-02, -1.68658625e-02, -5.51491380e-02,\n",
       "        2.77576991e-03,  9.74623370e-04,  2.01895367e-02,  1.06297834e-02,\n",
       "       -4.22467962e-02, -1.04979295e-02, -6.00580946e-02, -3.93480882e-02,\n",
       "        4.41814587e-02, -6.16045333e-02,  1.23280436e-02,  1.58562269e-02,\n",
       "       -3.40840518e-02,  3.20720449e-02, -2.57545384e-03,  3.02995183e-02,\n",
       "       -2.27858238e-02, -2.26020784e-05,  5.17991930e-02, -2.60311477e-02,\n",
       "        1.21243056e-02, -2.15633009e-02,  1.49175934e-02,  6.95904642e-02,\n",
       "        1.39043992e-02,  2.28991266e-02,  1.51343122e-02,  6.28411490e-03,\n",
       "       -5.74851409e-03, -1.86627836e-03,  3.76445502e-02,  3.15489694e-02,\n",
       "       -2.41700821e-02, -2.07447615e-02,  2.95399427e-02, -6.13494851e-02,\n",
       "        1.78917137e-03, -7.26056239e-03,  3.26207876e-02, -1.04240570e-02,\n",
       "       -3.14876884e-02,  1.47382580e-02,  4.76127639e-02, -7.92129561e-02,\n",
       "        8.95571057e-03,  1.59458127e-02, -4.18356434e-02, -1.16218487e-02,\n",
       "        2.51421146e-03, -4.96932343e-02, -1.16984053e-02,  6.70894533e-02,\n",
       "       -4.93646897e-02, -1.86271332e-02, -1.23985633e-02, -5.17136976e-02,\n",
       "        6.18084446e-02,  2.76778154e-02, -1.67798847e-02,  4.35079299e-02,\n",
       "        5.05819842e-02,  3.33967023e-02,  1.80987138e-02,  4.60978113e-02,\n",
       "        4.26307879e-02, -1.08215129e-02, -3.74322049e-02, -6.65453449e-02,\n",
       "        2.24653091e-02,  2.04629730e-02, -1.73182115e-02,  1.32273603e-02,\n",
       "        2.10961308e-02, -1.70763340e-02,  1.14490502e-02,  2.20281463e-02,\n",
       "        7.43039399e-02,  3.25571485e-02,  5.92580326e-02, -1.21579729e-02,\n",
       "       -8.32755640e-02, -2.51345206e-02, -3.44617367e-02,  3.22447643e-02,\n",
       "        1.39308609e-02, -1.33476438e-04, -4.86033410e-02,  3.15772719e-03,\n",
       "        2.84069646e-02, -1.26720555e-02, -4.07806691e-03,  1.44447042e-02,\n",
       "       -5.78472391e-02, -3.82211767e-02,  5.14395460e-02, -7.36561278e-03,\n",
       "       -3.30857933e-02,  2.41113473e-02, -9.44350474e-03, -5.65203780e-04,\n",
       "       -7.14757144e-02, -3.73762026e-02, -5.06207626e-03,  5.34965992e-02,\n",
       "       -5.20024858e-02,  4.87229303e-02,  8.70350935e-03, -4.00399603e-03,\n",
       "       -5.68916555e-04, -2.64238641e-02,  4.64753583e-02, -8.50486662e-03,\n",
       "       -4.71350504e-03, -4.31420468e-02,  1.18448101e-02,  2.33400892e-02,\n",
       "        4.77358401e-02, -3.95886321e-03, -4.28476278e-03, -5.72344474e-02,\n",
       "       -4.74444851e-02,  1.66996177e-02,  2.80507579e-02, -4.73459158e-03,\n",
       "        1.62291655e-03,  4.98035587e-02,  5.61671285e-03, -4.94556949e-02,\n",
       "        6.74828980e-03, -9.65338852e-03, -7.24363374e-03,  5.81312180e-03,\n",
       "       -2.17611864e-02,  5.98894283e-02,  4.30377871e-02,  2.32794657e-02,\n",
       "        3.33499499e-02,  5.32486150e-03, -7.00284072e-05,  1.73457693e-02,\n",
       "        1.68263949e-02,  3.16348262e-02, -5.58689833e-02, -5.20507433e-03,\n",
       "       -3.34189311e-02, -2.26114783e-03,  2.78153513e-02,  3.94987911e-02,\n",
       "        2.43985616e-02,  3.22876647e-02,  4.37878892e-02,  1.87091180e-04,\n",
       "       -4.85805003e-03,  3.61698344e-02, -3.33949625e-02,  3.76274176e-02,\n",
       "       -5.26580168e-03,  2.64620129e-02,  1.63251590e-02,  1.99737884e-02,\n",
       "        2.63352748e-02, -3.21400091e-02, -5.16008697e-02,  1.40355909e-02,\n",
       "        2.16440428e-02, -5.50238825e-02, -2.91808303e-02, -6.24781996e-02,\n",
       "       -3.47871631e-02,  4.08917898e-03, -3.94895859e-02,  6.19492633e-03,\n",
       "        8.07307381e-03, -9.87196062e-03,  1.04265306e-02,  1.72847304e-02,\n",
       "        8.18538442e-02, -1.62826832e-02, -6.61113858e-02,  3.06350435e-03,\n",
       "       -6.18530884e-02, -1.77585036e-02, -4.59840037e-02, -1.53756915e-02,\n",
       "       -4.37683277e-02, -4.14579995e-02,  1.51382666e-02,  1.18798008e-02,\n",
       "        1.28924260e-02,  3.11178323e-02,  7.37158116e-03, -1.56709217e-02],\n",
       "      dtype=float32)"
      ]
     },
     "execution_count": 32,
     "metadata": {},
     "output_type": "execute_result"
    }
   ],
   "source": [
    "test_embeddings"
   ]
  },
  {
   "cell_type": "code",
   "execution_count": 40,
   "id": "b0750a19",
   "metadata": {
    "collapsed": true
   },
   "outputs": [
    {
     "ename": "_InactiveRpcError",
     "evalue": "<_InactiveRpcError of RPC that terminated with:\n\tstatus = StatusCode.UNAVAILABLE\n\tdetails = \"DNS resolution failed for :10000: UNKNOWN: unparseable host:port: ':10000'\"\n\tdebug_error_string = \"UNKNOWN:DNS resolution failed for :10000: UNKNOWN: unparseable host:port: ':10000' {created_time:\"2023-06-04T17:03:32.252714579+00:00\", grpc_status:14}\"\n>",
     "output_type": "error",
     "traceback": [
      "\u001b[1;31m---------------------------------------------------------------------------\u001b[0m",
      "\u001b[1;31m_InactiveRpcError\u001b[0m                         Traceback (most recent call last)",
      "Cell \u001b[1;32mIn[40], line 4\u001b[0m\n\u001b[0;32m      1\u001b[0m \u001b[38;5;66;03m# Test query\u001b[39;00m\n\u001b[0;32m      2\u001b[0m NUM_NEIGHBOURS \u001b[38;5;241m=\u001b[39m \u001b[38;5;241m20\u001b[39m\n\u001b[1;32m----> 4\u001b[0m response \u001b[38;5;241m=\u001b[39m \u001b[43mmy_index_endpoint\u001b[49m\u001b[38;5;241;43m.\u001b[39;49m\u001b[43mmatch\u001b[49m\u001b[43m(\u001b[49m\u001b[43mdeployed_index_id\u001b[49m\u001b[43m \u001b[49m\u001b[38;5;241;43m=\u001b[39;49m\u001b[43m \u001b[49m\u001b[43mDEPLOYED_INDEX_ID\u001b[49m\u001b[43m,\u001b[49m\n\u001b[0;32m      5\u001b[0m \u001b[43m                                   \u001b[49m\u001b[43mqueries\u001b[49m\u001b[43m           \u001b[49m\u001b[38;5;241;43m=\u001b[39;49m\u001b[43m \u001b[49m\u001b[43m[\u001b[49m\u001b[43mtest_embeddings\u001b[49m\u001b[38;5;241;43m.\u001b[39;49m\u001b[43mtolist\u001b[49m\u001b[43m(\u001b[49m\u001b[43m)\u001b[49m\u001b[43m]\u001b[49m\u001b[43m,\u001b[49m\n\u001b[0;32m      6\u001b[0m \u001b[43m                                   \u001b[49m\u001b[43mnum_neighbors\u001b[49m\u001b[43m     \u001b[49m\u001b[38;5;241;43m=\u001b[39;49m\u001b[43m \u001b[49m\u001b[43mNUM_NEIGHBOURS\u001b[49m\u001b[43m,\u001b[49m\n\u001b[0;32m      7\u001b[0m \u001b[43m                                  \u001b[49m\u001b[43m)\u001b[49m\n",
      "File \u001b[1;32m~\\AppData\\Roaming\\Python\\Python39\\site-packages\\google\\cloud\\aiplatform\\matching_engine\\matching_engine_index_endpoint.py:1139\u001b[0m, in \u001b[0;36mMatchingEngineIndexEndpoint.match\u001b[1;34m(self, deployed_index_id, queries, num_neighbors, filter)\u001b[0m\n\u001b[0;32m   1136\u001b[0m batch_request\u001b[38;5;241m.\u001b[39mrequests\u001b[38;5;241m.\u001b[39mappend(batch_request_for_index)\n\u001b[0;32m   1138\u001b[0m \u001b[38;5;66;03m# Perform the request\u001b[39;00m\n\u001b[1;32m-> 1139\u001b[0m response \u001b[38;5;241m=\u001b[39m \u001b[43mstub\u001b[49m\u001b[38;5;241;43m.\u001b[39;49m\u001b[43mBatchMatch\u001b[49m\u001b[43m(\u001b[49m\u001b[43mbatch_request\u001b[49m\u001b[43m)\u001b[49m\n\u001b[0;32m   1141\u001b[0m \u001b[38;5;66;03m# Wrap the results in MatchNeighbor objects and return\u001b[39;00m\n\u001b[0;32m   1142\u001b[0m \u001b[38;5;28;01mreturn\u001b[39;00m [\n\u001b[0;32m   1143\u001b[0m     [\n\u001b[0;32m   1144\u001b[0m         MatchNeighbor(\u001b[38;5;28mid\u001b[39m\u001b[38;5;241m=\u001b[39mneighbor\u001b[38;5;241m.\u001b[39mid, distance\u001b[38;5;241m=\u001b[39mneighbor\u001b[38;5;241m.\u001b[39mdistance)\n\u001b[1;32m   (...)\u001b[0m\n\u001b[0;32m   1147\u001b[0m     \u001b[38;5;28;01mfor\u001b[39;00m embedding_neighbors \u001b[38;5;129;01min\u001b[39;00m response\u001b[38;5;241m.\u001b[39mresponses[\u001b[38;5;241m0\u001b[39m]\u001b[38;5;241m.\u001b[39mresponses\n\u001b[0;32m   1148\u001b[0m ]\n",
      "File \u001b[1;32m~\\AppData\\Roaming\\Python\\Python39\\site-packages\\grpc\\_channel.py:1030\u001b[0m, in \u001b[0;36m_UnaryUnaryMultiCallable.__call__\u001b[1;34m(self, request, timeout, metadata, credentials, wait_for_ready, compression)\u001b[0m\n\u001b[0;32m   1021\u001b[0m \u001b[38;5;28;01mdef\u001b[39;00m \u001b[38;5;21m__call__\u001b[39m(\u001b[38;5;28mself\u001b[39m,\n\u001b[0;32m   1022\u001b[0m              request: Any,\n\u001b[0;32m   1023\u001b[0m              timeout: Optional[\u001b[38;5;28mfloat\u001b[39m] \u001b[38;5;241m=\u001b[39m \u001b[38;5;28;01mNone\u001b[39;00m,\n\u001b[1;32m   (...)\u001b[0m\n\u001b[0;32m   1026\u001b[0m              wait_for_ready: Optional[\u001b[38;5;28mbool\u001b[39m] \u001b[38;5;241m=\u001b[39m \u001b[38;5;28;01mNone\u001b[39;00m,\n\u001b[0;32m   1027\u001b[0m              compression: Optional[grpc\u001b[38;5;241m.\u001b[39mCompression] \u001b[38;5;241m=\u001b[39m \u001b[38;5;28;01mNone\u001b[39;00m) \u001b[38;5;241m-\u001b[39m\u001b[38;5;241m>\u001b[39m Any:\n\u001b[0;32m   1028\u001b[0m     state, call, \u001b[38;5;241m=\u001b[39m \u001b[38;5;28mself\u001b[39m\u001b[38;5;241m.\u001b[39m_blocking(request, timeout, metadata, credentials,\n\u001b[0;32m   1029\u001b[0m                                   wait_for_ready, compression)\n\u001b[1;32m-> 1030\u001b[0m     \u001b[38;5;28;01mreturn\u001b[39;00m \u001b[43m_end_unary_response_blocking\u001b[49m\u001b[43m(\u001b[49m\u001b[43mstate\u001b[49m\u001b[43m,\u001b[49m\u001b[43m \u001b[49m\u001b[43mcall\u001b[49m\u001b[43m,\u001b[49m\u001b[43m \u001b[49m\u001b[38;5;28;43;01mFalse\u001b[39;49;00m\u001b[43m,\u001b[49m\u001b[43m \u001b[49m\u001b[38;5;28;43;01mNone\u001b[39;49;00m\u001b[43m)\u001b[49m\n",
      "File \u001b[1;32m~\\AppData\\Roaming\\Python\\Python39\\site-packages\\grpc\\_channel.py:910\u001b[0m, in \u001b[0;36m_end_unary_response_blocking\u001b[1;34m(state, call, with_call, deadline)\u001b[0m\n\u001b[0;32m    908\u001b[0m         \u001b[38;5;28;01mreturn\u001b[39;00m state\u001b[38;5;241m.\u001b[39mresponse\n\u001b[0;32m    909\u001b[0m \u001b[38;5;28;01melse\u001b[39;00m:\n\u001b[1;32m--> 910\u001b[0m     \u001b[38;5;28;01mraise\u001b[39;00m _InactiveRpcError(state)\n",
      "\u001b[1;31m_InactiveRpcError\u001b[0m: <_InactiveRpcError of RPC that terminated with:\n\tstatus = StatusCode.UNAVAILABLE\n\tdetails = \"DNS resolution failed for :10000: UNKNOWN: unparseable host:port: ':10000'\"\n\tdebug_error_string = \"UNKNOWN:DNS resolution failed for :10000: UNKNOWN: unparseable host:port: ':10000' {created_time:\"2023-06-04T17:03:32.252714579+00:00\", grpc_status:14}\"\n>"
     ]
    }
   ],
   "source": [
    "# Test query\n",
    "NUM_NEIGHBOURS = 20\n",
    "\n",
    "response = my_index_endpoint.match(deployed_index_id = DEPLOYED_INDEX_ID,\n",
    "                                   queries           = [test_embeddings.tolist()],\n",
    "                                   num_neighbors     = NUM_NEIGHBOURS,\n",
    "                                  )"
   ]
  },
  {
   "cell_type": "code",
   "execution_count": null,
   "id": "93a12362",
   "metadata": {},
   "outputs": [],
   "source": [
    "response"
   ]
  },
  {
   "cell_type": "code",
   "execution_count": null,
   "id": "1bef7856",
   "metadata": {},
   "outputs": [],
   "source": [
    "neighbor_ids = [neighbor.id for neighbor in response[0]]\n",
    "neighbor_distances = [neighbor.distance for neighbor in response[0]]\n",
    "\n",
    "for match_index, neighbor in enumerate(response[0]):\n",
    "    titles = df[df.id.astype(str) == neighbor.id].title.tolist()\n",
    "\n",
    "    if len(titles) > 0:\n",
    "        print(\n",
    "            f\"{match_index}: title = '{titles[0]}', distance = {neighbor.distance:0.2f}\"\n",
    "        )"
   ]
  },
  {
   "cell_type": "code",
   "execution_count": null,
   "id": "b5416645",
   "metadata": {},
   "outputs": [],
   "source": []
  },
  {
   "cell_type": "code",
   "execution_count": null,
   "id": "3abdd782",
   "metadata": {},
   "outputs": [],
   "source": []
  },
  {
   "cell_type": "code",
   "execution_count": 74,
   "id": "b1fd071a",
   "metadata": {},
   "outputs": [],
   "source": [
    "import google.cloud.aiplatform.v1beta1 as aiplatform_v1beta1"
   ]
  },
  {
   "cell_type": "code",
   "execution_count": null,
   "id": "a82e3454",
   "metadata": {},
   "outputs": [],
   "source": [
    "from google.cloud.aiplatform_v1beta1 import "
   ]
  },
  {
   "cell_type": "code",
   "execution_count": null,
   "id": "1688baa7",
   "metadata": {},
   "outputs": [],
   "source": []
  },
  {
   "cell_type": "code",
   "execution_count": null,
   "id": "21758249",
   "metadata": {},
   "outputs": [],
   "source": []
  },
  {
   "cell_type": "code",
   "execution_count": null,
   "id": "42cd3dc2",
   "metadata": {},
   "outputs": [],
   "source": []
  },
  {
   "cell_type": "code",
   "execution_count": 40,
   "id": "14dfa1d8",
   "metadata": {},
   "outputs": [],
   "source": [
    "import google.cloud.aiplatform_v1beta1 as aiplatform_v1beta1\n",
    "from google.oauth2 import service_account"
   ]
  },
  {
   "cell_type": "code",
   "execution_count": 41,
   "id": "41a97bec",
   "metadata": {},
   "outputs": [],
   "source": [
    "scopes = [\"https://www.googleapis.com/auth/cloud-platform\"]\n",
    "sa_file_path = 'L:\\\\gcp-project-0523-628d01f95284.json'\n",
    "\n",
    "credentials = service_account.Credentials.from_service_account_file(sa_file_path, scopes=scopes)"
   ]
  },
  {
   "cell_type": "code",
   "execution_count": 42,
   "id": "c24a3bb9",
   "metadata": {},
   "outputs": [],
   "source": [
    "CLIENT_OPTION = {\"api_endpoint\": \"195708010.us-central1-473197248954.vdb.vertexai.goog\" }"
   ]
  },
  {
   "cell_type": "code",
   "execution_count": 43,
   "id": "da5ccec3",
   "metadata": {},
   "outputs": [],
   "source": [
    "vertex_ai_client = aiplatform_v1beta1.MatchServiceClient(credentials=credentials,client_options=CLIENT_OPTION)"
   ]
  },
  {
   "cell_type": "code",
   "execution_count": 44,
   "id": "c53a2327",
   "metadata": {},
   "outputs": [],
   "source": [
    "request = aiplatform_v1beta1.FindNeighborsRequest(index_endpoint    = 'projects/473197248954/locations/us-central1/indexEndpoints/3475468294469713920',\n",
    "                                                  deployed_index_id = \"stack_overflow_index_deployed\",\n",
    "                                              )"
   ]
  },
  {
   "cell_type": "code",
   "execution_count": 45,
   "id": "ef4c7782",
   "metadata": {},
   "outputs": [
    {
     "data": {
      "application/vnd.jupyter.widget-view+json": {
       "model_id": "1ca43632e87648fb848c831f9bac1022",
       "version_major": 2,
       "version_minor": 0
      },
      "text/plain": [
       "  0%|          | 0/1 [00:00<?, ?it/s]"
      ]
     },
     "metadata": {},
     "output_type": "display_data"
    }
   ],
   "source": [
    "test_embeddings = encode_text_to_embedding(text_encoder = encoder,\n",
    "                                           sentences    = [\"How do I install tensorflow with GPU support?\"]\n",
    ")"
   ]
  },
  {
   "cell_type": "code",
   "execution_count": 46,
   "id": "0077cf1d",
   "metadata": {},
   "outputs": [],
   "source": [
    "dp1 = aiplatform_v1beta1.IndexDatapoint(feature_vector = test_embeddings,\n",
    "                                        datapoint_id   =\"0\", \n",
    "                                       )"
   ]
  },
  {
   "cell_type": "code",
   "execution_count": 47,
   "id": "4ba09dfa",
   "metadata": {},
   "outputs": [],
   "source": [
    "query = aiplatform_v1beta1.FindNeighborsRequest.Query(datapoint = dp1)"
   ]
  },
  {
   "cell_type": "code",
   "execution_count": 48,
   "id": "f012202f",
   "metadata": {
    "collapsed": true
   },
   "outputs": [
    {
     "data": {
      "text/plain": [
       "datapoint {\n",
       "  datapoint_id: \"0\"\n",
       "  feature_vector: -0.034692004323005676\n",
       "  feature_vector: -0.06798267364501953\n",
       "  feature_vector: 0.04702679440379143\n",
       "  feature_vector: 0.00788554735481739\n",
       "  feature_vector: -0.03787035867571831\n",
       "  feature_vector: -0.03272635489702225\n",
       "  feature_vector: -0.004163053352385759\n",
       "  feature_vector: 0.04514075070619583\n",
       "  feature_vector: -0.01702095940709114\n",
       "  feature_vector: -0.04595581442117691\n",
       "  feature_vector: 0.034906890243291855\n",
       "  feature_vector: -0.03518760949373245\n",
       "  feature_vector: 0.07979556918144226\n",
       "  feature_vector: -0.015031998977065086\n",
       "  feature_vector: 0.06507815420627594\n",
       "  feature_vector: 0.03164554014801979\n",
       "  feature_vector: 0.01235845685005188\n",
       "  feature_vector: -0.004275189246982336\n",
       "  feature_vector: 0.02019132301211357\n",
       "  feature_vector: 0.02806086093187332\n",
       "  feature_vector: 0.03129744157195091\n",
       "  feature_vector: 0.015377004630863667\n",
       "  feature_vector: -0.03467617183923721\n",
       "  feature_vector: 0.02389618381857872\n",
       "  feature_vector: -0.04366336390376091\n",
       "  feature_vector: 0.03245054557919502\n",
       "  feature_vector: 0.05360207334160805\n",
       "  feature_vector: 0.012115738354623318\n",
       "  feature_vector: -0.023185189813375473\n",
       "  feature_vector: 0.01748991385102272\n",
       "  feature_vector: 0.06937427818775177\n",
       "  feature_vector: -0.04132605344057083\n",
       "  feature_vector: -0.01864447258412838\n",
       "  feature_vector: 0.04575081169605255\n",
       "  feature_vector: -0.02053898014128208\n",
       "  feature_vector: 0.011365529149770737\n",
       "  feature_vector: -0.04488018527626991\n",
       "  feature_vector: -0.06173176318407059\n",
       "  feature_vector: -0.035035621374845505\n",
       "  feature_vector: 0.04997442290186882\n",
       "  feature_vector: -0.0061144172213971615\n",
       "  feature_vector: -0.04739474132657051\n",
       "  feature_vector: -0.03825325146317482\n",
       "  feature_vector: 0.042087823152542114\n",
       "  feature_vector: -0.038911208510398865\n",
       "  feature_vector: -0.03857404738664627\n",
       "  feature_vector: 0.03276538848876953\n",
       "  feature_vector: 0.060025572776794434\n",
       "  feature_vector: -0.007068623322993517\n",
       "  feature_vector: -0.026376157999038696\n",
       "  feature_vector: -0.04461735114455223\n",
       "  feature_vector: -0.04227994382381439\n",
       "  feature_vector: -0.04731058329343796\n",
       "  feature_vector: -0.0118179302662611\n",
       "  feature_vector: -0.029632730409502983\n",
       "  feature_vector: -0.016921302303671837\n",
       "  feature_vector: -0.0018461591098457575\n",
       "  feature_vector: 0.006537132430821657\n",
       "  feature_vector: 0.07080788165330887\n",
       "  feature_vector: 0.03750918060541153\n",
       "  feature_vector: -0.03826003149151802\n",
       "  feature_vector: 0.0038234153762459755\n",
       "  feature_vector: 0.0019449531100690365\n",
       "  feature_vector: -0.0010598823428153992\n",
       "  feature_vector: -0.04568371921777725\n",
       "  feature_vector: 0.06291892379522324\n",
       "  feature_vector: -0.05449821799993515\n",
       "  feature_vector: -0.04588736221194267\n",
       "  feature_vector: 0.04597954452037811\n",
       "  feature_vector: -0.02561045065522194\n",
       "  feature_vector: 0.05734384059906006\n",
       "  feature_vector: -0.03697807714343071\n",
       "  feature_vector: -0.007379764690995216\n",
       "  feature_vector: -0.02856644056737423\n",
       "  feature_vector: -0.04303440451622009\n",
       "  feature_vector: -0.06578922271728516\n",
       "  feature_vector: 0.007209533825516701\n",
       "  feature_vector: 0.04771319404244423\n",
       "  feature_vector: 0.07753365486860275\n",
       "  feature_vector: -1.327784684690414e-05\n",
       "  feature_vector: 0.04436056688427925\n",
       "  feature_vector: -0.030542416498064995\n",
       "  feature_vector: -0.012323888018727303\n",
       "  feature_vector: 0.002317188773304224\n",
       "  feature_vector: -0.005848483648151159\n",
       "  feature_vector: -0.018583035096526146\n",
       "  feature_vector: -0.027699915692210197\n",
       "  feature_vector: 0.025499748066067696\n",
       "  feature_vector: -0.029008977115154266\n",
       "  feature_vector: 0.033692531287670135\n",
       "  feature_vector: -0.014080480672419071\n",
       "  feature_vector: -0.014737614430487156\n",
       "  feature_vector: -0.011316717602312565\n",
       "  feature_vector: 0.003871845779940486\n",
       "  feature_vector: -0.05556068196892738\n",
       "  feature_vector: 0.04822807013988495\n",
       "  feature_vector: -0.017585208639502525\n",
       "  feature_vector: -0.002873919438570738\n",
       "  feature_vector: -0.019365651533007622\n",
       "  feature_vector: -0.006803397089242935\n",
       "  feature_vector: -0.04864604026079178\n",
       "  feature_vector: -0.014584063552320004\n",
       "  feature_vector: -0.053216446191072464\n",
       "  feature_vector: -0.00925059337168932\n",
       "  feature_vector: 0.07104650139808655\n",
       "  feature_vector: -0.03646286576986313\n",
       "  feature_vector: -0.060998957604169846\n",
       "  feature_vector: 0.03128151223063469\n",
       "  feature_vector: 0.01725953444838524\n",
       "  feature_vector: -0.01375607866793871\n",
       "  feature_vector: -0.02340039424598217\n",
       "  feature_vector: -0.028889812529087067\n",
       "  feature_vector: 0.004072270821779966\n",
       "  feature_vector: -0.045746758580207825\n",
       "  feature_vector: 0.021556513383984566\n",
       "  feature_vector: -0.03828394412994385\n",
       "  feature_vector: -0.06884382665157318\n",
       "  feature_vector: -0.01263010036200285\n",
       "  feature_vector: 0.0034149466082453728\n",
       "  feature_vector: 0.0005883638514205813\n",
       "  feature_vector: -0.028128374367952347\n",
       "  feature_vector: -0.05128513276576996\n",
       "  feature_vector: -0.08097319304943085\n",
       "  feature_vector: -0.03885939344763756\n",
       "  feature_vector: 0.03706240653991699\n",
       "  feature_vector: 0.0007127370918169618\n",
       "  feature_vector: -0.0030853853095322847\n",
       "  feature_vector: -0.024732224643230438\n",
       "  feature_vector: -0.07115738093852997\n",
       "  feature_vector: 0.07398227602243423\n",
       "  feature_vector: -0.010270481929183006\n",
       "  feature_vector: 0.04101245105266571\n",
       "  feature_vector: 0.025258077308535576\n",
       "  feature_vector: -0.05449853464961052\n",
       "  feature_vector: -0.01094899047166109\n",
       "  feature_vector: -0.006325880065560341\n",
       "  feature_vector: -0.019607510417699814\n",
       "  feature_vector: 0.03538304939866066\n",
       "  feature_vector: -0.02259116806089878\n",
       "  feature_vector: 0.0031932841520756483\n",
       "  feature_vector: 0.032757967710494995\n",
       "  feature_vector: -0.012029911391437054\n",
       "  feature_vector: 0.05872298777103424\n",
       "  feature_vector: -0.037627946585416794\n",
       "  feature_vector: 0.014191806316375732\n",
       "  feature_vector: 0.005513959098607302\n",
       "  feature_vector: -0.00574971828609705\n",
       "  feature_vector: -0.02417079731822014\n",
       "  feature_vector: 0.047762565314769745\n",
       "  feature_vector: 0.0006062915199436247\n",
       "  feature_vector: -0.031931161880493164\n",
       "  feature_vector: 0.018047548830509186\n",
       "  feature_vector: 0.029779355973005295\n",
       "  feature_vector: 0.06094333902001381\n",
       "  feature_vector: -0.009975073859095573\n",
       "  feature_vector: -0.012970040552318096\n",
       "  feature_vector: -0.025599705055356026\n",
       "  feature_vector: 0.0057291267439723015\n",
       "  feature_vector: -0.031930532306432724\n",
       "  feature_vector: -0.0169200636446476\n",
       "  feature_vector: -0.0400913842022419\n",
       "  feature_vector: 0.008886434137821198\n",
       "  feature_vector: 0.03127752244472504\n",
       "  feature_vector: -0.01890975423157215\n",
       "  feature_vector: 0.0274501945823431\n",
       "  feature_vector: 0.004614764824509621\n",
       "  feature_vector: 0.025215547531843185\n",
       "  feature_vector: 0.036955781280994415\n",
       "  feature_vector: -0.035613253712654114\n",
       "  feature_vector: -0.04972705617547035\n",
       "  feature_vector: -0.049445703625679016\n",
       "  feature_vector: -0.04062819108366966\n",
       "  feature_vector: 0.004297698847949505\n",
       "  feature_vector: 0.00023139890981838107\n",
       "  feature_vector: 0.04032063111662865\n",
       "  feature_vector: 0.016389600932598114\n",
       "  feature_vector: 0.0014422039967030287\n",
       "  feature_vector: -0.009620373137295246\n",
       "  feature_vector: -0.041856203228235245\n",
       "  feature_vector: -0.051043443381786346\n",
       "  feature_vector: -0.026232993230223656\n",
       "  feature_vector: 0.014485379680991173\n",
       "  feature_vector: 0.018829980865120888\n",
       "  feature_vector: 0.0092001399025321\n",
       "  feature_vector: 0.0025929599069058895\n",
       "  feature_vector: -0.0009652451262809336\n",
       "  feature_vector: -0.004463882185518742\n",
       "  feature_vector: 0.03342820331454277\n",
       "  feature_vector: -0.004565651528537273\n",
       "  feature_vector: -0.06360520422458649\n",
       "  feature_vector: 0.034686002880334854\n",
       "  feature_vector: -0.017262281849980354\n",
       "  feature_vector: -0.005981085821986198\n",
       "  feature_vector: 0.026371100917458534\n",
       "  feature_vector: 0.017758555710315704\n",
       "  feature_vector: -0.0013286701869219542\n",
       "  feature_vector: 0.016028454527258873\n",
       "  feature_vector: -0.04647386074066162\n",
       "  feature_vector: -0.04431234300136566\n",
       "  feature_vector: 0.00950243603438139\n",
       "  feature_vector: -0.008306600153446198\n",
       "  feature_vector: 0.0062800138257443905\n",
       "  feature_vector: -0.007683868519961834\n",
       "  feature_vector: -0.008320529945194721\n",
       "  feature_vector: 0.0027962324675172567\n",
       "  feature_vector: 0.03923690691590309\n",
       "  feature_vector: 0.031493064016103745\n",
       "  feature_vector: 0.002537310356274247\n",
       "  feature_vector: -0.050556328147649765\n",
       "  feature_vector: -0.02546204812824726\n",
       "  feature_vector: 0.030095461755990982\n",
       "  feature_vector: -0.015272999182343483\n",
       "  feature_vector: 0.04023337364196777\n",
       "  feature_vector: 0.011676852591335773\n",
       "  feature_vector: 0.06057390570640564\n",
       "  feature_vector: -0.021457849070429802\n",
       "  feature_vector: 0.05013444647192955\n",
       "  feature_vector: -0.005864266771823168\n",
       "  feature_vector: 0.040564458817243576\n",
       "  feature_vector: 0.007204958237707615\n",
       "  feature_vector: -0.0007468420662917197\n",
       "  feature_vector: 0.09237293154001236\n",
       "  feature_vector: -0.00037280801916494966\n",
       "  feature_vector: 0.04942847788333893\n",
       "  feature_vector: -0.02798091247677803\n",
       "  feature_vector: -0.052084848284721375\n",
       "  feature_vector: -0.03609541431069374\n",
       "  feature_vector: -0.004758365452289581\n",
       "  feature_vector: -0.0014231008244678378\n",
       "  feature_vector: 0.056129373610019684\n",
       "  feature_vector: 0.03483856841921806\n",
       "  feature_vector: 0.057144034653902054\n",
       "  feature_vector: 0.030247924849390984\n",
       "  feature_vector: -0.004556224215775728\n",
       "  feature_vector: 0.01731056533753872\n",
       "  feature_vector: -0.028762545436620712\n",
       "  feature_vector: -0.0760616809129715\n",
       "  feature_vector: -0.008499697782099247\n",
       "  feature_vector: -0.019764689728617668\n",
       "  feature_vector: -0.05915990471839905\n",
       "  feature_vector: 0.023418258875608444\n",
       "  feature_vector: 0.056961990892887115\n",
       "  feature_vector: 0.004316619597375393\n",
       "  feature_vector: 0.025169001892209053\n",
       "  feature_vector: 0.05970138683915138\n",
       "  feature_vector: -0.007899364456534386\n",
       "  feature_vector: 0.009114610031247139\n",
       "  feature_vector: 0.007453118916600943\n",
       "  feature_vector: 0.012181978672742844\n",
       "  feature_vector: 0.021939804777503014\n",
       "  feature_vector: -0.0853288546204567\n",
       "  feature_vector: 0.018296854570508003\n",
       "  feature_vector: -0.030538052320480347\n",
       "  feature_vector: 0.0068550328724086285\n",
       "  feature_vector: 0.04799635335803032\n",
       "  feature_vector: 0.00873255729675293\n",
       "  feature_vector: 0.04917299747467041\n",
       "  feature_vector: 0.002186248544603586\n",
       "  feature_vector: -0.03980217128992081\n",
       "  feature_vector: -0.020288705825805664\n",
       "  feature_vector: -0.08729740977287292\n",
       "  feature_vector: 0.01583559438586235\n",
       "  feature_vector: -0.012800234369933605\n",
       "  feature_vector: 0.04395202174782753\n",
       "  feature_vector: 0.03616770729422569\n",
       "  feature_vector: -0.04204297810792923\n",
       "  feature_vector: 0.006588615011423826\n",
       "  feature_vector: 0.04094988480210304\n",
       "  feature_vector: 0.0018033263040706515\n",
       "  feature_vector: -0.02991761825978756\n",
       "  feature_vector: 0.0007180026150308549\n",
       "  feature_vector: -0.007745281793177128\n",
       "  feature_vector: -0.049992553889751434\n",
       "  feature_vector: -0.0553145594894886\n",
       "  feature_vector: -0.015648076310753822\n",
       "  feature_vector: 0.006430435925722122\n",
       "  feature_vector: 0.01478305272758007\n",
       "  feature_vector: 0.026692230254411697\n",
       "  feature_vector: 0.029433494433760643\n",
       "  feature_vector: -0.04905358701944351\n",
       "  feature_vector: -0.011555357836186886\n",
       "  feature_vector: 0.015111412853002548\n",
       "  feature_vector: 0.01643737591803074\n",
       "  feature_vector: 0.017560599371790886\n",
       "  feature_vector: -0.05448787659406662\n",
       "  feature_vector: 0.00016719310951884836\n",
       "  feature_vector: 0.0005826439009979367\n",
       "  feature_vector: -0.006320044863969088\n",
       "  feature_vector: -0.010411039926111698\n",
       "  feature_vector: -0.0741593986749649\n",
       "  feature_vector: 0.0011085085570812225\n",
       "  feature_vector: -0.031862691044807434\n",
       "  feature_vector: 0.017108848318457603\n",
       "  feature_vector: 0.042684298008680344\n",
       "  feature_vector: -0.03995807096362114\n",
       "  feature_vector: 0.030860092490911484\n",
       "  feature_vector: 0.0009229228598996997\n",
       "  feature_vector: 0.04293433949351311\n",
       "  feature_vector: -0.017270395532250404\n",
       "  feature_vector: -0.09595996886491776\n",
       "  feature_vector: 0.03866351768374443\n",
       "  feature_vector: -0.06751706451177597\n",
       "  feature_vector: 0.02846703678369522\n",
       "  feature_vector: 0.05619380995631218\n",
       "  feature_vector: 0.05386864021420479\n",
       "  feature_vector: 0.03495412319898605\n",
       "  feature_vector: 0.022984713315963745\n",
       "  feature_vector: -0.0033677530009299517\n",
       "  feature_vector: 0.015622789040207863\n",
       "  feature_vector: 0.020361436530947685\n",
       "  feature_vector: -0.03207850828766823\n",
       "  feature_vector: 0.0003057239518966526\n",
       "  feature_vector: -0.03136066719889641\n",
       "  feature_vector: -0.08695180714130402\n",
       "  feature_vector: 0.023382091894745827\n",
       "  feature_vector: -0.025886770337820053\n",
       "  feature_vector: 0.021033070981502533\n",
       "  feature_vector: -0.023596741259098053\n",
       "  feature_vector: -0.055094026029109955\n",
       "  feature_vector: 0.003589640837162733\n",
       "  feature_vector: 0.028317030519247055\n",
       "  feature_vector: 0.023584073409438133\n",
       "  feature_vector: 0.06372731924057007\n",
       "  feature_vector: -0.024655574932694435\n",
       "  feature_vector: -0.04178844019770622\n",
       "  feature_vector: -0.00873620342463255\n",
       "  feature_vector: 0.03125976771116257\n",
       "  feature_vector: -0.06952057033777237\n",
       "  feature_vector: -0.0035446742549538612\n",
       "  feature_vector: 0.0014041701797395945\n",
       "  feature_vector: -0.0009743140544742346\n",
       "  feature_vector: -0.016167806461453438\n",
       "  feature_vector: -0.021129516884684563\n",
       "  feature_vector: -0.023032769560813904\n",
       "  feature_vector: -0.04719731584191322\n",
       "  feature_vector: -0.027158647775650024\n",
       "  feature_vector: 0.018532169982790947\n",
       "  feature_vector: -0.040399178862571716\n",
       "  feature_vector: 0.04127543419599533\n",
       "  feature_vector: -0.0025329214986413717\n",
       "  feature_vector: 0.031856387853622437\n",
       "  feature_vector: -0.00252698571421206\n",
       "  feature_vector: 0.002159601077437401\n",
       "  feature_vector: 0.059914927929639816\n",
       "  feature_vector: 0.06374270468950272\n",
       "  feature_vector: -0.035451725125312805\n",
       "  feature_vector: -0.011296059004962444\n",
       "  feature_vector: -0.08253650367259979\n",
       "  feature_vector: 0.023153899237513542\n",
       "  feature_vector: 0.003235394833609462\n",
       "  feature_vector: 0.014730984345078468\n",
       "  feature_vector: -0.0029547084122896194\n",
       "  feature_vector: -0.015027896501123905\n",
       "  feature_vector: 0.0009616474853828549\n",
       "  feature_vector: 0.01519700139760971\n",
       "  feature_vector: 0.002638103673234582\n",
       "  feature_vector: -0.04204055666923523\n",
       "  feature_vector: 0.0053734187968075275\n",
       "  feature_vector: -0.045237500220537186\n",
       "  feature_vector: -0.024036748334765434\n",
       "  feature_vector: 0.041241537779569626\n",
       "  feature_vector: -0.08114249259233475\n",
       "  feature_vector: -0.0010574389016255736\n",
       "  feature_vector: -0.01720951497554779\n",
       "  feature_vector: -0.02307354286313057\n",
       "  feature_vector: 0.03394981473684311\n",
       "  feature_vector: 0.03431002050638199\n",
       "  feature_vector: 0.012427681125700474\n",
       "  feature_vector: 0.022925255820155144\n",
       "  feature_vector: -0.03449201583862305\n",
       "  feature_vector: 0.03177350014448166\n",
       "  feature_vector: 0.0589982345700264\n",
       "  feature_vector: 0.03998168557882309\n",
       "  feature_vector: 0.039438989013433456\n",
       "  feature_vector: 0.04366067051887512\n",
       "  feature_vector: 0.04368438944220543\n",
       "  feature_vector: -0.0015123094199225307\n",
       "  feature_vector: 0.004765544552356005\n",
       "  feature_vector: 0.02337104268372059\n",
       "  feature_vector: 0.08602312207221985\n",
       "  feature_vector: 0.05992431193590164\n",
       "  feature_vector: -0.01657700724899769\n",
       "  feature_vector: -0.05928243324160576\n",
       "  feature_vector: -0.013043070212006569\n",
       "  feature_vector: 0.03945556655526161\n",
       "  feature_vector: -0.00947569590061903\n",
       "  feature_vector: -0.00850843545049429\n",
       "  feature_vector: 0.02873087115585804\n",
       "  feature_vector: -0.05694580078125\n",
       "  feature_vector: -0.0950557217001915\n",
       "  feature_vector: 0.07458344101905823\n",
       "  feature_vector: 0.013698468916118145\n",
       "  feature_vector: 0.0042525967583060265\n",
       "  feature_vector: 0.0289178304374218\n",
       "  feature_vector: 0.007085687480866909\n",
       "  feature_vector: -0.012110522016882896\n",
       "  feature_vector: 0.0336284376680851\n",
       "  feature_vector: -0.024893423542380333\n",
       "  feature_vector: -0.08628156781196594\n",
       "  feature_vector: 0.036905642598867416\n",
       "  feature_vector: -0.04864297807216644\n",
       "  feature_vector: 0.014795239083468914\n",
       "  feature_vector: -0.059119921177625656\n",
       "  feature_vector: 0.02018987573683262\n",
       "  feature_vector: -0.05502643063664436\n",
       "  feature_vector: 0.0024000992998480797\n",
       "  feature_vector: 0.013233992271125317\n",
       "  feature_vector: 0.001711652148514986\n",
       "  feature_vector: 0.008909846656024456\n",
       "  feature_vector: 0.00010122443927684799\n",
       "  feature_vector: -0.019964411854743958\n",
       "  feature_vector: -0.05143430083990097\n",
       "  feature_vector: -0.011876143515110016\n",
       "  feature_vector: -0.050100140273571014\n",
       "  feature_vector: -0.01723216287791729\n",
       "  feature_vector: 0.005252809263765812\n",
       "  feature_vector: -0.006978831719607115\n",
       "  feature_vector: -0.026398682966828346\n",
       "  feature_vector: 0.0004880581109318882\n",
       "  feature_vector: 0.08210932463407516\n",
       "  feature_vector: 0.06764663755893707\n",
       "  feature_vector: -0.030244870111346245\n",
       "  feature_vector: 0.08638598769903183\n",
       "  feature_vector: -0.006979036144912243\n",
       "  feature_vector: 0.017001666128635406\n",
       "  feature_vector: 0.02693057432770729\n",
       "  feature_vector: 0.03668459504842758\n",
       "  feature_vector: 0.003475229488685727\n",
       "  feature_vector: 0.04471747949719429\n",
       "  feature_vector: -0.0327732153236866\n",
       "  feature_vector: 0.06382647156715393\n",
       "  feature_vector: -0.0127637954428792\n",
       "  feature_vector: -0.0679708793759346\n",
       "  feature_vector: -0.009933358058333397\n",
       "  feature_vector: 0.0041874987073242664\n",
       "  feature_vector: 0.036764029413461685\n",
       "  feature_vector: 0.005690573249012232\n",
       "  feature_vector: -0.010169732384383678\n",
       "  feature_vector: 0.07077477872371674\n",
       "  feature_vector: 0.01863941177725792\n",
       "  feature_vector: -0.06889123469591141\n",
       "  feature_vector: -0.05881612375378609\n",
       "  feature_vector: 0.01964230090379715\n",
       "  feature_vector: 0.04437822103500366\n",
       "  feature_vector: 0.059430334717035294\n",
       "  feature_vector: 0.0022268653847277164\n",
       "  feature_vector: 0.004007944371551275\n",
       "  feature_vector: -0.009161364287137985\n",
       "  feature_vector: 0.04303617775440216\n",
       "  feature_vector: -0.012696947902441025\n",
       "  feature_vector: -0.08617901802062988\n",
       "  feature_vector: -0.0016969129210337996\n",
       "  feature_vector: -0.03941027447581291\n",
       "  feature_vector: 0.04092298820614815\n",
       "  feature_vector: -0.01683444157242775\n",
       "  feature_vector: -0.014905168674886227\n",
       "  feature_vector: 0.004224344156682491\n",
       "  feature_vector: 0.07829294353723526\n",
       "  feature_vector: 0.010913282632827759\n",
       "  feature_vector: -0.001059357775375247\n",
       "  feature_vector: -0.03419949859380722\n",
       "  feature_vector: -0.005878106225281954\n",
       "  feature_vector: -0.03848846256732941\n",
       "  feature_vector: 0.014570249244570732\n",
       "  feature_vector: 0.026473291218280792\n",
       "  feature_vector: -0.00783358421176672\n",
       "  feature_vector: 0.050916384905576706\n",
       "  feature_vector: -0.02918301150202751\n",
       "  feature_vector: 0.035810090601444244\n",
       "  feature_vector: 0.022643689066171646\n",
       "  feature_vector: -0.03514808788895607\n",
       "  feature_vector: 0.04218374565243721\n",
       "  feature_vector: -0.0007303250604309142\n",
       "  feature_vector: 0.09406798332929611\n",
       "  feature_vector: -0.05380278453230858\n",
       "  feature_vector: -0.006332149263471365\n",
       "  feature_vector: -0.013924732804298401\n",
       "  feature_vector: 0.008155856281518936\n",
       "  feature_vector: 0.05014895647764206\n",
       "  feature_vector: 0.007180940359830856\n",
       "  feature_vector: 0.028086300939321518\n",
       "  feature_vector: 0.030625389888882637\n",
       "  feature_vector: -0.017772695049643517\n",
       "  feature_vector: -0.005464197602123022\n",
       "  feature_vector: 0.04820889234542847\n",
       "  feature_vector: 0.07402172684669495\n",
       "  feature_vector: 0.006455359514802694\n",
       "  feature_vector: 0.013245662674307823\n",
       "  feature_vector: -0.04203085973858833\n",
       "  feature_vector: -0.08363983780145645\n",
       "  feature_vector: -0.027444608509540558\n",
       "  feature_vector: -0.02801419422030449\n",
       "  feature_vector: -0.09991108626127243\n",
       "  feature_vector: 0.041252851486206055\n",
       "  feature_vector: -0.048504091799259186\n",
       "  feature_vector: -0.0853726789355278\n",
       "  feature_vector: 0.01768488436937332\n",
       "  feature_vector: -0.03719731420278549\n",
       "  feature_vector: 0.02767537347972393\n",
       "  feature_vector: 0.003539724973961711\n",
       "  feature_vector: -0.059500377625226974\n",
       "  feature_vector: -0.04634691774845123\n",
       "  feature_vector: -0.02446169964969158\n",
       "  feature_vector: 0.005621694028377533\n",
       "  feature_vector: 0.03277761489152908\n",
       "  feature_vector: -0.012997747398912907\n",
       "  feature_vector: 0.08457328379154205\n",
       "  feature_vector: -0.0659356638789177\n",
       "  feature_vector: 0.017571544274687767\n",
       "  feature_vector: 0.027739262208342552\n",
       "  feature_vector: -0.028418870642781258\n",
       "  feature_vector: 0.028994766995310783\n",
       "  feature_vector: 0.035543497651815414\n",
       "  feature_vector: 0.0029253617394715548\n",
       "  feature_vector: 0.026236554607748985\n",
       "  feature_vector: -0.058028530329465866\n",
       "  feature_vector: -0.05068043991923332\n",
       "  feature_vector: 0.0013093797024339437\n",
       "  feature_vector: -0.0016150441952049732\n",
       "  feature_vector: -0.047223709523677826\n",
       "  feature_vector: 0.0268703605979681\n",
       "  feature_vector: -0.027451662346720695\n",
       "  feature_vector: -0.009793861769139767\n",
       "  feature_vector: -0.00035325769567862153\n",
       "  feature_vector: -0.01150560099631548\n",
       "  feature_vector: -0.012721988372504711\n",
       "  feature_vector: -0.03563462942838669\n",
       "  feature_vector: 0.03379269316792488\n",
       "  feature_vector: -0.020605003461241722\n",
       "  feature_vector: 0.03017100878059864\n",
       "  feature_vector: 0.009956718422472477\n",
       "  feature_vector: 0.026074770838022232\n",
       "  feature_vector: -0.026765041053295135\n",
       "  feature_vector: 0.016443513333797455\n",
       "  feature_vector: 0.023353205993771553\n",
       "  feature_vector: 0.030233707278966904\n",
       "  feature_vector: 0.05551210045814514\n",
       "  feature_vector: -0.003674372099339962\n",
       "  feature_vector: -0.01334979198873043\n",
       "  feature_vector: 0.03684898465871811\n",
       "  feature_vector: -0.02357557602226734\n",
       "  feature_vector: 0.016760993748903275\n",
       "  feature_vector: 0.0812898501753807\n",
       "  feature_vector: 0.0021852131467312574\n",
       "  feature_vector: -0.06181761249899864\n",
       "  feature_vector: -0.060133565217256546\n",
       "  feature_vector: -0.03206983581185341\n",
       "  feature_vector: 0.008033229038119316\n",
       "  feature_vector: 0.06560847908258438\n",
       "  feature_vector: 0.05291817709803581\n",
       "  feature_vector: 0.006046843249350786\n",
       "  feature_vector: 0.004939396400004625\n",
       "  feature_vector: -0.01946372725069523\n",
       "  feature_vector: 0.046212200075387955\n",
       "  feature_vector: 0.024187278002500534\n",
       "  feature_vector: -0.06724560260772705\n",
       "  feature_vector: -0.007980776950716972\n",
       "  feature_vector: 0.04631045088171959\n",
       "  feature_vector: -0.022305136546492577\n",
       "  feature_vector: -0.024744762107729912\n",
       "  feature_vector: 0.012300550937652588\n",
       "  feature_vector: -0.00104609876871109\n",
       "  feature_vector: -0.003933214582502842\n",
       "  feature_vector: -0.0006171838031150401\n",
       "  feature_vector: -0.03665794059634209\n",
       "  feature_vector: -0.06315715610980988\n",
       "  feature_vector: 0.018967799842357635\n",
       "  feature_vector: 0.016234787181019783\n",
       "  feature_vector: -0.0024900774005800486\n",
       "  feature_vector: 0.010932009667158127\n",
       "  feature_vector: -0.0574895478785038\n",
       "  feature_vector: -0.07660096138715744\n",
       "  feature_vector: -0.02451157756149769\n",
       "  feature_vector: -0.029385091736912727\n",
       "  feature_vector: -0.016865862533450127\n",
       "  feature_vector: -0.0551491379737854\n",
       "  feature_vector: 0.0027757699135690928\n",
       "  feature_vector: 0.0009746233699843287\n",
       "  feature_vector: 0.02018953673541546\n",
       "  feature_vector: 0.010629783384501934\n",
       "  feature_vector: -0.04224679619073868\n",
       "  feature_vector: -0.010497929528355598\n",
       "  feature_vector: -0.060058094561100006\n",
       "  feature_vector: -0.03934808820486069\n",
       "  feature_vector: 0.0441814586520195\n",
       "  feature_vector: -0.06160453334450722\n",
       "  feature_vector: 0.012328043580055237\n",
       "  feature_vector: 0.015856226906180382\n",
       "  feature_vector: -0.034084051847457886\n",
       "  feature_vector: 0.0320720449090004\n",
       "  feature_vector: -0.0025754538364708424\n",
       "  feature_vector: 0.030299518257379532\n",
       "  feature_vector: -0.022785823792219162\n",
       "  feature_vector: -2.260207838844508e-05\n",
       "  feature_vector: 0.051799193024635315\n",
       "  feature_vector: -0.026031147688627243\n",
       "  feature_vector: 0.012124305590987206\n",
       "  feature_vector: -0.021563300862908363\n",
       "  feature_vector: 0.014917593449354172\n",
       "  feature_vector: 0.06959046423435211\n",
       "  feature_vector: 0.013904399238526821\n",
       "  feature_vector: 0.022899126634001732\n",
       "  feature_vector: 0.015134312212467194\n",
       "  feature_vector: 0.00628411490470171\n",
       "  feature_vector: -0.005748514086008072\n",
       "  feature_vector: -0.0018662783550098538\n",
       "  feature_vector: 0.03764455020427704\n",
       "  feature_vector: 0.03154896944761276\n",
       "  feature_vector: -0.024170082062482834\n",
       "  feature_vector: -0.02074476145207882\n",
       "  feature_vector: 0.029539942741394043\n",
       "  feature_vector: -0.06134948506951332\n",
       "  feature_vector: 0.0017891713650897145\n",
       "  feature_vector: -0.007260562386363745\n",
       "  feature_vector: 0.032620787620544434\n",
       "  feature_vector: -0.010424057021737099\n",
       "  feature_vector: -0.031487688422203064\n",
       "  feature_vector: 0.014738257974386215\n",
       "  feature_vector: 0.047612763941287994\n",
       "  feature_vector: -0.07921295613050461\n",
       "  feature_vector: 0.00895571056753397\n",
       "  feature_vector: 0.015945812687277794\n",
       "  feature_vector: -0.04183564335107803\n",
       "  feature_vector: -0.011621848680078983\n",
       "  feature_vector: 0.0025142114609479904\n",
       "  feature_vector: -0.049693234264850616\n",
       "  feature_vector: -0.011698405258357525\n",
       "  feature_vector: 0.06708945333957672\n",
       "  feature_vector: -0.049364689737558365\n",
       "  feature_vector: -0.01862713322043419\n",
       "  feature_vector: -0.01239856332540512\n",
       "  feature_vector: -0.051713697612285614\n",
       "  feature_vector: 0.06180844455957413\n",
       "  feature_vector: 0.027677815407514572\n",
       "  feature_vector: -0.016779884696006775\n",
       "  feature_vector: 0.043507929891347885\n",
       "  feature_vector: 0.05058198422193527\n",
       "  feature_vector: 0.033396702259778976\n",
       "  feature_vector: 0.01809871383011341\n",
       "  feature_vector: 0.04609781131148338\n",
       "  feature_vector: 0.04263078793883324\n",
       "  feature_vector: -0.010821512900292873\n",
       "  feature_vector: -0.03743220493197441\n",
       "  feature_vector: -0.06654534488916397\n",
       "  feature_vector: 0.022465309128165245\n",
       "  feature_vector: 0.020462973043322563\n",
       "  feature_vector: -0.017318211495876312\n",
       "  feature_vector: 0.01322736032307148\n",
       "  feature_vector: 0.021096130833029747\n",
       "  feature_vector: -0.017076333984732628\n",
       "  feature_vector: 0.011449050158262253\n",
       "  feature_vector: 0.02202814631164074\n",
       "  feature_vector: 0.07430393993854523\n",
       "  feature_vector: 0.03255714848637581\n",
       "  feature_vector: 0.05925803259015083\n",
       "  feature_vector: -0.012157972902059555\n",
       "  feature_vector: -0.08327556401491165\n",
       "  feature_vector: -0.02513452060520649\n",
       "  feature_vector: -0.03446173667907715\n",
       "  feature_vector: 0.032244764268398285\n",
       "  feature_vector: 0.01393086090683937\n",
       "  feature_vector: -0.0001334764383500442\n",
       "  feature_vector: -0.04860334098339081\n",
       "  feature_vector: 0.003157727187499404\n",
       "  feature_vector: 0.028406964614987373\n",
       "  feature_vector: -0.012672055512666702\n",
       "  feature_vector: -0.004078066907823086\n",
       "  feature_vector: 0.014444704167544842\n",
       "  feature_vector: -0.05784723907709122\n",
       "  feature_vector: -0.03822117671370506\n",
       "  feature_vector: 0.051439546048641205\n",
       "  feature_vector: -0.007365612778812647\n",
       "  feature_vector: -0.033085793256759644\n",
       "  feature_vector: 0.024111347272992134\n",
       "  feature_vector: -0.009443504735827446\n",
       "  feature_vector: -0.0005652037798427045\n",
       "  feature_vector: -0.07147571444511414\n",
       "  feature_vector: -0.03737620264291763\n",
       "  feature_vector: -0.005062076263129711\n",
       "  feature_vector: 0.053496599197387695\n",
       "  feature_vector: -0.05200248584151268\n",
       "  feature_vector: 0.04872293025255203\n",
       "  feature_vector: 0.008703509345650673\n",
       "  feature_vector: -0.004003996029496193\n",
       "  feature_vector: -0.00056891655549407\n",
       "  feature_vector: -0.0264238640666008\n",
       "  feature_vector: 0.0464753583073616\n",
       "  feature_vector: -0.008504866622388363\n",
       "  feature_vector: -0.004713505040854216\n",
       "  feature_vector: -0.04314204677939415\n",
       "  feature_vector: 0.011844810098409653\n",
       "  feature_vector: 0.02334008924663067\n",
       "  feature_vector: 0.04773584008216858\n",
       "  feature_vector: -0.003958863206207752\n",
       "  feature_vector: -0.004284762777388096\n",
       "  feature_vector: -0.057234447449445724\n",
       "  feature_vector: -0.04744448512792587\n",
       "  feature_vector: 0.016699617728590965\n",
       "  feature_vector: 0.028050757944583893\n",
       "  feature_vector: -0.004734591580927372\n",
       "  feature_vector: 0.001622916548512876\n",
       "  feature_vector: 0.049803558737039566\n",
       "  feature_vector: 0.005616712849587202\n",
       "  feature_vector: -0.04945569485425949\n",
       "  feature_vector: 0.006748289801180363\n",
       "  feature_vector: -0.009653388522565365\n",
       "  feature_vector: -0.007243633735924959\n",
       "  feature_vector: 0.005813121795654297\n",
       "  feature_vector: -0.02176118642091751\n",
       "  feature_vector: 0.059889428317546844\n",
       "  feature_vector: 0.043037787079811096\n",
       "  feature_vector: 0.02327946573495865\n",
       "  feature_vector: 0.03334994986653328\n",
       "  feature_vector: 0.005324861500412226\n",
       "  feature_vector: -7.002840720815584e-05\n",
       "  feature_vector: 0.017345769330859184\n",
       "  feature_vector: 0.016826394945383072\n",
       "  feature_vector: 0.031634826213121414\n",
       "  feature_vector: -0.05586898326873779\n",
       "  feature_vector: -0.005205074325203896\n",
       "  feature_vector: -0.0334189310669899\n",
       "  feature_vector: -0.0022611478343605995\n",
       "  feature_vector: 0.027815351262688637\n",
       "  feature_vector: 0.039498791098594666\n",
       "  feature_vector: 0.0243985615670681\n",
       "  feature_vector: 0.03228766471147537\n",
       "  feature_vector: 0.043787889182567596\n",
       "  feature_vector: 0.00018709118012338877\n",
       "  feature_vector: -0.004858050029724836\n",
       "  feature_vector: 0.036169834434986115\n",
       "  feature_vector: -0.033394962549209595\n",
       "  feature_vector: 0.03762741759419441\n",
       "  feature_vector: -0.005265801679342985\n",
       "  feature_vector: 0.0264620129019022\n",
       "  feature_vector: 0.01632515899837017\n",
       "  feature_vector: 0.019973788410425186\n",
       "  feature_vector: 0.026335274800658226\n",
       "  feature_vector: -0.032140009105205536\n",
       "  feature_vector: -0.0516008697450161\n",
       "  feature_vector: 0.014035590924322605\n",
       "  feature_vector: 0.021644042804837227\n",
       "  feature_vector: -0.055023882538080215\n",
       "  feature_vector: -0.029180830344557762\n",
       "  feature_vector: -0.0624781996011734\n",
       "  feature_vector: -0.03478716313838959\n",
       "  feature_vector: 0.00408917898312211\n",
       "  feature_vector: -0.039489585906267166\n",
       "  feature_vector: 0.006194926332682371\n",
       "  feature_vector: 0.00807307381182909\n",
       "  feature_vector: -0.009871960617601871\n",
       "  feature_vector: 0.010426530614495277\n",
       "  feature_vector: 0.017284730449318886\n",
       "  feature_vector: 0.08185384422540665\n",
       "  feature_vector: -0.016282683238387108\n",
       "  feature_vector: -0.06611138582229614\n",
       "  feature_vector: 0.0030635043513029814\n",
       "  feature_vector: -0.061853088438510895\n",
       "  feature_vector: -0.017758503556251526\n",
       "  feature_vector: -0.04598400369286537\n",
       "  feature_vector: -0.015375691466033459\n",
       "  feature_vector: -0.04376832768321037\n",
       "  feature_vector: -0.041457999497652054\n",
       "  feature_vector: 0.015138266608119011\n",
       "  feature_vector: 0.01187980081886053\n",
       "  feature_vector: 0.012892425991594791\n",
       "  feature_vector: 0.03111783228814602\n",
       "  feature_vector: 0.00737158115953207\n",
       "  feature_vector: -0.01567092165350914\n",
       "}"
      ]
     },
     "execution_count": 48,
     "metadata": {},
     "output_type": "execute_result"
    }
   ],
   "source": [
    "query"
   ]
  },
  {
   "cell_type": "code",
   "execution_count": 50,
   "id": "df6afd10",
   "metadata": {},
   "outputs": [
    {
     "data": {
      "text/plain": [
       "google.cloud.aiplatform_v1beta1.types.match_service.FindNeighborsRequest.Query"
      ]
     },
     "execution_count": 50,
     "metadata": {},
     "output_type": "execute_result"
    }
   ],
   "source": [
    "type(query)"
   ]
  },
  {
   "cell_type": "code",
   "execution_count": 65,
   "id": "e2b9c234",
   "metadata": {},
   "outputs": [
    {
     "ename": "TypeError",
     "evalue": "Parameter to MergeFrom() must be instance of same class: expected google.cloud.aiplatform.v1beta1.FindNeighborsRequest.Query got Query.",
     "output_type": "error",
     "traceback": [
      "\u001b[1;31m---------------------------------------------------------------------------\u001b[0m",
      "\u001b[1;31mTypeError\u001b[0m                                 Traceback (most recent call last)",
      "Cell \u001b[1;32mIn[65], line 1\u001b[0m\n\u001b[1;32m----> 1\u001b[0m \u001b[43mrequest\u001b[49m\u001b[38;5;241;43m.\u001b[39;49m\u001b[43mqueries\u001b[49m\u001b[38;5;241;43m.\u001b[39;49m\u001b[43mappend\u001b[49m\u001b[43m(\u001b[49m\u001b[43mquery\u001b[49m\u001b[43m)\u001b[49m\n",
      "\u001b[1;31mTypeError\u001b[0m: Parameter to MergeFrom() must be instance of same class: expected google.cloud.aiplatform.v1beta1.FindNeighborsRequest.Query got Query."
     ]
    }
   ],
   "source": [
    "request.queries.append(query)"
   ]
  },
  {
   "cell_type": "code",
   "execution_count": 51,
   "id": "50b72e1b",
   "metadata": {},
   "outputs": [
    {
     "name": "stdout",
     "output_type": "stream",
     "text": [
      "Package                              Version\n",
      "------------------------------------ --------------------\n",
      "absl-py                              1.4.0\n",
      "adal                                 1.2.7\n",
      "aiofiles                             23.1.0\n",
      "aiohttp                              3.8.4\n",
      "aiokafka                             0.8.0\n",
      "aiosignal                            1.3.1\n",
      "alabaster                            0.7.12\n",
      "alembic                              1.10.4\n",
      "amqp                                 5.1.1\n",
      "anaconda-client                      1.11.0\n",
      "anaconda-navigator                   2.3.1\n",
      "anaconda-project                     0.11.1\n",
      "anyio                                3.6.2\n",
      "apache-airflow                       2.6.1\n",
      "apache-airflow-providers-celery      3.1.0\n",
      "apache-airflow-providers-common-sql  1.4.0\n",
      "apache-airflow-providers-ftp         3.3.1\n",
      "apache-airflow-providers-http        4.3.0\n",
      "apache-airflow-providers-imap        3.1.1\n",
      "apache-airflow-providers-sqlite      3.3.2\n",
      "apache-beam                          2.45.0\n",
      "apispec                              5.2.2\n",
      "appdirs                              1.4.4\n",
      "applicationinsights                  0.11.10\n",
      "argcomplete                          2.1.2\n",
      "argon2-cffi                          21.3.0\n",
      "argon2-cffi-bindings                 21.2.0\n",
      "arrow                                1.2.2\n",
      "asgiref                              3.6.0\n",
      "astroid                              2.11.7\n",
      "astropy                              5.1\n",
      "asttokens                            2.2.1\n",
      "astunparse                           1.6.3\n",
      "async-timeout                        4.0.2\n",
      "atomicwrites                         1.4.0\n",
      "attrs                                23.1.0\n",
      "Automat                              20.2.0\n",
      "autopep8                             1.6.0\n",
      "azure-ai-ml                          1.5.0\n",
      "azure-common                         1.1.28\n",
      "azure-core                           1.26.3\n",
      "azure-graphrbac                      0.61.1\n",
      "azure-identity                       1.12.0\n",
      "azure-mgmt-authorization             3.0.0\n",
      "azure-mgmt-containerregistry         10.1.0\n",
      "azure-mgmt-core                      1.3.2\n",
      "azure-mgmt-keyvault                  10.1.0\n",
      "azure-mgmt-resource                  21.2.1\n",
      "azure-mgmt-storage                   20.1.0\n",
      "azure-storage-blob                   12.16.0\n",
      "azure-storage-file-datalake          12.11.0\n",
      "azure-storage-file-share             12.12.0\n",
      "azureml-automl-core                  1.49.1.post2\n",
      "azureml-core                         1.51.0\n",
      "azureml-dataprep                     4.9.5\n",
      "azureml-dataprep-native              38.0.0\n",
      "azureml-dataprep-rslex               2.16.4\n",
      "azureml-dataset-runtime              1.49.0\n",
      "azureml-mlflow                       1.50.0\n",
      "azureml-pipeline                     1.49.0\n",
      "azureml-pipeline-core                1.49.0\n",
      "azureml-pipeline-steps               1.49.0\n",
      "azureml-sdk                          1.49.0\n",
      "azureml-telemetry                    1.49.0\n",
      "azureml-train-automl-client          1.49.0.post1\n",
      "azureml-train-core                   1.49.0.post1\n",
      "azureml-train-restclients-hyperdrive 1.49.0\n",
      "azureml-widgets                      1.49.0\n",
      "Babel                                2.12.1\n",
      "backcall                             0.2.0\n",
      "backports.functools-lru-cache        1.6.4\n",
      "backports.tempfile                   1.0\n",
      "backports.weakref                    1.0.post1\n",
      "bcrypt                               3.2.0\n",
      "beautifulsoup4                       4.11.1\n",
      "billiard                             3.6.4.0\n",
      "binaryornot                          0.4.4\n",
      "bitarray                             2.5.1\n",
      "bkcharts                             0.2\n",
      "black                                22.6.0\n",
      "bleach                               4.1.0\n",
      "blinker                              1.6.2\n",
      "bokeh                                2.4.3\n",
      "boto3                                1.24.28\n",
      "botocore                             1.27.28\n",
      "Bottleneck                           1.3.5\n",
      "Brotli                               1.0.9\n",
      "brotlipy                             0.7.0\n",
      "build                                0.10.0\n",
      "cachelib                             0.9.0\n",
      "cachetools                           4.2.4\n",
      "cattrs                               22.2.0\n",
      "celery                               5.2.7\n",
      "certifi                              2023.5.7\n",
      "cffi                                 1.15.1\n",
      "chardet                              4.0.0\n",
      "charset-normalizer                   2.1.1\n",
      "click                                8.1.3\n",
      "click-didyoumean                     0.3.0\n",
      "click-plugins                        1.1.1\n",
      "click-repl                           0.2.0\n",
      "clickclick                           20.10.2\n",
      "cloudpickle                          2.2.1\n",
      "clyent                               1.2.2\n",
      "colorama                             0.4.6\n",
      "colorcet                             3.0.0\n",
      "colorlog                             4.8.0\n",
      "comtypes                             1.1.10\n",
      "conda                                22.9.0\n",
      "conda-build                          3.22.0\n",
      "conda-content-trust                  0.1.3\n",
      "conda-pack                           0.6.0\n",
      "conda-package-handling               1.9.0\n",
      "conda-repo-cli                       1.0.20\n",
      "conda-token                          0.4.0\n",
      "conda-verify                         3.4.2\n",
      "ConfigUpdater                        3.1.1\n",
      "connexion                            2.14.2\n",
      "constantly                           15.1.0\n",
      "contextlib2                          21.6.0\n",
      "cookiecutter                         1.7.3\n",
      "crcmod                               1.7\n",
      "cron-descriptor                      1.3.0\n",
      "croniter                             1.3.14\n",
      "cryptography                         37.0.1\n",
      "cssselect                            1.1.0\n",
      "cycler                               0.11.0\n",
      "Cython                               0.29.32\n",
      "cytoolz                              0.11.0\n",
      "daal4py                              2021.6.0\n",
      "dask                                 2022.7.0\n",
      "databricks-cli                       0.17.4\n",
      "datashader                           0.14.1\n",
      "datashape                            0.5.4\n",
      "db-dtypes                            1.0.5\n",
      "debugpy                              1.5.1\n",
      "decorator                            5.1.1\n",
      "defusedxml                           0.7.1\n",
      "Deprecated                           1.2.13\n",
      "diff-match-patch                     20200713\n",
      "dill                                 0.3.1.1\n",
      "distlib                              0.3.6\n",
      "distributed                          2022.7.0\n",
      "distro                               1.8.0\n",
      "dnspython                            2.3.0\n",
      "docker                               6.0.1\n",
      "docopt                               0.6.2\n",
      "docstring-parser                     0.15\n",
      "docutils                             0.20\n",
      "dotnetcore2                          3.1.23\n",
      "email-validator                      1.3.1\n",
      "entrypoints                          0.4\n",
      "et-xmlfile                           1.1.0\n",
      "exceptiongroup                       1.1.1\n",
      "executing                            1.2.0\n",
      "facets-overview                      1.1.0\n",
      "Faker                                15.3.4\n",
      "fastapi                              0.89.1\n",
      "fastavro                             1.7.1\n",
      "fasteners                            0.18\n",
      "fastjsonschema                       2.16.2\n",
      "filelock                             3.6.0\n",
      "fire                                 0.5.0\n",
      "flake8                               4.0.1\n",
      "Flask                                2.2.5\n",
      "Flask-AppBuilder                     4.3.0\n",
      "Flask-Babel                          2.0.0\n",
      "Flask-Caching                        2.0.2\n",
      "Flask-JWT-Extended                   4.4.4\n",
      "Flask-Limiter                        3.3.1\n",
      "Flask-Login                          0.6.2\n",
      "Flask-Session                        0.5.0\n",
      "Flask-SQLAlchemy                     2.5.1\n",
      "Flask-WTF                            1.1.1\n",
      "flatbuffers                          22.12.6\n",
      "flower                               1.2.0\n",
      "fonttools                            4.25.0\n",
      "frozenlist                           1.3.3\n",
      "fsspec                               2022.11.0\n",
      "fusepy                               3.0.1\n",
      "future                               0.18.2\n",
      "gast                                 0.4.0\n",
      "gcsfs                                2022.11.0\n",
      "gensim                               4.1.2\n",
      "gevent                               22.10.2\n",
      "geventhttpclient                     2.0.2\n",
      "gitdb                                4.0.10\n",
      "GitPython                            3.1.30\n",
      "glob2                                0.7\n",
      "google-api-core                      2.11.0\n",
      "google-api-python-client             1.12.11\n",
      "google-apitools                      0.5.31\n",
      "google-auth                          2.16.1\n",
      "google-auth-httplib2                 0.1.0\n",
      "google-auth-oauthlib                 0.4.6\n",
      "google-cloud                         0.34.0\n",
      "google-cloud-aiplatform              1.25.0\n",
      "google-cloud-bigquery                3.10.0\n",
      "google-cloud-bigquery-storage        2.16.2\n",
      "google-cloud-bigtable                1.7.3\n",
      "google-cloud-core                    2.3.2\n",
      "google-cloud-dataproc                3.1.1\n",
      "google-cloud-datastore               1.15.5\n",
      "google-cloud-dlp                     3.12.0\n",
      "google-cloud-language                1.3.2\n",
      "google-cloud-pubsub                  2.15.0\n",
      "google-cloud-pubsublite              1.7.0\n",
      "google-cloud-recommendations-ai      0.7.1\n",
      "google-cloud-resource-manager        1.6.3\n",
      "google-cloud-spanner                 3.28.0\n",
      "google-cloud-storage                 1.44.0\n",
      "google-cloud-videointelligence       1.16.3\n",
      "google-cloud-vision                  3.4.0\n",
      "google-crc32c                        1.5.0\n",
      "google-pasta                         0.2.0\n",
      "google-resumable-media               2.4.0\n",
      "googleapis-common-protos             1.57.0\n",
      "graphviz                             0.20.1\n",
      "greenlet                             2.0.2\n",
      "grpc-google-iam-v1                   0.12.4\n",
      "grpcio                               1.54.2\n",
      "grpcio-status                        1.48.2\n",
      "grpcio-tools                         1.54.2\n",
      "gunicorn                             20.1.0\n",
      "h11                                  0.14.0\n",
      "h5py                                 3.8.0\n",
      "hdfs                                 2.7.0\n",
      "HeapDict                             1.0.1\n",
      "holoviews                            1.15.0\n",
      "httpcore                             0.16.3\n",
      "httplib2                             0.20.4\n",
      "httpx                                0.23.3\n",
      "huggingface-hub                      0.15.1\n",
      "humanfriendly                        10.0\n",
      "humanize                             4.6.0\n",
      "hvplot                               0.8.0\n",
      "hyperlink                            21.0.0\n",
      "idna                                 3.4\n",
      "imagecodecs                          2021.8.26\n",
      "imageio                              2.19.3\n",
      "imagesize                            1.4.1\n",
      "importlib-metadata                   4.13.0\n",
      "importlib-resources                  5.12.0\n",
      "incremental                          21.3.0\n",
      "inflection                           0.5.1\n",
      "iniconfig                            1.1.1\n",
      "intake                               0.6.5\n",
      "intervaltree                         3.1.0\n",
      "ipykernel                            6.15.2\n",
      "ipython                              8.10.0\n",
      "ipython-genutils                     0.2.0\n",
      "ipywidgets                           7.7.5\n",
      "isodate                              0.6.1\n",
      "isort                                5.9.3\n",
      "itemadapter                          0.3.0\n",
      "itemloaders                          1.0.4\n",
      "itsdangerous                         2.1.2\n",
      "jax                                  0.4.10\n",
      "jdcal                                1.4.1\n",
      "jedi                                 0.18.1\n",
      "jeepney                              0.8.0\n",
      "jellyfish                            0.9.0\n",
      "Jinja2                               3.1.2\n",
      "jinja2-time                          0.2.0\n",
      "jmespath                             0.10.0\n",
      "joblib                               1.1.0\n",
      "json5                                0.9.6\n",
      "jsonpickle                           2.2.0\n",
      "jsonschema                           4.17.3\n",
      "jupyter                              1.0.0\n",
      "jupyter-client                       6.1.12\n",
      "jupyter-console                      6.4.3\n",
      "jupyter_core                         4.11.1\n",
      "jupyter-server                       1.18.1\n",
      "jupyterlab                           3.4.4\n",
      "jupyterlab-pygments                  0.1.2\n",
      "jupyterlab-server                    2.10.3\n",
      "jupyterlab-widgets                   1.1.4\n",
      "kafka-python                         2.0.2\n",
      "keras                                2.10.0\n",
      "Keras-Preprocessing                  1.1.2\n",
      "keyring                              23.4.0\n",
      "kfp                                  1.8.9\n",
      "kfp-pipeline-spec                    0.1.16\n",
      "kfp-server-api                       1.8.5\n",
      "kiwisolver                           1.4.2\n",
      "knack                                0.10.1\n",
      "kombu                                5.2.4\n",
      "kubernetes                           18.20.0\n",
      "lazy-object-proxy                    1.9.0\n",
      "libarchive-c                         2.9\n",
      "libclang                             14.0.6\n",
      "limits                               3.4.0\n",
      "linkify-it-py                        2.0.2\n",
      "llvmlite                             0.38.0\n",
      "locket                               1.0.0\n",
      "lockfile                             0.12.2\n",
      "lxml                                 4.9.1\n",
      "lz4                                  3.1.3\n",
      "Mako                                 1.2.4\n",
      "Markdown                             3.4.3\n",
      "markdown-it-py                       2.2.0\n",
      "MarkupSafe                           2.1.2\n",
      "marshmallow                          3.19.0\n",
      "marshmallow-enum                     1.5.1\n",
      "marshmallow-oneofschema              3.0.1\n",
      "marshmallow-sqlalchemy               0.26.1\n",
      "matplotlib                           3.5.2\n",
      "matplotlib-inline                    0.1.6\n",
      "mccabe                               0.6.1\n",
      "mdit-py-plugins                      0.3.5\n",
      "mdurl                                0.1.2\n",
      "menuinst                             1.4.19\n",
      "mistune                              0.8.4\n",
      "mkl-fft                              1.3.1\n",
      "mkl-random                           1.2.2\n",
      "mkl-service                          2.4.0\n",
      "ml-dtypes                            0.1.0\n",
      "mlflow                               2.1.1\n",
      "mlflow-skinny                        2.2.1\n",
      "mlserver                             1.3.0.dev3\n",
      "mlserver-mlflow                      1.3.0.dev3\n",
      "mock                                 4.0.3\n",
      "mpmath                               1.2.1\n",
      "msal                                 1.21.0\n",
      "msal-extensions                      1.0.0\n",
      "msgpack                              1.0.3\n",
      "msrest                               0.7.1\n",
      "msrestazure                          0.6.4\n",
      "multidict                            6.0.4\n",
      "multipledispatch                     0.6.0\n",
      "munkres                              1.1.4\n",
      "mypy-extensions                      0.4.3\n",
      "navigator-updater                    0.3.0\n",
      "nbclassic                            0.3.5\n",
      "nbclient                             0.5.13\n",
      "nbconvert                            6.4.4\n",
      "nbformat                             5.5.0\n",
      "ndg-httpsclient                      0.5.1\n",
      "nest-asyncio                         1.5.5\n",
      "networkx                             2.8.4\n",
      "nltk                                 3.7\n",
      "nose                                 1.3.7\n",
      "notebook                             6.4.12\n",
      "numba                                0.55.1\n",
      "numexpr                              2.8.3\n",
      "numpy                                1.23.5\n",
      "numpydoc                             1.4.0\n",
      "oauth2client                         4.1.3\n",
      "oauthlib                             3.2.2\n",
      "objsize                              0.6.1\n",
      "olefile                              0.46\n",
      "opencensus                           0.11.2\n",
      "opencensus-context                   0.1.3\n",
      "opencensus-ext-azure                 1.1.9\n",
      "openpyxl                             3.0.10\n",
      "opt-einsum                           3.3.0\n",
      "ordered-set                          4.1.0\n",
      "orjson                               3.8.6\n",
      "overrides                            6.5.0\n",
      "packaging                            21.3\n",
      "pandas                               1.4.4\n",
      "pandocfilters                        1.5.0\n",
      "panel                                0.13.1\n",
      "param                                1.12.0\n",
      "paramiko                             2.8.1\n",
      "parsel                               1.6.0\n",
      "parso                                0.8.3\n",
      "partd                                1.2.0\n",
      "pathlib                              1.0.1\n",
      "pathspec                             0.9.0\n",
      "patsy                                0.5.2\n",
      "pendulum                             2.1.2\n",
      "pep8                                 1.7.1\n",
      "pexpect                              4.8.0\n",
      "pickleshare                          0.7.5\n",
      "Pillow                               9.2.0\n",
      "pip                                  22.2.2\n",
      "pkginfo                              1.8.2\n",
      "platformdirs                         2.5.2\n",
      "plotly                               5.9.0\n",
      "pluggy                               1.0.0\n",
      "portalocker                          2.7.0\n",
      "poyo                                 0.5.0\n",
      "prison                               0.2.1\n",
      "prometheus-client                    0.16.0\n",
      "prometheus-flask-exporter            0.22.3\n",
      "prompt-toolkit                       3.0.38\n",
      "Protego                              0.1.16\n",
      "proto-plus                           1.22.1\n",
      "protobuf                             3.19.6\n",
      "psutil                               5.9.5\n",
      "ptyprocess                           0.7.0\n",
      "pure-eval                            0.2.2\n",
      "py                                   1.11.0\n",
      "py-grpc-prometheus                   0.7.0\n",
      "pyarrow                              9.0.0\n",
      "pyasn1                               0.4.8\n",
      "pyasn1-modules                       0.2.8\n",
      "pycodestyle                          2.8.0\n",
      "pycosat                              0.6.3\n",
      "pycparser                            2.21\n",
      "pyct                                 0.4.8\n",
      "pycurl                               7.45.1\n",
      "pydantic                             1.10.7\n",
      "pydash                               5.1.2\n",
      "PyDispatcher                         2.0.5\n",
      "pydocstyle                           6.1.1\n",
      "pydot                                1.4.2\n",
      "pyerfa                               2.0.0\n",
      "pyflakes                             2.4.0\n",
      "Pygments                             2.15.1\n",
      "PyHamcrest                           2.0.2\n",
      "PyJWT                                2.7.0\n",
      "pylint                               2.14.5\n",
      "pyls-spyder                          0.4.0\n",
      "pymongo                              3.13.0\n",
      "PyNaCl                               1.5.0\n",
      "pyodbc                               4.0.34\n",
      "pyOpenSSL                            22.0.0\n",
      "pyparsing                            3.0.9\n",
      "pyproject_hooks                      1.0.0\n",
      "pyreadline3                          3.4.1\n",
      "pyrsistent                           0.19.3\n",
      "pysftp                               0.2.9\n",
      "PySocks                              1.7.1\n",
      "pytest                               7.1.2\n",
      "python-daemon                        3.0.1\n",
      "python-dateutil                      2.8.2\n",
      "python-dotenv                        1.0.0\n",
      "python-lsp-black                     1.0.0\n",
      "python-lsp-jsonrpc                   1.0.0\n",
      "python-lsp-server                    1.3.3\n",
      "python-nvd3                          0.15.0\n",
      "python-rapidjson                     1.9\n",
      "python-slugify                       8.0.1\n",
      "python-snappy                        0.6.0\n",
      "pytz                                 2023.3\n",
      "pytzdata                             2020.1\n",
      "pyviz-comms                          2.0.2\n",
      "PyWavelets                           1.3.0\n",
      "pywin32                              305\n",
      "pywin32-ctypes                       0.2.0\n",
      "pywinpty                             2.0.2\n",
      "PyYAML                               6.0\n",
      "pyzmq                                23.2.0\n",
      "QDarkStyle                           3.0.2\n",
      "qstylizer                            0.1.10\n",
      "QtAwesome                            1.0.3\n",
      "qtconsole                            5.2.2\n",
      "QtPy                                 2.2.0\n",
      "querystring-parser                   1.2.4\n",
      "queuelib                             1.5.0\n",
      "regex                                2022.7.9\n",
      "requests                             2.30.0\n",
      "requests-auth-aws-sigv4              0.7\n",
      "requests-file                        1.5.1\n",
      "requests-oauthlib                    1.3.1\n",
      "requests-toolbelt                    1.0.0\n",
      "rfc3339-validator                    0.1.4\n",
      "rfc3986                              1.5.0\n",
      "rich                                 13.3.5\n",
      "rich_argparse                        1.1.0\n",
      "rope                                 0.22.0\n",
      "rsa                                  4.9\n",
      "Rtree                                0.9.7\n",
      "ruamel-yaml-conda                    0.15.100\n",
      "s3transfer                           0.6.0\n",
      "scikit-image                         0.19.2\n",
      "scikit-learn                         1.0.2\n",
      "scikit-learn-intelex                 2021.20221004.171935\n",
      "scipy                                1.9.1\n",
      "Scrapy                               2.6.2\n",
      "seaborn                              0.11.2\n",
      "SecretStorage                        3.3.3\n",
      "Send2Trash                           1.8.0\n",
      "sentence-transformers                2.2.2\n",
      "sentencepiece                        0.1.99\n",
      "service-identity                     18.1.0\n",
      "setproctitle                         1.3.2\n",
      "setuptools                           63.4.1\n",
      "shap                                 0.41.0\n",
      "Shapely                              1.8.5.post1\n",
      "sip                                  4.19.13\n",
      "six                                  1.16.0\n",
      "slicer                               0.0.7\n",
      "smart-open                           5.2.1\n",
      "smmap                                5.0.0\n",
      "sniffio                              1.3.0\n",
      "snowballstemmer                      2.2.0\n",
      "sortedcollections                    2.1.0\n",
      "sortedcontainers                     2.4.0\n",
      "soupsieve                            2.3.1\n",
      "Sphinx                               5.0.2\n",
      "sphinxcontrib-applehelp              1.0.2\n",
      "sphinxcontrib-devhelp                1.0.2\n",
      "sphinxcontrib-htmlhelp               2.0.0\n",
      "sphinxcontrib-jsmath                 1.0.1\n",
      "sphinxcontrib-qthelp                 1.0.3\n",
      "sphinxcontrib-serializinghtml        1.1.5\n",
      "spyder                               5.2.2\n",
      "spyder-kernels                       2.2.1\n",
      "SQLAlchemy                           1.4.48\n",
      "SQLAlchemy-JSONField                 1.0.1.post0\n",
      "SQLAlchemy-Utils                     0.41.1\n",
      "sqlparse                             0.4.4\n",
      "stack-data                           0.6.2\n",
      "starlette                            0.22.0\n",
      "starlette-exporter                   0.15.1\n",
      "statsmodels                          0.13.2\n",
      "strictyaml                           1.7.3\n",
      "strip-hints                          0.1.10\n",
      "sympy                                1.10.1\n",
      "tables                               3.6.1\n",
      "tabulate                             0.9.0\n",
      "TBB                                  0.2\n",
      "tblib                                1.7.0\n",
      "tenacity                             8.2.2\n",
      "tensorboard                          2.10.1\n",
      "tensorboard-data-server              0.6.1\n",
      "tensorboard-plugin-wit               1.8.1\n",
      "tensorflow                           2.10.1\n",
      "tensorflow-estimator                 2.10.0\n",
      "tensorflow-hub                       0.13.0\n",
      "tensorflow-intel                     2.12.0\n",
      "tensorflow-io-gcs-filesystem         0.29.0\n",
      "tensorflow-text                      2.10.0\n",
      "termcolor                            2.3.0\n",
      "terminado                            0.13.1\n",
      "testpath                             0.6.0\n",
      "text-unidecode                       1.3\n",
      "textdistance                         4.2.1\n",
      "tf-estimator-nightly                 2.8.0.dev2021122109\n",
      "threadpoolctl                        2.2.0\n",
      "three-merge                          0.1.1\n",
      "tifffile                             2021.7.2\n",
      "timeloop                             1.0.2\n",
      "tinycss                              0.4\n",
      "tldextract                           3.2.0\n",
      "tokenizers                           0.13.3\n",
      "toml                                 0.10.2\n",
      "tomli                                2.0.1\n",
      "tomlkit                              0.11.1\n",
      "toolz                                0.11.2\n",
      "torch                                2.0.1\n",
      "torchvision                          0.15.2\n",
      "tornado                              6.2\n",
      "tqdm                                 4.64.1\n",
      "traitlets                            5.1.1\n",
      "transformers                         4.29.2\n",
      "tritonclient                         2.31.0\n",
      "Twisted                              22.2.0\n",
      "twisted-iocpsupport                  1.0.2\n",
      "typer                                0.7.0\n",
      "typing_extensions                    4.5.0\n",
      "uc-micro-py                          1.0.2\n",
      "ujson                                5.4.0\n",
      "unicodecsv                           0.14.1\n",
      "Unidecode                            1.2.0\n",
      "uritemplate                          3.0.1\n",
      "urllib3                              1.26.15\n",
      "uvicorn                              0.20.0\n",
      "vine                                 5.0.0\n",
      "virtualenv                           20.20.0\n",
      "w3lib                                1.21.0\n",
      "waitress                             2.1.2\n",
      "watchdog                             2.1.6\n",
      "wcwidth                              0.2.6\n",
      "webencodings                         0.5.1\n",
      "websocket-client                     0.58.0\n",
      "Werkzeug                             2.2.3\n",
      "wheel                                0.37.1\n",
      "widgetsnbextension                   3.6.4\n",
      "win-inet-pton                        1.1.0\n",
      "win-unicode-console                  0.5\n",
      "wincertstore                         0.2\n",
      "wrapt                                1.14.1\n",
      "WTForms                              3.0.1\n",
      "xarray                               0.20.1\n",
      "xlrd                                 2.0.1\n",
      "XlsxWriter                           3.0.3\n",
      "xlwings                              0.27.15\n",
      "yapf                                 0.31.0\n",
      "yarl                                 1.9.2\n",
      "zict                                 2.1.0\n",
      "zipp                                 3.15.0\n",
      "zope.event                           4.6\n",
      "zope.interface                       5.4.0\n",
      "zstandard                            0.20.0\n",
      "Note: you may need to restart the kernel to use updated packages.\n"
     ]
    }
   ],
   "source": [
    "pip list protobuf"
   ]
  },
  {
   "cell_type": "code",
   "execution_count": null,
   "id": "1241f951",
   "metadata": {},
   "outputs": [],
   "source": []
  },
  {
   "cell_type": "code",
   "execution_count": null,
   "id": "3c55a54b",
   "metadata": {},
   "outputs": [],
   "source": [
    "response = vertex_ai_client.find_neighbors(request2)"
   ]
  },
  {
   "cell_type": "code",
   "execution_count": null,
   "id": "17a72d01",
   "metadata": {},
   "outputs": [],
   "source": []
  },
  {
   "cell_type": "code",
   "execution_count": null,
   "id": "8f2af432",
   "metadata": {},
   "outputs": [],
   "source": []
  },
  {
   "cell_type": "code",
   "execution_count": 78,
   "id": "cf5fbc9a",
   "metadata": {},
   "outputs": [],
   "source": [
    "request2 = aiplatform_v1beta1.types.FindNeighborsRequest(index_endpoint    = 'projects/473197248954/locations/us-central1/indexEndpoints/4876087778581938176',\n",
    "                                                  deployed_index_id = \"deployed_index_id_unique\",\n",
    "                                              )"
   ]
  },
  {
   "cell_type": "code",
   "execution_count": 79,
   "id": "d85d5190",
   "metadata": {},
   "outputs": [],
   "source": [
    "dp2 = aiplatform_v1beta1.IndexDatapoint(feature_vector = test_embeddings,\n",
    "                                   datapoint_id=\"0\", \n",
    "                                    )"
   ]
  },
  {
   "cell_type": "code",
   "execution_count": 80,
   "id": "ea54c5a4",
   "metadata": {},
   "outputs": [],
   "source": [
    "query2 = aiplatform_v1beta1.FindNeighborsRequest.Query(datapoint = dp2)"
   ]
  },
  {
   "cell_type": "code",
   "execution_count": 81,
   "id": "cb8b8ca5",
   "metadata": {
    "collapsed": true
   },
   "outputs": [
    {
     "data": {
      "text/plain": [
       "datapoint {\n",
       "  datapoint_id: \"0\"\n",
       "  feature_vector: -0.034692004323005676\n",
       "  feature_vector: -0.06798267364501953\n",
       "  feature_vector: 0.04702679440379143\n",
       "  feature_vector: 0.00788554735481739\n",
       "  feature_vector: -0.03787035867571831\n",
       "  feature_vector: -0.03272635489702225\n",
       "  feature_vector: -0.004163053352385759\n",
       "  feature_vector: 0.04514075070619583\n",
       "  feature_vector: -0.01702095940709114\n",
       "  feature_vector: -0.04595581442117691\n",
       "  feature_vector: 0.034906890243291855\n",
       "  feature_vector: -0.03518760949373245\n",
       "  feature_vector: 0.07979556918144226\n",
       "  feature_vector: -0.015031998977065086\n",
       "  feature_vector: 0.06507815420627594\n",
       "  feature_vector: 0.03164554014801979\n",
       "  feature_vector: 0.01235845685005188\n",
       "  feature_vector: -0.004275189246982336\n",
       "  feature_vector: 0.02019132301211357\n",
       "  feature_vector: 0.02806086093187332\n",
       "  feature_vector: 0.03129744157195091\n",
       "  feature_vector: 0.015377004630863667\n",
       "  feature_vector: -0.03467617183923721\n",
       "  feature_vector: 0.02389618381857872\n",
       "  feature_vector: -0.04366336390376091\n",
       "  feature_vector: 0.03245054557919502\n",
       "  feature_vector: 0.05360207334160805\n",
       "  feature_vector: 0.012115738354623318\n",
       "  feature_vector: -0.023185189813375473\n",
       "  feature_vector: 0.01748991385102272\n",
       "  feature_vector: 0.06937427818775177\n",
       "  feature_vector: -0.04132605344057083\n",
       "  feature_vector: -0.01864447258412838\n",
       "  feature_vector: 0.04575081169605255\n",
       "  feature_vector: -0.02053898014128208\n",
       "  feature_vector: 0.011365529149770737\n",
       "  feature_vector: -0.04488018527626991\n",
       "  feature_vector: -0.06173176318407059\n",
       "  feature_vector: -0.035035621374845505\n",
       "  feature_vector: 0.04997442290186882\n",
       "  feature_vector: -0.0061144172213971615\n",
       "  feature_vector: -0.04739474132657051\n",
       "  feature_vector: -0.03825325146317482\n",
       "  feature_vector: 0.042087823152542114\n",
       "  feature_vector: -0.038911208510398865\n",
       "  feature_vector: -0.03857404738664627\n",
       "  feature_vector: 0.03276538848876953\n",
       "  feature_vector: 0.060025572776794434\n",
       "  feature_vector: -0.007068623322993517\n",
       "  feature_vector: -0.026376157999038696\n",
       "  feature_vector: -0.04461735114455223\n",
       "  feature_vector: -0.04227994382381439\n",
       "  feature_vector: -0.04731058329343796\n",
       "  feature_vector: -0.0118179302662611\n",
       "  feature_vector: -0.029632730409502983\n",
       "  feature_vector: -0.016921302303671837\n",
       "  feature_vector: -0.0018461591098457575\n",
       "  feature_vector: 0.006537132430821657\n",
       "  feature_vector: 0.07080788165330887\n",
       "  feature_vector: 0.03750918060541153\n",
       "  feature_vector: -0.03826003149151802\n",
       "  feature_vector: 0.0038234153762459755\n",
       "  feature_vector: 0.0019449531100690365\n",
       "  feature_vector: -0.0010598823428153992\n",
       "  feature_vector: -0.04568371921777725\n",
       "  feature_vector: 0.06291892379522324\n",
       "  feature_vector: -0.05449821799993515\n",
       "  feature_vector: -0.04588736221194267\n",
       "  feature_vector: 0.04597954452037811\n",
       "  feature_vector: -0.02561045065522194\n",
       "  feature_vector: 0.05734384059906006\n",
       "  feature_vector: -0.03697807714343071\n",
       "  feature_vector: -0.007379764690995216\n",
       "  feature_vector: -0.02856644056737423\n",
       "  feature_vector: -0.04303440451622009\n",
       "  feature_vector: -0.06578922271728516\n",
       "  feature_vector: 0.007209533825516701\n",
       "  feature_vector: 0.04771319404244423\n",
       "  feature_vector: 0.07753365486860275\n",
       "  feature_vector: -1.327784684690414e-05\n",
       "  feature_vector: 0.04436056688427925\n",
       "  feature_vector: -0.030542416498064995\n",
       "  feature_vector: -0.012323888018727303\n",
       "  feature_vector: 0.002317188773304224\n",
       "  feature_vector: -0.005848483648151159\n",
       "  feature_vector: -0.018583035096526146\n",
       "  feature_vector: -0.027699915692210197\n",
       "  feature_vector: 0.025499748066067696\n",
       "  feature_vector: -0.029008977115154266\n",
       "  feature_vector: 0.033692531287670135\n",
       "  feature_vector: -0.014080480672419071\n",
       "  feature_vector: -0.014737614430487156\n",
       "  feature_vector: -0.011316717602312565\n",
       "  feature_vector: 0.003871845779940486\n",
       "  feature_vector: -0.05556068196892738\n",
       "  feature_vector: 0.04822807013988495\n",
       "  feature_vector: -0.017585208639502525\n",
       "  feature_vector: -0.002873919438570738\n",
       "  feature_vector: -0.019365651533007622\n",
       "  feature_vector: -0.006803397089242935\n",
       "  feature_vector: -0.04864604026079178\n",
       "  feature_vector: -0.014584063552320004\n",
       "  feature_vector: -0.053216446191072464\n",
       "  feature_vector: -0.00925059337168932\n",
       "  feature_vector: 0.07104650139808655\n",
       "  feature_vector: -0.03646286576986313\n",
       "  feature_vector: -0.060998957604169846\n",
       "  feature_vector: 0.03128151223063469\n",
       "  feature_vector: 0.01725953444838524\n",
       "  feature_vector: -0.01375607866793871\n",
       "  feature_vector: -0.02340039424598217\n",
       "  feature_vector: -0.028889812529087067\n",
       "  feature_vector: 0.004072270821779966\n",
       "  feature_vector: -0.045746758580207825\n",
       "  feature_vector: 0.021556513383984566\n",
       "  feature_vector: -0.03828394412994385\n",
       "  feature_vector: -0.06884382665157318\n",
       "  feature_vector: -0.01263010036200285\n",
       "  feature_vector: 0.0034149466082453728\n",
       "  feature_vector: 0.0005883638514205813\n",
       "  feature_vector: -0.028128374367952347\n",
       "  feature_vector: -0.05128513276576996\n",
       "  feature_vector: -0.08097319304943085\n",
       "  feature_vector: -0.03885939344763756\n",
       "  feature_vector: 0.03706240653991699\n",
       "  feature_vector: 0.0007127370918169618\n",
       "  feature_vector: -0.0030853853095322847\n",
       "  feature_vector: -0.024732224643230438\n",
       "  feature_vector: -0.07115738093852997\n",
       "  feature_vector: 0.07398227602243423\n",
       "  feature_vector: -0.010270481929183006\n",
       "  feature_vector: 0.04101245105266571\n",
       "  feature_vector: 0.025258077308535576\n",
       "  feature_vector: -0.05449853464961052\n",
       "  feature_vector: -0.01094899047166109\n",
       "  feature_vector: -0.006325880065560341\n",
       "  feature_vector: -0.019607510417699814\n",
       "  feature_vector: 0.03538304939866066\n",
       "  feature_vector: -0.02259116806089878\n",
       "  feature_vector: 0.0031932841520756483\n",
       "  feature_vector: 0.032757967710494995\n",
       "  feature_vector: -0.012029911391437054\n",
       "  feature_vector: 0.05872298777103424\n",
       "  feature_vector: -0.037627946585416794\n",
       "  feature_vector: 0.014191806316375732\n",
       "  feature_vector: 0.005513959098607302\n",
       "  feature_vector: -0.00574971828609705\n",
       "  feature_vector: -0.02417079731822014\n",
       "  feature_vector: 0.047762565314769745\n",
       "  feature_vector: 0.0006062915199436247\n",
       "  feature_vector: -0.031931161880493164\n",
       "  feature_vector: 0.018047548830509186\n",
       "  feature_vector: 0.029779355973005295\n",
       "  feature_vector: 0.06094333902001381\n",
       "  feature_vector: -0.009975073859095573\n",
       "  feature_vector: -0.012970040552318096\n",
       "  feature_vector: -0.025599705055356026\n",
       "  feature_vector: 0.0057291267439723015\n",
       "  feature_vector: -0.031930532306432724\n",
       "  feature_vector: -0.0169200636446476\n",
       "  feature_vector: -0.0400913842022419\n",
       "  feature_vector: 0.008886434137821198\n",
       "  feature_vector: 0.03127752244472504\n",
       "  feature_vector: -0.01890975423157215\n",
       "  feature_vector: 0.0274501945823431\n",
       "  feature_vector: 0.004614764824509621\n",
       "  feature_vector: 0.025215547531843185\n",
       "  feature_vector: 0.036955781280994415\n",
       "  feature_vector: -0.035613253712654114\n",
       "  feature_vector: -0.04972705617547035\n",
       "  feature_vector: -0.049445703625679016\n",
       "  feature_vector: -0.04062819108366966\n",
       "  feature_vector: 0.004297698847949505\n",
       "  feature_vector: 0.00023139890981838107\n",
       "  feature_vector: 0.04032063111662865\n",
       "  feature_vector: 0.016389600932598114\n",
       "  feature_vector: 0.0014422039967030287\n",
       "  feature_vector: -0.009620373137295246\n",
       "  feature_vector: -0.041856203228235245\n",
       "  feature_vector: -0.051043443381786346\n",
       "  feature_vector: -0.026232993230223656\n",
       "  feature_vector: 0.014485379680991173\n",
       "  feature_vector: 0.018829980865120888\n",
       "  feature_vector: 0.0092001399025321\n",
       "  feature_vector: 0.0025929599069058895\n",
       "  feature_vector: -0.0009652451262809336\n",
       "  feature_vector: -0.004463882185518742\n",
       "  feature_vector: 0.03342820331454277\n",
       "  feature_vector: -0.004565651528537273\n",
       "  feature_vector: -0.06360520422458649\n",
       "  feature_vector: 0.034686002880334854\n",
       "  feature_vector: -0.017262281849980354\n",
       "  feature_vector: -0.005981085821986198\n",
       "  feature_vector: 0.026371100917458534\n",
       "  feature_vector: 0.017758555710315704\n",
       "  feature_vector: -0.0013286701869219542\n",
       "  feature_vector: 0.016028454527258873\n",
       "  feature_vector: -0.04647386074066162\n",
       "  feature_vector: -0.04431234300136566\n",
       "  feature_vector: 0.00950243603438139\n",
       "  feature_vector: -0.008306600153446198\n",
       "  feature_vector: 0.0062800138257443905\n",
       "  feature_vector: -0.007683868519961834\n",
       "  feature_vector: -0.008320529945194721\n",
       "  feature_vector: 0.0027962324675172567\n",
       "  feature_vector: 0.03923690691590309\n",
       "  feature_vector: 0.031493064016103745\n",
       "  feature_vector: 0.002537310356274247\n",
       "  feature_vector: -0.050556328147649765\n",
       "  feature_vector: -0.02546204812824726\n",
       "  feature_vector: 0.030095461755990982\n",
       "  feature_vector: -0.015272999182343483\n",
       "  feature_vector: 0.04023337364196777\n",
       "  feature_vector: 0.011676852591335773\n",
       "  feature_vector: 0.06057390570640564\n",
       "  feature_vector: -0.021457849070429802\n",
       "  feature_vector: 0.05013444647192955\n",
       "  feature_vector: -0.005864266771823168\n",
       "  feature_vector: 0.040564458817243576\n",
       "  feature_vector: 0.007204958237707615\n",
       "  feature_vector: -0.0007468420662917197\n",
       "  feature_vector: 0.09237293154001236\n",
       "  feature_vector: -0.00037280801916494966\n",
       "  feature_vector: 0.04942847788333893\n",
       "  feature_vector: -0.02798091247677803\n",
       "  feature_vector: -0.052084848284721375\n",
       "  feature_vector: -0.03609541431069374\n",
       "  feature_vector: -0.004758365452289581\n",
       "  feature_vector: -0.0014231008244678378\n",
       "  feature_vector: 0.056129373610019684\n",
       "  feature_vector: 0.03483856841921806\n",
       "  feature_vector: 0.057144034653902054\n",
       "  feature_vector: 0.030247924849390984\n",
       "  feature_vector: -0.004556224215775728\n",
       "  feature_vector: 0.01731056533753872\n",
       "  feature_vector: -0.028762545436620712\n",
       "  feature_vector: -0.0760616809129715\n",
       "  feature_vector: -0.008499697782099247\n",
       "  feature_vector: -0.019764689728617668\n",
       "  feature_vector: -0.05915990471839905\n",
       "  feature_vector: 0.023418258875608444\n",
       "  feature_vector: 0.056961990892887115\n",
       "  feature_vector: 0.004316619597375393\n",
       "  feature_vector: 0.025169001892209053\n",
       "  feature_vector: 0.05970138683915138\n",
       "  feature_vector: -0.007899364456534386\n",
       "  feature_vector: 0.009114610031247139\n",
       "  feature_vector: 0.007453118916600943\n",
       "  feature_vector: 0.012181978672742844\n",
       "  feature_vector: 0.021939804777503014\n",
       "  feature_vector: -0.0853288546204567\n",
       "  feature_vector: 0.018296854570508003\n",
       "  feature_vector: -0.030538052320480347\n",
       "  feature_vector: 0.0068550328724086285\n",
       "  feature_vector: 0.04799635335803032\n",
       "  feature_vector: 0.00873255729675293\n",
       "  feature_vector: 0.04917299747467041\n",
       "  feature_vector: 0.002186248544603586\n",
       "  feature_vector: -0.03980217128992081\n",
       "  feature_vector: -0.020288705825805664\n",
       "  feature_vector: -0.08729740977287292\n",
       "  feature_vector: 0.01583559438586235\n",
       "  feature_vector: -0.012800234369933605\n",
       "  feature_vector: 0.04395202174782753\n",
       "  feature_vector: 0.03616770729422569\n",
       "  feature_vector: -0.04204297810792923\n",
       "  feature_vector: 0.006588615011423826\n",
       "  feature_vector: 0.04094988480210304\n",
       "  feature_vector: 0.0018033263040706515\n",
       "  feature_vector: -0.02991761825978756\n",
       "  feature_vector: 0.0007180026150308549\n",
       "  feature_vector: -0.007745281793177128\n",
       "  feature_vector: -0.049992553889751434\n",
       "  feature_vector: -0.0553145594894886\n",
       "  feature_vector: -0.015648076310753822\n",
       "  feature_vector: 0.006430435925722122\n",
       "  feature_vector: 0.01478305272758007\n",
       "  feature_vector: 0.026692230254411697\n",
       "  feature_vector: 0.029433494433760643\n",
       "  feature_vector: -0.04905358701944351\n",
       "  feature_vector: -0.011555357836186886\n",
       "  feature_vector: 0.015111412853002548\n",
       "  feature_vector: 0.01643737591803074\n",
       "  feature_vector: 0.017560599371790886\n",
       "  feature_vector: -0.05448787659406662\n",
       "  feature_vector: 0.00016719310951884836\n",
       "  feature_vector: 0.0005826439009979367\n",
       "  feature_vector: -0.006320044863969088\n",
       "  feature_vector: -0.010411039926111698\n",
       "  feature_vector: -0.0741593986749649\n",
       "  feature_vector: 0.0011085085570812225\n",
       "  feature_vector: -0.031862691044807434\n",
       "  feature_vector: 0.017108848318457603\n",
       "  feature_vector: 0.042684298008680344\n",
       "  feature_vector: -0.03995807096362114\n",
       "  feature_vector: 0.030860092490911484\n",
       "  feature_vector: 0.0009229228598996997\n",
       "  feature_vector: 0.04293433949351311\n",
       "  feature_vector: -0.017270395532250404\n",
       "  feature_vector: -0.09595996886491776\n",
       "  feature_vector: 0.03866351768374443\n",
       "  feature_vector: -0.06751706451177597\n",
       "  feature_vector: 0.02846703678369522\n",
       "  feature_vector: 0.05619380995631218\n",
       "  feature_vector: 0.05386864021420479\n",
       "  feature_vector: 0.03495412319898605\n",
       "  feature_vector: 0.022984713315963745\n",
       "  feature_vector: -0.0033677530009299517\n",
       "  feature_vector: 0.015622789040207863\n",
       "  feature_vector: 0.020361436530947685\n",
       "  feature_vector: -0.03207850828766823\n",
       "  feature_vector: 0.0003057239518966526\n",
       "  feature_vector: -0.03136066719889641\n",
       "  feature_vector: -0.08695180714130402\n",
       "  feature_vector: 0.023382091894745827\n",
       "  feature_vector: -0.025886770337820053\n",
       "  feature_vector: 0.021033070981502533\n",
       "  feature_vector: -0.023596741259098053\n",
       "  feature_vector: -0.055094026029109955\n",
       "  feature_vector: 0.003589640837162733\n",
       "  feature_vector: 0.028317030519247055\n",
       "  feature_vector: 0.023584073409438133\n",
       "  feature_vector: 0.06372731924057007\n",
       "  feature_vector: -0.024655574932694435\n",
       "  feature_vector: -0.04178844019770622\n",
       "  feature_vector: -0.00873620342463255\n",
       "  feature_vector: 0.03125976771116257\n",
       "  feature_vector: -0.06952057033777237\n",
       "  feature_vector: -0.0035446742549538612\n",
       "  feature_vector: 0.0014041701797395945\n",
       "  feature_vector: -0.0009743140544742346\n",
       "  feature_vector: -0.016167806461453438\n",
       "  feature_vector: -0.021129516884684563\n",
       "  feature_vector: -0.023032769560813904\n",
       "  feature_vector: -0.04719731584191322\n",
       "  feature_vector: -0.027158647775650024\n",
       "  feature_vector: 0.018532169982790947\n",
       "  feature_vector: -0.040399178862571716\n",
       "  feature_vector: 0.04127543419599533\n",
       "  feature_vector: -0.0025329214986413717\n",
       "  feature_vector: 0.031856387853622437\n",
       "  feature_vector: -0.00252698571421206\n",
       "  feature_vector: 0.002159601077437401\n",
       "  feature_vector: 0.059914927929639816\n",
       "  feature_vector: 0.06374270468950272\n",
       "  feature_vector: -0.035451725125312805\n",
       "  feature_vector: -0.011296059004962444\n",
       "  feature_vector: -0.08253650367259979\n",
       "  feature_vector: 0.023153899237513542\n",
       "  feature_vector: 0.003235394833609462\n",
       "  feature_vector: 0.014730984345078468\n",
       "  feature_vector: -0.0029547084122896194\n",
       "  feature_vector: -0.015027896501123905\n",
       "  feature_vector: 0.0009616474853828549\n",
       "  feature_vector: 0.01519700139760971\n",
       "  feature_vector: 0.002638103673234582\n",
       "  feature_vector: -0.04204055666923523\n",
       "  feature_vector: 0.0053734187968075275\n",
       "  feature_vector: -0.045237500220537186\n",
       "  feature_vector: -0.024036748334765434\n",
       "  feature_vector: 0.041241537779569626\n",
       "  feature_vector: -0.08114249259233475\n",
       "  feature_vector: -0.0010574389016255736\n",
       "  feature_vector: -0.01720951497554779\n",
       "  feature_vector: -0.02307354286313057\n",
       "  feature_vector: 0.03394981473684311\n",
       "  feature_vector: 0.03431002050638199\n",
       "  feature_vector: 0.012427681125700474\n",
       "  feature_vector: 0.022925255820155144\n",
       "  feature_vector: -0.03449201583862305\n",
       "  feature_vector: 0.03177350014448166\n",
       "  feature_vector: 0.0589982345700264\n",
       "  feature_vector: 0.03998168557882309\n",
       "  feature_vector: 0.039438989013433456\n",
       "  feature_vector: 0.04366067051887512\n",
       "  feature_vector: 0.04368438944220543\n",
       "  feature_vector: -0.0015123094199225307\n",
       "  feature_vector: 0.004765544552356005\n",
       "  feature_vector: 0.02337104268372059\n",
       "  feature_vector: 0.08602312207221985\n",
       "  feature_vector: 0.05992431193590164\n",
       "  feature_vector: -0.01657700724899769\n",
       "  feature_vector: -0.05928243324160576\n",
       "  feature_vector: -0.013043070212006569\n",
       "  feature_vector: 0.03945556655526161\n",
       "  feature_vector: -0.00947569590061903\n",
       "  feature_vector: -0.00850843545049429\n",
       "  feature_vector: 0.02873087115585804\n",
       "  feature_vector: -0.05694580078125\n",
       "  feature_vector: -0.0950557217001915\n",
       "  feature_vector: 0.07458344101905823\n",
       "  feature_vector: 0.013698468916118145\n",
       "  feature_vector: 0.0042525967583060265\n",
       "  feature_vector: 0.0289178304374218\n",
       "  feature_vector: 0.007085687480866909\n",
       "  feature_vector: -0.012110522016882896\n",
       "  feature_vector: 0.0336284376680851\n",
       "  feature_vector: -0.024893423542380333\n",
       "  feature_vector: -0.08628156781196594\n",
       "  feature_vector: 0.036905642598867416\n",
       "  feature_vector: -0.04864297807216644\n",
       "  feature_vector: 0.014795239083468914\n",
       "  feature_vector: -0.059119921177625656\n",
       "  feature_vector: 0.02018987573683262\n",
       "  feature_vector: -0.05502643063664436\n",
       "  feature_vector: 0.0024000992998480797\n",
       "  feature_vector: 0.013233992271125317\n",
       "  feature_vector: 0.001711652148514986\n",
       "  feature_vector: 0.008909846656024456\n",
       "  feature_vector: 0.00010122443927684799\n",
       "  feature_vector: -0.019964411854743958\n",
       "  feature_vector: -0.05143430083990097\n",
       "  feature_vector: -0.011876143515110016\n",
       "  feature_vector: -0.050100140273571014\n",
       "  feature_vector: -0.01723216287791729\n",
       "  feature_vector: 0.005252809263765812\n",
       "  feature_vector: -0.006978831719607115\n",
       "  feature_vector: -0.026398682966828346\n",
       "  feature_vector: 0.0004880581109318882\n",
       "  feature_vector: 0.08210932463407516\n",
       "  feature_vector: 0.06764663755893707\n",
       "  feature_vector: -0.030244870111346245\n",
       "  feature_vector: 0.08638598769903183\n",
       "  feature_vector: -0.006979036144912243\n",
       "  feature_vector: 0.017001666128635406\n",
       "  feature_vector: 0.02693057432770729\n",
       "  feature_vector: 0.03668459504842758\n",
       "  feature_vector: 0.003475229488685727\n",
       "  feature_vector: 0.04471747949719429\n",
       "  feature_vector: -0.0327732153236866\n",
       "  feature_vector: 0.06382647156715393\n",
       "  feature_vector: -0.0127637954428792\n",
       "  feature_vector: -0.0679708793759346\n",
       "  feature_vector: -0.009933358058333397\n",
       "  feature_vector: 0.0041874987073242664\n",
       "  feature_vector: 0.036764029413461685\n",
       "  feature_vector: 0.005690573249012232\n",
       "  feature_vector: -0.010169732384383678\n",
       "  feature_vector: 0.07077477872371674\n",
       "  feature_vector: 0.01863941177725792\n",
       "  feature_vector: -0.06889123469591141\n",
       "  feature_vector: -0.05881612375378609\n",
       "  feature_vector: 0.01964230090379715\n",
       "  feature_vector: 0.04437822103500366\n",
       "  feature_vector: 0.059430334717035294\n",
       "  feature_vector: 0.0022268653847277164\n",
       "  feature_vector: 0.004007944371551275\n",
       "  feature_vector: -0.009161364287137985\n",
       "  feature_vector: 0.04303617775440216\n",
       "  feature_vector: -0.012696947902441025\n",
       "  feature_vector: -0.08617901802062988\n",
       "  feature_vector: -0.0016969129210337996\n",
       "  feature_vector: -0.03941027447581291\n",
       "  feature_vector: 0.04092298820614815\n",
       "  feature_vector: -0.01683444157242775\n",
       "  feature_vector: -0.014905168674886227\n",
       "  feature_vector: 0.004224344156682491\n",
       "  feature_vector: 0.07829294353723526\n",
       "  feature_vector: 0.010913282632827759\n",
       "  feature_vector: -0.001059357775375247\n",
       "  feature_vector: -0.03419949859380722\n",
       "  feature_vector: -0.005878106225281954\n",
       "  feature_vector: -0.03848846256732941\n",
       "  feature_vector: 0.014570249244570732\n",
       "  feature_vector: 0.026473291218280792\n",
       "  feature_vector: -0.00783358421176672\n",
       "  feature_vector: 0.050916384905576706\n",
       "  feature_vector: -0.02918301150202751\n",
       "  feature_vector: 0.035810090601444244\n",
       "  feature_vector: 0.022643689066171646\n",
       "  feature_vector: -0.03514808788895607\n",
       "  feature_vector: 0.04218374565243721\n",
       "  feature_vector: -0.0007303250604309142\n",
       "  feature_vector: 0.09406798332929611\n",
       "  feature_vector: -0.05380278453230858\n",
       "  feature_vector: -0.006332149263471365\n",
       "  feature_vector: -0.013924732804298401\n",
       "  feature_vector: 0.008155856281518936\n",
       "  feature_vector: 0.05014895647764206\n",
       "  feature_vector: 0.007180940359830856\n",
       "  feature_vector: 0.028086300939321518\n",
       "  feature_vector: 0.030625389888882637\n",
       "  feature_vector: -0.017772695049643517\n",
       "  feature_vector: -0.005464197602123022\n",
       "  feature_vector: 0.04820889234542847\n",
       "  feature_vector: 0.07402172684669495\n",
       "  feature_vector: 0.006455359514802694\n",
       "  feature_vector: 0.013245662674307823\n",
       "  feature_vector: -0.04203085973858833\n",
       "  feature_vector: -0.08363983780145645\n",
       "  feature_vector: -0.027444608509540558\n",
       "  feature_vector: -0.02801419422030449\n",
       "  feature_vector: -0.09991108626127243\n",
       "  feature_vector: 0.041252851486206055\n",
       "  feature_vector: -0.048504091799259186\n",
       "  feature_vector: -0.0853726789355278\n",
       "  feature_vector: 0.01768488436937332\n",
       "  feature_vector: -0.03719731420278549\n",
       "  feature_vector: 0.02767537347972393\n",
       "  feature_vector: 0.003539724973961711\n",
       "  feature_vector: -0.059500377625226974\n",
       "  feature_vector: -0.04634691774845123\n",
       "  feature_vector: -0.02446169964969158\n",
       "  feature_vector: 0.005621694028377533\n",
       "  feature_vector: 0.03277761489152908\n",
       "  feature_vector: -0.012997747398912907\n",
       "  feature_vector: 0.08457328379154205\n",
       "  feature_vector: -0.0659356638789177\n",
       "  feature_vector: 0.017571544274687767\n",
       "  feature_vector: 0.027739262208342552\n",
       "  feature_vector: -0.028418870642781258\n",
       "  feature_vector: 0.028994766995310783\n",
       "  feature_vector: 0.035543497651815414\n",
       "  feature_vector: 0.0029253617394715548\n",
       "  feature_vector: 0.026236554607748985\n",
       "  feature_vector: -0.058028530329465866\n",
       "  feature_vector: -0.05068043991923332\n",
       "  feature_vector: 0.0013093797024339437\n",
       "  feature_vector: -0.0016150441952049732\n",
       "  feature_vector: -0.047223709523677826\n",
       "  feature_vector: 0.0268703605979681\n",
       "  feature_vector: -0.027451662346720695\n",
       "  feature_vector: -0.009793861769139767\n",
       "  feature_vector: -0.00035325769567862153\n",
       "  feature_vector: -0.01150560099631548\n",
       "  feature_vector: -0.012721988372504711\n",
       "  feature_vector: -0.03563462942838669\n",
       "  feature_vector: 0.03379269316792488\n",
       "  feature_vector: -0.020605003461241722\n",
       "  feature_vector: 0.03017100878059864\n",
       "  feature_vector: 0.009956718422472477\n",
       "  feature_vector: 0.026074770838022232\n",
       "  feature_vector: -0.026765041053295135\n",
       "  feature_vector: 0.016443513333797455\n",
       "  feature_vector: 0.023353205993771553\n",
       "  feature_vector: 0.030233707278966904\n",
       "  feature_vector: 0.05551210045814514\n",
       "  feature_vector: -0.003674372099339962\n",
       "  feature_vector: -0.01334979198873043\n",
       "  feature_vector: 0.03684898465871811\n",
       "  feature_vector: -0.02357557602226734\n",
       "  feature_vector: 0.016760993748903275\n",
       "  feature_vector: 0.0812898501753807\n",
       "  feature_vector: 0.0021852131467312574\n",
       "  feature_vector: -0.06181761249899864\n",
       "  feature_vector: -0.060133565217256546\n",
       "  feature_vector: -0.03206983581185341\n",
       "  feature_vector: 0.008033229038119316\n",
       "  feature_vector: 0.06560847908258438\n",
       "  feature_vector: 0.05291817709803581\n",
       "  feature_vector: 0.006046843249350786\n",
       "  feature_vector: 0.004939396400004625\n",
       "  feature_vector: -0.01946372725069523\n",
       "  feature_vector: 0.046212200075387955\n",
       "  feature_vector: 0.024187278002500534\n",
       "  feature_vector: -0.06724560260772705\n",
       "  feature_vector: -0.007980776950716972\n",
       "  feature_vector: 0.04631045088171959\n",
       "  feature_vector: -0.022305136546492577\n",
       "  feature_vector: -0.024744762107729912\n",
       "  feature_vector: 0.012300550937652588\n",
       "  feature_vector: -0.00104609876871109\n",
       "  feature_vector: -0.003933214582502842\n",
       "  feature_vector: -0.0006171838031150401\n",
       "  feature_vector: -0.03665794059634209\n",
       "  feature_vector: -0.06315715610980988\n",
       "  feature_vector: 0.018967799842357635\n",
       "  feature_vector: 0.016234787181019783\n",
       "  feature_vector: -0.0024900774005800486\n",
       "  feature_vector: 0.010932009667158127\n",
       "  feature_vector: -0.0574895478785038\n",
       "  feature_vector: -0.07660096138715744\n",
       "  feature_vector: -0.02451157756149769\n",
       "  feature_vector: -0.029385091736912727\n",
       "  feature_vector: -0.016865862533450127\n",
       "  feature_vector: -0.0551491379737854\n",
       "  feature_vector: 0.0027757699135690928\n",
       "  feature_vector: 0.0009746233699843287\n",
       "  feature_vector: 0.02018953673541546\n",
       "  feature_vector: 0.010629783384501934\n",
       "  feature_vector: -0.04224679619073868\n",
       "  feature_vector: -0.010497929528355598\n",
       "  feature_vector: -0.060058094561100006\n",
       "  feature_vector: -0.03934808820486069\n",
       "  feature_vector: 0.0441814586520195\n",
       "  feature_vector: -0.06160453334450722\n",
       "  feature_vector: 0.012328043580055237\n",
       "  feature_vector: 0.015856226906180382\n",
       "  feature_vector: -0.034084051847457886\n",
       "  feature_vector: 0.0320720449090004\n",
       "  feature_vector: -0.0025754538364708424\n",
       "  feature_vector: 0.030299518257379532\n",
       "  feature_vector: -0.022785823792219162\n",
       "  feature_vector: -2.260207838844508e-05\n",
       "  feature_vector: 0.051799193024635315\n",
       "  feature_vector: -0.026031147688627243\n",
       "  feature_vector: 0.012124305590987206\n",
       "  feature_vector: -0.021563300862908363\n",
       "  feature_vector: 0.014917593449354172\n",
       "  feature_vector: 0.06959046423435211\n",
       "  feature_vector: 0.013904399238526821\n",
       "  feature_vector: 0.022899126634001732\n",
       "  feature_vector: 0.015134312212467194\n",
       "  feature_vector: 0.00628411490470171\n",
       "  feature_vector: -0.005748514086008072\n",
       "  feature_vector: -0.0018662783550098538\n",
       "  feature_vector: 0.03764455020427704\n",
       "  feature_vector: 0.03154896944761276\n",
       "  feature_vector: -0.024170082062482834\n",
       "  feature_vector: -0.02074476145207882\n",
       "  feature_vector: 0.029539942741394043\n",
       "  feature_vector: -0.06134948506951332\n",
       "  feature_vector: 0.0017891713650897145\n",
       "  feature_vector: -0.007260562386363745\n",
       "  feature_vector: 0.032620787620544434\n",
       "  feature_vector: -0.010424057021737099\n",
       "  feature_vector: -0.031487688422203064\n",
       "  feature_vector: 0.014738257974386215\n",
       "  feature_vector: 0.047612763941287994\n",
       "  feature_vector: -0.07921295613050461\n",
       "  feature_vector: 0.00895571056753397\n",
       "  feature_vector: 0.015945812687277794\n",
       "  feature_vector: -0.04183564335107803\n",
       "  feature_vector: -0.011621848680078983\n",
       "  feature_vector: 0.0025142114609479904\n",
       "  feature_vector: -0.049693234264850616\n",
       "  feature_vector: -0.011698405258357525\n",
       "  feature_vector: 0.06708945333957672\n",
       "  feature_vector: -0.049364689737558365\n",
       "  feature_vector: -0.01862713322043419\n",
       "  feature_vector: -0.01239856332540512\n",
       "  feature_vector: -0.051713697612285614\n",
       "  feature_vector: 0.06180844455957413\n",
       "  feature_vector: 0.027677815407514572\n",
       "  feature_vector: -0.016779884696006775\n",
       "  feature_vector: 0.043507929891347885\n",
       "  feature_vector: 0.05058198422193527\n",
       "  feature_vector: 0.033396702259778976\n",
       "  feature_vector: 0.01809871383011341\n",
       "  feature_vector: 0.04609781131148338\n",
       "  feature_vector: 0.04263078793883324\n",
       "  feature_vector: -0.010821512900292873\n",
       "  feature_vector: -0.03743220493197441\n",
       "  feature_vector: -0.06654534488916397\n",
       "  feature_vector: 0.022465309128165245\n",
       "  feature_vector: 0.020462973043322563\n",
       "  feature_vector: -0.017318211495876312\n",
       "  feature_vector: 0.01322736032307148\n",
       "  feature_vector: 0.021096130833029747\n",
       "  feature_vector: -0.017076333984732628\n",
       "  feature_vector: 0.011449050158262253\n",
       "  feature_vector: 0.02202814631164074\n",
       "  feature_vector: 0.07430393993854523\n",
       "  feature_vector: 0.03255714848637581\n",
       "  feature_vector: 0.05925803259015083\n",
       "  feature_vector: -0.012157972902059555\n",
       "  feature_vector: -0.08327556401491165\n",
       "  feature_vector: -0.02513452060520649\n",
       "  feature_vector: -0.03446173667907715\n",
       "  feature_vector: 0.032244764268398285\n",
       "  feature_vector: 0.01393086090683937\n",
       "  feature_vector: -0.0001334764383500442\n",
       "  feature_vector: -0.04860334098339081\n",
       "  feature_vector: 0.003157727187499404\n",
       "  feature_vector: 0.028406964614987373\n",
       "  feature_vector: -0.012672055512666702\n",
       "  feature_vector: -0.004078066907823086\n",
       "  feature_vector: 0.014444704167544842\n",
       "  feature_vector: -0.05784723907709122\n",
       "  feature_vector: -0.03822117671370506\n",
       "  feature_vector: 0.051439546048641205\n",
       "  feature_vector: -0.007365612778812647\n",
       "  feature_vector: -0.033085793256759644\n",
       "  feature_vector: 0.024111347272992134\n",
       "  feature_vector: -0.009443504735827446\n",
       "  feature_vector: -0.0005652037798427045\n",
       "  feature_vector: -0.07147571444511414\n",
       "  feature_vector: -0.03737620264291763\n",
       "  feature_vector: -0.005062076263129711\n",
       "  feature_vector: 0.053496599197387695\n",
       "  feature_vector: -0.05200248584151268\n",
       "  feature_vector: 0.04872293025255203\n",
       "  feature_vector: 0.008703509345650673\n",
       "  feature_vector: -0.004003996029496193\n",
       "  feature_vector: -0.00056891655549407\n",
       "  feature_vector: -0.0264238640666008\n",
       "  feature_vector: 0.0464753583073616\n",
       "  feature_vector: -0.008504866622388363\n",
       "  feature_vector: -0.004713505040854216\n",
       "  feature_vector: -0.04314204677939415\n",
       "  feature_vector: 0.011844810098409653\n",
       "  feature_vector: 0.02334008924663067\n",
       "  feature_vector: 0.04773584008216858\n",
       "  feature_vector: -0.003958863206207752\n",
       "  feature_vector: -0.004284762777388096\n",
       "  feature_vector: -0.057234447449445724\n",
       "  feature_vector: -0.04744448512792587\n",
       "  feature_vector: 0.016699617728590965\n",
       "  feature_vector: 0.028050757944583893\n",
       "  feature_vector: -0.004734591580927372\n",
       "  feature_vector: 0.001622916548512876\n",
       "  feature_vector: 0.049803558737039566\n",
       "  feature_vector: 0.005616712849587202\n",
       "  feature_vector: -0.04945569485425949\n",
       "  feature_vector: 0.006748289801180363\n",
       "  feature_vector: -0.009653388522565365\n",
       "  feature_vector: -0.007243633735924959\n",
       "  feature_vector: 0.005813121795654297\n",
       "  feature_vector: -0.02176118642091751\n",
       "  feature_vector: 0.059889428317546844\n",
       "  feature_vector: 0.043037787079811096\n",
       "  feature_vector: 0.02327946573495865\n",
       "  feature_vector: 0.03334994986653328\n",
       "  feature_vector: 0.005324861500412226\n",
       "  feature_vector: -7.002840720815584e-05\n",
       "  feature_vector: 0.017345769330859184\n",
       "  feature_vector: 0.016826394945383072\n",
       "  feature_vector: 0.031634826213121414\n",
       "  feature_vector: -0.05586898326873779\n",
       "  feature_vector: -0.005205074325203896\n",
       "  feature_vector: -0.0334189310669899\n",
       "  feature_vector: -0.0022611478343605995\n",
       "  feature_vector: 0.027815351262688637\n",
       "  feature_vector: 0.039498791098594666\n",
       "  feature_vector: 0.0243985615670681\n",
       "  feature_vector: 0.03228766471147537\n",
       "  feature_vector: 0.043787889182567596\n",
       "  feature_vector: 0.00018709118012338877\n",
       "  feature_vector: -0.004858050029724836\n",
       "  feature_vector: 0.036169834434986115\n",
       "  feature_vector: -0.033394962549209595\n",
       "  feature_vector: 0.03762741759419441\n",
       "  feature_vector: -0.005265801679342985\n",
       "  feature_vector: 0.0264620129019022\n",
       "  feature_vector: 0.01632515899837017\n",
       "  feature_vector: 0.019973788410425186\n",
       "  feature_vector: 0.026335274800658226\n",
       "  feature_vector: -0.032140009105205536\n",
       "  feature_vector: -0.0516008697450161\n",
       "  feature_vector: 0.014035590924322605\n",
       "  feature_vector: 0.021644042804837227\n",
       "  feature_vector: -0.055023882538080215\n",
       "  feature_vector: -0.029180830344557762\n",
       "  feature_vector: -0.0624781996011734\n",
       "  feature_vector: -0.03478716313838959\n",
       "  feature_vector: 0.00408917898312211\n",
       "  feature_vector: -0.039489585906267166\n",
       "  feature_vector: 0.006194926332682371\n",
       "  feature_vector: 0.00807307381182909\n",
       "  feature_vector: -0.009871960617601871\n",
       "  feature_vector: 0.010426530614495277\n",
       "  feature_vector: 0.017284730449318886\n",
       "  feature_vector: 0.08185384422540665\n",
       "  feature_vector: -0.016282683238387108\n",
       "  feature_vector: -0.06611138582229614\n",
       "  feature_vector: 0.0030635043513029814\n",
       "  feature_vector: -0.061853088438510895\n",
       "  feature_vector: -0.017758503556251526\n",
       "  feature_vector: -0.04598400369286537\n",
       "  feature_vector: -0.015375691466033459\n",
       "  feature_vector: -0.04376832768321037\n",
       "  feature_vector: -0.041457999497652054\n",
       "  feature_vector: 0.015138266608119011\n",
       "  feature_vector: 0.01187980081886053\n",
       "  feature_vector: 0.012892425991594791\n",
       "  feature_vector: 0.03111783228814602\n",
       "  feature_vector: 0.00737158115953207\n",
       "  feature_vector: -0.01567092165350914\n",
       "}"
      ]
     },
     "execution_count": 81,
     "metadata": {},
     "output_type": "execute_result"
    }
   ],
   "source": [
    "query2"
   ]
  },
  {
   "cell_type": "code",
   "execution_count": 62,
   "id": "213d8047",
   "metadata": {
    "scrolled": true
   },
   "outputs": [
    {
     "ename": "NameError",
     "evalue": "name 'request2' is not defined",
     "output_type": "error",
     "traceback": [
      "\u001b[1;31m---------------------------------------------------------------------------\u001b[0m",
      "\u001b[1;31mNameError\u001b[0m                                 Traceback (most recent call last)",
      "Cell \u001b[1;32mIn[62], line 1\u001b[0m\n\u001b[1;32m----> 1\u001b[0m \u001b[43mrequest2\u001b[49m\u001b[38;5;241m.\u001b[39mqueries\u001b[38;5;241m.\u001b[39mappend(query2)\n",
      "\u001b[1;31mNameError\u001b[0m: name 'request2' is not defined"
     ]
    }
   ],
   "source": [
    "request2.queries.append(query2)"
   ]
  },
  {
   "cell_type": "code",
   "execution_count": 73,
   "id": "4157e5c5",
   "metadata": {
    "collapsed": true
   },
   "outputs": [
    {
     "name": "stdout",
     "output_type": "stream",
     "text": [
      "Undeploying MatchingEngineIndexEndpoint index_endpoint: projects/473197248954/locations/us-central1/indexEndpoints/4019277949474701312\n"
     ]
    },
    {
     "name": "stderr",
     "output_type": "stream",
     "text": [
      "INFO:google.cloud.aiplatform.matching_engine.matching_engine_index_endpoint:Undeploying MatchingEngineIndexEndpoint index_endpoint: projects/473197248954/locations/us-central1/indexEndpoints/4019277949474701312\n"
     ]
    },
    {
     "name": "stdout",
     "output_type": "stream",
     "text": [
      "Undeploy MatchingEngineIndexEndpoint index_endpoint backing LRO: projects/473197248954/locations/us-central1/indexEndpoints/4019277949474701312/operations/6821183427904012288\n"
     ]
    },
    {
     "name": "stderr",
     "output_type": "stream",
     "text": [
      "INFO:google.cloud.aiplatform.matching_engine.matching_engine_index_endpoint:Undeploy MatchingEngineIndexEndpoint index_endpoint backing LRO: projects/473197248954/locations/us-central1/indexEndpoints/4019277949474701312/operations/6821183427904012288\n"
     ]
    },
    {
     "name": "stdout",
     "output_type": "stream",
     "text": [
      "MatchingEngineIndexEndpoint index_endpoint undeployed. Resource name: projects/473197248954/locations/us-central1/indexEndpoints/4019277949474701312\n"
     ]
    },
    {
     "name": "stderr",
     "output_type": "stream",
     "text": [
      "INFO:google.cloud.aiplatform.matching_engine.matching_engine_index_endpoint:MatchingEngineIndexEndpoint index_endpoint undeployed. Resource name: projects/473197248954/locations/us-central1/indexEndpoints/4019277949474701312\n"
     ]
    },
    {
     "name": "stdout",
     "output_type": "stream",
     "text": [
      "Deleting MatchingEngineIndexEndpoint : projects/473197248954/locations/us-central1/indexEndpoints/4019277949474701312\n"
     ]
    },
    {
     "name": "stderr",
     "output_type": "stream",
     "text": [
      "INFO:google.cloud.aiplatform.base:Deleting MatchingEngineIndexEndpoint : projects/473197248954/locations/us-central1/indexEndpoints/4019277949474701312\n"
     ]
    },
    {
     "name": "stdout",
     "output_type": "stream",
     "text": [
      "Delete MatchingEngineIndexEndpoint  backing LRO: projects/473197248954/locations/us-central1/operations/4729261400990416896\n"
     ]
    },
    {
     "name": "stderr",
     "output_type": "stream",
     "text": [
      "INFO:google.cloud.aiplatform.base:Delete MatchingEngineIndexEndpoint  backing LRO: projects/473197248954/locations/us-central1/operations/4729261400990416896\n"
     ]
    },
    {
     "name": "stdout",
     "output_type": "stream",
     "text": [
      "MatchingEngineIndexEndpoint deleted. . Resource name: projects/473197248954/locations/us-central1/indexEndpoints/4019277949474701312\n"
     ]
    },
    {
     "name": "stderr",
     "output_type": "stream",
     "text": [
      "INFO:google.cloud.aiplatform.base:MatchingEngineIndexEndpoint deleted. . Resource name: projects/473197248954/locations/us-central1/indexEndpoints/4019277949474701312\n"
     ]
    }
   ],
   "source": [
    "my_vpc_index_endpoint.delete(force=True)"
   ]
  },
  {
   "cell_type": "code",
   "execution_count": 74,
   "id": "74ac4fe3",
   "metadata": {
    "collapsed": true
   },
   "outputs": [
    {
     "name": "stdout",
     "output_type": "stream",
     "text": [
      "Undeploying MatchingEngineIndexEndpoint index_endpoint: projects/473197248954/locations/us-central1/indexEndpoints/3475468294469713920\n"
     ]
    },
    {
     "name": "stderr",
     "output_type": "stream",
     "text": [
      "INFO:google.cloud.aiplatform.matching_engine.matching_engine_index_endpoint:Undeploying MatchingEngineIndexEndpoint index_endpoint: projects/473197248954/locations/us-central1/indexEndpoints/3475468294469713920\n"
     ]
    },
    {
     "name": "stdout",
     "output_type": "stream",
     "text": [
      "Undeploy MatchingEngineIndexEndpoint index_endpoint backing LRO: projects/473197248954/locations/us-central1/indexEndpoints/3475468294469713920/operations/7848004142944485376\n"
     ]
    },
    {
     "name": "stderr",
     "output_type": "stream",
     "text": [
      "INFO:google.cloud.aiplatform.matching_engine.matching_engine_index_endpoint:Undeploy MatchingEngineIndexEndpoint index_endpoint backing LRO: projects/473197248954/locations/us-central1/indexEndpoints/3475468294469713920/operations/7848004142944485376\n"
     ]
    },
    {
     "name": "stdout",
     "output_type": "stream",
     "text": [
      "MatchingEngineIndexEndpoint index_endpoint undeployed. Resource name: projects/473197248954/locations/us-central1/indexEndpoints/3475468294469713920\n"
     ]
    },
    {
     "name": "stderr",
     "output_type": "stream",
     "text": [
      "INFO:google.cloud.aiplatform.matching_engine.matching_engine_index_endpoint:MatchingEngineIndexEndpoint index_endpoint undeployed. Resource name: projects/473197248954/locations/us-central1/indexEndpoints/3475468294469713920\n"
     ]
    },
    {
     "name": "stdout",
     "output_type": "stream",
     "text": [
      "Deleting MatchingEngineIndexEndpoint : projects/473197248954/locations/us-central1/indexEndpoints/3475468294469713920\n"
     ]
    },
    {
     "name": "stderr",
     "output_type": "stream",
     "text": [
      "INFO:google.cloud.aiplatform.base:Deleting MatchingEngineIndexEndpoint : projects/473197248954/locations/us-central1/indexEndpoints/3475468294469713920\n"
     ]
    },
    {
     "name": "stdout",
     "output_type": "stream",
     "text": [
      "Delete MatchingEngineIndexEndpoint  backing LRO: projects/473197248954/locations/us-central1/operations/5130081767826391040\n"
     ]
    },
    {
     "name": "stderr",
     "output_type": "stream",
     "text": [
      "INFO:google.cloud.aiplatform.base:Delete MatchingEngineIndexEndpoint  backing LRO: projects/473197248954/locations/us-central1/operations/5130081767826391040\n"
     ]
    },
    {
     "name": "stdout",
     "output_type": "stream",
     "text": [
      "MatchingEngineIndexEndpoint deleted. . Resource name: projects/473197248954/locations/us-central1/indexEndpoints/3475468294469713920\n"
     ]
    },
    {
     "name": "stderr",
     "output_type": "stream",
     "text": [
      "INFO:google.cloud.aiplatform.base:MatchingEngineIndexEndpoint deleted. . Resource name: projects/473197248954/locations/us-central1/indexEndpoints/3475468294469713920\n"
     ]
    }
   ],
   "source": [
    "my_index_endpoint.delete(force=True)"
   ]
  },
  {
   "cell_type": "code",
   "execution_count": 75,
   "id": "8f6c82f5",
   "metadata": {},
   "outputs": [
    {
     "name": "stdout",
     "output_type": "stream",
     "text": [
      "Deleting MatchingEngineIndex : projects/473197248954/locations/us-central1/indexes/552069186352840704\n"
     ]
    },
    {
     "name": "stderr",
     "output_type": "stream",
     "text": [
      "INFO:google.cloud.aiplatform.base:Deleting MatchingEngineIndex : projects/473197248954/locations/us-central1/indexes/552069186352840704\n"
     ]
    },
    {
     "name": "stdout",
     "output_type": "stream",
     "text": [
      "Delete MatchingEngineIndex  backing LRO: projects/473197248954/locations/us-central1/indexes/552069186352840704/operations/745827530581213184\n"
     ]
    },
    {
     "name": "stderr",
     "output_type": "stream",
     "text": [
      "INFO:google.cloud.aiplatform.base:Delete MatchingEngineIndex  backing LRO: projects/473197248954/locations/us-central1/indexes/552069186352840704/operations/745827530581213184\n"
     ]
    },
    {
     "name": "stdout",
     "output_type": "stream",
     "text": [
      "MatchingEngineIndex deleted. . Resource name: projects/473197248954/locations/us-central1/indexes/552069186352840704\n"
     ]
    },
    {
     "name": "stderr",
     "output_type": "stream",
     "text": [
      "INFO:google.cloud.aiplatform.base:MatchingEngineIndex deleted. . Resource name: projects/473197248954/locations/us-central1/indexes/552069186352840704\n"
     ]
    }
   ],
   "source": [
    "tree_ah_index.delete()"
   ]
  },
  {
   "cell_type": "code",
   "execution_count": null,
   "id": "b5ca9fa5",
   "metadata": {},
   "outputs": [],
   "source": []
  }
 ],
 "metadata": {
  "kernelspec": {
   "display_name": "Python 3 (ipykernel)",
   "language": "python",
   "name": "python3"
  },
  "language_info": {
   "codemirror_mode": {
    "name": "ipython",
    "version": 3
   },
   "file_extension": ".py",
   "mimetype": "text/x-python",
   "name": "python",
   "nbconvert_exporter": "python",
   "pygments_lexer": "ipython3",
   "version": "3.9.13"
  }
 },
 "nbformat": 4,
 "nbformat_minor": 5
}
